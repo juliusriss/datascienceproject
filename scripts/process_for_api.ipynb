{
 "cells": [
  {
   "cell_type": "markdown",
   "metadata": {},
   "source": [
    "# This Notebook filters the daily data to retain only one unique entry per song and add some aggregated metrics resulting in the csv(s) which are used for further api requests"
   ]
  },
  {
   "cell_type": "code",
   "execution_count": 7,
   "metadata": {},
   "outputs": [],
   "source": [
    "import pandas as pd\n",
    "df = pd.read_csv('daily_gb_17-24.csv')\n",
    "df['date'] = pd.to_datetime(df['date'])\n",
    "df = df.sort_values('date').reset_index(drop=True)"
   ]
  },
  {
   "cell_type": "code",
   "execution_count": null,
   "metadata": {},
   "outputs": [],
   "source": [
    "\n",
    "#Group by artist and track name to avoid duplicate req. and do some aggregation.\n",
    "\n",
    "\n",
    "song_stats = df.groupby(['artist_names', 'track_name']).agg(\n",
    "    peak_streams=('streams', 'max'),  \n",
    "    total_streams=('streams', 'sum'),        \n",
    "    max_peak_rank=('peak_rank', 'max'),   \n",
    "    min_peak_rank=('peak_rank', 'min'),       \n",
    "    max_days_on_chart=('days_on_chart', 'max'), \n",
    "    best_day_streams=('streams', 'max'),   \n",
    "    first_appearance=('date', 'first'),\n",
    "    uri=('uri', 'first'),\n",
    "    source=('source', 'first'),\n",
    "    count=('track_name', 'count')\n",
    ").reset_index()"
   ]
  },
  {
   "cell_type": "code",
   "execution_count": null,
   "metadata": {},
   "outputs": [],
   "source": [
    "\n",
    "# Get the date of the day with the most streams for each song and sort by streams\n",
    "\n",
    "\n",
    "song_stats['best_day_date'] = song_stats.apply(\n",
    "    lambda x: df[(df['artist_names'] == x['artist_names']) & \n",
    "                 (df['track_name'] == x['track_name']) & \n",
    "                 (df['streams'] == x['best_day_streams'])]['date'].values[0], axis=1\n",
    ")\n",
    "\n",
    "song_stats['total_streams'] = song_stats['total_streams'].astype(int)\n",
    "song_stats = song_stats.sort_values(by='total_streams', ascending=False)\n"
   ]
  },
  {
   "cell_type": "code",
   "execution_count": 10,
   "metadata": {},
   "outputs": [],
   "source": [
    "song_stats.to_csv('cleaned_ger_17-24.csv', index=False)"
   ]
  }
 ],
 "metadata": {
  "kernelspec": {
   "display_name": "base",
   "language": "python",
   "name": "base"
  },
  "language_info": {
   "codemirror_mode": {
    "name": "ipython",
    "version": 3
   },
   "file_extension": ".py",
   "mimetype": "text/x-python",
   "name": "python",
   "nbconvert_exporter": "python",
   "pygments_lexer": "ipython3",
   "version": "3.12.2"
  }
 },
 "nbformat": 4,
 "nbformat_minor": 2
}
