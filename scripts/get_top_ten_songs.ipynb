{
 "cells": [
  {
   "cell_type": "code",
   "execution_count": 2,
   "metadata": {},
   "outputs": [],
   "source": [
    "import pandas as pd\n",
    "\n",
    "df = pd.read_csv('/Users/juliusriss/Desktop/data-science-project-local/data/cleaned_global_17-24_with_lyrics_final.csv')\n",
    "\n",
    "df['best_day_date'] = pd.to_datetime(df['best_day_date'], errors='coerce')\n",
    "\n",
    "df['year_month'] = df['best_day_date'].dt.to_period('M')\n",
    "\n",
    "df_filtered = df[df['max_peak_rank'].isin([1, 2, 3, 4, 5, 6, 7, 8, 9, 10])]\n",
    "\n",
    "df_filtered.to_csv('/Users/juliusriss/Desktop/data-science-project-local/data/cleaned_global_17-24_top_ten_songs_with_lyrics_final.csv', index=False)\n"
   ]
  }
 ],
 "metadata": {
  "kernelspec": {
   "display_name": ".venv",
   "language": "python",
   "name": "python3"
  },
  "language_info": {
   "codemirror_mode": {
    "name": "ipython",
    "version": 3
   },
   "file_extension": ".py",
   "mimetype": "text/x-python",
   "name": "python",
   "nbconvert_exporter": "python",
   "pygments_lexer": "ipython3",
   "version": "3.12.2"
  }
 },
 "nbformat": 4,
 "nbformat_minor": 2
}
