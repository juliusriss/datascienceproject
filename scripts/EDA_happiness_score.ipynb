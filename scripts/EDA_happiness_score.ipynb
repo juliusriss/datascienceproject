{
 "cells": [
  {
   "cell_type": "code",
   "execution_count": 5,
   "metadata": {},
   "outputs": [],
   "source": [
    "import numpy as np \n",
    "import pandas as pd\n",
    "import plotly.express as px"
   ]
  },
  {
   "cell_type": "markdown",
   "metadata": {},
   "source": [
    "# This Notebook is an EDA for the Reasearch Question: <br> \n",
    "## How does the overall happiness score and music listening frequency on Spotify relate to each other?"
   ]
  },
  {
   "cell_type": "code",
   "execution_count": 6,
   "metadata": {},
   "outputs": [],
   "source": [
    "df = pd.read_csv('../data/raw_data/daily_chart_per_area/regional_24/all_regional_24.csv')\n",
    "population_data = {\n",
    "    'Australia': 27_100_000,\n",
    "    'Spain': 47_890_000,\n",
    "    'Brazil': 212_812_000,\n",
    "    'Sweden': 10_500_000,\n",
    "    'South Africa': 64_747_000,\n",
    "    'Nigeria': 237_528_000,\n",
    "    'Greece': 10_300_000,\n",
    "    'India': 1_454_606_724,\n",
    "    'Egypt': 105_914_499,\n",
    "    'Finland': 5_638_675,\n",
    "    'Germany': 83_555_478,\n",
    "    'Japan': 123_440_000,\n",
    "    'Ukraine': 32_962_000,\n",
    "    'United Kingdom': 68_265_209,\n",
    "    'United States': 340_110_988\n",
    "}\n",
    "# This data was manuelly added from https://en.wikipedia.org/wiki/List_of_countries_and_dependencies_by_population\n",
    "df['population'] = df['country'].map(population_data)\n",
    "df['streams_per_capita'] = df['streams'] / df['population']\n",
    "\n",
    "happy = pd.read_excel('../data/raw_data/daily_chart_per_area/regional_24/hapiness.xlsx')\n",
    "happy = happy[happy['Year'] == 2024]\n",
    "happy.rename(columns={'Ladder score': 'happiness'}, inplace=True)\n"
   ]
  },
  {
   "cell_type": "code",
   "execution_count": 7,
   "metadata": {},
   "outputs": [
    {
     "data": {
      "text/html": [
       "<div>\n",
       "<style scoped>\n",
       "    .dataframe tbody tr th:only-of-type {\n",
       "        vertical-align: middle;\n",
       "    }\n",
       "\n",
       "    .dataframe tbody tr th {\n",
       "        vertical-align: top;\n",
       "    }\n",
       "\n",
       "    .dataframe thead th {\n",
       "        text-align: right;\n",
       "    }\n",
       "</style>\n",
       "<table border=\"1\" class=\"dataframe\">\n",
       "  <thead>\n",
       "    <tr style=\"text-align: right;\">\n",
       "      <th></th>\n",
       "      <th>Year</th>\n",
       "      <th>Rank</th>\n",
       "      <th>Country name</th>\n",
       "      <th>happiness</th>\n",
       "      <th>upperwhisker</th>\n",
       "      <th>lowerwhisker</th>\n",
       "      <th>Explained by: Log GDP per capita</th>\n",
       "      <th>Explained by: Social support</th>\n",
       "      <th>Explained by: Healthy life expectancy</th>\n",
       "      <th>Explained by: Freedom to make life choices</th>\n",
       "      <th>Explained by: Generosity</th>\n",
       "      <th>Explained by: Perceptions of corruption</th>\n",
       "      <th>Dystopia + residual</th>\n",
       "    </tr>\n",
       "  </thead>\n",
       "  <tbody>\n",
       "    <tr>\n",
       "      <th>0</th>\n",
       "      <td>2024</td>\n",
       "      <td>1</td>\n",
       "      <td>Finland</td>\n",
       "      <td>7.736</td>\n",
       "      <td>7.810</td>\n",
       "      <td>7.662</td>\n",
       "      <td>1.749</td>\n",
       "      <td>1.783</td>\n",
       "      <td>0.824</td>\n",
       "      <td>0.986</td>\n",
       "      <td>0.110</td>\n",
       "      <td>0.502</td>\n",
       "      <td>1.782</td>\n",
       "    </tr>\n",
       "    <tr>\n",
       "      <th>13</th>\n",
       "      <td>2024</td>\n",
       "      <td>2</td>\n",
       "      <td>Denmark</td>\n",
       "      <td>7.521</td>\n",
       "      <td>7.611</td>\n",
       "      <td>7.431</td>\n",
       "      <td>1.825</td>\n",
       "      <td>1.748</td>\n",
       "      <td>0.820</td>\n",
       "      <td>0.955</td>\n",
       "      <td>0.150</td>\n",
       "      <td>0.488</td>\n",
       "      <td>1.535</td>\n",
       "    </tr>\n",
       "    <tr>\n",
       "      <th>26</th>\n",
       "      <td>2024</td>\n",
       "      <td>3</td>\n",
       "      <td>Iceland</td>\n",
       "      <td>7.515</td>\n",
       "      <td>7.606</td>\n",
       "      <td>7.425</td>\n",
       "      <td>1.799</td>\n",
       "      <td>1.840</td>\n",
       "      <td>0.873</td>\n",
       "      <td>0.971</td>\n",
       "      <td>0.201</td>\n",
       "      <td>0.173</td>\n",
       "      <td>1.659</td>\n",
       "    </tr>\n",
       "    <tr>\n",
       "      <th>45</th>\n",
       "      <td>2024</td>\n",
       "      <td>4</td>\n",
       "      <td>Sweden</td>\n",
       "      <td>7.345</td>\n",
       "      <td>7.427</td>\n",
       "      <td>7.262</td>\n",
       "      <td>1.783</td>\n",
       "      <td>1.698</td>\n",
       "      <td>0.889</td>\n",
       "      <td>0.952</td>\n",
       "      <td>0.170</td>\n",
       "      <td>0.467</td>\n",
       "      <td>1.385</td>\n",
       "    </tr>\n",
       "    <tr>\n",
       "      <th>58</th>\n",
       "      <td>2024</td>\n",
       "      <td>5</td>\n",
       "      <td>Netherlands</td>\n",
       "      <td>7.306</td>\n",
       "      <td>7.372</td>\n",
       "      <td>7.240</td>\n",
       "      <td>1.822</td>\n",
       "      <td>1.667</td>\n",
       "      <td>0.844</td>\n",
       "      <td>0.860</td>\n",
       "      <td>0.186</td>\n",
       "      <td>0.344</td>\n",
       "      <td>1.583</td>\n",
       "    </tr>\n",
       "    <tr>\n",
       "      <th>...</th>\n",
       "      <td>...</td>\n",
       "      <td>...</td>\n",
       "      <td>...</td>\n",
       "      <td>...</td>\n",
       "      <td>...</td>\n",
       "      <td>...</td>\n",
       "      <td>...</td>\n",
       "      <td>...</td>\n",
       "      <td>...</td>\n",
       "      <td>...</td>\n",
       "      <td>...</td>\n",
       "      <td>...</td>\n",
       "      <td>...</td>\n",
       "    </tr>\n",
       "    <tr>\n",
       "      <th>1905</th>\n",
       "      <td>2024</td>\n",
       "      <td>143</td>\n",
       "      <td>Zimbabwe</td>\n",
       "      <td>3.396</td>\n",
       "      <td>3.509</td>\n",
       "      <td>3.283</td>\n",
       "      <td>0.827</td>\n",
       "      <td>0.961</td>\n",
       "      <td>0.178</td>\n",
       "      <td>0.598</td>\n",
       "      <td>0.065</td>\n",
       "      <td>0.131</td>\n",
       "      <td>0.636</td>\n",
       "    </tr>\n",
       "    <tr>\n",
       "      <th>1918</th>\n",
       "      <td>2024</td>\n",
       "      <td>144</td>\n",
       "      <td>Malawi</td>\n",
       "      <td>3.260</td>\n",
       "      <td>3.390</td>\n",
       "      <td>3.130</td>\n",
       "      <td>0.588</td>\n",
       "      <td>0.489</td>\n",
       "      <td>0.280</td>\n",
       "      <td>0.677</td>\n",
       "      <td>0.115</td>\n",
       "      <td>0.136</td>\n",
       "      <td>0.975</td>\n",
       "    </tr>\n",
       "    <tr>\n",
       "      <th>1931</th>\n",
       "      <td>2024</td>\n",
       "      <td>145</td>\n",
       "      <td>Lebanon</td>\n",
       "      <td>3.188</td>\n",
       "      <td>3.277</td>\n",
       "      <td>3.098</td>\n",
       "      <td>1.223</td>\n",
       "      <td>0.984</td>\n",
       "      <td>0.440</td>\n",
       "      <td>0.279</td>\n",
       "      <td>0.071</td>\n",
       "      <td>0.041</td>\n",
       "      <td>0.150</td>\n",
       "    </tr>\n",
       "    <tr>\n",
       "      <th>1943</th>\n",
       "      <td>2024</td>\n",
       "      <td>146</td>\n",
       "      <td>Sierra Leone</td>\n",
       "      <td>2.998</td>\n",
       "      <td>3.102</td>\n",
       "      <td>2.894</td>\n",
       "      <td>0.786</td>\n",
       "      <td>0.692</td>\n",
       "      <td>0.327</td>\n",
       "      <td>0.613</td>\n",
       "      <td>0.138</td>\n",
       "      <td>0.052</td>\n",
       "      <td>0.391</td>\n",
       "    </tr>\n",
       "    <tr>\n",
       "      <th>1956</th>\n",
       "      <td>2024</td>\n",
       "      <td>147</td>\n",
       "      <td>Afghanistan</td>\n",
       "      <td>1.364</td>\n",
       "      <td>1.427</td>\n",
       "      <td>1.301</td>\n",
       "      <td>0.649</td>\n",
       "      <td>0.000</td>\n",
       "      <td>0.155</td>\n",
       "      <td>0.000</td>\n",
       "      <td>0.075</td>\n",
       "      <td>0.135</td>\n",
       "      <td>0.348</td>\n",
       "    </tr>\n",
       "  </tbody>\n",
       "</table>\n",
       "<p>147 rows × 13 columns</p>\n",
       "</div>"
      ],
      "text/plain": [
       "      Year  Rank  Country name  happiness  upperwhisker  lowerwhisker  \\\n",
       "0     2024     1       Finland      7.736         7.810         7.662   \n",
       "13    2024     2       Denmark      7.521         7.611         7.431   \n",
       "26    2024     3       Iceland      7.515         7.606         7.425   \n",
       "45    2024     4        Sweden      7.345         7.427         7.262   \n",
       "58    2024     5   Netherlands      7.306         7.372         7.240   \n",
       "...    ...   ...           ...        ...           ...           ...   \n",
       "1905  2024   143      Zimbabwe      3.396         3.509         3.283   \n",
       "1918  2024   144        Malawi      3.260         3.390         3.130   \n",
       "1931  2024   145       Lebanon      3.188         3.277         3.098   \n",
       "1943  2024   146  Sierra Leone      2.998         3.102         2.894   \n",
       "1956  2024   147   Afghanistan      1.364         1.427         1.301   \n",
       "\n",
       "      Explained by: Log GDP per capita  Explained by: Social support  \\\n",
       "0                                1.749                         1.783   \n",
       "13                               1.825                         1.748   \n",
       "26                               1.799                         1.840   \n",
       "45                               1.783                         1.698   \n",
       "58                               1.822                         1.667   \n",
       "...                                ...                           ...   \n",
       "1905                             0.827                         0.961   \n",
       "1918                             0.588                         0.489   \n",
       "1931                             1.223                         0.984   \n",
       "1943                             0.786                         0.692   \n",
       "1956                             0.649                         0.000   \n",
       "\n",
       "      Explained by: Healthy life expectancy  \\\n",
       "0                                     0.824   \n",
       "13                                    0.820   \n",
       "26                                    0.873   \n",
       "45                                    0.889   \n",
       "58                                    0.844   \n",
       "...                                     ...   \n",
       "1905                                  0.178   \n",
       "1918                                  0.280   \n",
       "1931                                  0.440   \n",
       "1943                                  0.327   \n",
       "1956                                  0.155   \n",
       "\n",
       "      Explained by: Freedom to make life choices  Explained by: Generosity  \\\n",
       "0                                          0.986                     0.110   \n",
       "13                                         0.955                     0.150   \n",
       "26                                         0.971                     0.201   \n",
       "45                                         0.952                     0.170   \n",
       "58                                         0.860                     0.186   \n",
       "...                                          ...                       ...   \n",
       "1905                                       0.598                     0.065   \n",
       "1918                                       0.677                     0.115   \n",
       "1931                                       0.279                     0.071   \n",
       "1943                                       0.613                     0.138   \n",
       "1956                                       0.000                     0.075   \n",
       "\n",
       "      Explained by: Perceptions of corruption  Dystopia + residual  \n",
       "0                                       0.502                1.782  \n",
       "13                                      0.488                1.535  \n",
       "26                                      0.173                1.659  \n",
       "45                                      0.467                1.385  \n",
       "58                                      0.344                1.583  \n",
       "...                                       ...                  ...  \n",
       "1905                                    0.131                0.636  \n",
       "1918                                    0.136                0.975  \n",
       "1931                                    0.041                0.150  \n",
       "1943                                    0.052                0.391  \n",
       "1956                                    0.135                0.348  \n",
       "\n",
       "[147 rows x 13 columns]"
      ]
     },
     "execution_count": 7,
     "metadata": {},
     "output_type": "execute_result"
    }
   ],
   "source": [
    "happy"
   ]
  },
  {
   "cell_type": "code",
   "execution_count": 8,
   "metadata": {},
   "outputs": [
    {
     "data": {
      "text/html": [
       "<div>\n",
       "<style scoped>\n",
       "    .dataframe tbody tr th:only-of-type {\n",
       "        vertical-align: middle;\n",
       "    }\n",
       "\n",
       "    .dataframe tbody tr th {\n",
       "        vertical-align: top;\n",
       "    }\n",
       "\n",
       "    .dataframe thead th {\n",
       "        text-align: right;\n",
       "    }\n",
       "</style>\n",
       "<table border=\"1\" class=\"dataframe\">\n",
       "  <thead>\n",
       "    <tr style=\"text-align: right;\">\n",
       "      <th></th>\n",
       "      <th>country</th>\n",
       "      <th>streams</th>\n",
       "      <th>population</th>\n",
       "      <th>streams_per_capita</th>\n",
       "    </tr>\n",
       "  </thead>\n",
       "  <tbody>\n",
       "    <tr>\n",
       "      <th>0</th>\n",
       "      <td>Australia</td>\n",
       "      <td>6419845434</td>\n",
       "      <td>27100000</td>\n",
       "      <td>236.894665</td>\n",
       "    </tr>\n",
       "    <tr>\n",
       "      <th>1</th>\n",
       "      <td>Brazil</td>\n",
       "      <td>23678129768</td>\n",
       "      <td>212812000</td>\n",
       "      <td>111.263133</td>\n",
       "    </tr>\n",
       "    <tr>\n",
       "      <th>2</th>\n",
       "      <td>Egypt</td>\n",
       "      <td>1337138588</td>\n",
       "      <td>105914499</td>\n",
       "      <td>12.624698</td>\n",
       "    </tr>\n",
       "    <tr>\n",
       "      <th>3</th>\n",
       "      <td>Finland</td>\n",
       "      <td>1439767716</td>\n",
       "      <td>5638675</td>\n",
       "      <td>255.337950</td>\n",
       "    </tr>\n",
       "    <tr>\n",
       "      <th>4</th>\n",
       "      <td>Germany</td>\n",
       "      <td>10066126407</td>\n",
       "      <td>83555478</td>\n",
       "      <td>120.472369</td>\n",
       "    </tr>\n",
       "    <tr>\n",
       "      <th>5</th>\n",
       "      <td>Greece</td>\n",
       "      <td>1860985919</td>\n",
       "      <td>10300000</td>\n",
       "      <td>180.678245</td>\n",
       "    </tr>\n",
       "    <tr>\n",
       "      <th>6</th>\n",
       "      <td>India</td>\n",
       "      <td>18606949004</td>\n",
       "      <td>1454606724</td>\n",
       "      <td>12.791739</td>\n",
       "    </tr>\n",
       "    <tr>\n",
       "      <th>7</th>\n",
       "      <td>Japan</td>\n",
       "      <td>6786428466</td>\n",
       "      <td>123440000</td>\n",
       "      <td>54.977548</td>\n",
       "    </tr>\n",
       "    <tr>\n",
       "      <th>8</th>\n",
       "      <td>Nigeria</td>\n",
       "      <td>2554383731</td>\n",
       "      <td>237528000</td>\n",
       "      <td>10.754032</td>\n",
       "    </tr>\n",
       "    <tr>\n",
       "      <th>9</th>\n",
       "      <td>South Africa</td>\n",
       "      <td>1454035269</td>\n",
       "      <td>64747000</td>\n",
       "      <td>22.457184</td>\n",
       "    </tr>\n",
       "    <tr>\n",
       "      <th>10</th>\n",
       "      <td>Spain</td>\n",
       "      <td>8942852973</td>\n",
       "      <td>47890000</td>\n",
       "      <td>186.737377</td>\n",
       "    </tr>\n",
       "    <tr>\n",
       "      <th>11</th>\n",
       "      <td>Sweden</td>\n",
       "      <td>2973895209</td>\n",
       "      <td>10500000</td>\n",
       "      <td>283.228115</td>\n",
       "    </tr>\n",
       "    <tr>\n",
       "      <th>12</th>\n",
       "      <td>Ukraine</td>\n",
       "      <td>661195787</td>\n",
       "      <td>32962000</td>\n",
       "      <td>20.059335</td>\n",
       "    </tr>\n",
       "    <tr>\n",
       "      <th>13</th>\n",
       "      <td>United Kingdom</td>\n",
       "      <td>10046348434</td>\n",
       "      <td>68265209</td>\n",
       "      <td>147.166450</td>\n",
       "    </tr>\n",
       "    <tr>\n",
       "      <th>14</th>\n",
       "      <td>United States</td>\n",
       "      <td>10046348434</td>\n",
       "      <td>340110988</td>\n",
       "      <td>29.538441</td>\n",
       "    </tr>\n",
       "  </tbody>\n",
       "</table>\n",
       "</div>"
      ],
      "text/plain": [
       "           country      streams  population  streams_per_capita\n",
       "0        Australia   6419845434    27100000          236.894665\n",
       "1           Brazil  23678129768   212812000          111.263133\n",
       "2            Egypt   1337138588   105914499           12.624698\n",
       "3          Finland   1439767716     5638675          255.337950\n",
       "4          Germany  10066126407    83555478          120.472369\n",
       "5           Greece   1860985919    10300000          180.678245\n",
       "6            India  18606949004  1454606724           12.791739\n",
       "7            Japan   6786428466   123440000           54.977548\n",
       "8          Nigeria   2554383731   237528000           10.754032\n",
       "9     South Africa   1454035269    64747000           22.457184\n",
       "10           Spain   8942852973    47890000          186.737377\n",
       "11          Sweden   2973895209    10500000          283.228115\n",
       "12         Ukraine    661195787    32962000           20.059335\n",
       "13  United Kingdom  10046348434    68265209          147.166450\n",
       "14   United States  10046348434   340110988           29.538441"
      ]
     },
     "execution_count": 8,
     "metadata": {},
     "output_type": "execute_result"
    }
   ],
   "source": [
    "grouped_by_country = df.groupby('country', as_index=False).agg({\n",
    "    'streams': 'sum',\n",
    "    'population': 'first',  \n",
    "})\n",
    "grouped_by_country['streams_per_capita'] = grouped_by_country['streams'] / grouped_by_country['population']\n",
    "\n",
    "grouped_by_country"
   ]
  },
  {
   "cell_type": "code",
   "execution_count": 9,
   "metadata": {},
   "outputs": [],
   "source": [
    "df = df.groupby(\n",
    "    [df['date'], 'country']\n",
    ").agg({\n",
    "    'streams_per_capita': 'sum'  \n",
    "}).reset_index()"
   ]
  },
  {
   "cell_type": "code",
   "execution_count": 10,
   "metadata": {},
   "outputs": [
    {
     "data": {
      "application/vnd.plotly.v1+json": {
       "config": {
        "plotlyServerURL": "https://plot.ly"
       },
       "data": [
        {
         "coloraxis": "coloraxis",
         "geo": "geo",
         "hovertemplate": "country=%{location}<br>streams_per_capita=%{z}<extra></extra>",
         "locationmode": "country names",
         "locations": [
          "Australia",
          "Brazil",
          "Egypt",
          "Finland",
          "Germany",
          "Greece",
          "India",
          "Japan",
          "Nigeria",
          "South Africa",
          "Spain",
          "Sweden",
          "Ukraine",
          "United Kingdom",
          "United States"
         ],
         "name": "",
         "type": "choropleth",
         "z": [
          236.89466546125462,
          111.26313256771235,
          12.62469822946526,
          255.3379501389954,
          120.47236935201305,
          180.6782445631068,
          12.791738617042169,
          54.97754752106287,
          10.754032076218383,
          22.457183637851948,
          186.73737675923994,
          283.2281151428571,
          20.059334597415205,
          147.16644951603385,
          29.53844123965792
         ]
        }
       ],
       "layout": {
        "coloraxis": {
         "colorbar": {
          "title": {
           "text": "streams_per_capita"
          }
         },
         "colorscale": [
          [
           0,
           "#440154"
          ],
          [
           0.1111111111111111,
           "#482878"
          ],
          [
           0.2222222222222222,
           "#3e4989"
          ],
          [
           0.3333333333333333,
           "#31688e"
          ],
          [
           0.4444444444444444,
           "#26828e"
          ],
          [
           0.5555555555555556,
           "#1f9e89"
          ],
          [
           0.6666666666666666,
           "#35b779"
          ],
          [
           0.7777777777777778,
           "#6ece58"
          ],
          [
           0.8888888888888888,
           "#b5de2b"
          ],
          [
           1,
           "#fde725"
          ]
         ]
        },
        "geo": {
         "center": {},
         "domain": {
          "x": [
           0,
           1
          ],
          "y": [
           0,
           1
          ]
         }
        },
        "legend": {
         "tracegroupgap": 0
        },
        "template": {
         "data": {
          "bar": [
           {
            "error_x": {
             "color": "#f2f5fa"
            },
            "error_y": {
             "color": "#f2f5fa"
            },
            "marker": {
             "line": {
              "color": "rgb(17,17,17)",
              "width": 0.5
             },
             "pattern": {
              "fillmode": "overlay",
              "size": 10,
              "solidity": 0.2
             }
            },
            "type": "bar"
           }
          ],
          "barpolar": [
           {
            "marker": {
             "line": {
              "color": "rgb(17,17,17)",
              "width": 0.5
             },
             "pattern": {
              "fillmode": "overlay",
              "size": 10,
              "solidity": 0.2
             }
            },
            "type": "barpolar"
           }
          ],
          "carpet": [
           {
            "aaxis": {
             "endlinecolor": "#A2B1C6",
             "gridcolor": "#506784",
             "linecolor": "#506784",
             "minorgridcolor": "#506784",
             "startlinecolor": "#A2B1C6"
            },
            "baxis": {
             "endlinecolor": "#A2B1C6",
             "gridcolor": "#506784",
             "linecolor": "#506784",
             "minorgridcolor": "#506784",
             "startlinecolor": "#A2B1C6"
            },
            "type": "carpet"
           }
          ],
          "choropleth": [
           {
            "colorbar": {
             "outlinewidth": 0,
             "ticks": ""
            },
            "type": "choropleth"
           }
          ],
          "contour": [
           {
            "colorbar": {
             "outlinewidth": 0,
             "ticks": ""
            },
            "colorscale": [
             [
              0,
              "#0d0887"
             ],
             [
              0.1111111111111111,
              "#46039f"
             ],
             [
              0.2222222222222222,
              "#7201a8"
             ],
             [
              0.3333333333333333,
              "#9c179e"
             ],
             [
              0.4444444444444444,
              "#bd3786"
             ],
             [
              0.5555555555555556,
              "#d8576b"
             ],
             [
              0.6666666666666666,
              "#ed7953"
             ],
             [
              0.7777777777777778,
              "#fb9f3a"
             ],
             [
              0.8888888888888888,
              "#fdca26"
             ],
             [
              1,
              "#f0f921"
             ]
            ],
            "type": "contour"
           }
          ],
          "contourcarpet": [
           {
            "colorbar": {
             "outlinewidth": 0,
             "ticks": ""
            },
            "type": "contourcarpet"
           }
          ],
          "heatmap": [
           {
            "colorbar": {
             "outlinewidth": 0,
             "ticks": ""
            },
            "colorscale": [
             [
              0,
              "#0d0887"
             ],
             [
              0.1111111111111111,
              "#46039f"
             ],
             [
              0.2222222222222222,
              "#7201a8"
             ],
             [
              0.3333333333333333,
              "#9c179e"
             ],
             [
              0.4444444444444444,
              "#bd3786"
             ],
             [
              0.5555555555555556,
              "#d8576b"
             ],
             [
              0.6666666666666666,
              "#ed7953"
             ],
             [
              0.7777777777777778,
              "#fb9f3a"
             ],
             [
              0.8888888888888888,
              "#fdca26"
             ],
             [
              1,
              "#f0f921"
             ]
            ],
            "type": "heatmap"
           }
          ],
          "heatmapgl": [
           {
            "colorbar": {
             "outlinewidth": 0,
             "ticks": ""
            },
            "colorscale": [
             [
              0,
              "#0d0887"
             ],
             [
              0.1111111111111111,
              "#46039f"
             ],
             [
              0.2222222222222222,
              "#7201a8"
             ],
             [
              0.3333333333333333,
              "#9c179e"
             ],
             [
              0.4444444444444444,
              "#bd3786"
             ],
             [
              0.5555555555555556,
              "#d8576b"
             ],
             [
              0.6666666666666666,
              "#ed7953"
             ],
             [
              0.7777777777777778,
              "#fb9f3a"
             ],
             [
              0.8888888888888888,
              "#fdca26"
             ],
             [
              1,
              "#f0f921"
             ]
            ],
            "type": "heatmapgl"
           }
          ],
          "histogram": [
           {
            "marker": {
             "pattern": {
              "fillmode": "overlay",
              "size": 10,
              "solidity": 0.2
             }
            },
            "type": "histogram"
           }
          ],
          "histogram2d": [
           {
            "colorbar": {
             "outlinewidth": 0,
             "ticks": ""
            },
            "colorscale": [
             [
              0,
              "#0d0887"
             ],
             [
              0.1111111111111111,
              "#46039f"
             ],
             [
              0.2222222222222222,
              "#7201a8"
             ],
             [
              0.3333333333333333,
              "#9c179e"
             ],
             [
              0.4444444444444444,
              "#bd3786"
             ],
             [
              0.5555555555555556,
              "#d8576b"
             ],
             [
              0.6666666666666666,
              "#ed7953"
             ],
             [
              0.7777777777777778,
              "#fb9f3a"
             ],
             [
              0.8888888888888888,
              "#fdca26"
             ],
             [
              1,
              "#f0f921"
             ]
            ],
            "type": "histogram2d"
           }
          ],
          "histogram2dcontour": [
           {
            "colorbar": {
             "outlinewidth": 0,
             "ticks": ""
            },
            "colorscale": [
             [
              0,
              "#0d0887"
             ],
             [
              0.1111111111111111,
              "#46039f"
             ],
             [
              0.2222222222222222,
              "#7201a8"
             ],
             [
              0.3333333333333333,
              "#9c179e"
             ],
             [
              0.4444444444444444,
              "#bd3786"
             ],
             [
              0.5555555555555556,
              "#d8576b"
             ],
             [
              0.6666666666666666,
              "#ed7953"
             ],
             [
              0.7777777777777778,
              "#fb9f3a"
             ],
             [
              0.8888888888888888,
              "#fdca26"
             ],
             [
              1,
              "#f0f921"
             ]
            ],
            "type": "histogram2dcontour"
           }
          ],
          "mesh3d": [
           {
            "colorbar": {
             "outlinewidth": 0,
             "ticks": ""
            },
            "type": "mesh3d"
           }
          ],
          "parcoords": [
           {
            "line": {
             "colorbar": {
              "outlinewidth": 0,
              "ticks": ""
             }
            },
            "type": "parcoords"
           }
          ],
          "pie": [
           {
            "automargin": true,
            "type": "pie"
           }
          ],
          "scatter": [
           {
            "marker": {
             "line": {
              "color": "#283442"
             }
            },
            "type": "scatter"
           }
          ],
          "scatter3d": [
           {
            "line": {
             "colorbar": {
              "outlinewidth": 0,
              "ticks": ""
             }
            },
            "marker": {
             "colorbar": {
              "outlinewidth": 0,
              "ticks": ""
             }
            },
            "type": "scatter3d"
           }
          ],
          "scattercarpet": [
           {
            "marker": {
             "colorbar": {
              "outlinewidth": 0,
              "ticks": ""
             }
            },
            "type": "scattercarpet"
           }
          ],
          "scattergeo": [
           {
            "marker": {
             "colorbar": {
              "outlinewidth": 0,
              "ticks": ""
             }
            },
            "type": "scattergeo"
           }
          ],
          "scattergl": [
           {
            "marker": {
             "line": {
              "color": "#283442"
             }
            },
            "type": "scattergl"
           }
          ],
          "scattermapbox": [
           {
            "marker": {
             "colorbar": {
              "outlinewidth": 0,
              "ticks": ""
             }
            },
            "type": "scattermapbox"
           }
          ],
          "scatterpolar": [
           {
            "marker": {
             "colorbar": {
              "outlinewidth": 0,
              "ticks": ""
             }
            },
            "type": "scatterpolar"
           }
          ],
          "scatterpolargl": [
           {
            "marker": {
             "colorbar": {
              "outlinewidth": 0,
              "ticks": ""
             }
            },
            "type": "scatterpolargl"
           }
          ],
          "scatterternary": [
           {
            "marker": {
             "colorbar": {
              "outlinewidth": 0,
              "ticks": ""
             }
            },
            "type": "scatterternary"
           }
          ],
          "surface": [
           {
            "colorbar": {
             "outlinewidth": 0,
             "ticks": ""
            },
            "colorscale": [
             [
              0,
              "#0d0887"
             ],
             [
              0.1111111111111111,
              "#46039f"
             ],
             [
              0.2222222222222222,
              "#7201a8"
             ],
             [
              0.3333333333333333,
              "#9c179e"
             ],
             [
              0.4444444444444444,
              "#bd3786"
             ],
             [
              0.5555555555555556,
              "#d8576b"
             ],
             [
              0.6666666666666666,
              "#ed7953"
             ],
             [
              0.7777777777777778,
              "#fb9f3a"
             ],
             [
              0.8888888888888888,
              "#fdca26"
             ],
             [
              1,
              "#f0f921"
             ]
            ],
            "type": "surface"
           }
          ],
          "table": [
           {
            "cells": {
             "fill": {
              "color": "#506784"
             },
             "line": {
              "color": "rgb(17,17,17)"
             }
            },
            "header": {
             "fill": {
              "color": "#2a3f5f"
             },
             "line": {
              "color": "rgb(17,17,17)"
             }
            },
            "type": "table"
           }
          ]
         },
         "layout": {
          "annotationdefaults": {
           "arrowcolor": "#f2f5fa",
           "arrowhead": 0,
           "arrowwidth": 1
          },
          "autotypenumbers": "strict",
          "coloraxis": {
           "colorbar": {
            "outlinewidth": 0,
            "ticks": ""
           }
          },
          "colorscale": {
           "diverging": [
            [
             0,
             "#8e0152"
            ],
            [
             0.1,
             "#c51b7d"
            ],
            [
             0.2,
             "#de77ae"
            ],
            [
             0.3,
             "#f1b6da"
            ],
            [
             0.4,
             "#fde0ef"
            ],
            [
             0.5,
             "#f7f7f7"
            ],
            [
             0.6,
             "#e6f5d0"
            ],
            [
             0.7,
             "#b8e186"
            ],
            [
             0.8,
             "#7fbc41"
            ],
            [
             0.9,
             "#4d9221"
            ],
            [
             1,
             "#276419"
            ]
           ],
           "sequential": [
            [
             0,
             "#0d0887"
            ],
            [
             0.1111111111111111,
             "#46039f"
            ],
            [
             0.2222222222222222,
             "#7201a8"
            ],
            [
             0.3333333333333333,
             "#9c179e"
            ],
            [
             0.4444444444444444,
             "#bd3786"
            ],
            [
             0.5555555555555556,
             "#d8576b"
            ],
            [
             0.6666666666666666,
             "#ed7953"
            ],
            [
             0.7777777777777778,
             "#fb9f3a"
            ],
            [
             0.8888888888888888,
             "#fdca26"
            ],
            [
             1,
             "#f0f921"
            ]
           ],
           "sequentialminus": [
            [
             0,
             "#0d0887"
            ],
            [
             0.1111111111111111,
             "#46039f"
            ],
            [
             0.2222222222222222,
             "#7201a8"
            ],
            [
             0.3333333333333333,
             "#9c179e"
            ],
            [
             0.4444444444444444,
             "#bd3786"
            ],
            [
             0.5555555555555556,
             "#d8576b"
            ],
            [
             0.6666666666666666,
             "#ed7953"
            ],
            [
             0.7777777777777778,
             "#fb9f3a"
            ],
            [
             0.8888888888888888,
             "#fdca26"
            ],
            [
             1,
             "#f0f921"
            ]
           ]
          },
          "colorway": [
           "#636efa",
           "#EF553B",
           "#00cc96",
           "#ab63fa",
           "#FFA15A",
           "#19d3f3",
           "#FF6692",
           "#B6E880",
           "#FF97FF",
           "#FECB52"
          ],
          "font": {
           "color": "#f2f5fa"
          },
          "geo": {
           "bgcolor": "rgb(17,17,17)",
           "lakecolor": "rgb(17,17,17)",
           "landcolor": "rgb(17,17,17)",
           "showlakes": true,
           "showland": true,
           "subunitcolor": "#506784"
          },
          "hoverlabel": {
           "align": "left"
          },
          "hovermode": "closest",
          "mapbox": {
           "style": "dark"
          },
          "paper_bgcolor": "rgb(17,17,17)",
          "plot_bgcolor": "rgb(17,17,17)",
          "polar": {
           "angularaxis": {
            "gridcolor": "#506784",
            "linecolor": "#506784",
            "ticks": ""
           },
           "bgcolor": "rgb(17,17,17)",
           "radialaxis": {
            "gridcolor": "#506784",
            "linecolor": "#506784",
            "ticks": ""
           }
          },
          "scene": {
           "xaxis": {
            "backgroundcolor": "rgb(17,17,17)",
            "gridcolor": "#506784",
            "gridwidth": 2,
            "linecolor": "#506784",
            "showbackground": true,
            "ticks": "",
            "zerolinecolor": "#C8D4E3"
           },
           "yaxis": {
            "backgroundcolor": "rgb(17,17,17)",
            "gridcolor": "#506784",
            "gridwidth": 2,
            "linecolor": "#506784",
            "showbackground": true,
            "ticks": "",
            "zerolinecolor": "#C8D4E3"
           },
           "zaxis": {
            "backgroundcolor": "rgb(17,17,17)",
            "gridcolor": "#506784",
            "gridwidth": 2,
            "linecolor": "#506784",
            "showbackground": true,
            "ticks": "",
            "zerolinecolor": "#C8D4E3"
           }
          },
          "shapedefaults": {
           "line": {
            "color": "#f2f5fa"
           }
          },
          "sliderdefaults": {
           "bgcolor": "#C8D4E3",
           "bordercolor": "rgb(17,17,17)",
           "borderwidth": 1,
           "tickwidth": 0
          },
          "ternary": {
           "aaxis": {
            "gridcolor": "#506784",
            "linecolor": "#506784",
            "ticks": ""
           },
           "baxis": {
            "gridcolor": "#506784",
            "linecolor": "#506784",
            "ticks": ""
           },
           "bgcolor": "rgb(17,17,17)",
           "caxis": {
            "gridcolor": "#506784",
            "linecolor": "#506784",
            "ticks": ""
           }
          },
          "title": {
           "x": 0.05
          },
          "updatemenudefaults": {
           "bgcolor": "#506784",
           "borderwidth": 0
          },
          "xaxis": {
           "automargin": true,
           "gridcolor": "#283442",
           "linecolor": "#506784",
           "ticks": "",
           "title": {
            "standoff": 15
           },
           "zerolinecolor": "#283442",
           "zerolinewidth": 2
          },
          "yaxis": {
           "automargin": true,
           "gridcolor": "#283442",
           "linecolor": "#506784",
           "ticks": "",
           "title": {
            "standoff": 15
           },
           "zerolinecolor": "#283442",
           "zerolinewidth": 2
          }
         }
        },
        "title": {
         "text": "Spotify Streams Per Capita by Country (2024)"
        }
       }
      }
     },
     "metadata": {},
     "output_type": "display_data"
    }
   ],
   "source": [
    "\n",
    "\n",
    "fig = px.choropleth(\n",
    "    grouped_by_country,\n",
    "    locations='country',\n",
    "    locationmode='country names',\n",
    "    color='streams_per_capita',\n",
    "    color_continuous_scale='Viridis',\n",
    "    title='Spotify Streams Per Capita by Country (2024)',\n",
    "    template='plotly_dark'\n",
    ")\n",
    "\n",
    "fig.show()\n"
   ]
  },
  {
   "cell_type": "code",
   "execution_count": 11,
   "metadata": {},
   "outputs": [
    {
     "data": {
      "application/vnd.plotly.v1+json": {
       "config": {
        "plotlyServerURL": "https://plot.ly"
       },
       "data": [
        {
         "coloraxis": "coloraxis",
         "geo": "geo",
         "hovertemplate": "Country name=%{location}<br>happiness=%{z}<extra></extra>",
         "locationmode": "country names",
         "locations": [
          "Finland",
          "Denmark",
          "Iceland",
          "Sweden",
          "Netherlands",
          "Costa Rica",
          "Norway",
          "Israel",
          "Luxembourg",
          "Mexico",
          "Australia",
          "New Zealand",
          "Switzerland",
          "Belgium",
          "Ireland",
          "Lithuania",
          "Austria",
          "Canada",
          "Slovenia",
          "Czechia",
          "United Arab Emirates",
          "Germany",
          "United Kingdom",
          "United States",
          "Belize",
          "Poland",
          "Taiwan Province of China",
          "Uruguay",
          "Kosovo",
          "Kuwait",
          "Serbia",
          "Saudi Arabia",
          "France",
          "Singapore",
          "Romania",
          "Brazil",
          "El Salvador",
          "Spain",
          "Estonia",
          "Italy",
          "Panama",
          "Argentina",
          "Kazakhstan",
          "Guatemala",
          "Chile",
          "Viet Nam",
          "Nicaragua",
          "Malta",
          "Thailand",
          "Slovakia",
          "Latvia",
          "Oman",
          "Uzbekistan",
          "Paraguay",
          "Japan",
          "Bosnia and Herzegovina",
          "Philippines",
          "Republic of Korea",
          "Bahrain",
          "Portugal",
          "Colombia",
          "Ecuador",
          "Honduras",
          "Malaysia",
          "Peru",
          "Russian Federation",
          "Cyprus",
          "China",
          "Hungary",
          "Trinidad and Tobago",
          "Montenegro",
          "Croatia",
          "Jamaica",
          "Bolivia",
          "Kyrgyzstan",
          "Dominican Republic",
          "Mongolia",
          "Mauritius",
          "Libya",
          "Republic of Moldova",
          "Greece",
          "Venezuela",
          "Indonesia",
          "Algeria",
          "Bulgaria",
          "North Macedonia",
          "Armenia",
          "Hong Kong SAR of China",
          "Albania",
          "Tajikistan",
          "Georgia",
          "Nepal",
          "Lao PDR",
          "Türkiye",
          "South Africa",
          "Mozambique",
          "Gabon",
          "Côte d’Ivoire",
          "Iran",
          "Congo",
          "Iraq",
          "Guinea",
          "Namibia",
          "Cameroon",
          "Nigeria",
          "Azerbaijan",
          "Senegal",
          "State of Palestine",
          "Pakistan",
          "Niger",
          "Ukraine",
          "Morocco",
          "Tunisia",
          "Mauritania",
          "Kenya",
          "Uganda",
          "Gambia",
          "India",
          "Chad",
          "Burkina Faso",
          "Benin",
          "Somalia",
          "Mali",
          "Cambodia",
          "Ghana",
          "Myanmar",
          "Togo",
          "Jordan",
          "Liberia",
          "Madagascar",
          "Zambia",
          "Ethiopia",
          "Sri Lanka",
          "Bangladesh",
          "Egypt",
          "Tanzania",
          "Eswatini",
          "Lesotho",
          "Comoros",
          "Yemen",
          "DR Congo",
          "Botswana",
          "Zimbabwe",
          "Malawi",
          "Lebanon",
          "Sierra Leone",
          "Afghanistan"
         ],
         "name": "",
         "type": "choropleth",
         "z": [
          7.736,
          7.521,
          7.515,
          7.345,
          7.306,
          7.274,
          7.262,
          7.234,
          7.122,
          6.979,
          6.974,
          6.952,
          6.935,
          6.91,
          6.889,
          6.829,
          6.81,
          6.803,
          6.792,
          6.775,
          6.759,
          6.753,
          6.728,
          6.724,
          6.711,
          6.673,
          6.669,
          6.661,
          6.659,
          6.629,
          6.606,
          6.6,
          6.593,
          6.565,
          6.563,
          6.494,
          6.492,
          6.466,
          6.417,
          6.415,
          6.407,
          6.397,
          6.378,
          6.362,
          6.361,
          6.352,
          6.33,
          6.316,
          6.222,
          6.221,
          6.207,
          6.197,
          6.193,
          6.172,
          6.147,
          6.136,
          6.107,
          6.038,
          6.03,
          6.013,
          6.004,
          5.965,
          5.964,
          5.955,
          5.947,
          5.945,
          5.942,
          5.921,
          5.915,
          5.905,
          5.877,
          5.87,
          5.87,
          5.868,
          5.858,
          5.846,
          5.833,
          5.832,
          5.82,
          5.819,
          5.776,
          5.683,
          5.617,
          5.571,
          5.554,
          5.503,
          5.494,
          5.491,
          5.411,
          5.411,
          5.4,
          5.311,
          5.301,
          5.262,
          5.213,
          5.19,
          5.12,
          5.102,
          5.093,
          5.03,
          4.976,
          4.929,
          4.911,
          4.887,
          4.885,
          4.875,
          4.856,
          4.78,
          4.768,
          4.725,
          4.68,
          4.622,
          4.552,
          4.542,
          4.51,
          4.461,
          4.423,
          4.389,
          4.384,
          4.383,
          4.357,
          4.347,
          4.345,
          4.341,
          4.34,
          4.321,
          4.315,
          4.31,
          4.277,
          4.157,
          3.912,
          3.898,
          3.891,
          3.851,
          3.817,
          3.8,
          3.774,
          3.757,
          3.754,
          3.561,
          3.469,
          3.438,
          3.396,
          3.26,
          3.188,
          2.998,
          1.364
         ]
        }
       ],
       "layout": {
        "coloraxis": {
         "colorbar": {
          "title": {
           "text": "happiness"
          }
         },
         "colorscale": [
          [
           0,
           "#440154"
          ],
          [
           0.1111111111111111,
           "#482878"
          ],
          [
           0.2222222222222222,
           "#3e4989"
          ],
          [
           0.3333333333333333,
           "#31688e"
          ],
          [
           0.4444444444444444,
           "#26828e"
          ],
          [
           0.5555555555555556,
           "#1f9e89"
          ],
          [
           0.6666666666666666,
           "#35b779"
          ],
          [
           0.7777777777777778,
           "#6ece58"
          ],
          [
           0.8888888888888888,
           "#b5de2b"
          ],
          [
           1,
           "#fde725"
          ]
         ]
        },
        "geo": {
         "center": {},
         "domain": {
          "x": [
           0,
           1
          ],
          "y": [
           0,
           1
          ]
         },
         "showcoastlines": true,
         "showframe": false
        },
        "legend": {
         "tracegroupgap": 0
        },
        "template": {
         "data": {
          "bar": [
           {
            "error_x": {
             "color": "#f2f5fa"
            },
            "error_y": {
             "color": "#f2f5fa"
            },
            "marker": {
             "line": {
              "color": "rgb(17,17,17)",
              "width": 0.5
             },
             "pattern": {
              "fillmode": "overlay",
              "size": 10,
              "solidity": 0.2
             }
            },
            "type": "bar"
           }
          ],
          "barpolar": [
           {
            "marker": {
             "line": {
              "color": "rgb(17,17,17)",
              "width": 0.5
             },
             "pattern": {
              "fillmode": "overlay",
              "size": 10,
              "solidity": 0.2
             }
            },
            "type": "barpolar"
           }
          ],
          "carpet": [
           {
            "aaxis": {
             "endlinecolor": "#A2B1C6",
             "gridcolor": "#506784",
             "linecolor": "#506784",
             "minorgridcolor": "#506784",
             "startlinecolor": "#A2B1C6"
            },
            "baxis": {
             "endlinecolor": "#A2B1C6",
             "gridcolor": "#506784",
             "linecolor": "#506784",
             "minorgridcolor": "#506784",
             "startlinecolor": "#A2B1C6"
            },
            "type": "carpet"
           }
          ],
          "choropleth": [
           {
            "colorbar": {
             "outlinewidth": 0,
             "ticks": ""
            },
            "type": "choropleth"
           }
          ],
          "contour": [
           {
            "colorbar": {
             "outlinewidth": 0,
             "ticks": ""
            },
            "colorscale": [
             [
              0,
              "#0d0887"
             ],
             [
              0.1111111111111111,
              "#46039f"
             ],
             [
              0.2222222222222222,
              "#7201a8"
             ],
             [
              0.3333333333333333,
              "#9c179e"
             ],
             [
              0.4444444444444444,
              "#bd3786"
             ],
             [
              0.5555555555555556,
              "#d8576b"
             ],
             [
              0.6666666666666666,
              "#ed7953"
             ],
             [
              0.7777777777777778,
              "#fb9f3a"
             ],
             [
              0.8888888888888888,
              "#fdca26"
             ],
             [
              1,
              "#f0f921"
             ]
            ],
            "type": "contour"
           }
          ],
          "contourcarpet": [
           {
            "colorbar": {
             "outlinewidth": 0,
             "ticks": ""
            },
            "type": "contourcarpet"
           }
          ],
          "heatmap": [
           {
            "colorbar": {
             "outlinewidth": 0,
             "ticks": ""
            },
            "colorscale": [
             [
              0,
              "#0d0887"
             ],
             [
              0.1111111111111111,
              "#46039f"
             ],
             [
              0.2222222222222222,
              "#7201a8"
             ],
             [
              0.3333333333333333,
              "#9c179e"
             ],
             [
              0.4444444444444444,
              "#bd3786"
             ],
             [
              0.5555555555555556,
              "#d8576b"
             ],
             [
              0.6666666666666666,
              "#ed7953"
             ],
             [
              0.7777777777777778,
              "#fb9f3a"
             ],
             [
              0.8888888888888888,
              "#fdca26"
             ],
             [
              1,
              "#f0f921"
             ]
            ],
            "type": "heatmap"
           }
          ],
          "heatmapgl": [
           {
            "colorbar": {
             "outlinewidth": 0,
             "ticks": ""
            },
            "colorscale": [
             [
              0,
              "#0d0887"
             ],
             [
              0.1111111111111111,
              "#46039f"
             ],
             [
              0.2222222222222222,
              "#7201a8"
             ],
             [
              0.3333333333333333,
              "#9c179e"
             ],
             [
              0.4444444444444444,
              "#bd3786"
             ],
             [
              0.5555555555555556,
              "#d8576b"
             ],
             [
              0.6666666666666666,
              "#ed7953"
             ],
             [
              0.7777777777777778,
              "#fb9f3a"
             ],
             [
              0.8888888888888888,
              "#fdca26"
             ],
             [
              1,
              "#f0f921"
             ]
            ],
            "type": "heatmapgl"
           }
          ],
          "histogram": [
           {
            "marker": {
             "pattern": {
              "fillmode": "overlay",
              "size": 10,
              "solidity": 0.2
             }
            },
            "type": "histogram"
           }
          ],
          "histogram2d": [
           {
            "colorbar": {
             "outlinewidth": 0,
             "ticks": ""
            },
            "colorscale": [
             [
              0,
              "#0d0887"
             ],
             [
              0.1111111111111111,
              "#46039f"
             ],
             [
              0.2222222222222222,
              "#7201a8"
             ],
             [
              0.3333333333333333,
              "#9c179e"
             ],
             [
              0.4444444444444444,
              "#bd3786"
             ],
             [
              0.5555555555555556,
              "#d8576b"
             ],
             [
              0.6666666666666666,
              "#ed7953"
             ],
             [
              0.7777777777777778,
              "#fb9f3a"
             ],
             [
              0.8888888888888888,
              "#fdca26"
             ],
             [
              1,
              "#f0f921"
             ]
            ],
            "type": "histogram2d"
           }
          ],
          "histogram2dcontour": [
           {
            "colorbar": {
             "outlinewidth": 0,
             "ticks": ""
            },
            "colorscale": [
             [
              0,
              "#0d0887"
             ],
             [
              0.1111111111111111,
              "#46039f"
             ],
             [
              0.2222222222222222,
              "#7201a8"
             ],
             [
              0.3333333333333333,
              "#9c179e"
             ],
             [
              0.4444444444444444,
              "#bd3786"
             ],
             [
              0.5555555555555556,
              "#d8576b"
             ],
             [
              0.6666666666666666,
              "#ed7953"
             ],
             [
              0.7777777777777778,
              "#fb9f3a"
             ],
             [
              0.8888888888888888,
              "#fdca26"
             ],
             [
              1,
              "#f0f921"
             ]
            ],
            "type": "histogram2dcontour"
           }
          ],
          "mesh3d": [
           {
            "colorbar": {
             "outlinewidth": 0,
             "ticks": ""
            },
            "type": "mesh3d"
           }
          ],
          "parcoords": [
           {
            "line": {
             "colorbar": {
              "outlinewidth": 0,
              "ticks": ""
             }
            },
            "type": "parcoords"
           }
          ],
          "pie": [
           {
            "automargin": true,
            "type": "pie"
           }
          ],
          "scatter": [
           {
            "marker": {
             "line": {
              "color": "#283442"
             }
            },
            "type": "scatter"
           }
          ],
          "scatter3d": [
           {
            "line": {
             "colorbar": {
              "outlinewidth": 0,
              "ticks": ""
             }
            },
            "marker": {
             "colorbar": {
              "outlinewidth": 0,
              "ticks": ""
             }
            },
            "type": "scatter3d"
           }
          ],
          "scattercarpet": [
           {
            "marker": {
             "colorbar": {
              "outlinewidth": 0,
              "ticks": ""
             }
            },
            "type": "scattercarpet"
           }
          ],
          "scattergeo": [
           {
            "marker": {
             "colorbar": {
              "outlinewidth": 0,
              "ticks": ""
             }
            },
            "type": "scattergeo"
           }
          ],
          "scattergl": [
           {
            "marker": {
             "line": {
              "color": "#283442"
             }
            },
            "type": "scattergl"
           }
          ],
          "scattermapbox": [
           {
            "marker": {
             "colorbar": {
              "outlinewidth": 0,
              "ticks": ""
             }
            },
            "type": "scattermapbox"
           }
          ],
          "scatterpolar": [
           {
            "marker": {
             "colorbar": {
              "outlinewidth": 0,
              "ticks": ""
             }
            },
            "type": "scatterpolar"
           }
          ],
          "scatterpolargl": [
           {
            "marker": {
             "colorbar": {
              "outlinewidth": 0,
              "ticks": ""
             }
            },
            "type": "scatterpolargl"
           }
          ],
          "scatterternary": [
           {
            "marker": {
             "colorbar": {
              "outlinewidth": 0,
              "ticks": ""
             }
            },
            "type": "scatterternary"
           }
          ],
          "surface": [
           {
            "colorbar": {
             "outlinewidth": 0,
             "ticks": ""
            },
            "colorscale": [
             [
              0,
              "#0d0887"
             ],
             [
              0.1111111111111111,
              "#46039f"
             ],
             [
              0.2222222222222222,
              "#7201a8"
             ],
             [
              0.3333333333333333,
              "#9c179e"
             ],
             [
              0.4444444444444444,
              "#bd3786"
             ],
             [
              0.5555555555555556,
              "#d8576b"
             ],
             [
              0.6666666666666666,
              "#ed7953"
             ],
             [
              0.7777777777777778,
              "#fb9f3a"
             ],
             [
              0.8888888888888888,
              "#fdca26"
             ],
             [
              1,
              "#f0f921"
             ]
            ],
            "type": "surface"
           }
          ],
          "table": [
           {
            "cells": {
             "fill": {
              "color": "#506784"
             },
             "line": {
              "color": "rgb(17,17,17)"
             }
            },
            "header": {
             "fill": {
              "color": "#2a3f5f"
             },
             "line": {
              "color": "rgb(17,17,17)"
             }
            },
            "type": "table"
           }
          ]
         },
         "layout": {
          "annotationdefaults": {
           "arrowcolor": "#f2f5fa",
           "arrowhead": 0,
           "arrowwidth": 1
          },
          "autotypenumbers": "strict",
          "coloraxis": {
           "colorbar": {
            "outlinewidth": 0,
            "ticks": ""
           }
          },
          "colorscale": {
           "diverging": [
            [
             0,
             "#8e0152"
            ],
            [
             0.1,
             "#c51b7d"
            ],
            [
             0.2,
             "#de77ae"
            ],
            [
             0.3,
             "#f1b6da"
            ],
            [
             0.4,
             "#fde0ef"
            ],
            [
             0.5,
             "#f7f7f7"
            ],
            [
             0.6,
             "#e6f5d0"
            ],
            [
             0.7,
             "#b8e186"
            ],
            [
             0.8,
             "#7fbc41"
            ],
            [
             0.9,
             "#4d9221"
            ],
            [
             1,
             "#276419"
            ]
           ],
           "sequential": [
            [
             0,
             "#0d0887"
            ],
            [
             0.1111111111111111,
             "#46039f"
            ],
            [
             0.2222222222222222,
             "#7201a8"
            ],
            [
             0.3333333333333333,
             "#9c179e"
            ],
            [
             0.4444444444444444,
             "#bd3786"
            ],
            [
             0.5555555555555556,
             "#d8576b"
            ],
            [
             0.6666666666666666,
             "#ed7953"
            ],
            [
             0.7777777777777778,
             "#fb9f3a"
            ],
            [
             0.8888888888888888,
             "#fdca26"
            ],
            [
             1,
             "#f0f921"
            ]
           ],
           "sequentialminus": [
            [
             0,
             "#0d0887"
            ],
            [
             0.1111111111111111,
             "#46039f"
            ],
            [
             0.2222222222222222,
             "#7201a8"
            ],
            [
             0.3333333333333333,
             "#9c179e"
            ],
            [
             0.4444444444444444,
             "#bd3786"
            ],
            [
             0.5555555555555556,
             "#d8576b"
            ],
            [
             0.6666666666666666,
             "#ed7953"
            ],
            [
             0.7777777777777778,
             "#fb9f3a"
            ],
            [
             0.8888888888888888,
             "#fdca26"
            ],
            [
             1,
             "#f0f921"
            ]
           ]
          },
          "colorway": [
           "#636efa",
           "#EF553B",
           "#00cc96",
           "#ab63fa",
           "#FFA15A",
           "#19d3f3",
           "#FF6692",
           "#B6E880",
           "#FF97FF",
           "#FECB52"
          ],
          "font": {
           "color": "#f2f5fa"
          },
          "geo": {
           "bgcolor": "rgb(17,17,17)",
           "lakecolor": "rgb(17,17,17)",
           "landcolor": "rgb(17,17,17)",
           "showlakes": true,
           "showland": true,
           "subunitcolor": "#506784"
          },
          "hoverlabel": {
           "align": "left"
          },
          "hovermode": "closest",
          "mapbox": {
           "style": "dark"
          },
          "paper_bgcolor": "rgb(17,17,17)",
          "plot_bgcolor": "rgb(17,17,17)",
          "polar": {
           "angularaxis": {
            "gridcolor": "#506784",
            "linecolor": "#506784",
            "ticks": ""
           },
           "bgcolor": "rgb(17,17,17)",
           "radialaxis": {
            "gridcolor": "#506784",
            "linecolor": "#506784",
            "ticks": ""
           }
          },
          "scene": {
           "xaxis": {
            "backgroundcolor": "rgb(17,17,17)",
            "gridcolor": "#506784",
            "gridwidth": 2,
            "linecolor": "#506784",
            "showbackground": true,
            "ticks": "",
            "zerolinecolor": "#C8D4E3"
           },
           "yaxis": {
            "backgroundcolor": "rgb(17,17,17)",
            "gridcolor": "#506784",
            "gridwidth": 2,
            "linecolor": "#506784",
            "showbackground": true,
            "ticks": "",
            "zerolinecolor": "#C8D4E3"
           },
           "zaxis": {
            "backgroundcolor": "rgb(17,17,17)",
            "gridcolor": "#506784",
            "gridwidth": 2,
            "linecolor": "#506784",
            "showbackground": true,
            "ticks": "",
            "zerolinecolor": "#C8D4E3"
           }
          },
          "shapedefaults": {
           "line": {
            "color": "#f2f5fa"
           }
          },
          "sliderdefaults": {
           "bgcolor": "#C8D4E3",
           "bordercolor": "rgb(17,17,17)",
           "borderwidth": 1,
           "tickwidth": 0
          },
          "ternary": {
           "aaxis": {
            "gridcolor": "#506784",
            "linecolor": "#506784",
            "ticks": ""
           },
           "baxis": {
            "gridcolor": "#506784",
            "linecolor": "#506784",
            "ticks": ""
           },
           "bgcolor": "rgb(17,17,17)",
           "caxis": {
            "gridcolor": "#506784",
            "linecolor": "#506784",
            "ticks": ""
           }
          },
          "title": {
           "x": 0.05
          },
          "updatemenudefaults": {
           "bgcolor": "#506784",
           "borderwidth": 0
          },
          "xaxis": {
           "automargin": true,
           "gridcolor": "#283442",
           "linecolor": "#506784",
           "ticks": "",
           "title": {
            "standoff": 15
           },
           "zerolinecolor": "#283442",
           "zerolinewidth": 2
          },
          "yaxis": {
           "automargin": true,
           "gridcolor": "#283442",
           "linecolor": "#506784",
           "ticks": "",
           "title": {
            "standoff": 15
           },
           "zerolinecolor": "#283442",
           "zerolinewidth": 2
          }
         }
        },
        "title": {
         "text": "World Happiness (Happiness Score) - 2024"
        }
       }
      }
     },
     "metadata": {},
     "output_type": "display_data"
    }
   ],
   "source": [
    "fig = px.choropleth(\n",
    "    happy,\n",
    "    locations='Country name',\n",
    "    locationmode='country names',\n",
    "    color='happiness',\n",
    "    title='World Happiness (Happiness Score) - 2024',\n",
    "    color_continuous_scale='Viridis',\n",
    "    template='plotly_dark' \n",
    ")\n",
    "fig.update_layout(\n",
    "    geo=dict(showframe=False, showcoastlines=True)\n",
    ")\n",
    "fig.show()\n"
   ]
  },
  {
   "cell_type": "code",
   "execution_count": 12,
   "metadata": {},
   "outputs": [
    {
     "data": {
      "application/vnd.plotly.v1+json": {
       "config": {
        "plotlyServerURL": "https://plot.ly"
       },
       "data": [
        {
         "coloraxis": "coloraxis",
         "geo": "geo",
         "hovertemplate": "animation_frame=2024-01-01<br>country=%{location}<br>streams_per_capita=%{z}<extra></extra>",
         "locationmode": "country names",
         "locations": [
          "Australia",
          "Brazil",
          "Egypt",
          "Finland",
          "Germany",
          "Greece",
          "India",
          "Japan",
          "Nigeria",
          "South Africa",
          "Spain",
          "Sweden",
          "Ukraine",
          "United Kingdom",
          "United States"
         ],
         "name": "",
         "type": "choropleth",
         "z": [
          0.4220084870848709,
          0.39749775388605907,
          0.029114880673702662,
          0.394781752805402,
          0.21449889856413723,
          0.35222495145631066,
          0.032576284859796925,
          0.10496603208036293,
          0.023060540231046443,
          0.06950181475589602,
          0.34644424723324285,
          0.45209866666666665,
          0.04120123172137613,
          0.24712610196505808,
          0.049601793518061814
         ]
        }
       ],
       "frames": [
        {
         "data": [
          {
           "coloraxis": "coloraxis",
           "geo": "geo",
           "hovertemplate": "animation_frame=2024-01-01<br>country=%{location}<br>streams_per_capita=%{z}<extra></extra>",
           "locationmode": "country names",
           "locations": [
            "Australia",
            "Brazil",
            "Egypt",
            "Finland",
            "Germany",
            "Greece",
            "India",
            "Japan",
            "Nigeria",
            "South Africa",
            "Spain",
            "Sweden",
            "Ukraine",
            "United Kingdom",
            "United States"
           ],
           "name": "",
           "type": "choropleth",
           "z": [
            0.4220084870848709,
            0.39749775388605907,
            0.029114880673702662,
            0.394781752805402,
            0.21449889856413723,
            0.35222495145631066,
            0.032576284859796925,
            0.10496603208036293,
            0.023060540231046443,
            0.06950181475589602,
            0.34644424723324285,
            0.45209866666666665,
            0.04120123172137613,
            0.24712610196505808,
            0.049601793518061814
           ]
          }
         ],
         "name": "2024-01-01"
        },
        {
         "data": [
          {
           "coloraxis": "coloraxis",
           "geo": "geo",
           "hovertemplate": "animation_frame=2024-01-02<br>country=%{location}<br>streams_per_capita=%{z}<extra></extra>",
           "locationmode": "country names",
           "locations": [
            "Australia",
            "Brazil",
            "Egypt",
            "Finland",
            "Germany",
            "Greece",
            "India",
            "Japan",
            "Nigeria",
            "South Africa",
            "Spain",
            "Sweden",
            "Ukraine",
            "United Kingdom",
            "United States"
           ],
           "name": "",
           "type": "choropleth",
           "z": [
            0.4859970479704797,
            0.27618389000620264,
            0.029132149319801817,
            0.46920331460848513,
            0.2503889571429416,
            0.3826970873786408,
            0.03307076215605339,
            0.12239319507453014,
            0.021433721498097066,
            0.04733059446769734,
            0.44677185216120274,
            0.5266744761904762,
            0.043364783690310056,
            0.28941121384393625,
            0.0580890288672473
           ]
          }
         ],
         "name": "2024-01-02"
        },
        {
         "data": [
          {
           "coloraxis": "coloraxis",
           "geo": "geo",
           "hovertemplate": "animation_frame=2024-01-03<br>country=%{location}<br>streams_per_capita=%{z}<extra></extra>",
           "locationmode": "country names",
           "locations": [
            "Australia",
            "Brazil",
            "Egypt",
            "Finland",
            "Germany",
            "Greece",
            "India",
            "Japan",
            "Nigeria",
            "South Africa",
            "Spain",
            "Sweden",
            "Ukraine",
            "United Kingdom",
            "United States"
           ],
           "name": "",
           "type": "choropleth",
           "z": [
            0.4938078966789668,
            0.2785049621261959,
            0.02900042042402523,
            0.47749817111289444,
            0.2562691102072326,
            0.37915757281553397,
            0.03279723186540144,
            0.12892816753078418,
            0.021266398066754236,
            0.0455950082629311,
            0.4513107746920025,
            0.5222485714285714,
            0.045580122565378314,
            0.30503665490865195,
            0.06122528155426722
           ]
          }
         ],
         "name": "2024-01-03"
        },
        {
         "data": [
          {
           "coloraxis": "coloraxis",
           "geo": "geo",
           "hovertemplate": "animation_frame=2024-01-04<br>country=%{location}<br>streams_per_capita=%{z}<extra></extra>",
           "locationmode": "country names",
           "locations": [
            "Australia",
            "Brazil",
            "Egypt",
            "Finland",
            "Germany",
            "Greece",
            "India",
            "Japan",
            "Nigeria",
            "South Africa",
            "Spain",
            "Sweden",
            "Ukraine",
            "United Kingdom",
            "United States"
           ],
           "name": "",
           "type": "choropleth",
           "z": [
            0.5066832472324724,
            0.27887502584440726,
            0.031172767007093146,
            0.49028734587469575,
            0.26169677348982434,
            0.3833820388349515,
            0.032949301834796135,
            0.14186126863253404,
            0.02103914906874137,
            0.04605425734010842,
            0.46118413029860095,
            0.5180089523809523,
            0.04641705600388326,
            0.31040083683036845,
            0.06230195067969989
           ]
          }
         ],
         "name": "2024-01-04"
        },
        {
         "data": [
          {
           "coloraxis": "coloraxis",
           "geo": "geo",
           "hovertemplate": "animation_frame=2024-01-05<br>country=%{location}<br>streams_per_capita=%{z}<extra></extra>",
           "locationmode": "country names",
           "locations": [
            "Australia",
            "Brazil",
            "Egypt",
            "Finland",
            "Germany",
            "Greece",
            "India",
            "Japan",
            "Nigeria",
            "South Africa",
            "Spain",
            "Sweden",
            "Ukraine",
            "United Kingdom",
            "United States"
           ],
           "name": "",
           "type": "choropleth",
           "z": [
            0.5203219926199262,
            0.2962884329831025,
            0.028837383255714593,
            0.7241417531600952,
            0.32098189899649665,
            0.4003971844660194,
            0.0331705485777749,
            0.14164609526895658,
            0.022092481728469907,
            0.05062370457318486,
            0.47229421591146376,
            0.6434600952380952,
            0.047697530489654756,
            0.3320126801340343,
            0.06663976113585604
           ]
          }
         ],
         "name": "2024-01-05"
        },
        {
         "data": [
          {
           "coloraxis": "coloraxis",
           "geo": "geo",
           "hovertemplate": "animation_frame=2024-01-06<br>country=%{location}<br>streams_per_capita=%{z}<extra></extra>",
           "locationmode": "country names",
           "locations": [
            "Australia",
            "Brazil",
            "Egypt",
            "Finland",
            "Germany",
            "Greece",
            "India",
            "Japan",
            "Nigeria",
            "South Africa",
            "Spain",
            "Sweden",
            "Ukraine",
            "United Kingdom",
            "United States"
           ],
           "name": "",
           "type": "choropleth",
           "z": [
            0.4979438745387454,
            0.3443874687517621,
            0.030167182304284893,
            0.6424229096374592,
            0.28110527953654935,
            0.37946708737864077,
            0.03452205408614624,
            0.14249350291639662,
            0.022163866996733016,
            0.059499451712048436,
            0.389199582376279,
            0.5950312380952381,
            0.04513573205509375,
            0.32210186304417526,
            0.06465051637790661
           ]
          }
         ],
         "name": "2024-01-06"
        },
        {
         "data": [
          {
           "coloraxis": "coloraxis",
           "geo": "geo",
           "hovertemplate": "animation_frame=2024-01-07<br>country=%{location}<br>streams_per_capita=%{z}<extra></extra>",
           "locationmode": "country names",
           "locations": [
            "Australia",
            "Brazil",
            "Egypt",
            "Finland",
            "Germany",
            "Greece",
            "India",
            "Japan",
            "Nigeria",
            "South Africa",
            "Spain",
            "Sweden",
            "Ukraine",
            "United Kingdom",
            "United States"
           ],
           "name": "",
           "type": "choropleth",
           "z": [
            0.4797281180811808,
            0.30726204349378794,
            0.02901276056642632,
            0.5603614324287177,
            0.23293095157686727,
            0.34690077669902913,
            0.03361585657017766,
            0.1383573476992871,
            0.019727455289481662,
            0.046009019722921526,
            0.40784673209438294,
            0.5181757142857143,
            0.0423387537164007,
            0.2926853853183105,
            0.05874620257784791
           ]
          }
         ],
         "name": "2024-01-07"
        },
        {
         "data": [
          {
           "coloraxis": "coloraxis",
           "geo": "geo",
           "hovertemplate": "animation_frame=2024-01-08<br>country=%{location}<br>streams_per_capita=%{z}<extra></extra>",
           "locationmode": "country names",
           "locations": [
            "Australia",
            "Brazil",
            "Egypt",
            "Finland",
            "Germany",
            "Greece",
            "India",
            "Japan",
            "Nigeria",
            "South Africa",
            "Spain",
            "Sweden",
            "Ukraine",
            "United Kingdom",
            "United States"
           ],
           "name": "",
           "type": "choropleth",
           "z": [
            0.5060152398523985,
            0.2694178946675939,
            0.028548829749928763,
            0.6635835546471467,
            0.26191424576614836,
            0.3701504854368932,
            0.03286601609302062,
            0.14941068535320803,
            0.02020640934963457,
            0.045496192873801106,
            0.450747984965546,
            0.5703967619047619,
            0.04466649475153207,
            0.31806283637101296,
            0.06383982513378839
           ]
          }
         ],
         "name": "2024-01-08"
        },
        {
         "data": [
          {
           "coloraxis": "coloraxis",
           "geo": "geo",
           "hovertemplate": "animation_frame=2024-01-09<br>country=%{location}<br>streams_per_capita=%{z}<extra></extra>",
           "locationmode": "country names",
           "locations": [
            "Australia",
            "Brazil",
            "Egypt",
            "Finland",
            "Germany",
            "Greece",
            "India",
            "Japan",
            "Nigeria",
            "South Africa",
            "Spain",
            "Sweden",
            "Ukraine",
            "United Kingdom",
            "United States"
           ],
           "name": "",
           "type": "choropleth",
           "z": [
            0.5337060885608856,
            0.2780920906715787,
            0.028214994436219727,
            0.6547410517541798,
            0.26990041275330867,
            0.3698496116504854,
            0.03321880010778776,
            0.14222013123784835,
            0.020630245697349364,
            0.04523909988107557,
            0.4564011275840468,
            0.5912678095238095,
            0.04562663066561495,
            0.3270593077653948,
            0.06564554744699987
           ]
          }
         ],
         "name": "2024-01-09"
        },
        {
         "data": [
          {
           "coloraxis": "coloraxis",
           "geo": "geo",
           "hovertemplate": "animation_frame=2024-01-10<br>country=%{location}<br>streams_per_capita=%{z}<extra></extra>",
           "locationmode": "country names",
           "locations": [
            "Australia",
            "Brazil",
            "Egypt",
            "Finland",
            "Germany",
            "Greece",
            "India",
            "Japan",
            "Nigeria",
            "South Africa",
            "Spain",
            "Sweden",
            "Ukraine",
            "United Kingdom",
            "United States"
           ],
           "name": "",
           "type": "choropleth",
           "z": [
            0.5319324354243542,
            0.2806436479145913,
            0.028103772647784513,
            0.644669182033013,
            0.26799814370040465,
            0.3639796116504854,
            0.03371398068692002,
            0.14022564808813998,
            0.02094927755885622,
            0.044442275317775344,
            0.4425591146377114,
            0.5908194285714286,
            0.04693962744979067,
            0.3272675397507389,
            0.06568734262710736
           ]
          }
         ],
         "name": "2024-01-10"
        },
        {
         "data": [
          {
           "coloraxis": "coloraxis",
           "geo": "geo",
           "hovertemplate": "animation_frame=2024-01-11<br>country=%{location}<br>streams_per_capita=%{z}<extra></extra>",
           "locationmode": "country names",
           "locations": [
            "Australia",
            "Brazil",
            "Egypt",
            "Finland",
            "Germany",
            "Greece",
            "India",
            "Japan",
            "Nigeria",
            "South Africa",
            "Spain",
            "Sweden",
            "Ukraine",
            "United Kingdom",
            "United States"
           ],
           "name": "",
           "type": "choropleth",
           "z": [
            0.5383545387453874,
            0.2798355026972163,
            0.03067481818518539,
            0.6483012409830323,
            0.27202940542091086,
            0.39691815533980584,
            0.03364532432891462,
            0.13955979423201556,
            0.021063276750530463,
            0.045178432977589694,
            0.47625013572770936,
            0.5957717142857143,
            0.04774067107578424,
            0.3315477434486431,
            0.06654644159864662
           ]
          }
         ],
         "name": "2024-01-11"
        },
        {
         "data": [
          {
           "coloraxis": "coloraxis",
           "geo": "geo",
           "hovertemplate": "animation_frame=2024-01-12<br>country=%{location}<br>streams_per_capita=%{z}<extra></extra>",
           "locationmode": "country names",
           "locations": [
            "Australia",
            "Brazil",
            "Egypt",
            "Finland",
            "Germany",
            "Greece",
            "India",
            "Japan",
            "Nigeria",
            "South Africa",
            "Spain",
            "Sweden",
            "Ukraine",
            "United Kingdom",
            "United States"
           ],
           "name": "",
           "type": "choropleth",
           "z": [
            0.5620668634686347,
            0.3097661832979343,
            0.027067927687596388,
            0.7617901368672605,
            0.3522215024609158,
            0.5645397087378641,
            0.0347956551863155,
            0.13494014095917045,
            0.022980259169445287,
            0.05911180440792624,
            0.5368194612653999,
            0.7290199047619048,
            0.05021606698622656,
            0.38058878571660126,
            0.0763896901796069
           ]
          }
         ],
         "name": "2024-01-12"
        },
        {
         "data": [
          {
           "coloraxis": "coloraxis",
           "geo": "geo",
           "hovertemplate": "animation_frame=2024-01-13<br>country=%{location}<br>streams_per_capita=%{z}<extra></extra>",
           "locationmode": "country names",
           "locations": [
            "Australia",
            "Brazil",
            "Egypt",
            "Finland",
            "Germany",
            "Greece",
            "India",
            "Japan",
            "Nigeria",
            "South Africa",
            "Spain",
            "Sweden",
            "Ukraine",
            "United Kingdom",
            "United States"
           ],
           "name": "",
           "type": "choropleth",
           "z": [
            0.5253875645756457,
            0.3395021944251264,
            0.027197636085688325,
            0.6513076210279898,
            0.3080689694576339,
            0.5104295145631068,
            0.03629136668283406,
            0.14105985904082954,
            0.023940891179145194,
            0.05890436622546218,
            0.5052389016496137,
            0.6528289523809524,
            0.04858524968145137,
            0.3584354660072893,
            0.07194319755408785
           ]
          }
         ],
         "name": "2024-01-13"
        },
        {
         "data": [
          {
           "coloraxis": "coloraxis",
           "geo": "geo",
           "hovertemplate": "animation_frame=2024-01-14<br>country=%{location}<br>streams_per_capita=%{z}<extra></extra>",
           "locationmode": "country names",
           "locations": [
            "Australia",
            "Brazil",
            "Egypt",
            "Finland",
            "Germany",
            "Greece",
            "India",
            "Japan",
            "Nigeria",
            "South Africa",
            "Spain",
            "Sweden",
            "Ukraine",
            "United Kingdom",
            "United States"
           ],
           "name": "",
           "type": "choropleth",
           "z": [
            0.5092112177121771,
            0.30543216078040714,
            0.026374642059157547,
            0.5448771209548342,
            0.24194122855715097,
            0.4357234951456311,
            0.03470419885120784,
            0.15126890797148412,
            0.020511783873901183,
            0.04671090552458029,
            0.4132215702651911,
            0.5347560952380952,
            0.0453299557065712,
            0.3188100544744542,
            0.06398980264642318
           ]
          }
         ],
         "name": "2024-01-14"
        },
        {
         "data": [
          {
           "coloraxis": "coloraxis",
           "geo": "geo",
           "hovertemplate": "animation_frame=2024-01-15<br>country=%{location}<br>streams_per_capita=%{z}<extra></extra>",
           "locationmode": "country names",
           "locations": [
            "Australia",
            "Brazil",
            "Egypt",
            "Finland",
            "Germany",
            "Greece",
            "India",
            "Japan",
            "Nigeria",
            "South Africa",
            "Spain",
            "Sweden",
            "Ukraine",
            "United Kingdom",
            "United States"
           ],
           "name": "",
           "type": "choropleth",
           "z": [
            0.5414961623616236,
            0.2724314747288687,
            0.028581525934423764,
            0.6360192775785092,
            0.28172426947279267,
            0.44695893203883497,
            0.033454420495309084,
            0.14317909915748542,
            0.02145259085244687,
            0.04751566867962995,
            0.4791863854666945,
            0.60287,
            0.049397336326679205,
            0.3477407796407684,
            0.06979661886137004
           ]
          }
         ],
         "name": "2024-01-15"
        },
        {
         "data": [
          {
           "coloraxis": "coloraxis",
           "geo": "geo",
           "hovertemplate": "animation_frame=2024-01-16<br>country=%{location}<br>streams_per_capita=%{z}<extra></extra>",
           "locationmode": "country names",
           "locations": [
            "Australia",
            "Brazil",
            "Egypt",
            "Finland",
            "Germany",
            "Greece",
            "India",
            "Japan",
            "Nigeria",
            "South Africa",
            "Spain",
            "Sweden",
            "Ukraine",
            "United Kingdom",
            "United States"
           ],
           "name": "",
           "type": "choropleth",
           "z": [
            0.5487390774907749,
            0.2842910409187452,
            0.02983311095112672,
            0.6165599187752442,
            0.28313739046529063,
            0.4765285436893204,
            0.0328485123928246,
            0.1409451231367466,
            0.021939964972550605,
            0.045399462523360155,
            0.49402476508665694,
            0.5981938095238095,
            0.050336781748680295,
            0.35088059277750105,
            0.07042682490458085
           ]
          }
         ],
         "name": "2024-01-16"
        },
        {
         "data": [
          {
           "coloraxis": "coloraxis",
           "geo": "geo",
           "hovertemplate": "animation_frame=2024-01-17<br>country=%{location}<br>streams_per_capita=%{z}<extra></extra>",
           "locationmode": "country names",
           "locations": [
            "Australia",
            "Brazil",
            "Egypt",
            "Finland",
            "Germany",
            "Greece",
            "India",
            "Japan",
            "Nigeria",
            "South Africa",
            "Spain",
            "Sweden",
            "Ukraine",
            "United Kingdom",
            "United States"
           ],
           "name": "",
           "type": "choropleth",
           "z": [
            0.5445876014760147,
            0.273391054075898,
            0.030255168369346674,
            0.6213929690929163,
            0.26851491412687506,
            0.45352873786407766,
            0.033368683231798396,
            0.14438871516526247,
            0.022273504597352733,
            0.0404341204997915,
            0.49097237419085404,
            0.5898507619047619,
            0.050823615071900974,
            0.3476292440560755,
            0.06977423205156782
           ]
          }
         ],
         "name": "2024-01-17"
        },
        {
         "data": [
          {
           "coloraxis": "coloraxis",
           "geo": "geo",
           "hovertemplate": "animation_frame=2024-01-18<br>country=%{location}<br>streams_per_capita=%{z}<extra></extra>",
           "locationmode": "country names",
           "locations": [
            "Australia",
            "Brazil",
            "Egypt",
            "Finland",
            "Germany",
            "Greece",
            "India",
            "Japan",
            "Nigeria",
            "South Africa",
            "Spain",
            "Sweden",
            "Ukraine",
            "United Kingdom",
            "United States"
           ],
           "name": "",
           "type": "choropleth",
           "z": [
            0.555821033210332,
            0.26615017950115594,
            0.03108874640477693,
            0.6438384904254989,
            0.275886315915756,
            0.47466300970873787,
            0.03305072856242345,
            0.14250852235904082,
            0.021866891482267354,
            0.04151812439186372,
            0.4905673627062017,
            0.6131340952380953,
            0.05086608822280202,
            0.3458865847755626,
            0.0694244550546541
           ]
          }
         ],
         "name": "2024-01-18"
        },
        {
         "data": [
          {
           "coloraxis": "coloraxis",
           "geo": "geo",
           "hovertemplate": "animation_frame=2024-01-19<br>country=%{location}<br>streams_per_capita=%{z}<extra></extra>",
           "locationmode": "country names",
           "locations": [
            "Australia",
            "Brazil",
            "Egypt",
            "Finland",
            "Germany",
            "Greece",
            "India",
            "Japan",
            "Nigeria",
            "South Africa",
            "Spain",
            "Sweden",
            "Ukraine",
            "United Kingdom",
            "United States"
           ],
           "name": "",
           "type": "choropleth",
           "z": [
            0.5782902583025831,
            0.2936477172339906,
            0.029026847400751052,
            0.8159439939347453,
            0.34679458120028944,
            0.5186186407766991,
            0.032959430345655405,
            0.13576924011665586,
            0.023014857195783233,
            0.05202035615549755,
            0.601681687199833,
            0.8199766666666667,
            0.0527477701595777,
            0.38015046581048334,
            0.07630171301610521
           ]
          }
         ],
         "name": "2024-01-19"
        },
        {
         "data": [
          {
           "coloraxis": "coloraxis",
           "geo": "geo",
           "hovertemplate": "animation_frame=2024-01-20<br>country=%{location}<br>streams_per_capita=%{z}<extra></extra>",
           "locationmode": "country names",
           "locations": [
            "Australia",
            "Brazil",
            "Egypt",
            "Finland",
            "Germany",
            "Greece",
            "India",
            "Japan",
            "Nigeria",
            "South Africa",
            "Spain",
            "Sweden",
            "Ukraine",
            "United Kingdom",
            "United States"
           ],
           "name": "",
           "type": "choropleth",
           "z": [
            0.5383814760147602,
            0.32585909159257936,
            0.030606310095466722,
            0.6842994143127596,
            0.30356305304123804,
            0.5019527184466019,
            0.03413727791897654,
            0.14382686325340246,
            0.023633116937792596,
            0.06096985188502942,
            0.5496144080183755,
            0.7047227619047619,
            0.052126752017474666,
            0.3591635674916047,
            0.07208933808395511
           ]
          }
         ],
         "name": "2024-01-20"
        },
        {
         "data": [
          {
           "coloraxis": "coloraxis",
           "geo": "geo",
           "hovertemplate": "animation_frame=2024-01-21<br>country=%{location}<br>streams_per_capita=%{z}<extra></extra>",
           "locationmode": "country names",
           "locations": [
            "Australia",
            "Brazil",
            "Egypt",
            "Finland",
            "Germany",
            "Greece",
            "India",
            "Japan",
            "Nigeria",
            "South Africa",
            "Spain",
            "Sweden",
            "Ukraine",
            "United Kingdom",
            "United States"
           ],
           "name": "",
           "type": "choropleth",
           "z": [
            0.5220107011070111,
            0.2823184406894348,
            0.030624249093601435,
            0.5625190315100622,
            0.24042183087026323,
            0.4276368932038835,
            0.03331940599499113,
            0.15029479099157486,
            0.020474407227779462,
            0.046903300539021114,
            0.4381871163082063,
            0.5710026666666667,
            0.04760375584005825,
            0.3187015218835703,
            0.06396801858104037
           ]
          }
         ],
         "name": "2024-01-21"
        },
        {
         "data": [
          {
           "coloraxis": "coloraxis",
           "geo": "geo",
           "hovertemplate": "animation_frame=2024-01-22<br>country=%{location}<br>streams_per_capita=%{z}<extra></extra>",
           "locationmode": "country names",
           "locations": [
            "Australia",
            "Brazil",
            "Egypt",
            "Finland",
            "Germany",
            "Greece",
            "India",
            "Japan",
            "Nigeria",
            "South Africa",
            "Spain",
            "Sweden",
            "Ukraine",
            "United Kingdom",
            "United States"
           ],
           "name": "",
           "type": "choropleth",
           "z": [
            0.5524054981549815,
            0.2572260680788677,
            0.029767123762724876,
            0.6281394121846001,
            0.2811574963403357,
            0.43054776699029124,
            0.03136491894836037,
            0.14318599319507452,
            0.020293552760095653,
            0.04070553075818185,
            0.4988224263938192,
            0.6690322857142857,
            0.05085028214307384,
            0.34588069597794685,
            0.0694232730875487
           ]
          }
         ],
         "name": "2024-01-22"
        },
        {
         "data": [
          {
           "coloraxis": "coloraxis",
           "geo": "geo",
           "hovertemplate": "animation_frame=2024-01-23<br>country=%{location}<br>streams_per_capita=%{z}<extra></extra>",
           "locationmode": "country names",
           "locations": [
            "Australia",
            "Brazil",
            "Egypt",
            "Finland",
            "Germany",
            "Greece",
            "India",
            "Japan",
            "Nigeria",
            "South Africa",
            "Spain",
            "Sweden",
            "Ukraine",
            "United Kingdom",
            "United States"
           ],
           "name": "",
           "type": "choropleth",
           "z": [
            0.5692967527675277,
            0.2570674445050091,
            0.03107751092699782,
            0.6282275534589243,
            0.2843402918477709,
            0.4394745631067961,
            0.031545420657631995,
            0.14189083765392094,
            0.020930020881748678,
            0.04192808933232428,
            0.5147627062017123,
            0.6901550476190477,
            0.04956977731933742,
            0.3548314779201804,
            0.07121982486493497
           ]
          }
         ],
         "name": "2024-01-23"
        },
        {
         "data": [
          {
           "coloraxis": "coloraxis",
           "geo": "geo",
           "hovertemplate": "animation_frame=2024-01-24<br>country=%{location}<br>streams_per_capita=%{z}<extra></extra>",
           "locationmode": "country names",
           "locations": [
            "Australia",
            "Brazil",
            "Egypt",
            "Finland",
            "Germany",
            "Greece",
            "India",
            "Japan",
            "Nigeria",
            "South Africa",
            "Spain",
            "Sweden",
            "Ukraine",
            "United Kingdom",
            "United States"
           ],
           "name": "",
           "type": "choropleth",
           "z": [
            0.5699283025830258,
            0.26077115012311336,
            0.03402440680005483,
            0.6251509441491131,
            0.28161802868269153,
            0.42946485436893206,
            0.03244941001661422,
            0.14139464517174336,
            0.020578323397662593,
            0.04274236644168842,
            0.5061446230945917,
            0.6862141904761905,
            0.051417844790971425,
            0.3561186489592378,
            0.07147817876439794
           ]
          }
         ],
         "name": "2024-01-24"
        },
        {
         "data": [
          {
           "coloraxis": "coloraxis",
           "geo": "geo",
           "hovertemplate": "animation_frame=2024-01-25<br>country=%{location}<br>streams_per_capita=%{z}<extra></extra>",
           "locationmode": "country names",
           "locations": [
            "Australia",
            "Brazil",
            "Egypt",
            "Finland",
            "Germany",
            "Greece",
            "India",
            "Japan",
            "Nigeria",
            "South Africa",
            "Spain",
            "Sweden",
            "Ukraine",
            "United Kingdom",
            "United States"
           ],
           "name": "",
           "type": "choropleth",
           "z": [
            0.5600321771217712,
            0.26940627408228857,
            0.03422898691141427,
            0.6325131347346673,
            0.2869018234806819,
            0.4365906796116505,
            0.0330893472481982,
            0.1438042935839274,
            0.022098009497827625,
            0.04525664509552566,
            0.5115480893714763,
            0.6956778095238095,
            0.05044047691280869,
            0.3573224100141552,
            0.07171979107008446
           ]
          }
         ],
         "name": "2024-01-25"
        },
        {
         "data": [
          {
           "coloraxis": "coloraxis",
           "geo": "geo",
           "hovertemplate": "animation_frame=2024-01-26<br>country=%{location}<br>streams_per_capita=%{z}<extra></extra>",
           "locationmode": "country names",
           "locations": [
            "Australia",
            "Brazil",
            "Egypt",
            "Finland",
            "Germany",
            "Greece",
            "India",
            "Japan",
            "Nigeria",
            "South Africa",
            "Spain",
            "Sweden",
            "Ukraine",
            "United Kingdom",
            "United States"
           ],
           "name": "",
           "type": "choropleth",
           "z": [
            0.5823356826568266,
            0.2955451854218747,
            0.030399539538019247,
            0.8305053935543368,
            0.34336539849607467,
            0.4751904854368932,
            0.031494729292891675,
            0.13799624108878808,
            0.0234243668114917,
            0.05726890821196349,
            0.578834975986636,
            0.8686730476190476,
            0.052770220253625384,
            0.38049775838231154,
            0.0763714196731568
           ]
          }
         ],
         "name": "2024-01-26"
        },
        {
         "data": [
          {
           "coloraxis": "coloraxis",
           "geo": "geo",
           "hovertemplate": "animation_frame=2024-01-27<br>country=%{location}<br>streams_per_capita=%{z}<extra></extra>",
           "locationmode": "country names",
           "locations": [
            "Australia",
            "Brazil",
            "Egypt",
            "Finland",
            "Germany",
            "Greece",
            "India",
            "Japan",
            "Nigeria",
            "South Africa",
            "Spain",
            "Sweden",
            "Ukraine",
            "United Kingdom",
            "United States"
           ],
           "name": "",
           "type": "choropleth",
           "z": [
            0.5038317343173432,
            0.3301118780895814,
            0.031720029190715426,
            0.7086714520698568,
            0.3119840927724691,
            0.47495902912621357,
            0.033098685167359365,
            0.1495903758911212,
            0.02382745192145768,
            0.06381949742845228,
            0.5332944247233243,
            0.7928819047619048,
            0.05207766519021904,
            0.3674825488339163,
            0.07375907831592904
           ]
          }
         ],
         "name": "2024-01-27"
        },
        {
         "data": [
          {
           "coloraxis": "coloraxis",
           "geo": "geo",
           "hovertemplate": "animation_frame=2024-01-28<br>country=%{location}<br>streams_per_capita=%{z}<extra></extra>",
           "locationmode": "country names",
           "locations": [
            "Australia",
            "Brazil",
            "Egypt",
            "Finland",
            "Germany",
            "Greece",
            "India",
            "Japan",
            "Nigeria",
            "South Africa",
            "Spain",
            "Sweden",
            "Ukraine",
            "United Kingdom",
            "United States"
           ],
           "name": "",
           "type": "choropleth",
           "z": [
            0.5510135793357933,
            0.27342130143037047,
            0.029879667372075282,
            0.5639186511015443,
            0.2494853778468002,
            0.40418058252427186,
            0.032631921203741115,
            0.15398903110823073,
            0.02046651763160554,
            0.04916609263749672,
            0.4436953017331384,
            0.6341523809523809,
            0.04771494448152418,
            0.32301228287457523,
            0.06483325084457431
           ]
          }
         ],
         "name": "2024-01-28"
        },
        {
         "data": [
          {
           "coloraxis": "coloraxis",
           "geo": "geo",
           "hovertemplate": "animation_frame=2024-01-29<br>country=%{location}<br>streams_per_capita=%{z}<extra></extra>",
           "locationmode": "country names",
           "locations": [
            "Australia",
            "Brazil",
            "Egypt",
            "Finland",
            "Germany",
            "Greece",
            "India",
            "Japan",
            "Nigeria",
            "South Africa",
            "Spain",
            "Sweden",
            "Ukraine",
            "United Kingdom",
            "United States"
           ],
           "name": "",
           "type": "choropleth",
           "z": [
            0.571140627306273,
            0.25872710655414166,
            0.031012269623255262,
            0.6481607824533245,
            0.27870675337408757,
            0.4093335922330097,
            0.03281226754455729,
            0.14129447504860662,
            0.020463654811222257,
            0.04220590915409208,
            0.48902760492795994,
            0.7272511428571429,
            0.05077079667495905,
            0.3474109337305332,
            0.06973041400238442
           ]
          }
         ],
         "name": "2024-01-29"
        },
        {
         "data": [
          {
           "coloraxis": "coloraxis",
           "geo": "geo",
           "hovertemplate": "animation_frame=2024-01-30<br>country=%{location}<br>streams_per_capita=%{z}<extra></extra>",
           "locationmode": "country names",
           "locations": [
            "Australia",
            "Brazil",
            "Egypt",
            "Finland",
            "Germany",
            "Greece",
            "India",
            "Japan",
            "Nigeria",
            "South Africa",
            "Spain",
            "Sweden",
            "Ukraine",
            "United Kingdom",
            "United States"
           ],
           "name": "",
           "type": "choropleth",
           "z": [
            0.5785354981549815,
            0.2699200984906866,
            0.030273862693718637,
            0.6410949380838583,
            0.2808949881179544,
            0.4048264077669903,
            0.033206613996100295,
            0.14236538399222295,
            0.020821692600451316,
            0.04296334965326579,
            0.5007746293589476,
            0.7280904761904762,
            0.050581366421940416,
            0.3583608452733222,
            0.07192822009031946
           ]
          }
         ],
         "name": "2024-01-30"
        },
        {
         "data": [
          {
           "coloraxis": "coloraxis",
           "geo": "geo",
           "hovertemplate": "animation_frame=2024-01-31<br>country=%{location}<br>streams_per_capita=%{z}<extra></extra>",
           "locationmode": "country names",
           "locations": [
            "Australia",
            "Brazil",
            "Egypt",
            "Finland",
            "Germany",
            "Greece",
            "India",
            "Japan",
            "Nigeria",
            "South Africa",
            "Spain",
            "Sweden",
            "Ukraine",
            "United Kingdom",
            "United States"
           ],
           "name": "",
           "type": "choropleth",
           "z": [
            0.5747221033210332,
            0.2638972990244911,
            0.030013926610746654,
            0.6261621746243576,
            0.28306584518611694,
            0.4093873786407767,
            0.033599168898108295,
            0.14100317563188594,
            0.02074888013202654,
            0.0443670594776592,
            0.4979078095635832,
            0.7321308571428571,
            0.0510555791517505,
            0.35357772068052995,
            0.0709681775997193
           ]
          }
         ],
         "name": "2024-01-31"
        },
        {
         "data": [
          {
           "coloraxis": "coloraxis",
           "geo": "geo",
           "hovertemplate": "animation_frame=2024-02-01<br>country=%{location}<br>streams_per_capita=%{z}<extra></extra>",
           "locationmode": "country names",
           "locations": [
            "Australia",
            "Brazil",
            "Egypt",
            "Finland",
            "Germany",
            "Greece",
            "India",
            "Japan",
            "Nigeria",
            "South Africa",
            "Spain",
            "Sweden",
            "Ukraine",
            "United Kingdom",
            "United States"
           ],
           "name": "",
           "type": "choropleth",
           "z": [
            0.5828225092250923,
            0.28106036313741706,
            0.03133869329826127,
            0.6334530718652875,
            0.2856905563989473,
            0.41903359223300973,
            0.033207073226756235,
            0.14193595268956577,
            0.021557866862012057,
            0.046775186495127186,
            0.5378563792023386,
            0.741822,
            0.05162411261452582,
            0.359112926761859,
            0.07207917375489203
           ]
          }
         ],
         "name": "2024-02-01"
        },
        {
         "data": [
          {
           "coloraxis": "coloraxis",
           "geo": "geo",
           "hovertemplate": "animation_frame=2024-02-02<br>country=%{location}<br>streams_per_capita=%{z}<extra></extra>",
           "locationmode": "country names",
           "locations": [
            "Australia",
            "Brazil",
            "Egypt",
            "Finland",
            "Germany",
            "Greece",
            "India",
            "Japan",
            "Nigeria",
            "South Africa",
            "Spain",
            "Sweden",
            "Ukraine",
            "United Kingdom",
            "United States"
           ],
           "name": "",
           "type": "choropleth",
           "z": [
            0.5881493726937269,
            0.3078481006710148,
            0.028760689317899716,
            0.7916129232488129,
            0.33022661901353734,
            0.45207563106796117,
            0.03391407188352857,
            0.13687683895009722,
            0.021298609006096123,
            0.0564754506000278,
            0.5833543119649196,
            0.8628730476190476,
            0.053939324070141376,
            0.37935638635487073,
            0.0761423297503108
           ]
          }
         ],
         "name": "2024-02-02"
        },
        {
         "data": [
          {
           "coloraxis": "coloraxis",
           "geo": "geo",
           "hovertemplate": "animation_frame=2024-02-03<br>country=%{location}<br>streams_per_capita=%{z}<extra></extra>",
           "locationmode": "country names",
           "locations": [
            "Australia",
            "Brazil",
            "Egypt",
            "Finland",
            "Germany",
            "Greece",
            "India",
            "Japan",
            "Nigeria",
            "South Africa",
            "Spain",
            "Sweden",
            "Ukraine",
            "United Kingdom",
            "United States"
           ],
           "name": "",
           "type": "choropleth",
           "z": [
            0.5723043542435424,
            0.34283621224367045,
            0.029573052127641185,
            0.7011576301170045,
            0.29846348314828625,
            0.45729203883495145,
            0.034822243128858246,
            0.1452684786130914,
            0.022634809369842714,
            0.06363663181305698,
            0.5469544998955941,
            0.7648210476190476,
            0.052590407135489355,
            0.3581076269758436,
            0.0718773955047874
           ]
          }
         ],
         "name": "2024-02-03"
        },
        {
         "data": [
          {
           "coloraxis": "coloraxis",
           "geo": "geo",
           "hovertemplate": "animation_frame=2024-02-04<br>country=%{location}<br>streams_per_capita=%{z}<extra></extra>",
           "locationmode": "country names",
           "locations": [
            "Australia",
            "Brazil",
            "Egypt",
            "Finland",
            "Germany",
            "Greece",
            "India",
            "Japan",
            "Nigeria",
            "South Africa",
            "Spain",
            "Sweden",
            "Ukraine",
            "United Kingdom",
            "United States"
           ],
           "name": "",
           "type": "choropleth",
           "z": [
            0.5541511070110701,
            0.28123315884442607,
            0.029785393216088384,
            0.5704033305696817,
            0.23321932285516936,
            0.395738640776699,
            0.03376808534538302,
            0.14924826636422553,
            0.019180382944326564,
            0.0478778167328216,
            0.4581328043432867,
            0.6241325714285715,
            0.0508091438626297,
            0.3153408202412447,
            0.06329347701051047
           ]
          }
         ],
         "name": "2024-02-04"
        },
        {
         "data": [
          {
           "coloraxis": "coloraxis",
           "geo": "geo",
           "hovertemplate": "animation_frame=2024-02-05<br>country=%{location}<br>streams_per_capita=%{z}<extra></extra>",
           "locationmode": "country names",
           "locations": [
            "Australia",
            "Brazil",
            "Egypt",
            "Finland",
            "Germany",
            "Greece",
            "India",
            "Japan",
            "Nigeria",
            "South Africa",
            "Spain",
            "Sweden",
            "Ukraine",
            "United Kingdom",
            "United States"
           ],
           "name": "",
           "type": "choropleth",
           "z": [
            0.5637811439114391,
            0.26077302501738625,
            0.030092829877805493,
            0.634752135918456,
            0.2710899338042205,
            0.4015987378640777,
            0.03349149168376868,
            0.13347595593000647,
            0.019996556195480113,
            0.042434336726025916,
            0.5048850699519732,
            0.7081125714285714,
            0.05395000303379649,
            0.34474760049441877,
            0.06919584438712695
           ]
          }
         ],
         "name": "2024-02-05"
        },
        {
         "data": [
          {
           "coloraxis": "coloraxis",
           "geo": "geo",
           "hovertemplate": "animation_frame=2024-02-06<br>country=%{location}<br>streams_per_capita=%{z}<extra></extra>",
           "locationmode": "country names",
           "locations": [
            "Australia",
            "Brazil",
            "Egypt",
            "Finland",
            "Germany",
            "Greece",
            "India",
            "Japan",
            "Nigeria",
            "South Africa",
            "Spain",
            "Sweden",
            "Ukraine",
            "United Kingdom",
            "United States"
           ],
           "name": "",
           "type": "choropleth",
           "z": [
            0.5881674538745387,
            0.27897305603067496,
            0.03073692488504336,
            0.6249950564627328,
            0.27194986545346556,
            0.41229,
            0.03439086329976294,
            0.13850638366817888,
            0.021477606850560778,
            0.04400352139867484,
            0.5159900814366256,
            0.7030935238095238,
            0.053597233177598444,
            0.3537486276501402,
            0.07100248110772593
           ]
          }
         ],
         "name": "2024-02-06"
        },
        {
         "data": [
          {
           "coloraxis": "coloraxis",
           "geo": "geo",
           "hovertemplate": "animation_frame=2024-02-07<br>country=%{location}<br>streams_per_capita=%{z}<extra></extra>",
           "locationmode": "country names",
           "locations": [
            "Australia",
            "Brazil",
            "Egypt",
            "Finland",
            "Germany",
            "Greece",
            "India",
            "Japan",
            "Nigeria",
            "South Africa",
            "Spain",
            "Sweden",
            "Ukraine",
            "United Kingdom",
            "United States"
           ],
           "name": "",
           "type": "choropleth",
           "z": [
            0.5952215867158671,
            0.28519078341446913,
            0.030467273418344733,
            0.6181384811148009,
            0.2790032509897197,
            0.4158555339805825,
            0.03398812145185711,
            0.14138635774465327,
            0.01962536627260786,
            0.04358387261185846,
            0.515508540405095,
            0.7038308571428571,
            0.054041563011953155,
            0.3608111710314986,
            0.07242003601483173
           ]
          }
         ],
         "name": "2024-02-07"
        },
        {
         "data": [
          {
           "coloraxis": "coloraxis",
           "geo": "geo",
           "hovertemplate": "animation_frame=2024-02-08<br>country=%{location}<br>streams_per_capita=%{z}<extra></extra>",
           "locationmode": "country names",
           "locations": [
            "Australia",
            "Brazil",
            "Egypt",
            "Finland",
            "Germany",
            "Greece",
            "India",
            "Japan",
            "Nigeria",
            "South Africa",
            "Spain",
            "Sweden",
            "Ukraine",
            "United Kingdom",
            "United States"
           ],
           "name": "",
           "type": "choropleth",
           "z": [
            0.601480036900369,
            0.2868368701013101,
            0.03201744833821099,
            0.611105800564849,
            0.31631665131518966,
            0.4218519417475728,
            0.03320232761415449,
            0.14192812702527544,
            0.021520629146879525,
            0.04480942746382072,
            0.5146156191271665,
            0.7064278095238096,
            0.055039985437776835,
            0.34835674494162905,
            0.06992025203255121
           ]
          }
         ],
         "name": "2024-02-08"
        },
        {
         "data": [
          {
           "coloraxis": "coloraxis",
           "geo": "geo",
           "hovertemplate": "animation_frame=2024-02-09<br>country=%{location}<br>streams_per_capita=%{z}<extra></extra>",
           "locationmode": "country names",
           "locations": [
            "Australia",
            "Brazil",
            "Egypt",
            "Finland",
            "Germany",
            "Greece",
            "India",
            "Japan",
            "Nigeria",
            "South Africa",
            "Spain",
            "Sweden",
            "Ukraine",
            "United Kingdom",
            "United States"
           ],
           "name": "",
           "type": "choropleth",
           "z": [
            0.5982336900369004,
            0.34168697253914254,
            0.029821884914925576,
            0.7566258030477018,
            0.3653307446819944,
            0.48926912621359225,
            0.03391958677622612,
            0.13767612605314322,
            0.022242320905324846,
            0.05157235084251008,
            0.5540700563792024,
            0.9116535238095238,
            0.05804229112311146,
            0.3786381727769998,
            0.0759981738667026
           ]
          }
         ],
         "name": "2024-02-09"
        },
        {
         "data": [
          {
           "coloraxis": "coloraxis",
           "geo": "geo",
           "hovertemplate": "animation_frame=2024-02-10<br>country=%{location}<br>streams_per_capita=%{z}<extra></extra>",
           "locationmode": "country names",
           "locations": [
            "Australia",
            "Brazil",
            "Egypt",
            "Finland",
            "Germany",
            "Greece",
            "India",
            "Japan",
            "Nigeria",
            "South Africa",
            "Spain",
            "Sweden",
            "Ukraine",
            "United Kingdom",
            "United States"
           ],
           "name": "",
           "type": "choropleth",
           "z": [
            0.5798169372693727,
            0.3937676446816909,
            0.029261819951581888,
            0.7008297162010578,
            0.33392622085173157,
            0.4681742718446602,
            0.03517940495921976,
            0.1488299416720674,
            0.02178066585834091,
            0.056653204009452174,
            0.5245181666318647,
            0.7745344761904762,
            0.05566336994114435,
            0.36236048145696004,
            0.07273100509178491
           ]
          }
         ],
         "name": "2024-02-10"
        },
        {
         "data": [
          {
           "coloraxis": "coloraxis",
           "geo": "geo",
           "hovertemplate": "animation_frame=2024-02-11<br>country=%{location}<br>streams_per_capita=%{z}<extra></extra>",
           "locationmode": "country names",
           "locations": [
            "Australia",
            "Brazil",
            "Egypt",
            "Finland",
            "Germany",
            "Greece",
            "India",
            "Japan",
            "Nigeria",
            "South Africa",
            "Spain",
            "Sweden",
            "Ukraine",
            "United Kingdom",
            "United States"
           ],
           "name": "",
           "type": "choropleth",
           "z": [
            0.6383486346863468,
            0.3238274909309625,
            0.02832014529002304,
            0.6535295969354502,
            0.2786186562178485,
            0.4066271844660194,
            0.03345325454442214,
            0.143824935191186,
            0.018441286921962886,
            0.04830761270792469,
            0.40845115890582584,
            0.6925516190476191,
            0.05109993325647715,
            0.35409719466324346,
            0.07107244356362871
           ]
          }
         ],
         "name": "2024-02-11"
        },
        {
         "data": [
          {
           "coloraxis": "coloraxis",
           "geo": "geo",
           "hovertemplate": "animation_frame=2024-02-12<br>country=%{location}<br>streams_per_capita=%{z}<extra></extra>",
           "locationmode": "country names",
           "locations": [
            "Australia",
            "Brazil",
            "Egypt",
            "Finland",
            "Germany",
            "Greece",
            "India",
            "Japan",
            "Nigeria",
            "South Africa",
            "Spain",
            "Sweden",
            "Ukraine",
            "United Kingdom",
            "United States"
           ],
           "name": "",
           "type": "choropleth",
           "z": [
            0.6124178228782288,
            0.3082775830310321,
            0.028626137390311404,
            0.6987012019667741,
            0.2949738495900891,
            0.4096025242718447,
            0.03315646023371469,
            0.15395026733635775,
            0.018974053585261528,
            0.04415350518170726,
            0.4947338901649614,
            0.7524049523809524,
            0.053860748740974455,
            0.38752868976054844,
            0.07778262959266696
           ]
          }
         ],
         "name": "2024-02-12"
        },
        {
         "data": [
          {
           "coloraxis": "coloraxis",
           "geo": "geo",
           "hovertemplate": "animation_frame=2024-02-13<br>country=%{location}<br>streams_per_capita=%{z}<extra></extra>",
           "locationmode": "country names",
           "locations": [
            "Australia",
            "Brazil",
            "Egypt",
            "Finland",
            "Germany",
            "Greece",
            "India",
            "Japan",
            "Nigeria",
            "South Africa",
            "Spain",
            "Sweden",
            "Ukraine",
            "United Kingdom",
            "United States"
           ],
           "name": "",
           "type": "choropleth",
           "z": [
            0.6128723985239852,
            0.2834284814766085,
            0.029279192455038662,
            0.6854885234563084,
            0.28913485480868173,
            0.4264006796116505,
            0.03294766359130346,
            0.14008345755022683,
            0.020072185173958437,
            0.045088390195684745,
            0.49461363541449155,
            0.7326701904761904,
            0.053960530307626965,
            0.3795414733147598,
            0.07617947938806376
           ]
          }
         ],
         "name": "2024-02-13"
        },
        {
         "data": [
          {
           "coloraxis": "coloraxis",
           "geo": "geo",
           "hovertemplate": "animation_frame=2024-02-14<br>country=%{location}<br>streams_per_capita=%{z}<extra></extra>",
           "locationmode": "country names",
           "locations": [
            "Australia",
            "Brazil",
            "Egypt",
            "Finland",
            "Germany",
            "Greece",
            "India",
            "Japan",
            "Nigeria",
            "South Africa",
            "Spain",
            "Sweden",
            "Ukraine",
            "United Kingdom",
            "United States"
           ],
           "name": "",
           "type": "choropleth",
           "z": [
            0.6215534686346863,
            0.24870887919854143,
            0.030067781371462654,
            0.6533604082519386,
            0.2875805222489422,
            0.467153786407767,
            0.033773684109547675,
            0.13850606772521062,
            0.021060914923714258,
            0.046658084544457655,
            0.498226435581541,
            0.7573068571428572,
            0.05453916631272374,
            0.3763780463925629,
            0.07554453371556463
           ]
          }
         ],
         "name": "2024-02-14"
        },
        {
         "data": [
          {
           "coloraxis": "coloraxis",
           "geo": "geo",
           "hovertemplate": "animation_frame=2024-02-15<br>country=%{location}<br>streams_per_capita=%{z}<extra></extra>",
           "locationmode": "country names",
           "locations": [
            "Australia",
            "Brazil",
            "Egypt",
            "Finland",
            "Germany",
            "Greece",
            "India",
            "Japan",
            "Nigeria",
            "South Africa",
            "Spain",
            "Sweden",
            "Ukraine",
            "United Kingdom",
            "United States"
           ],
           "name": "",
           "type": "choropleth",
           "z": [
            0.6303489667896679,
            0.24143168148412683,
            0.031237290750910317,
            0.6528294324464524,
            0.28667208390573745,
            0.5072169902912621,
            0.03259356031960705,
            0.13841865683732987,
            0.02026902933548887,
            0.045146972060481565,
            0.4913431196491961,
            0.7095321904761904,
            0.05281330016382501,
            0.3608352828744727,
            0.07242487561148715
           ]
          }
         ],
         "name": "2024-02-15"
        },
        {
         "data": [
          {
           "coloraxis": "coloraxis",
           "geo": "geo",
           "hovertemplate": "animation_frame=2024-02-16<br>country=%{location}<br>streams_per_capita=%{z}<extra></extra>",
           "locationmode": "country names",
           "locations": [
            "Australia",
            "Brazil",
            "Egypt",
            "Finland",
            "Germany",
            "Greece",
            "India",
            "Japan",
            "Nigeria",
            "South Africa",
            "Spain",
            "Sweden",
            "Ukraine",
            "United Kingdom",
            "United States"
           ],
           "name": "",
           "type": "choropleth",
           "z": [
            0.6778530627306273,
            0.27095624306899985,
            0.028399397895466607,
            0.8674447454410832,
            0.35025726260581025,
            0.5220301941747573,
            0.03346024612491754,
            0.1341194912508101,
            0.020943892930517665,
            0.05463911841475281,
            0.5603135518897473,
            0.8517005714285715,
            0.05697697348461865,
            0.3925675522358688,
            0.07879400238606817
           ]
          }
         ],
         "name": "2024-02-16"
        },
        {
         "data": [
          {
           "coloraxis": "coloraxis",
           "geo": "geo",
           "hovertemplate": "animation_frame=2024-02-17<br>country=%{location}<br>streams_per_capita=%{z}<extra></extra>",
           "locationmode": "country names",
           "locations": [
            "Australia",
            "Brazil",
            "Egypt",
            "Finland",
            "Germany",
            "Greece",
            "India",
            "Japan",
            "Nigeria",
            "South Africa",
            "Spain",
            "Sweden",
            "Ukraine",
            "United Kingdom",
            "United States"
           ],
           "name": "",
           "type": "choropleth",
           "z": [
            0.6662369372693727,
            0.30464233689829523,
            0.028756119594164346,
            0.7475587793231566,
            0.314391750592343,
            0.5209360194174757,
            0.03370079705475086,
            0.1442960952689566,
            0.020756546596611768,
            0.06087358487651937,
            0.5284208603048653,
            0.7488066666666666,
            0.054956009950852494,
            0.3543695442285982,
            0.07112710807214497
           ]
          }
         ],
         "name": "2024-02-17"
        },
        {
         "data": [
          {
           "coloraxis": "coloraxis",
           "geo": "geo",
           "hovertemplate": "animation_frame=2024-02-18<br>country=%{location}<br>streams_per_capita=%{z}<extra></extra>",
           "locationmode": "country names",
           "locations": [
            "Australia",
            "Brazil",
            "Egypt",
            "Finland",
            "Germany",
            "Greece",
            "India",
            "Japan",
            "Nigeria",
            "South Africa",
            "Spain",
            "Sweden",
            "Ukraine",
            "United Kingdom",
            "United States"
           ],
           "name": "",
           "type": "choropleth",
           "z": [
            0.6519917712177122,
            0.2582706896227656,
            0.028653517966411756,
            0.6363597831050735,
            0.24787286837135922,
            0.4486634951456311,
            0.0327338800339548,
            0.15127830524951394,
            0.01883713920043111,
            0.04729989034240969,
            0.4275765086656922,
            0.6361907619047619,
            0.050080850676536615,
            0.32435967492606665,
            0.06510369197480911
           ]
          }
         ],
         "name": "2024-02-18"
        },
        {
         "data": [
          {
           "coloraxis": "coloraxis",
           "geo": "geo",
           "hovertemplate": "animation_frame=2024-02-19<br>country=%{location}<br>streams_per_capita=%{z}<extra></extra>",
           "locationmode": "country names",
           "locations": [
            "Australia",
            "Brazil",
            "Egypt",
            "Finland",
            "Germany",
            "Greece",
            "India",
            "Japan",
            "Nigeria",
            "South Africa",
            "Spain",
            "Sweden",
            "Ukraine",
            "United Kingdom",
            "United States"
           ],
           "name": "",
           "type": "choropleth",
           "z": [
            0.6453639483394834,
            0.2501691586940586,
            0.02845138322374541,
            0.6827591588449414,
            0.2837880958565039,
            0.46538087378640774,
            0.03229307153952081,
            0.13601838139987038,
            0.019481593748947493,
            0.0425251671892134,
            0.4901079557318856,
            0.6936374285714286,
            0.05351359140828833,
            0.3555753121623051,
            0.07136912318751666
           ]
          }
         ],
         "name": "2024-02-19"
        },
        {
         "data": [
          {
           "coloraxis": "coloraxis",
           "geo": "geo",
           "hovertemplate": "animation_frame=2024-02-20<br>country=%{location}<br>streams_per_capita=%{z}<extra></extra>",
           "locationmode": "country names",
           "locations": [
            "Australia",
            "Brazil",
            "Egypt",
            "Finland",
            "Germany",
            "Greece",
            "India",
            "Japan",
            "Nigeria",
            "South Africa",
            "Spain",
            "Sweden",
            "Ukraine",
            "United Kingdom",
            "United States"
           ],
           "name": "",
           "type": "choropleth",
           "z": [
            0.6475219557195572,
            0.2525736941525854,
            0.02905596522719708,
            0.671173103610334,
            0.28695206554859276,
            0.453773786407767,
            0.03262171913348037,
            0.1397855962410888,
            0.019708430164022767,
            0.043425085332138944,
            0.5141194612653999,
            0.6953064761904761,
            0.05173284388083247,
            0.361877702593718,
            0.07263410437065915
           ]
          }
         ],
         "name": "2024-02-20"
        },
        {
         "data": [
          {
           "coloraxis": "coloraxis",
           "geo": "geo",
           "hovertemplate": "animation_frame=2024-02-21<br>country=%{location}<br>streams_per_capita=%{z}<extra></extra>",
           "locationmode": "country names",
           "locations": [
            "Australia",
            "Brazil",
            "Egypt",
            "Finland",
            "Germany",
            "Greece",
            "India",
            "Japan",
            "Nigeria",
            "South Africa",
            "Spain",
            "Sweden",
            "Ukraine",
            "United Kingdom",
            "United States"
           ],
           "name": "",
           "type": "choropleth",
           "z": [
            0.6432035793357933,
            0.2620646721049565,
            0.02936322249893284,
            0.6571621879253549,
            0.2872635113163975,
            0.43616553398058255,
            0.03301889040353426,
            0.1377481286454958,
            0.019491129466841804,
            0.043381716527406675,
            0.5008992691584883,
            0.6846679047619048,
            0.05270857350888902,
            0.35660980690764454,
            0.07157676128946472
           ]
          }
         ],
         "name": "2024-02-21"
        },
        {
         "data": [
          {
           "coloraxis": "coloraxis",
           "geo": "geo",
           "hovertemplate": "animation_frame=2024-02-22<br>country=%{location}<br>streams_per_capita=%{z}<extra></extra>",
           "locationmode": "country names",
           "locations": [
            "Australia",
            "Brazil",
            "Egypt",
            "Finland",
            "Germany",
            "Greece",
            "India",
            "Japan",
            "Nigeria",
            "South Africa",
            "Spain",
            "Sweden",
            "Ukraine",
            "United Kingdom",
            "United States"
           ],
           "name": "",
           "type": "choropleth",
           "z": [
            0.6623628782287823,
            0.2719855788207432,
            0.03092082794065806,
            0.6690859111404718,
            0.2904328187793983,
            0.4464782524271845,
            0.03328077287232449,
            0.13155370220349968,
            0.019925221447576708,
            0.04289702997822293,
            0.5082908122781374,
            0.6989251428571428,
            0.05337521995024574,
            0.3629133252928296,
            0.07284196886929158
           ]
          }
         ],
         "name": "2024-02-22"
        },
        {
         "data": [
          {
           "coloraxis": "coloraxis",
           "geo": "geo",
           "hovertemplate": "animation_frame=2024-02-23<br>country=%{location}<br>streams_per_capita=%{z}<extra></extra>",
           "locationmode": "country names",
           "locations": [
            "Australia",
            "Brazil",
            "Egypt",
            "Finland",
            "Germany",
            "Greece",
            "India",
            "Japan",
            "Nigeria",
            "South Africa",
            "Spain",
            "Sweden",
            "Ukraine",
            "United Kingdom",
            "United States"
           ],
           "name": "",
           "type": "choropleth",
           "z": [
            0.6719216974169742,
            0.294411085841024,
            0.027327514432183644,
            0.8481405649376849,
            0.37069775365296814,
            0.5724666990291262,
            0.03369085553601497,
            0.14355892741412832,
            0.02154141406486814,
            0.0541372109904706,
            0.5450374399665902,
            0.8293868571428571,
            0.0551913718827741,
            0.39611172947555173,
            0.07950537017051622
           ]
          }
         ],
         "name": "2024-02-23"
        },
        {
         "data": [
          {
           "coloraxis": "coloraxis",
           "geo": "geo",
           "hovertemplate": "animation_frame=2024-02-24<br>country=%{location}<br>streams_per_capita=%{z}<extra></extra>",
           "locationmode": "country names",
           "locations": [
            "Australia",
            "Brazil",
            "Egypt",
            "Finland",
            "Germany",
            "Greece",
            "India",
            "Japan",
            "Nigeria",
            "South Africa",
            "Spain",
            "Sweden",
            "Ukraine",
            "United Kingdom",
            "United States"
           ],
           "name": "",
           "type": "choropleth",
           "z": [
            0.647380184501845,
            0.32300944965509465,
            0.02675189918993055,
            0.7720522995207207,
            0.32873657906666515,
            0.5374861165048543,
            0.03391317404634794,
            0.14524495301360985,
            0.021428930483985045,
            0.06118930606823482,
            0.5182900814366256,
            0.759548,
            0.05414167829621989,
            0.37243556963254887,
            0.07475322143958489
           ]
          }
         ],
         "name": "2024-02-24"
        },
        {
         "data": [
          {
           "coloraxis": "coloraxis",
           "geo": "geo",
           "hovertemplate": "animation_frame=2024-02-25<br>country=%{location}<br>streams_per_capita=%{z}<extra></extra>",
           "locationmode": "country names",
           "locations": [
            "Australia",
            "Brazil",
            "Egypt",
            "Finland",
            "Germany",
            "Greece",
            "India",
            "Japan",
            "Nigeria",
            "South Africa",
            "Spain",
            "Sweden",
            "Ukraine",
            "United Kingdom",
            "United States"
           ],
           "name": "",
           "type": "choropleth",
           "z": [
            0.646229963099631,
            0.2622714602560006,
            0.026264128389069753,
            0.6171519018209065,
            0.26028995968403174,
            0.4568576699029126,
            0.03182796506858441,
            0.14535382372002592,
            0.01890116954632717,
            0.04905893709361051,
            0.4218018793067446,
            0.6642126666666667,
            0.04990058248892664,
            0.324521836591755,
            0.06513624017345773
           ]
          }
         ],
         "name": "2024-02-25"
        },
        {
         "data": [
          {
           "coloraxis": "coloraxis",
           "geo": "geo",
           "hovertemplate": "animation_frame=2024-02-26<br>country=%{location}<br>streams_per_capita=%{z}<extra></extra>",
           "locationmode": "country names",
           "locations": [
            "Australia",
            "Brazil",
            "Egypt",
            "Finland",
            "Germany",
            "Greece",
            "India",
            "Japan",
            "Nigeria",
            "South Africa",
            "Spain",
            "Sweden",
            "Ukraine",
            "United Kingdom",
            "United States"
           ],
           "name": "",
           "type": "choropleth",
           "z": [
            0.636000147601476,
            0.2520867103358833,
            0.028199245884173045,
            0.6705963723747157,
            0.2895223937322218,
            0.4575754368932039,
            0.03185208773997115,
            0.13806541639662995,
            0.019420245192145767,
            0.04257894574265989,
            0.48078486114011276,
            0.6900558095238095,
            0.0531853649657181,
            0.3550542854120611,
            0.07126454556063916
           ]
          }
         ],
         "name": "2024-02-26"
        },
        {
         "data": [
          {
           "coloraxis": "coloraxis",
           "geo": "geo",
           "hovertemplate": "animation_frame=2024-02-27<br>country=%{location}<br>streams_per_capita=%{z}<extra></extra>",
           "locationmode": "country names",
           "locations": [
            "Australia",
            "Brazil",
            "Egypt",
            "Finland",
            "Germany",
            "Greece",
            "India",
            "Japan",
            "Nigeria",
            "South Africa",
            "Spain",
            "Sweden",
            "Ukraine",
            "United Kingdom",
            "United States"
           ],
           "name": "",
           "type": "choropleth",
           "z": [
            0.6320953505535055,
            0.24996155761893127,
            0.02858195080543222,
            0.6644415576354374,
            0.29368810504560816,
            0.4851401941747573,
            0.03267322240152109,
            0.13724089436163317,
            0.019983088309588764,
            0.04496395199777596,
            0.49986111923157234,
            0.6896944761904762,
            0.0527907287179176,
            0.36691312261272063,
            0.07364478621314052
           ]
          }
         ],
         "name": "2024-02-27"
        },
        {
         "data": [
          {
           "coloraxis": "coloraxis",
           "geo": "geo",
           "hovertemplate": "animation_frame=2024-02-28<br>country=%{location}<br>streams_per_capita=%{z}<extra></extra>",
           "locationmode": "country names",
           "locations": [
            "Australia",
            "Brazil",
            "Egypt",
            "Finland",
            "Germany",
            "Greece",
            "India",
            "Japan",
            "Nigeria",
            "South Africa",
            "Spain",
            "Sweden",
            "Ukraine",
            "United Kingdom",
            "United States"
           ],
           "name": "",
           "type": "choropleth",
           "z": [
            0.6219425092250922,
            0.2505685299701145,
            0.029761033944937038,
            0.6508952901169157,
            0.291797624567476,
            0.45691747572815533,
            0.03301150008983459,
            0.1401499513933895,
            0.01843180172442828,
            0.04590963287874342,
            0.4900360200459386,
            0.6801753333333334,
            0.052755202960985376,
            0.3595436146690769,
            0.07216561906550341
           ]
          }
         ],
         "name": "2024-02-28"
        },
        {
         "data": [
          {
           "coloraxis": "coloraxis",
           "geo": "geo",
           "hovertemplate": "animation_frame=2024-02-29<br>country=%{location}<br>streams_per_capita=%{z}<extra></extra>",
           "locationmode": "country names",
           "locations": [
            "Australia",
            "Brazil",
            "Egypt",
            "Finland",
            "Germany",
            "Greece",
            "India",
            "Japan",
            "Nigeria",
            "South Africa",
            "Spain",
            "Sweden",
            "Ukraine",
            "United Kingdom",
            "United States"
           ],
           "name": "",
           "type": "choropleth",
           "z": [
            0.6295859409594096,
            0.26189455951732044,
            0.03154586984356127,
            0.6578323808341499,
            0.2968831917878562,
            0.46999087378640775,
            0.03287921141219749,
            0.1373153758911212,
            0.020339644168266478,
            0.047693452978516376,
            0.49942196700772606,
            0.6861775238095238,
            0.05352891208057763,
            0.3634587568610535,
            0.0729514448971581
           ]
          }
         ],
         "name": "2024-02-29"
        },
        {
         "data": [
          {
           "coloraxis": "coloraxis",
           "geo": "geo",
           "hovertemplate": "animation_frame=2024-03-01<br>country=%{location}<br>streams_per_capita=%{z}<extra></extra>",
           "locationmode": "country names",
           "locations": [
            "Australia",
            "Brazil",
            "Egypt",
            "Finland",
            "Germany",
            "Greece",
            "India",
            "Japan",
            "Nigeria",
            "South Africa",
            "Spain",
            "Sweden",
            "Ukraine",
            "United Kingdom",
            "United States"
           ],
           "name": "",
           "type": "choropleth",
           "z": [
            0.6359361254612547,
            0.28925132511324547,
            0.029055464823564903,
            0.7919032396795347,
            0.37090243203443823,
            0.48397912621359224,
            0.033270054511311334,
            0.1338770981853532,
            0.021841041898218314,
            0.06030333451742938,
            0.5554706410524117,
            0.8374195238095238,
            0.0555867362417329,
            0.3902483474415203,
            0.0783285043410594
           ]
          }
         ],
         "name": "2024-03-01"
        },
        {
         "data": [
          {
           "coloraxis": "coloraxis",
           "geo": "geo",
           "hovertemplate": "animation_frame=2024-03-02<br>country=%{location}<br>streams_per_capita=%{z}<extra></extra>",
           "locationmode": "country names",
           "locations": [
            "Australia",
            "Brazil",
            "Egypt",
            "Finland",
            "Germany",
            "Greece",
            "India",
            "Japan",
            "Nigeria",
            "South Africa",
            "Spain",
            "Sweden",
            "Ukraine",
            "United Kingdom",
            "United States"
           ],
           "name": "",
           "type": "choropleth",
           "z": [
            0.6053461992619926,
            0.32065883972708303,
            0.029351750981704592,
            0.7091362775829428,
            0.3405246392103699,
            0.4950322330097087,
            0.03373555627809679,
            0.14334225534672715,
            0.021786618840726146,
            0.06748623102228675,
            0.5077139695134684,
            0.7868577142857143,
            0.05618439415084036,
            0.37161389193139366,
            0.0745882988055652
           ]
          }
         ],
         "name": "2024-03-02"
        },
        {
         "data": [
          {
           "coloraxis": "coloraxis",
           "geo": "geo",
           "hovertemplate": "animation_frame=2024-03-03<br>country=%{location}<br>streams_per_capita=%{z}<extra></extra>",
           "locationmode": "country names",
           "locations": [
            "Australia",
            "Brazil",
            "Egypt",
            "Finland",
            "Germany",
            "Greece",
            "India",
            "Japan",
            "Nigeria",
            "South Africa",
            "Spain",
            "Sweden",
            "Ukraine",
            "United Kingdom",
            "United States"
           ],
           "name": "",
           "type": "choropleth",
           "z": [
            0.5801615129151292,
            0.2726532949269778,
            0.02893732235848087,
            0.5791881958084124,
            0.271983555644311,
            0.4238380582524272,
            0.03211767430273477,
            0.14931044232015553,
            0.01949537317705702,
            0.05315765981435433,
            0.4260640634788056,
            0.8377535238095238,
            0.051540228141496267,
            0.3391094576448158,
            0.0680641873293432
           ]
          }
         ],
         "name": "2024-03-03"
        },
        {
         "data": [
          {
           "coloraxis": "coloraxis",
           "geo": "geo",
           "hovertemplate": "animation_frame=2024-03-04<br>country=%{location}<br>streams_per_capita=%{z}<extra></extra>",
           "locationmode": "country names",
           "locations": [
            "Australia",
            "Brazil",
            "Egypt",
            "Finland",
            "Germany",
            "Greece",
            "India",
            "Japan",
            "Nigeria",
            "South Africa",
            "Spain",
            "Sweden",
            "Ukraine",
            "United Kingdom",
            "United States"
           ],
           "name": "",
           "type": "choropleth",
           "z": [
            0.5996940221402214,
            0.24504262447606337,
            0.029414490267286257,
            0.6493234669492389,
            0.29719759367542603,
            0.431222427184466,
            0.032392671656589975,
            0.13762014744005185,
            0.020185253949008115,
            0.04456734674965635,
            0.47872376278972645,
            0.8732453333333333,
            0.05477125174443298,
            0.35731612570028165,
            0.07171852971712869
           ]
          }
         ],
         "name": "2024-03-04"
        },
        {
         "data": [
          {
           "coloraxis": "coloraxis",
           "geo": "geo",
           "hovertemplate": "animation_frame=2024-03-05<br>country=%{location}<br>streams_per_capita=%{z}<extra></extra>",
           "locationmode": "country names",
           "locations": [
            "Australia",
            "Brazil",
            "Egypt",
            "Finland",
            "Germany",
            "Greece",
            "India",
            "Japan",
            "Nigeria",
            "South Africa",
            "Spain",
            "Sweden",
            "Ukraine",
            "United Kingdom",
            "United States"
           ],
           "name": "",
           "type": "choropleth",
           "z": [
            0.6254977859778598,
            0.25449385842903594,
            0.029159511012746234,
            0.6652279125858469,
            0.29672254403236137,
            0.4295492233009709,
            0.03336781083104632,
            0.1396295366169799,
            0.020905068034084404,
            0.04639206449719678,
            0.5039878680309041,
            0.8650455238095238,
            0.055308264061646746,
            0.3734669148965764,
            0.07496022739494673
           ]
          }
         ],
         "name": "2024-03-05"
        },
        {
         "data": [
          {
           "coloraxis": "coloraxis",
           "geo": "geo",
           "hovertemplate": "animation_frame=2024-03-06<br>country=%{location}<br>streams_per_capita=%{z}<extra></extra>",
           "locationmode": "country names",
           "locations": [
            "Australia",
            "Brazil",
            "Egypt",
            "Finland",
            "Germany",
            "Greece",
            "India",
            "Japan",
            "Nigeria",
            "South Africa",
            "Spain",
            "Sweden",
            "Ukraine",
            "United Kingdom",
            "United States"
           ],
           "name": "",
           "type": "choropleth",
           "z": [
            0.6234055350553506,
            0.2577349115651373,
            0.03083653353258084,
            0.6617199962757208,
            0.29824468241328234,
            0.43725116504854367,
            0.03368126806486562,
            0.14452883992222942,
            0.020670640934963458,
            0.04667110445271595,
            0.49908070578408853,
            0.855764,
            0.055179691766276316,
            0.3729855569621123,
            0.07486361187483893
           ]
          }
         ],
         "name": "2024-03-06"
        },
        {
         "data": [
          {
           "coloraxis": "coloraxis",
           "geo": "geo",
           "hovertemplate": "animation_frame=2024-03-07<br>country=%{location}<br>streams_per_capita=%{z}<extra></extra>",
           "locationmode": "country names",
           "locations": [
            "Australia",
            "Brazil",
            "Egypt",
            "Finland",
            "Germany",
            "Greece",
            "India",
            "Japan",
            "Nigeria",
            "South Africa",
            "Spain",
            "Sweden",
            "Ukraine",
            "United Kingdom",
            "United States"
           ],
           "name": "",
           "type": "choropleth",
           "z": [
            0.6222032103321034,
            0.2666088613424055,
            0.03349426219728425,
            0.6600043449923962,
            0.29939783241979656,
            0.44169728155339805,
            0.03371189077495286,
            0.14365857906675308,
            0.020829704287494526,
            0.04662137241879933,
            0.5002415953226144,
            0.865402380952381,
            0.055663855348583216,
            0.3677662072344933,
            0.07381601267172233
           ]
          }
         ],
         "name": "2024-03-07"
        },
        {
         "data": [
          {
           "coloraxis": "coloraxis",
           "geo": "geo",
           "hovertemplate": "animation_frame=2024-03-08<br>country=%{location}<br>streams_per_capita=%{z}<extra></extra>",
           "locationmode": "country names",
           "locations": [
            "Australia",
            "Brazil",
            "Egypt",
            "Finland",
            "Germany",
            "Greece",
            "India",
            "Japan",
            "Nigeria",
            "South Africa",
            "Spain",
            "Sweden",
            "Ukraine",
            "United Kingdom",
            "United States"
           ],
           "name": "",
           "type": "choropleth",
           "z": [
            0.6542230258302583,
            0.31167254196191946,
            0.02909419417637995,
            0.8607667581479692,
            0.3784353193455491,
            0.578531359223301,
            0.03237925084691139,
            0.13813822099805573,
            0.02148107170523054,
            0.05948712681668649,
            0.5720054499895594,
            1.080307142857143,
            0.05863837145804259,
            0.4323331816064608,
            0.08677554104779467
           ]
          }
         ],
         "name": "2024-03-08"
        },
        {
         "data": [
          {
           "coloraxis": "coloraxis",
           "geo": "geo",
           "hovertemplate": "animation_frame=2024-03-09<br>country=%{location}<br>streams_per_capita=%{z}<extra></extra>",
           "locationmode": "country names",
           "locations": [
            "Australia",
            "Brazil",
            "Egypt",
            "Finland",
            "Germany",
            "Greece",
            "India",
            "Japan",
            "Nigeria",
            "South Africa",
            "Spain",
            "Sweden",
            "Ukraine",
            "United Kingdom",
            "United States"
           ],
           "name": "",
           "type": "choropleth",
           "z": [
            0.6135094464944649,
            0.3312048145781253,
            0.031995147331056156,
            0.7356542095439088,
            0.3372181773647444,
            0.5393331067961165,
            0.033078376585312694,
            0.14847305573558003,
            0.021303589471557038,
            0.06631400682657111,
            0.5143136145333055,
            1.091354476190476,
            0.05694615011225047,
            0.39733998324095077,
            0.07975189851849185
           ]
          }
         ],
         "name": "2024-03-09"
        },
        {
         "data": [
          {
           "coloraxis": "coloraxis",
           "geo": "geo",
           "hovertemplate": "animation_frame=2024-03-10<br>country=%{location}<br>streams_per_capita=%{z}<extra></extra>",
           "locationmode": "country names",
           "locations": [
            "Australia",
            "Brazil",
            "Egypt",
            "Finland",
            "Germany",
            "Greece",
            "India",
            "Japan",
            "Nigeria",
            "South Africa",
            "Spain",
            "Sweden",
            "Ukraine",
            "United Kingdom",
            "United States"
           ],
           "name": "",
           "type": "choropleth",
           "z": [
            0.5928320664206642,
            0.27604805180159014,
            0.030952419460531084,
            0.6148474597312312,
            0.2604935010963614,
            0.46040699029126214,
            0.032387731489683394,
            0.15257765716137395,
            0.01914598278939746,
            0.05196543469195484,
            0.43457425349759865,
            0.8826092380952381,
            0.05427756204113828,
            0.347106415509546,
            0.06966929277803868
           ]
          }
         ],
         "name": "2024-03-10"
        },
        {
         "data": [
          {
           "coloraxis": "coloraxis",
           "geo": "geo",
           "hovertemplate": "animation_frame=2024-03-11<br>country=%{location}<br>streams_per_capita=%{z}<extra></extra>",
           "locationmode": "country names",
           "locations": [
            "Australia",
            "Brazil",
            "Egypt",
            "Finland",
            "Germany",
            "Greece",
            "India",
            "Japan",
            "Nigeria",
            "South Africa",
            "Spain",
            "Sweden",
            "Ukraine",
            "United Kingdom",
            "United States"
           ],
           "name": "",
           "type": "choropleth",
           "z": [
            0.6273785608856088,
            0.26537083435144637,
            0.014086230063742265,
            0.6766979831254684,
            0.28619748905032893,
            0.48667417475728153,
            0.03202975981843461,
            0.1403551523007129,
            0.018729526624229564,
            0.045124330084791574,
            0.49195132595531427,
            0.8636134285714285,
            0.05509920514531885,
            0.3715756293956413,
            0.0745806189595968
           ]
          }
         ],
         "name": "2024-03-11"
        },
        {
         "data": [
          {
           "coloraxis": "coloraxis",
           "geo": "geo",
           "hovertemplate": "animation_frame=2024-03-12<br>country=%{location}<br>streams_per_capita=%{z}<extra></extra>",
           "locationmode": "country names",
           "locations": [
            "Australia",
            "Brazil",
            "Egypt",
            "Finland",
            "Germany",
            "Greece",
            "India",
            "Japan",
            "Nigeria",
            "South Africa",
            "Spain",
            "Sweden",
            "Ukraine",
            "United Kingdom",
            "United States"
           ],
           "name": "",
           "type": "choropleth",
           "z": [
            0.6373961254612546,
            0.2706799052684999,
            0.014081556482649273,
            0.6664966503655557,
            0.2864325783642815,
            0.48857485436893205,
            0.030819394177363915,
            0.13908960628645495,
            0.019206800882422284,
            0.04562829165830077,
            0.5102035498016287,
            0.8371139047619047,
            0.054815211455615555,
            0.37652021251410805,
            0.07557306851844492
           ]
          }
         ],
         "name": "2024-03-12"
        },
        {
         "data": [
          {
           "coloraxis": "coloraxis",
           "geo": "geo",
           "hovertemplate": "animation_frame=2024-03-13<br>country=%{location}<br>streams_per_capita=%{z}<extra></extra>",
           "locationmode": "country names",
           "locations": [
            "Australia",
            "Brazil",
            "Egypt",
            "Finland",
            "Germany",
            "Greece",
            "India",
            "Japan",
            "Nigeria",
            "South Africa",
            "Spain",
            "Sweden",
            "Ukraine",
            "United Kingdom",
            "United States"
           ],
           "name": "",
           "type": "choropleth",
           "z": [
            0.6336040590405904,
            0.27000934157848244,
            0.015226961513550661,
            0.6506457634107303,
            0.2894227832674238,
            0.4925333980582524,
            0.03136074737407855,
            0.14376261341542448,
            0.019258862113098244,
            0.04480002162262344,
            0.510516663186469,
            0.8251296190476191,
            0.0546654935986894,
            0.37393107519820235,
            0.0750533911006721
           ]
          }
         ],
         "name": "2024-03-13"
        },
        {
         "data": [
          {
           "coloraxis": "coloraxis",
           "geo": "geo",
           "hovertemplate": "animation_frame=2024-03-14<br>country=%{location}<br>streams_per_capita=%{z}<extra></extra>",
           "locationmode": "country names",
           "locations": [
            "Australia",
            "Brazil",
            "Egypt",
            "Finland",
            "Germany",
            "Greece",
            "India",
            "Japan",
            "Nigeria",
            "South Africa",
            "Spain",
            "Sweden",
            "Ukraine",
            "United Kingdom",
            "United States"
           ],
           "name": "",
           "type": "choropleth",
           "z": [
            0.6348871586715867,
            0.2788027413867639,
            0.0165735382461659,
            0.6626476964889801,
            0.3011250680655552,
            0.47661223300970873,
            0.03139474900433638,
            0.1449200097213221,
            0.01892615607423125,
            0.04527259950267966,
            0.5146638546669451,
            0.8221852380952381,
            0.05541044232752867,
            0.3741889078520217,
            0.07510514185445841
           ]
          }
         ],
         "name": "2024-03-14"
        },
        {
         "data": [
          {
           "coloraxis": "coloraxis",
           "geo": "geo",
           "hovertemplate": "animation_frame=2024-03-15<br>country=%{location}<br>streams_per_capita=%{z}<extra></extra>",
           "locationmode": "country names",
           "locations": [
            "Australia",
            "Brazil",
            "Egypt",
            "Finland",
            "Germany",
            "Greece",
            "India",
            "Japan",
            "Nigeria",
            "South Africa",
            "Spain",
            "Sweden",
            "Ukraine",
            "United Kingdom",
            "United States"
           ],
           "name": "",
           "type": "choropleth",
           "z": [
            0.6289786715867158,
            0.3110063953160536,
            0.016496749892571366,
            0.8728853853077185,
            0.3590219303155683,
            0.5564188349514563,
            0.031811133027596264,
            0.14504337329876862,
            0.019836326664645854,
            0.05560705515313451,
            0.5759189392357486,
            0.9981499047619048,
            0.05888875068260421,
            0.39194448229111845,
            0.07866894320979716
           ]
          }
         ],
         "name": "2024-03-15"
        },
        {
         "data": [
          {
           "coloraxis": "coloraxis",
           "geo": "geo",
           "hovertemplate": "animation_frame=2024-03-16<br>country=%{location}<br>streams_per_capita=%{z}<extra></extra>",
           "locationmode": "country names",
           "locations": [
            "Australia",
            "Brazil",
            "Egypt",
            "Finland",
            "Germany",
            "Greece",
            "India",
            "Japan",
            "Nigeria",
            "South Africa",
            "Spain",
            "Sweden",
            "Ukraine",
            "United Kingdom",
            "United States"
           ],
           "name": "",
           "type": "choropleth",
           "z": [
            0.5954529151291513,
            0.33909618348589365,
            0.01673689642812737,
            0.7768945718630706,
            0.3219955488735281,
            0.5190690291262136,
            0.03245662365025614,
            0.15353866655865198,
            0.020414843723687313,
            0.06375205028804423,
            0.5450438087283358,
            0.930998,
            0.05749887749529761,
            0.3780683803370469,
            0.07588380825849708
           ]
          }
         ],
         "name": "2024-03-16"
        },
        {
         "data": [
          {
           "coloraxis": "coloraxis",
           "geo": "geo",
           "hovertemplate": "animation_frame=2024-03-17<br>country=%{location}<br>streams_per_capita=%{z}<extra></extra>",
           "locationmode": "country names",
           "locations": [
            "Australia",
            "Brazil",
            "Egypt",
            "Finland",
            "Germany",
            "Greece",
            "India",
            "Japan",
            "Nigeria",
            "South Africa",
            "Spain",
            "Sweden",
            "Ukraine",
            "United Kingdom",
            "United States"
           ],
           "name": "",
           "type": "choropleth",
           "z": [
            0.5854186715867159,
            0.2752776253218803,
            0.017020228741298205,
            0.627149995344651,
            0.2600783398067569,
            0.4321688349514563,
            0.030957953278373543,
            0.15134727802981204,
            0.018133137987942475,
            0.04912630701036341,
            0.45166782209229484,
            0.7395294285714286,
            0.05174282507129422,
            0.32863847234394317,
            0.06596250868554708
           ]
          }
         ],
         "name": "2024-03-17"
        },
        {
         "data": [
          {
           "coloraxis": "coloraxis",
           "geo": "geo",
           "hovertemplate": "animation_frame=2024-03-18<br>country=%{location}<br>streams_per_capita=%{z}<extra></extra>",
           "locationmode": "country names",
           "locations": [
            "Australia",
            "Brazil",
            "Egypt",
            "Finland",
            "Germany",
            "Greece",
            "India",
            "Japan",
            "Nigeria",
            "South Africa",
            "Spain",
            "Sweden",
            "Ukraine",
            "United Kingdom",
            "United States"
           ],
           "name": "",
           "type": "choropleth",
           "z": [
            0.601749852398524,
            0.25985439730842247,
            0.01736585658588632,
            0.6990789502853064,
            0.285523206509572,
            0.44317864077669905,
            0.03145965314539547,
            0.14156616169799094,
            0.019227211107743086,
            0.04368190031970593,
            0.5051516809354771,
            0.7488904761904762,
            0.053819519446635516,
            0.35393662971133655,
            0.07104021584859822
           ]
          }
         ],
         "name": "2024-03-18"
        },
        {
         "data": [
          {
           "coloraxis": "coloraxis",
           "geo": "geo",
           "hovertemplate": "animation_frame=2024-03-19<br>country=%{location}<br>streams_per_capita=%{z}<extra></extra>",
           "locationmode": "country names",
           "locations": [
            "Australia",
            "Brazil",
            "Egypt",
            "Finland",
            "Germany",
            "Greece",
            "India",
            "Japan",
            "Nigeria",
            "South Africa",
            "Spain",
            "Sweden",
            "Ukraine",
            "United Kingdom",
            "United States"
           ],
           "name": "",
           "type": "choropleth",
           "z": [
            0.607639446494465,
            0.2614766601507434,
            0.017823763675641802,
            0.6837349199945022,
            0.294345189432104,
            0.44249601941747574,
            0.03196805104277794,
            0.13796995301360984,
            0.01996165925701391,
            0.046733176826725564,
            0.5025667780329923,
            0.747351619047619,
            0.05432027789575875,
            0.36313358390216016,
            0.07288617796729344
           ]
          }
         ],
         "name": "2024-03-19"
        },
        {
         "data": [
          {
           "coloraxis": "coloraxis",
           "geo": "geo",
           "hovertemplate": "animation_frame=2024-03-20<br>country=%{location}<br>streams_per_capita=%{z}<extra></extra>",
           "locationmode": "country names",
           "locations": [
            "Australia",
            "Brazil",
            "Egypt",
            "Finland",
            "Germany",
            "Greece",
            "India",
            "Japan",
            "Nigeria",
            "South Africa",
            "Spain",
            "Sweden",
            "Ukraine",
            "United Kingdom",
            "United States"
           ],
           "name": "",
           "type": "choropleth",
           "z": [
            0.609429225092251,
            0.26761872450801644,
            0.018682607373708107,
            0.6796910621732942,
            0.3008563843055269,
            0.4561745631067961,
            0.03217193226724009,
            0.15100268146467918,
            0.01968031979387693,
            0.05115770614854742,
            0.5177559615786177,
            0.7423037142857143,
            0.05489715429888963,
            0.36191378246567735,
            0.07264134612434221
           ]
          }
         ],
         "name": "2024-03-20"
        },
        {
         "data": [
          {
           "coloraxis": "coloraxis",
           "geo": "geo",
           "hovertemplate": "animation_frame=2024-03-21<br>country=%{location}<br>streams_per_capita=%{z}<extra></extra>",
           "locationmode": "country names",
           "locations": [
            "Australia",
            "Brazil",
            "Egypt",
            "Finland",
            "Germany",
            "Greece",
            "India",
            "Japan",
            "Nigeria",
            "South Africa",
            "Spain",
            "Sweden",
            "Ukraine",
            "United Kingdom",
            "United States"
           ],
           "name": "",
           "type": "choropleth",
           "z": [
            0.6138470479704797,
            0.27371233765013253,
            0.019296489331455932,
            0.6783841948684753,
            0.2967438711798166,
            0.4517801941747573,
            0.032164940686744685,
            0.14212764095917044,
            0.019500740965275674,
            0.053705515313450816,
            0.5305981624556275,
            0.7522251428571428,
            0.05500803956070627,
            0.3627136481776537,
            0.07280189077572524
           ]
          }
         ],
         "name": "2024-03-21"
        },
        {
         "data": [
          {
           "coloraxis": "coloraxis",
           "geo": "geo",
           "hovertemplate": "animation_frame=2024-03-22<br>country=%{location}<br>streams_per_capita=%{z}<extra></extra>",
           "locationmode": "country names",
           "locations": [
            "Australia",
            "Brazil",
            "Egypt",
            "Finland",
            "Germany",
            "Greece",
            "India",
            "Japan",
            "Nigeria",
            "South Africa",
            "Spain",
            "Sweden",
            "Ukraine",
            "United Kingdom",
            "United States"
           ],
           "name": "",
           "type": "choropleth",
           "z": [
            0.6347522509225092,
            0.32082393380072555,
            0.018258189560996743,
            0.9228127175267239,
            0.3748409529773739,
            0.5644152427184466,
            0.03155285703189146,
            0.14159680816591055,
            0.021404903842915362,
            0.06655332293388111,
            0.5949240551263312,
            0.9995188571428572,
            0.05489724531278442,
            0.43060200694617373,
            0.08642806918075814
           ]
          }
         ],
         "name": "2024-03-22"
        },
        {
         "data": [
          {
           "coloraxis": "coloraxis",
           "geo": "geo",
           "hovertemplate": "animation_frame=2024-03-23<br>country=%{location}<br>streams_per_capita=%{z}<extra></extra>",
           "locationmode": "country names",
           "locations": [
            "Australia",
            "Brazil",
            "Egypt",
            "Finland",
            "Germany",
            "Greece",
            "India",
            "Japan",
            "Nigeria",
            "South Africa",
            "Spain",
            "Sweden",
            "Ukraine",
            "United Kingdom",
            "United States"
           ],
           "name": "",
           "type": "choropleth",
           "z": [
            0.5841418081180811,
            0.3171835516794166,
            0.019134349113052028,
            0.7825322438338794,
            0.32194493579463457,
            0.5107254368932039,
            0.03238830965282957,
            0.14549639500972134,
            0.02176321528409282,
            0.06254799450167575,
            0.5490304238880769,
            0.9201153333333333,
            0.05586138583823797,
            0.3842054742702099,
            0.07711561203662141
           ]
          }
         ],
         "name": "2024-03-23"
        },
        {
         "data": [
          {
           "coloraxis": "coloraxis",
           "geo": "geo",
           "hovertemplate": "animation_frame=2024-03-24<br>country=%{location}<br>streams_per_capita=%{z}<extra></extra>",
           "locationmode": "country names",
           "locations": [
            "Australia",
            "Brazil",
            "Egypt",
            "Finland",
            "Germany",
            "Greece",
            "India",
            "Japan",
            "Nigeria",
            "South Africa",
            "Spain",
            "Sweden",
            "Ukraine",
            "United Kingdom",
            "United States"
           ],
           "name": "",
           "type": "choropleth",
           "z": [
            0.584519852398524,
            0.26695330620453733,
            0.019419739690219373,
            0.6261190793936519,
            0.2637122846691153,
            0.4579111650485437,
            0.029836860564381663,
            0.14874101587815944,
            0.019349331447239906,
            0.05075946375893864,
            0.4426501148465233,
            0.7368569523809524,
            0.05168278623869911,
            0.35034557647073195,
            0.07031943937077387
           ]
          }
         ],
         "name": "2024-03-24"
        },
        {
         "data": [
          {
           "coloraxis": "coloraxis",
           "geo": "geo",
           "hovertemplate": "animation_frame=2024-03-25<br>country=%{location}<br>streams_per_capita=%{z}<extra></extra>",
           "locationmode": "country names",
           "locations": [
            "Australia",
            "Brazil",
            "Egypt",
            "Finland",
            "Germany",
            "Greece",
            "India",
            "Japan",
            "Nigeria",
            "South Africa",
            "Spain",
            "Sweden",
            "Ukraine",
            "United Kingdom",
            "United States"
           ],
           "name": "",
           "type": "choropleth",
           "z": [
            0.611299704797048,
            0.2673484061049189,
            0.019666863551891983,
            0.7051238101149649,
            0.3073230458929336,
            0.41687029126213593,
            0.027103745190717267,
            0.14451871354504212,
            0.019583505944562325,
            0.0510225956414969,
            0.4989201921069117,
            0.7796707619047619,
            0.05580007281111583,
            0.36463745390422814,
            0.07318802649210499
           ]
          }
         ],
         "name": "2024-03-25"
        },
        {
         "data": [
          {
           "coloraxis": "coloraxis",
           "geo": "geo",
           "hovertemplate": "animation_frame=2024-03-26<br>country=%{location}<br>streams_per_capita=%{z}<extra></extra>",
           "locationmode": "country names",
           "locations": [
            "Australia",
            "Brazil",
            "Egypt",
            "Finland",
            "Germany",
            "Greece",
            "India",
            "Japan",
            "Nigeria",
            "South Africa",
            "Spain",
            "Sweden",
            "Ukraine",
            "United Kingdom",
            "United States"
           ],
           "name": "",
           "type": "choropleth",
           "z": [
            0.6252119557195572,
            0.2673185769599459,
            0.019383342407161837,
            0.7030137399300368,
            0.3062981579735562,
            0.4304664077669903,
            0.029328657908775074,
            0.14639943292287752,
            0.020064535549493112,
            0.05242057547067818,
            0.505270348715807,
            0.7921396190476191,
            0.056811510223894184,
            0.3778526188940548,
            0.07584050180701601
           ]
          }
         ],
         "name": "2024-03-26"
        },
        {
         "data": [
          {
           "coloraxis": "coloraxis",
           "geo": "geo",
           "hovertemplate": "animation_frame=2024-03-27<br>country=%{location}<br>streams_per_capita=%{z}<extra></extra>",
           "locationmode": "country names",
           "locations": [
            "Australia",
            "Brazil",
            "Egypt",
            "Finland",
            "Germany",
            "Greece",
            "India",
            "Japan",
            "Nigeria",
            "South Africa",
            "Spain",
            "Sweden",
            "Ukraine",
            "United Kingdom",
            "United States"
           ],
           "name": "",
           "type": "choropleth",
           "z": [
            0.6383672324723247,
            0.28184056350205816,
            0.02050507740210337,
            0.730250635122613,
            0.31786207961134516,
            0.4568109708737864,
            0.03069603093626288,
            0.1540139987038237,
            0.019988451887777443,
            0.05519861924104592,
            0.5412520567968261,
            0.8304587619047619,
            0.05756883684242461,
            0.38075850613743817,
            0.07642375553006243
           ]
          }
         ],
         "name": "2024-03-27"
        },
        {
         "data": [
          {
           "coloraxis": "coloraxis",
           "geo": "geo",
           "hovertemplate": "animation_frame=2024-03-28<br>country=%{location}<br>streams_per_capita=%{z}<extra></extra>",
           "locationmode": "country names",
           "locations": [
            "Australia",
            "Brazil",
            "Egypt",
            "Finland",
            "Germany",
            "Greece",
            "India",
            "Japan",
            "Nigeria",
            "South Africa",
            "Spain",
            "Sweden",
            "Ukraine",
            "United Kingdom",
            "United States"
           ],
           "name": "",
           "type": "choropleth",
           "z": [
            0.638249594095941,
            0.3015593387590925,
            0.021570361202388352,
            0.8234014196597605,
            0.3342251001185105,
            0.4732171844660194,
            0.03118865962288787,
            0.14853120544394038,
            0.01996529251288269,
            0.06149307303813304,
            0.5121559406974316,
            0.9223060952380953,
            0.05795455372853589,
            0.3862270311074562,
            0.0775213678189074
           ]
          }
         ],
         "name": "2024-03-28"
        },
        {
         "data": [
          {
           "coloraxis": "coloraxis",
           "geo": "geo",
           "hovertemplate": "animation_frame=2024-03-29<br>country=%{location}<br>streams_per_capita=%{z}<extra></extra>",
           "locationmode": "country names",
           "locations": [
            "Australia",
            "Brazil",
            "Egypt",
            "Finland",
            "Germany",
            "Greece",
            "India",
            "Japan",
            "Nigeria",
            "South Africa",
            "Spain",
            "Sweden",
            "Ukraine",
            "United Kingdom",
            "United States"
           ],
           "name": "",
           "type": "choropleth",
           "z": [
            0.6131857933579336,
            0.2875202761122493,
            0.020117849964998654,
            0.7845169299525154,
            0.31303575332307954,
            0.5518888349514564,
            0.03137648083634185,
            0.15046593486714194,
            0.02028267825266916,
            0.06638593293897786,
            0.4763400083524744,
            0.9068282857142858,
            0.05859850737212548,
            0.44740864999036334,
            0.08980140623977724
           ]
          }
         ],
         "name": "2024-03-29"
        },
        {
         "data": [
          {
           "coloraxis": "coloraxis",
           "geo": "geo",
           "hovertemplate": "animation_frame=2024-03-30<br>country=%{location}<br>streams_per_capita=%{z}<extra></extra>",
           "locationmode": "country names",
           "locations": [
            "Australia",
            "Brazil",
            "Egypt",
            "Finland",
            "Germany",
            "Greece",
            "India",
            "Japan",
            "Nigeria",
            "South Africa",
            "Spain",
            "Sweden",
            "Ukraine",
            "United Kingdom",
            "United States"
           ],
           "name": "",
           "type": "choropleth",
           "z": [
            0.5810325830258303,
            0.30770392177132866,
            0.020189341593354466,
            0.7090653389315752,
            0.32064357288459294,
            0.5231146601941747,
            0.03128918026368205,
            0.15845129617627998,
            0.020703980162338757,
            0.06065300322794879,
            0.47269734808937147,
            0.8349112380952382,
            0.059301741399186945,
            0.4022277878033011,
            0.08073295179748795
           ]
          }
         ],
         "name": "2024-03-30"
        },
        {
         "data": [
          {
           "coloraxis": "coloraxis",
           "geo": "geo",
           "hovertemplate": "animation_frame=2024-03-31<br>country=%{location}<br>streams_per_capita=%{z}<extra></extra>",
           "locationmode": "country names",
           "locations": [
            "Australia",
            "Brazil",
            "Egypt",
            "Finland",
            "Germany",
            "Greece",
            "India",
            "Japan",
            "Nigeria",
            "South Africa",
            "Spain",
            "Sweden",
            "Ukraine",
            "United Kingdom",
            "United States"
           ],
           "name": "",
           "type": "choropleth",
           "z": [
            0.542820811808118,
            0.2908446798112888,
            0.019950441346089923,
            0.6149464191498889,
            0.26289038762964173,
            0.4361255339805825,
            0.030161711943248244,
            0.16051023169151005,
            0.01831761308140514,
            0.05149052465751309,
            0.42084149091668405,
            0.7146439047619048,
            0.05300048540743887,
            0.33985862403204536,
            0.06821455589079645
           ]
          }
         ],
         "name": "2024-03-31"
        },
        {
         "data": [
          {
           "coloraxis": "coloraxis",
           "geo": "geo",
           "hovertemplate": "animation_frame=2024-04-01<br>country=%{location}<br>streams_per_capita=%{z}<extra></extra>",
           "locationmode": "country names",
           "locations": [
            "Australia",
            "Brazil",
            "Egypt",
            "Finland",
            "Germany",
            "Greece",
            "India",
            "Japan",
            "Nigeria",
            "South Africa",
            "Spain",
            "Sweden",
            "Ukraine",
            "United Kingdom",
            "United States"
           ],
           "name": "",
           "type": "choropleth",
           "z": [
            0.5905187822878228,
            0.26030899573332333,
            0.020364350682525532,
            0.6159553441189641,
            0.2532291539281243,
            0.46304106796116506,
            0.030551082479390493,
            0.14916646953985743,
            0.020106917921255598,
            0.05174117719739911,
            0.4975310085612863,
            0.7078684761904762,
            0.055758479461197746,
            0.34706750842878104,
            0.06966148356253636
           ]
          }
         ],
         "name": "2024-04-01"
        },
        {
         "data": [
          {
           "coloraxis": "coloraxis",
           "geo": "geo",
           "hovertemplate": "animation_frame=2024-04-02<br>country=%{location}<br>streams_per_capita=%{z}<extra></extra>",
           "locationmode": "country names",
           "locations": [
            "Australia",
            "Brazil",
            "Egypt",
            "Finland",
            "Germany",
            "Greece",
            "India",
            "Japan",
            "Nigeria",
            "South Africa",
            "Spain",
            "Sweden",
            "Ukraine",
            "United Kingdom",
            "United States"
           ],
           "name": "",
           "type": "choropleth",
           "z": [
            0.6165188560885608,
            0.2601214029284063,
            0.020773322073685114,
            0.638775244184139,
            0.29614783605211376,
            0.4668223300970874,
            0.03087202421044219,
            0.15049685677252106,
            0.01954390219258361,
            0.0495984061037577,
            0.5098790144080184,
            0.7213017142857143,
            0.055943268005582185,
            0.37792389971295626,
            0.07585480890138134
           ]
          }
         ],
         "name": "2024-04-02"
        },
        {
         "data": [
          {
           "coloraxis": "coloraxis",
           "geo": "geo",
           "hovertemplate": "animation_frame=2024-04-03<br>country=%{location}<br>streams_per_capita=%{z}<extra></extra>",
           "locationmode": "country names",
           "locations": [
            "Australia",
            "Brazil",
            "Egypt",
            "Finland",
            "Germany",
            "Greece",
            "India",
            "Japan",
            "Nigeria",
            "South Africa",
            "Spain",
            "Sweden",
            "Ukraine",
            "United Kingdom",
            "United States"
           ],
           "name": "",
           "type": "choropleth",
           "z": [
            0.6123932103321034,
            0.2646044912880853,
            0.021004754032778836,
            0.6419031066695633,
            0.29214595600781557,
            0.4597366019417476,
            0.031157448437588827,
            0.14904099967595594,
            0.01959976508032737,
            0.045125843668432516,
            0.5257790770515766,
            0.7377182857142858,
            0.05585319458770706,
            0.3702584870134947,
            0.07431624937680638
           ]
          }
         ],
         "name": "2024-04-03"
        },
        {
         "data": [
          {
           "coloraxis": "coloraxis",
           "geo": "geo",
           "hovertemplate": "animation_frame=2024-04-04<br>country=%{location}<br>streams_per_capita=%{z}<extra></extra>",
           "locationmode": "country names",
           "locations": [
            "Australia",
            "Brazil",
            "Egypt",
            "Finland",
            "Germany",
            "Greece",
            "India",
            "Japan",
            "Nigeria",
            "South Africa",
            "Spain",
            "Sweden",
            "Ukraine",
            "United Kingdom",
            "United States"
           ],
           "name": "",
           "type": "choropleth",
           "z": [
            0.6106598523985239,
            0.26748641993872524,
            0.022248087110339824,
            0.6681420723840263,
            0.2990673573790099,
            0.46331106796116506,
            0.031345356959865116,
            0.1546930249513934,
            0.019557096426526557,
            0.046683630129581294,
            0.5408444351639173,
            0.7427830476190476,
            0.055879042533826834,
            0.3735222725239148,
            0.0749713384737808
           ]
          }
         ],
         "name": "2024-04-04"
        },
        {
         "data": [
          {
           "coloraxis": "coloraxis",
           "geo": "geo",
           "hovertemplate": "animation_frame=2024-04-05<br>country=%{location}<br>streams_per_capita=%{z}<extra></extra>",
           "locationmode": "country names",
           "locations": [
            "Australia",
            "Brazil",
            "Egypt",
            "Finland",
            "Germany",
            "Greece",
            "India",
            "Japan",
            "Nigeria",
            "South Africa",
            "Spain",
            "Sweden",
            "Ukraine",
            "United Kingdom",
            "United States"
           ],
           "name": "",
           "type": "choropleth",
           "z": [
            0.6175578597785978,
            0.3015520694321749,
            0.020517861298668845,
            0.8258216690977933,
            0.3689790273236184,
            0.5566845631067961,
            0.03199752980105157,
            0.14953632534024627,
            0.021333333333333333,
            0.06717801596985189,
            0.5978640634788056,
            0.9254862857142857,
            0.0599175110733572,
            0.4088740137014742,
            0.08206694574654554
           ]
          }
         ],
         "name": "2024-04-05"
        },
        {
         "data": [
          {
           "coloraxis": "coloraxis",
           "geo": "geo",
           "hovertemplate": "animation_frame=2024-04-06<br>country=%{location}<br>streams_per_capita=%{z}<extra></extra>",
           "locationmode": "country names",
           "locations": [
            "Australia",
            "Brazil",
            "Egypt",
            "Finland",
            "Germany",
            "Greece",
            "India",
            "Japan",
            "Nigeria",
            "South Africa",
            "Spain",
            "Sweden",
            "Ukraine",
            "United Kingdom",
            "United States"
           ],
           "name": "",
           "type": "choropleth",
           "z": [
            0.5712118081180811,
            0.33284942108527715,
            0.021849718611235653,
            0.7402909371439212,
            0.3565661487808136,
            0.5545760194174757,
            0.03247642075384769,
            0.1580698639014906,
            0.02075734229227712,
            0.06615072513012185,
            0.5428466903320108,
            0.8674604761904762,
            0.05986639160245131,
            0.37191666695109654,
            0.07464907014412601
           ]
          }
         ],
         "name": "2024-04-06"
        },
        {
         "data": [
          {
           "coloraxis": "coloraxis",
           "geo": "geo",
           "hovertemplate": "animation_frame=2024-04-07<br>country=%{location}<br>streams_per_capita=%{z}<extra></extra>",
           "locationmode": "country names",
           "locations": [
            "Australia",
            "Brazil",
            "Egypt",
            "Finland",
            "Germany",
            "Greece",
            "India",
            "Japan",
            "Nigeria",
            "South Africa",
            "Spain",
            "Sweden",
            "Ukraine",
            "United Kingdom",
            "United States"
           ],
           "name": "",
           "type": "choropleth",
           "z": [
            0.5705250184501846,
            0.2700681258575644,
            0.023684207768381173,
            0.5805612134056316,
            0.27416597389341724,
            0.47696165048543687,
            0.03128826455225433,
            0.16506315618924175,
            0.01784670017850527,
            0.050564999150539795,
            0.45804387137189395,
            0.7055608571428571,
            0.0547819307080881,
            0.327139729404476,
            0.06566168923657356
           ]
          }
         ],
         "name": "2024-04-07"
        },
        {
         "data": [
          {
           "coloraxis": "coloraxis",
           "geo": "geo",
           "hovertemplate": "animation_frame=2024-04-08<br>country=%{location}<br>streams_per_capita=%{z}<extra></extra>",
           "locationmode": "country names",
           "locations": [
            "Australia",
            "Brazil",
            "Egypt",
            "Finland",
            "Germany",
            "Greece",
            "India",
            "Japan",
            "Nigeria",
            "South Africa",
            "Spain",
            "Sweden",
            "Ukraine",
            "United Kingdom",
            "United States"
           ],
           "name": "",
           "type": "choropleth",
           "z": [
            0.6041808856088561,
            0.25468845741781476,
            0.026487487799002854,
            0.6921037300429622,
            0.3165313828974804,
            0.4992919417475728,
            0.03149214577671648,
            0.1482553629293584,
            0.019514928766292815,
            0.04796952754567779,
            0.5165125078304448,
            0.7890161904761904,
            0.05789181481706207,
            0.3609982941676777,
            0.07245759434270321
           ]
          }
         ],
         "name": "2024-04-08"
        },
        {
         "data": [
          {
           "coloraxis": "coloraxis",
           "geo": "geo",
           "hovertemplate": "animation_frame=2024-04-09<br>country=%{location}<br>streams_per_capita=%{z}<extra></extra>",
           "locationmode": "country names",
           "locations": [
            "Australia",
            "Brazil",
            "Egypt",
            "Finland",
            "Germany",
            "Greece",
            "India",
            "Japan",
            "Nigeria",
            "South Africa",
            "Spain",
            "Sweden",
            "Ukraine",
            "United Kingdom",
            "United States"
           ],
           "name": "",
           "type": "choropleth",
           "z": [
            0.6075049077490775,
            0.26344654906678194,
            0.03139714610744654,
            0.6930858756711461,
            0.30393275950141774,
            0.5055266990291262,
            0.030489860433231437,
            0.14764677576150356,
            0.01975493836516116,
            0.04846002131372882,
            0.5248229066610983,
            0.791624380952381,
            0.057732237121533886,
            0.36438181856295204,
            0.0731367167708207
           ]
          }
         ],
         "name": "2024-04-09"
        },
        {
         "data": [
          {
           "coloraxis": "coloraxis",
           "geo": "geo",
           "hovertemplate": "animation_frame=2024-04-10<br>country=%{location}<br>streams_per_capita=%{z}<extra></extra>",
           "locationmode": "country names",
           "locations": [
            "Australia",
            "Brazil",
            "Egypt",
            "Finland",
            "Germany",
            "Greece",
            "India",
            "Japan",
            "Nigeria",
            "South Africa",
            "Spain",
            "Sweden",
            "Ukraine",
            "United Kingdom",
            "United States"
           ],
           "name": "",
           "type": "choropleth",
           "z": [
            0.6068533948339483,
            0.2766197394883747,
            0.0323273586933551,
            0.6724581572798575,
            0.3108126315787458,
            0.5113407766990291,
            0.031761073448743384,
            0.15067120058327932,
            0.020121379374221145,
            0.04900968384635582,
            0.5358062852370015,
            0.8014051428571428,
            0.05750864632000485,
            0.36437808313162856,
            0.07313596701556728
           ]
          }
         ],
         "name": "2024-04-10"
        },
        {
         "data": [
          {
           "coloraxis": "coloraxis",
           "geo": "geo",
           "hovertemplate": "animation_frame=2024-04-11<br>country=%{location}<br>streams_per_capita=%{z}<extra></extra>",
           "locationmode": "country names",
           "locations": [
            "Australia",
            "Brazil",
            "Egypt",
            "Finland",
            "Germany",
            "Greece",
            "India",
            "Japan",
            "Nigeria",
            "South Africa",
            "Spain",
            "Sweden",
            "Ukraine",
            "United Kingdom",
            "United States"
           ],
           "name": "",
           "type": "choropleth",
           "z": [
            0.6068613284132841,
            0.2807370918933143,
            0.033246033670989654,
            0.693971012693585,
            0.3158526482249315,
            0.5132403883495146,
            0.031672569801760385,
            0.15048217757615034,
            0.02123080647334209,
            0.050114769796284,
            0.549134558362915,
            0.7915328571428571,
            0.05704289788241005,
            0.3715460242713093,
            0.07457467678168633
           ]
          }
         ],
         "name": "2024-04-11"
        },
        {
         "data": [
          {
           "coloraxis": "coloraxis",
           "geo": "geo",
           "hovertemplate": "animation_frame=2024-04-12<br>country=%{location}<br>streams_per_capita=%{z}<extra></extra>",
           "locationmode": "country names",
           "locations": [
            "Australia",
            "Brazil",
            "Egypt",
            "Finland",
            "Germany",
            "Greece",
            "India",
            "Japan",
            "Nigeria",
            "South Africa",
            "Spain",
            "Sweden",
            "Ukraine",
            "United Kingdom",
            "United States"
           ],
           "name": "",
           "type": "choropleth",
           "z": [
            0.6242246125461255,
            0.3085153938687668,
            0.03139931767037863,
            0.9498071798782516,
            0.4228538073829223,
            0.5508460194174757,
            0.03297293021450381,
            0.1461175550874919,
            0.0302927739045502,
            0.060649852502818666,
            0.6183348298183337,
            0.9767755238095238,
            0.061050846429221525,
            0.41547913520633917,
            0.0833926894475988
           ]
          }
         ],
         "name": "2024-04-12"
        },
        {
         "data": [
          {
           "coloraxis": "coloraxis",
           "geo": "geo",
           "hovertemplate": "animation_frame=2024-04-13<br>country=%{location}<br>streams_per_capita=%{z}<extra></extra>",
           "locationmode": "country names",
           "locations": [
            "Australia",
            "Brazil",
            "Egypt",
            "Finland",
            "Germany",
            "Greece",
            "India",
            "Japan",
            "Nigeria",
            "South Africa",
            "Spain",
            "Sweden",
            "Ukraine",
            "United Kingdom",
            "United States"
           ],
           "name": "",
           "type": "choropleth",
           "z": [
            0.5744049446494465,
            0.33972214912692894,
            0.030673600221627826,
            0.7863283484151862,
            0.37634795171658286,
            0.54669,
            0.03369705721228331,
            0.16158954957874272,
            0.025096510727156376,
            0.06481719616352881,
            0.5814864063478805,
            0.8854408571428571,
            0.060386050603725504,
            0.37611510132489306,
            0.075491756826157
           ]
          }
         ],
         "name": "2024-04-13"
        },
        {
         "data": [
          {
           "coloraxis": "coloraxis",
           "geo": "geo",
           "hovertemplate": "animation_frame=2024-04-14<br>country=%{location}<br>streams_per_capita=%{z}<extra></extra>",
           "locationmode": "country names",
           "locations": [
            "Australia",
            "Brazil",
            "Egypt",
            "Finland",
            "Germany",
            "Greece",
            "India",
            "Japan",
            "Nigeria",
            "South Africa",
            "Spain",
            "Sweden",
            "Ukraine",
            "United Kingdom",
            "United States"
           ],
           "name": "",
           "type": "choropleth",
           "z": [
            0.5588714022140221,
            0.2660569328797248,
            0.0297467016295852,
            0.6199628458813462,
            0.28612834935849446,
            0.4699649514563107,
            0.031033394975561793,
            0.16792406837329876,
            0.021580950456367248,
            0.051563377453781645,
            0.47681626644393404,
            0.6822420952380952,
            0.0547150658333839,
            0.33649480220590844,
            0.06753938805411368
           ]
          }
         ],
         "name": "2024-04-14"
        },
        {
         "data": [
          {
           "coloraxis": "coloraxis",
           "geo": "geo",
           "hovertemplate": "animation_frame=2024-04-15<br>country=%{location}<br>streams_per_capita=%{z}<extra></extra>",
           "locationmode": "country names",
           "locations": [
            "Australia",
            "Brazil",
            "Egypt",
            "Finland",
            "Germany",
            "Greece",
            "India",
            "Japan",
            "Nigeria",
            "South Africa",
            "Spain",
            "Sweden",
            "Ukraine",
            "United Kingdom",
            "United States"
           ],
           "name": "",
           "type": "choropleth",
           "z": [
            0.5965918819188192,
            0.2567673345488036,
            0.0282871564166111,
            0.7103028637046824,
            0.31733054055414534,
            0.4685050485436893,
            0.0316960593123176,
            0.1475529082955282,
            0.021001342999562158,
            0.04586544550326656,
            0.5209278137398204,
            0.76935,
            0.056670620714762455,
            0.3602056649383436,
            0.07229850215836015
           ]
          }
         ],
         "name": "2024-04-15"
        },
        {
         "data": [
          {
           "coloraxis": "coloraxis",
           "geo": "geo",
           "hovertemplate": "animation_frame=2024-04-16<br>country=%{location}<br>streams_per_capita=%{z}<extra></extra>",
           "locationmode": "country names",
           "locations": [
            "Australia",
            "Brazil",
            "Egypt",
            "Finland",
            "Germany",
            "Greece",
            "India",
            "Japan",
            "Nigeria",
            "South Africa",
            "Spain",
            "Sweden",
            "Ukraine",
            "United Kingdom",
            "United States"
           ],
           "name": "",
           "type": "choropleth",
           "z": [
            0.6073308856088561,
            0.26493093434580756,
            0.029324342080870345,
            0.6950418316359783,
            0.31414782882338366,
            0.47874281553398057,
            0.03214302685981534,
            0.14543660887880752,
            0.0215776203226567,
            0.04724452098166711,
            0.5319600542910837,
            0.760698,
            0.05642776530550331,
            0.38398357500084707,
            0.07707107363435138
           ]
          }
         ],
         "name": "2024-04-16"
        },
        {
         "data": [
          {
           "coloraxis": "coloraxis",
           "geo": "geo",
           "hovertemplate": "animation_frame=2024-04-17<br>country=%{location}<br>streams_per_capita=%{z}<extra></extra>",
           "locationmode": "country names",
           "locations": [
            "Australia",
            "Brazil",
            "Egypt",
            "Finland",
            "Germany",
            "Greece",
            "India",
            "Japan",
            "Nigeria",
            "South Africa",
            "Spain",
            "Sweden",
            "Ukraine",
            "United Kingdom",
            "United States"
           ],
           "name": "",
           "type": "choropleth",
           "z": [
            0.6017553874538746,
            0.2602638056124655,
            0.029281845538447007,
            0.6851545797549956,
            0.31402248695172325,
            0.481247572815534,
            0.032105873862301765,
            0.14706660725858717,
            0.021160225320804284,
            0.048466508100761425,
            0.5211276884527041,
            0.7622340952380953,
            0.0561209878041381,
            0.3772472299909021,
            0.07571899147227787
           ]
          }
         ],
         "name": "2024-04-17"
        },
        {
         "data": [
          {
           "coloraxis": "coloraxis",
           "geo": "geo",
           "hovertemplate": "animation_frame=2024-04-18<br>country=%{location}<br>streams_per_capita=%{z}<extra></extra>",
           "locationmode": "country names",
           "locations": [
            "Australia",
            "Brazil",
            "Egypt",
            "Finland",
            "Germany",
            "Greece",
            "India",
            "Japan",
            "Nigeria",
            "South Africa",
            "Spain",
            "Sweden",
            "Ukraine",
            "United Kingdom",
            "United States"
           ],
           "name": "",
           "type": "choropleth",
           "z": [
            0.6134470110701107,
            0.2690613969137079,
            0.03200628839305561,
            0.7075669372680639,
            0.3204457163179654,
            0.49903233009708736,
            0.03238361216320075,
            0.14817358230719377,
            0.02371472415883601,
            0.049921154648091805,
            0.5446105449989559,
            0.7617292380952381,
            0.058136520842181905,
            0.38320661993432115,
            0.07691512748185601
           ]
          }
         ],
         "name": "2024-04-18"
        },
        {
         "data": [
          {
           "coloraxis": "coloraxis",
           "geo": "geo",
           "hovertemplate": "animation_frame=2024-04-19<br>country=%{location}<br>streams_per_capita=%{z}<extra></extra>",
           "locationmode": "country names",
           "locations": [
            "Australia",
            "Brazil",
            "Egypt",
            "Finland",
            "Germany",
            "Greece",
            "India",
            "Japan",
            "Nigeria",
            "South Africa",
            "Spain",
            "Sweden",
            "Ukraine",
            "United Kingdom",
            "United States"
           ],
           "name": "",
           "type": "choropleth",
           "z": [
            1.033040073800738,
            0.3372020562750221,
            0.029702562252595842,
            1.1013257547207456,
            0.4536277082874207,
            0.5402400970873786,
            0.03257960328251583,
            0.14498653596889177,
            0.0244778594523593,
            0.06646522618808594,
            0.649142660263103,
            1.0750288571428572,
            0.06064977853285602,
            0.6791114196984294,
            0.13630751324035434
           ]
          }
         ],
         "name": "2024-04-19"
        },
        {
         "data": [
          {
           "coloraxis": "coloraxis",
           "geo": "geo",
           "hovertemplate": "animation_frame=2024-04-20<br>country=%{location}<br>streams_per_capita=%{z}<extra></extra>",
           "locationmode": "country names",
           "locations": [
            "Australia",
            "Brazil",
            "Egypt",
            "Finland",
            "Germany",
            "Greece",
            "India",
            "Japan",
            "Nigeria",
            "South Africa",
            "Spain",
            "Sweden",
            "Ukraine",
            "United Kingdom",
            "United States"
           ],
           "name": "",
           "type": "choropleth",
           "z": [
            0.8615844649446495,
            0.34386556679134633,
            0.02964732902149686,
            0.858203744674059,
            0.3866625716628657,
            0.532863495145631,
            0.03302199639770124,
            0.15783873136746598,
            0.02375016419116904,
            0.06828994393562636,
            0.5845085821674672,
            0.9255809523809524,
            0.061311874279473336,
            0.5404472283971181,
            0.10847559855960902
           ]
          }
         ],
         "name": "2024-04-20"
        },
        {
         "data": [
          {
           "coloraxis": "coloraxis",
           "geo": "geo",
           "hovertemplate": "animation_frame=2024-04-21<br>country=%{location}<br>streams_per_capita=%{z}<extra></extra>",
           "locationmode": "country names",
           "locations": [
            "Australia",
            "Brazil",
            "Egypt",
            "Finland",
            "Germany",
            "Greece",
            "India",
            "Japan",
            "Nigeria",
            "South Africa",
            "Spain",
            "Sweden",
            "Ukraine",
            "United Kingdom",
            "United States"
           ],
           "name": "",
           "type": "choropleth",
           "z": [
            0.8132863468634687,
            0.28979255399131626,
            0.02934863526097593,
            0.6999050308804817,
            0.3059762760258519,
            0.45313106796116503,
            0.03194293428826471,
            0.162311884316267,
            0.02113432521639554,
            0.054821273572520736,
            0.4761585717268741,
            0.7292177142857142,
            0.05531545415933499,
            0.45576949746099804,
            0.09147954961102286
           ]
          }
         ],
         "name": "2024-04-21"
        },
        {
         "data": [
          {
           "coloraxis": "coloraxis",
           "geo": "geo",
           "hovertemplate": "animation_frame=2024-04-22<br>country=%{location}<br>streams_per_capita=%{z}<extra></extra>",
           "locationmode": "country names",
           "locations": [
            "Australia",
            "Brazil",
            "Egypt",
            "Finland",
            "Germany",
            "Greece",
            "India",
            "Japan",
            "Nigeria",
            "South Africa",
            "Spain",
            "Sweden",
            "Ukraine",
            "United Kingdom",
            "United States"
           ],
           "name": "",
           "type": "choropleth",
           "z": [
            0.8204535793357933,
            0.2615839661297295,
            0.02995365157701402,
            0.7341909225128244,
            0.3383422688336485,
            0.457893786407767,
            0.031591533465233725,
            0.14777284510693453,
            0.021949610151224277,
            0.04833729748096437,
            0.5313728544581332,
            0.7602001904761905,
            0.05695388629330744,
            0.4814149766977202,
            0.09662696931155897
           ]
          }
         ],
         "name": "2024-04-22"
        },
        {
         "data": [
          {
           "coloraxis": "coloraxis",
           "geo": "geo",
           "hovertemplate": "animation_frame=2024-04-23<br>country=%{location}<br>streams_per_capita=%{z}<extra></extra>",
           "locationmode": "country names",
           "locations": [
            "Australia",
            "Brazil",
            "Egypt",
            "Finland",
            "Germany",
            "Greece",
            "India",
            "Japan",
            "Nigeria",
            "South Africa",
            "Spain",
            "Sweden",
            "Ukraine",
            "United Kingdom",
            "United States"
           ],
           "name": "",
           "type": "choropleth",
           "z": [
            0.8144339114391144,
            0.27745714527376275,
            0.03062220027118289,
            0.7062673411750101,
            0.3449629239150544,
            0.4769403883495146,
            0.03224203987661479,
            0.14811834089436163,
            0.021940588056986964,
            0.0500108576459141,
            0.5525173105032366,
            0.7916514285714286,
            0.05928705782416115,
            0.4922466142306837,
            0.09880103609001895
           ]
          }
         ],
         "name": "2024-04-23"
        },
        {
         "data": [
          {
           "coloraxis": "coloraxis",
           "geo": "geo",
           "hovertemplate": "animation_frame=2024-04-24<br>country=%{location}<br>streams_per_capita=%{z}<extra></extra>",
           "locationmode": "country names",
           "locations": [
            "Australia",
            "Brazil",
            "Egypt",
            "Finland",
            "Germany",
            "Greece",
            "India",
            "Japan",
            "Nigeria",
            "South Africa",
            "Spain",
            "Sweden",
            "Ukraine",
            "United Kingdom",
            "United States"
           ],
           "name": "",
           "type": "choropleth",
           "z": [
            0.7473961254612546,
            0.28108465688025114,
            0.03181656932541408,
            0.7222861753869482,
            0.33302842214606204,
            0.4928282524271845,
            0.03288331698925929,
            0.14968387070641606,
            0.023020406015290828,
            0.050046365082552086,
            0.549405700563792,
            0.7840409523809524,
            0.058972301438019535,
            0.4783280162520267,
            0.09600737157012992
           ]
          }
         ],
         "name": "2024-04-24"
        },
        {
         "data": [
          {
           "coloraxis": "coloraxis",
           "geo": "geo",
           "hovertemplate": "animation_frame=2024-04-25<br>country=%{location}<br>streams_per_capita=%{z}<extra></extra>",
           "locationmode": "country names",
           "locations": [
            "Australia",
            "Brazil",
            "Egypt",
            "Finland",
            "Germany",
            "Greece",
            "India",
            "Japan",
            "Nigeria",
            "South Africa",
            "Spain",
            "Sweden",
            "Ukraine",
            "United Kingdom",
            "United States"
           ],
           "name": "",
           "type": "choropleth",
           "z": [
            0.7053126568265683,
            0.2880948818675639,
            0.03284989338428537,
            0.7277963351319238,
            0.33880041952485745,
            0.5262936893203883,
            0.032777286955535896,
            0.1534070236552171,
            0.023222744265939173,
            0.052531638531514976,
            0.5582739611609939,
            0.7890035238095238,
            0.062264941447727686,
            0.4648285776141109,
            0.09329783841032505
           ]
          }
         ],
         "name": "2024-04-25"
        },
        {
         "data": [
          {
           "coloraxis": "coloraxis",
           "geo": "geo",
           "hovertemplate": "animation_frame=2024-04-26<br>country=%{location}<br>streams_per_capita=%{z}<extra></extra>",
           "locationmode": "country names",
           "locations": [
            "Australia",
            "Brazil",
            "Egypt",
            "Finland",
            "Germany",
            "Greece",
            "India",
            "Japan",
            "Nigeria",
            "South Africa",
            "Spain",
            "Sweden",
            "Ukraine",
            "United Kingdom",
            "United States"
           ],
           "name": "",
           "type": "choropleth",
           "z": [
            0.7289070110701107,
            0.37224782437080617,
            0.02904268092699943,
            0.9670873033115049,
            0.43590555486978366,
            0.7114828155339806,
            0.03278413004228626,
            0.14867910725858716,
            0.025577329830588393,
            0.06829754274329312,
            0.7295413656295677,
            0.9500256190476191,
            0.06394891086705903,
            0.4884084365727204,
            0.09803065815680145
           ]
          }
         ],
         "name": "2024-04-26"
        },
        {
         "data": [
          {
           "coloraxis": "coloraxis",
           "geo": "geo",
           "hovertemplate": "animation_frame=2024-04-27<br>country=%{location}<br>streams_per_capita=%{z}<extra></extra>",
           "locationmode": "country names",
           "locations": [
            "Australia",
            "Brazil",
            "Egypt",
            "Finland",
            "Germany",
            "Greece",
            "India",
            "Japan",
            "Nigeria",
            "South Africa",
            "Spain",
            "Sweden",
            "Ukraine",
            "United Kingdom",
            "United States"
           ],
           "name": "",
           "type": "choropleth",
           "z": [
            0.677739372693727,
            0.37868953818393697,
            0.030346902740860816,
            0.8379580309203847,
            0.3892858227679578,
            0.6327611650485437,
            0.032659135432402966,
            0.16114817725210628,
            0.024405838469569903,
            0.0705799805396389,
            0.6139693673000627,
            0.8673381904761904,
            0.06486872762575087,
            0.44268659603752186,
            0.08885362151251638
           ]
          }
         ],
         "name": "2024-04-27"
        },
        {
         "data": [
          {
           "coloraxis": "coloraxis",
           "geo": "geo",
           "hovertemplate": "animation_frame=2024-04-28<br>country=%{location}<br>streams_per_capita=%{z}<extra></extra>",
           "locationmode": "country names",
           "locations": [
            "Australia",
            "Brazil",
            "Egypt",
            "Finland",
            "Germany",
            "Greece",
            "India",
            "Japan",
            "Nigeria",
            "South Africa",
            "Spain",
            "Sweden",
            "Ukraine",
            "United Kingdom",
            "United States"
           ],
           "name": "",
           "type": "choropleth",
           "z": [
            0.6824419188191881,
            0.302167058248595,
            0.029933361625965865,
            0.6669164298350233,
            0.30614307538280133,
            0.5498101941747573,
            0.03143330031794903,
            0.16152861309138042,
            0.021727152167323432,
            0.05724336262683986,
            0.5130993944456045,
            0.7079530476190476,
            0.05720896790243311,
            0.39365922105358236,
            0.07901311615371862
           ]
          }
         ],
         "name": "2024-04-28"
        },
        {
         "data": [
          {
           "coloraxis": "coloraxis",
           "geo": "geo",
           "hovertemplate": "animation_frame=2024-04-29<br>country=%{location}<br>streams_per_capita=%{z}<extra></extra>",
           "locationmode": "country names",
           "locations": [
            "Australia",
            "Brazil",
            "Egypt",
            "Finland",
            "Germany",
            "Greece",
            "India",
            "Japan",
            "Nigeria",
            "South Africa",
            "Spain",
            "Sweden",
            "Ukraine",
            "United Kingdom",
            "United States"
           ],
           "name": "",
           "type": "choropleth",
           "z": [
            0.7083655719557196,
            0.2856198522639701,
            0.03018804819158895,
            0.7565770327248866,
            0.35952411163275255,
            0.5746141747572816,
            0.031732615584966865,
            0.16365281918340893,
            0.021986860496446735,
            0.05055789457426599,
            0.5799447692628942,
            0.7791075238095239,
            0.06183623566531157,
            0.43258112635383567,
            0.0868253071553219
           ]
          }
         ],
         "name": "2024-04-29"
        },
        {
         "data": [
          {
           "coloraxis": "coloraxis",
           "geo": "geo",
           "hovertemplate": "animation_frame=2024-04-30<br>country=%{location}<br>streams_per_capita=%{z}<extra></extra>",
           "locationmode": "country names",
           "locations": [
            "Australia",
            "Brazil",
            "Egypt",
            "Finland",
            "Germany",
            "Greece",
            "India",
            "Japan",
            "Nigeria",
            "South Africa",
            "Spain",
            "Sweden",
            "Ukraine",
            "United Kingdom",
            "United States"
           ],
           "name": "",
           "type": "choropleth",
           "z": [
            0.7042518819188192,
            0.3043995169445332,
            0.03041399459388464,
            0.9875254381570139,
            0.4040173763352775,
            0.564438932038835,
            0.032404302291675645,
            0.15036801685029164,
            0.02252871240443232,
            0.054816562929556584,
            0.6319764669033201,
            1.058274380952381,
            0.06250394393544081,
            0.44839650311478574,
            0.08999968269181588
           ]
          }
         ],
         "name": "2024-04-30"
        },
        {
         "data": [
          {
           "coloraxis": "coloraxis",
           "geo": "geo",
           "hovertemplate": "animation_frame=2024-05-01<br>country=%{location}<br>streams_per_capita=%{z}<extra></extra>",
           "locationmode": "country names",
           "locations": [
            "Australia",
            "Brazil",
            "Egypt",
            "Finland",
            "Germany",
            "Greece",
            "India",
            "Japan",
            "Nigeria",
            "South Africa",
            "Spain",
            "Sweden",
            "Ukraine",
            "United Kingdom",
            "United States"
           ],
           "name": "",
           "type": "choropleth",
           "z": [
            0.7140069003690037,
            0.3123453799597767,
            0.03131031191489656,
            0.6706758236642474,
            0.3315079952028998,
            0.5856728155339805,
            0.031554317907855345,
            0.14932923687621516,
            0.024743276582129266,
            0.06481277897045423,
            0.5353015660889539,
            0.7534590476190476,
            0.06118017717371519,
            0.4465592568536632,
            0.08963092071579881
           ]
          }
         ],
         "name": "2024-05-01"
        },
        {
         "data": [
          {
           "coloraxis": "coloraxis",
           "geo": "geo",
           "hovertemplate": "animation_frame=2024-05-02<br>country=%{location}<br>streams_per_capita=%{z}<extra></extra>",
           "locationmode": "country names",
           "locations": [
            "Australia",
            "Brazil",
            "Egypt",
            "Finland",
            "Germany",
            "Greece",
            "India",
            "Japan",
            "Nigeria",
            "South Africa",
            "Spain",
            "Sweden",
            "Ukraine",
            "United Kingdom",
            "United States"
           ],
           "name": "",
           "type": "choropleth",
           "z": [
            0.706000516605166,
            0.2861162904347499,
            0.03246581943422118,
            0.7221999849255366,
            0.35069188401986046,
            0.5577335922330097,
            0.031628034052728606,
            0.15408622812702527,
            0.024879879424741503,
            0.05395905601803944,
            0.5986208185424932,
            0.8192460952380952,
            0.06333132091499302,
            0.4483302907634839,
            0.08998639291242187
           ]
          }
         ],
         "name": "2024-05-02"
        },
        {
         "data": [
          {
           "coloraxis": "coloraxis",
           "geo": "geo",
           "hovertemplate": "animation_frame=2024-05-03<br>country=%{location}<br>streams_per_capita=%{z}<extra></extra>",
           "locationmode": "country names",
           "locations": [
            "Australia",
            "Brazil",
            "Egypt",
            "Finland",
            "Germany",
            "Greece",
            "India",
            "Japan",
            "Nigeria",
            "South Africa",
            "Spain",
            "Sweden",
            "Ukraine",
            "United Kingdom",
            "United States"
           ],
           "name": "",
           "type": "choropleth",
           "z": [
            0.6806623247232473,
            0.3226587974362348,
            0.029655864207977795,
            0.92427582721118,
            0.4092057854064338,
            0.49155669902912624,
            0.03195423974954759,
            0.16287265068049256,
            0.025962707554477788,
            0.06388184780762043,
            0.6285029651284193,
            1.0062024761904762,
            0.06444997269583157,
            0.456862557909989,
            0.09169894269925792
           ]
          }
         ],
         "name": "2024-05-03"
        },
        {
         "data": [
          {
           "coloraxis": "coloraxis",
           "geo": "geo",
           "hovertemplate": "animation_frame=2024-05-04<br>country=%{location}<br>streams_per_capita=%{z}<extra></extra>",
           "locationmode": "country names",
           "locations": [
            "Australia",
            "Brazil",
            "Egypt",
            "Finland",
            "Germany",
            "Greece",
            "India",
            "Japan",
            "Nigeria",
            "South Africa",
            "Spain",
            "Sweden",
            "Ukraine",
            "United Kingdom",
            "United States"
           ],
           "name": "",
           "type": "choropleth",
           "z": [
            0.6483861623616236,
            0.34828813694716465,
            0.03144108721129862,
            0.8110763610245315,
            0.37429590193954726,
            0.5073752427184466,
            0.03216276621583938,
            0.16121382858068697,
            0.02661844498332828,
            0.07084006981018426,
            0.5717130298600961,
            0.945209238095238,
            0.06247418239184516,
            0.4405873129312473,
            0.08843226494052582
           ]
          }
         ],
         "name": "2024-05-04"
        },
        {
         "data": [
          {
           "coloraxis": "coloraxis",
           "geo": "geo",
           "hovertemplate": "animation_frame=2024-05-05<br>country=%{location}<br>streams_per_capita=%{z}<extra></extra>",
           "locationmode": "country names",
           "locations": [
            "Australia",
            "Brazil",
            "Egypt",
            "Finland",
            "Germany",
            "Greece",
            "India",
            "Japan",
            "Nigeria",
            "South Africa",
            "Spain",
            "Sweden",
            "Ukraine",
            "United Kingdom",
            "United States"
           ],
           "name": "",
           "type": "choropleth",
           "z": [
            0.6520622509225092,
            0.29385594327387554,
            0.031992938001812195,
            0.6395617764811768,
            0.3006589944946518,
            0.4257747572815534,
            0.031015196242142492,
            0.15773643875567078,
            0.023740796874473745,
            0.059348788360850696,
            0.4775657757360618,
            0.6807819047619048,
            0.0546667374552515,
            0.4127458688363497,
            0.08284408323791057
           ]
          }
         ],
         "name": "2024-05-05"
        },
        {
         "data": [
          {
           "coloraxis": "coloraxis",
           "geo": "geo",
           "hovertemplate": "animation_frame=2024-05-06<br>country=%{location}<br>streams_per_capita=%{z}<extra></extra>",
           "locationmode": "country names",
           "locations": [
            "Australia",
            "Brazil",
            "Egypt",
            "Finland",
            "Germany",
            "Greece",
            "India",
            "Japan",
            "Nigeria",
            "South Africa",
            "Spain",
            "Sweden",
            "Ukraine",
            "United Kingdom",
            "United States"
           ],
           "name": "",
           "type": "choropleth",
           "z": [
            0.7085083025830258,
            0.27173009510741875,
            0.03085359446396475,
            0.7021135284441824,
            0.3465246168539662,
            0.485201067961165,
            0.031425571768496786,
            0.15934004374594946,
            0.023883798962648615,
            0.05264798369036403,
            0.5459858843182293,
            0.7742647619047619,
            0.0577301741399187,
            0.40883056550811997,
            0.08205822506387239
           ]
          }
         ],
         "name": "2024-05-06"
        },
        {
         "data": [
          {
           "coloraxis": "coloraxis",
           "geo": "geo",
           "hovertemplate": "animation_frame=2024-05-07<br>country=%{location}<br>streams_per_capita=%{z}<extra></extra>",
           "locationmode": "country names",
           "locations": [
            "Australia",
            "Brazil",
            "Egypt",
            "Finland",
            "Germany",
            "Greece",
            "India",
            "Japan",
            "Nigeria",
            "South Africa",
            "Spain",
            "Sweden",
            "Ukraine",
            "United Kingdom",
            "United States"
           ],
           "name": "",
           "type": "choropleth",
           "z": [
            0.7126923616236163,
            0.27475489634043193,
            0.029067616134406678,
            0.6930383467747299,
            0.3467655465988717,
            0.4988461165048544,
            0.031233377551745732,
            0.14483984931950744,
            0.0245638872048769,
            0.05348187560813628,
            0.5521376487784506,
            0.8094205714285714,
            0.059896638553485836,
            0.44585556018732764,
            0.08948967858692057
           ]
          }
         ],
         "name": "2024-05-07"
        },
        {
         "data": [
          {
           "coloraxis": "coloraxis",
           "geo": "geo",
           "hovertemplate": "animation_frame=2024-05-08<br>country=%{location}<br>streams_per_capita=%{z}<extra></extra>",
           "locationmode": "country names",
           "locations": [
            "Australia",
            "Brazil",
            "Egypt",
            "Finland",
            "Germany",
            "Greece",
            "India",
            "Japan",
            "Nigeria",
            "South Africa",
            "Spain",
            "Sweden",
            "Ukraine",
            "United Kingdom",
            "United States"
           ],
           "name": "",
           "type": "choropleth",
           "z": [
            0.7031344649446495,
            0.2802993346239874,
            0.02914594346520961,
            0.7752168727582278,
            0.38933863797655494,
            0.5089972815533981,
            0.03218487872189982,
            0.14799819345430978,
            0.024426867569297094,
            0.0535344340278314,
            0.5488775944873668,
            0.8684762857142857,
            0.06103573812268673,
            0.44430011193549557,
            0.08917747755917842
           ]
          }
         ],
         "name": "2024-05-08"
        },
        {
         "data": [
          {
           "coloraxis": "coloraxis",
           "geo": "geo",
           "hovertemplate": "animation_frame=2024-05-09<br>country=%{location}<br>streams_per_capita=%{z}<extra></extra>",
           "locationmode": "country names",
           "locations": [
            "Australia",
            "Brazil",
            "Egypt",
            "Finland",
            "Germany",
            "Greece",
            "India",
            "Japan",
            "Nigeria",
            "South Africa",
            "Spain",
            "Sweden",
            "Ukraine",
            "United Kingdom",
            "United States"
           ],
           "name": "",
           "type": "choropleth",
           "z": [
            0.7176625830258303,
            0.29141742946826305,
            0.03197928548007389,
            0.6984075159501124,
            0.35407184194434266,
            0.49605718446601943,
            0.03227158531957948,
            0.15173540991574855,
            0.02559333215452494,
            0.05617361422150833,
            0.5687325746502402,
            0.813635619047619,
            0.06284233359626236,
            0.45599519075668543,
            0.09152484952941303
           ]
          }
         ],
         "name": "2024-05-09"
        },
        {
         "data": [
          {
           "coloraxis": "coloraxis",
           "geo": "geo",
           "hovertemplate": "animation_frame=2024-05-10<br>country=%{location}<br>streams_per_capita=%{z}<extra></extra>",
           "locationmode": "country names",
           "locations": [
            "Australia",
            "Brazil",
            "Egypt",
            "Finland",
            "Germany",
            "Greece",
            "India",
            "Japan",
            "Nigeria",
            "South Africa",
            "Spain",
            "Sweden",
            "Ukraine",
            "United Kingdom",
            "United States"
           ],
           "name": "",
           "type": "choropleth",
           "z": [
            0.7492752398523985,
            0.32103985207601077,
            0.028640960667717458,
            0.8542632799372193,
            0.4080614199825414,
            0.5584626213592233,
            0.032866078652885426,
            0.14784236876215165,
            0.02779149826546765,
            0.06868540627364975,
            0.6261016704948841,
            1.0554355238095239,
            0.06677962502275347,
            0.515271358797129,
            0.10342243632540328
           ]
          }
         ],
         "name": "2024-05-10"
        },
        {
         "data": [
          {
           "coloraxis": "coloraxis",
           "geo": "geo",
           "hovertemplate": "animation_frame=2024-05-11<br>country=%{location}<br>streams_per_capita=%{z}<extra></extra>",
           "locationmode": "country names",
           "locations": [
            "Australia",
            "Brazil",
            "Egypt",
            "Finland",
            "Germany",
            "Greece",
            "India",
            "Japan",
            "Nigeria",
            "South Africa",
            "Spain",
            "Sweden",
            "Ukraine",
            "United Kingdom",
            "United States"
           ],
           "name": "",
           "type": "choropleth",
           "z": [
            0.7061153874538746,
            0.35172580023682876,
            0.029880847569320985,
            0.8059056427263497,
            0.3842210441307032,
            0.528153495145631,
            0.03347876109501609,
            0.15973080848995463,
            0.0267757022329999,
            0.07255441950978424,
            0.5736993109208604,
            1.0056894285714286,
            0.06485307323584734,
            0.49369118609158585,
            0.09909098261770949
           ]
          }
         ],
         "name": "2024-05-11"
        },
        {
         "data": [
          {
           "coloraxis": "coloraxis",
           "geo": "geo",
           "hovertemplate": "animation_frame=2024-05-12<br>country=%{location}<br>streams_per_capita=%{z}<extra></extra>",
           "locationmode": "country names",
           "locations": [
            "Australia",
            "Brazil",
            "Egypt",
            "Finland",
            "Germany",
            "Greece",
            "India",
            "Japan",
            "Nigeria",
            "South Africa",
            "Spain",
            "Sweden",
            "Ukraine",
            "United Kingdom",
            "United States"
           ],
           "name": "",
           "type": "choropleth",
           "z": [
            0.6918233579335793,
            0.3126824521173618,
            0.030505993329581815,
            0.7299894035389519,
            0.34193754477713595,
            0.5142561165048544,
            0.031890615679568385,
            0.16266831659105638,
            0.02438003098582062,
            0.05836100514309543,
            0.4729618291918981,
            0.9456932380952381,
            0.0626690128026212,
            0.4221811728431096,
            0.08473788562220753
           ]
          }
         ],
         "name": "2024-05-12"
        },
        {
         "data": [
          {
           "coloraxis": "coloraxis",
           "geo": "geo",
           "hovertemplate": "animation_frame=2024-05-13<br>country=%{location}<br>streams_per_capita=%{z}<extra></extra>",
           "locationmode": "country names",
           "locations": [
            "Australia",
            "Brazil",
            "Egypt",
            "Finland",
            "Germany",
            "Greece",
            "India",
            "Japan",
            "Nigeria",
            "South Africa",
            "Spain",
            "Sweden",
            "Ukraine",
            "United Kingdom",
            "United States"
           ],
           "name": "",
           "type": "choropleth",
           "z": [
            0.713890036900369,
            0.28679388850252807,
            0.03176166654954389,
            0.7812799992906135,
            0.36625849953249023,
            0.5485991262135922,
            0.03227866558383928,
            0.1503626782242385,
            0.025530089084234278,
            0.05142477643751834,
            0.5360162038003758,
            0.9700567619047619,
            0.06670013955463867,
            0.4287303507706246,
            0.08605240063575953
           ]
          }
         ],
         "name": "2024-05-13"
        },
        {
         "data": [
          {
           "coloraxis": "coloraxis",
           "geo": "geo",
           "hovertemplate": "animation_frame=2024-05-14<br>country=%{location}<br>streams_per_capita=%{z}<extra></extra>",
           "locationmode": "country names",
           "locations": [
            "Australia",
            "Brazil",
            "Egypt",
            "Finland",
            "Germany",
            "Greece",
            "India",
            "Japan",
            "Nigeria",
            "South Africa",
            "Spain",
            "Sweden",
            "Ukraine",
            "United Kingdom",
            "United States"
           ],
           "name": "",
           "type": "choropleth",
           "z": [
            0.730169520295203,
            0.2874145912824465,
            0.032036586416747344,
            0.7739170993185456,
            0.3703633291404305,
            0.5464235922330097,
            0.032913039799752776,
            0.15564290343486714,
            0.025781726785894715,
            0.055519715199159804,
            0.5423874295259971,
            0.9575944761904762,
            0.0638111158303501,
            0.4352765110555803,
            0.08736630996467541
           ]
          }
         ],
         "name": "2024-05-14"
        },
        {
         "data": [
          {
           "coloraxis": "coloraxis",
           "geo": "geo",
           "hovertemplate": "animation_frame=2024-05-15<br>country=%{location}<br>streams_per_capita=%{z}<extra></extra>",
           "locationmode": "country names",
           "locations": [
            "Australia",
            "Brazil",
            "Egypt",
            "Finland",
            "Germany",
            "Greece",
            "India",
            "Japan",
            "Nigeria",
            "South Africa",
            "Spain",
            "Sweden",
            "Ukraine",
            "United Kingdom",
            "United States"
           ],
           "name": "",
           "type": "choropleth",
           "z": [
            0.7291415867158672,
            0.2737073708249535,
            0.033372607465197,
            0.766681356879054,
            0.36560495770247403,
            0.5728795145631068,
            0.033330325785019536,
            0.15740270576798446,
            0.026623269677680104,
            0.05614147373623488,
            0.525586615159741,
            0.9441833333333334,
            0.06288153024695103,
            0.44390630958150296,
            0.08909843571416752
           ]
          }
         ],
         "name": "2024-05-15"
        },
        {
         "data": [
          {
           "coloraxis": "coloraxis",
           "geo": "geo",
           "hovertemplate": "animation_frame=2024-05-16<br>country=%{location}<br>streams_per_capita=%{z}<extra></extra>",
           "locationmode": "country names",
           "locations": [
            "Australia",
            "Brazil",
            "Egypt",
            "Finland",
            "Germany",
            "Greece",
            "India",
            "Japan",
            "Nigeria",
            "South Africa",
            "Spain",
            "Sweden",
            "Ukraine",
            "United Kingdom",
            "United States"
           ],
           "name": "",
           "type": "choropleth",
           "z": [
            0.7506316236162361,
            0.2834877638479033,
            0.03530707349142066,
            0.7577074401344287,
            0.36300040076366985,
            0.5901977669902913,
            0.033424538879004935,
            0.15904703499675957,
            0.025447273584587923,
            0.05629270854248073,
            0.5446248694925871,
            0.9457216190476191,
            0.06159350160791214,
            0.433841285097362,
            0.08707823929522678
           ]
          }
         ],
         "name": "2024-05-16"
        },
        {
         "data": [
          {
           "coloraxis": "coloraxis",
           "geo": "geo",
           "hovertemplate": "animation_frame=2024-05-17<br>country=%{location}<br>streams_per_capita=%{z}<extra></extra>",
           "locationmode": "country names",
           "locations": [
            "Australia",
            "Brazil",
            "Egypt",
            "Finland",
            "Germany",
            "Greece",
            "India",
            "Japan",
            "Nigeria",
            "South Africa",
            "Spain",
            "Sweden",
            "Ukraine",
            "United Kingdom",
            "United States"
           ],
           "name": "",
           "type": "choropleth",
           "z": [
            0.8038173062730627,
            0.3542658543691145,
            0.031453087456892945,
            1.0073983692977517,
            0.4557391557259717,
            0.6150607766990291,
            0.03371804982801661,
            0.1527564727802981,
            0.028123076016301235,
            0.06948531978315597,
            0.6035810190018793,
            1.2013298095238094,
            0.06916358230689885,
            0.5342319394349178,
            0.10722809990484636
           ]
          }
         ],
         "name": "2024-05-17"
        },
        {
         "data": [
          {
           "coloraxis": "coloraxis",
           "geo": "geo",
           "hovertemplate": "animation_frame=2024-05-18<br>country=%{location}<br>streams_per_capita=%{z}<extra></extra>",
           "locationmode": "country names",
           "locations": [
            "Australia",
            "Brazil",
            "Egypt",
            "Finland",
            "Germany",
            "Greece",
            "India",
            "Japan",
            "Nigeria",
            "South Africa",
            "Spain",
            "Sweden",
            "Ukraine",
            "United Kingdom",
            "United States"
           ],
           "name": "",
           "type": "choropleth",
           "z": [
            0.7271858302583026,
            0.37817399394770973,
            0.03151786612331518,
            0.8429971580202796,
            0.3903230258583405,
            0.5776674757281554,
            0.033526710137770546,
            0.16398019280622164,
            0.02860535600013472,
            0.07268758398072497,
            0.5500001670494884,
            1.1147305714285713,
            0.06528563193980948,
            0.48462755017713344,
            0.09727177941101979
           ]
          }
         ],
         "name": "2024-05-18"
        },
        {
         "data": [
          {
           "coloraxis": "coloraxis",
           "geo": "geo",
           "hovertemplate": "animation_frame=2024-05-19<br>country=%{location}<br>streams_per_capita=%{z}<extra></extra>",
           "locationmode": "country names",
           "locations": [
            "Australia",
            "Brazil",
            "Egypt",
            "Finland",
            "Germany",
            "Greece",
            "India",
            "Japan",
            "Nigeria",
            "South Africa",
            "Spain",
            "Sweden",
            "Ukraine",
            "United Kingdom",
            "United States"
           ],
           "name": "",
           "type": "choropleth",
           "z": [
            0.7212556826568266,
            0.2949953762005902,
            0.031553649703804955,
            0.7050608520618763,
            0.32609413113524405,
            0.48685223300970876,
            0.032785698163732675,
            0.16719671095268956,
            0.024925726651173756,
            0.058378704804855824,
            0.4498001461683024,
            0.8635745714285714,
            0.058796735634973604,
            0.4474909173719808,
            0.08981791849665263
           ]
          }
         ],
         "name": "2024-05-19"
        },
        {
         "data": [
          {
           "coloraxis": "coloraxis",
           "geo": "geo",
           "hovertemplate": "animation_frame=2024-05-20<br>country=%{location}<br>streams_per_capita=%{z}<extra></extra>",
           "locationmode": "country names",
           "locations": [
            "Australia",
            "Brazil",
            "Egypt",
            "Finland",
            "Germany",
            "Greece",
            "India",
            "Japan",
            "Nigeria",
            "South Africa",
            "Spain",
            "Sweden",
            "Ukraine",
            "United Kingdom",
            "United States"
           ],
           "name": "",
           "type": "choropleth",
           "z": [
            0.7417087453874539,
            0.30720569798695563,
            0.03205496916904644,
            0.748676595122081,
            0.31888579465729344,
            0.526643495145631,
            0.03272646703371076,
            0.15693811568373298,
            0.025893911454649556,
            0.05237949248613835,
            0.5042592399248277,
            0.8786894285714286,
            0.06076779321643104,
            0.45245047151324186,
            0.0908133729569478
           ]
          }
         ],
         "name": "2024-05-20"
        },
        {
         "data": [
          {
           "coloraxis": "coloraxis",
           "geo": "geo",
           "hovertemplate": "animation_frame=2024-05-21<br>country=%{location}<br>streams_per_capita=%{z}<extra></extra>",
           "locationmode": "country names",
           "locations": [
            "Australia",
            "Brazil",
            "Egypt",
            "Finland",
            "Germany",
            "Greece",
            "India",
            "Japan",
            "Nigeria",
            "South Africa",
            "Spain",
            "Sweden",
            "Ukraine",
            "United Kingdom",
            "United States"
           ],
           "name": "",
           "type": "choropleth",
           "z": [
            0.7487978966789668,
            0.33575899385373004,
            0.03227306017847471,
            0.7479792681791378,
            0.34409919837930913,
            0.5185814563106796,
            0.03293364536928952,
            0.15555465813350616,
            0.026251742952409823,
            0.05382587610236768,
            0.5116579661724786,
            0.8874184761904762,
            0.06034024027668224,
            0.44645510423911544,
            0.08961001577520336
           ]
          }
         ],
         "name": "2024-05-21"
        },
        {
         "data": [
          {
           "coloraxis": "coloraxis",
           "geo": "geo",
           "hovertemplate": "animation_frame=2024-05-22<br>country=%{location}<br>streams_per_capita=%{z}<extra></extra>",
           "locationmode": "country names",
           "locations": [
            "Australia",
            "Brazil",
            "Egypt",
            "Finland",
            "Germany",
            "Greece",
            "India",
            "Japan",
            "Nigeria",
            "South Africa",
            "Spain",
            "Sweden",
            "Ukraine",
            "United Kingdom",
            "United States"
           ],
           "name": "",
           "type": "choropleth",
           "z": [
            0.7536412177121771,
            0.34864729432550795,
            0.03336031453068574,
            0.7671137279591393,
            0.3449609372110827,
            0.5218535922330098,
            0.03300115227571298,
            0.15598351425793908,
            0.026112037317705703,
            0.054701901246389795,
            0.5207692837753184,
            0.8853097142857143,
            0.060964534918997636,
            0.43678397000146885,
            0.08766887884257359
           ]
          }
         ],
         "name": "2024-05-22"
        },
        {
         "data": [
          {
           "coloraxis": "coloraxis",
           "geo": "geo",
           "hovertemplate": "animation_frame=2024-05-23<br>country=%{location}<br>streams_per_capita=%{z}<extra></extra>",
           "locationmode": "country names",
           "locations": [
            "Australia",
            "Brazil",
            "Egypt",
            "Finland",
            "Germany",
            "Greece",
            "India",
            "Japan",
            "Nigeria",
            "South Africa",
            "Spain",
            "Sweden",
            "Ukraine",
            "United Kingdom",
            "United States"
           ],
           "name": "",
           "type": "choropleth",
           "z": [
            0.7529938745387453,
            0.33611497002048757,
            0.035662936006523524,
            0.7799236522764657,
            0.3630124765727509,
            0.5947952427184466,
            0.03346698196618538,
            0.154512597213221,
            0.027678976794314775,
            0.05570443418227872,
            0.5337147838797244,
            0.8863064761904762,
            0.059870517565681694,
            0.4469240400333353,
            0.08970413799156644
           ]
          }
         ],
         "name": "2024-05-23"
        },
        {
         "data": [
          {
           "coloraxis": "coloraxis",
           "geo": "geo",
           "hovertemplate": "animation_frame=2024-05-24<br>country=%{location}<br>streams_per_capita=%{z}<extra></extra>",
           "locationmode": "country names",
           "locations": [
            "Australia",
            "Brazil",
            "Egypt",
            "Finland",
            "Germany",
            "Greece",
            "India",
            "Japan",
            "Nigeria",
            "South Africa",
            "Spain",
            "Sweden",
            "Ukraine",
            "United Kingdom",
            "United States"
           ],
           "name": "",
           "type": "choropleth",
           "z": [
            0.7536920664206642,
            0.36669031821513826,
            0.03192307976644444,
            0.9585466443801071,
            0.44836640154221846,
            0.7764480582524272,
            0.03312893320572881,
            0.14812419799092677,
            0.028422026034825368,
            0.06512150369901308,
            0.5786539569847567,
            1.0462217142857142,
            0.0620402584794612,
            0.49243464558938066,
            0.0988387767113246
           ]
          }
         ],
         "name": "2024-05-24"
        },
        {
         "data": [
          {
           "coloraxis": "coloraxis",
           "geo": "geo",
           "hovertemplate": "animation_frame=2024-05-25<br>country=%{location}<br>streams_per_capita=%{z}<extra></extra>",
           "locationmode": "country names",
           "locations": [
            "Australia",
            "Brazil",
            "Egypt",
            "Finland",
            "Germany",
            "Greece",
            "India",
            "Japan",
            "Nigeria",
            "South Africa",
            "Spain",
            "Sweden",
            "Ukraine",
            "United Kingdom",
            "United States"
           ],
           "name": "",
           "type": "choropleth",
           "z": [
            0.6962614391143912,
            0.39935452418096723,
            0.031699484317062196,
            0.8131477696444643,
            0.3972218194957846,
            0.7001733009708738,
            0.0335834814964048,
            0.1574721403110823,
            0.026865392711596107,
            0.07118807048975243,
            0.5350520985591981,
            0.9859184761904762,
            0.061746920696559675,
            0.4475427300017495,
            0.08982831804305011
           ]
          }
         ],
         "name": "2024-05-25"
        },
        {
         "data": [
          {
           "coloraxis": "coloraxis",
           "geo": "geo",
           "hovertemplate": "animation_frame=2024-05-26<br>country=%{location}<br>streams_per_capita=%{z}<extra></extra>",
           "locationmode": "country names",
           "locations": [
            "Australia",
            "Brazil",
            "Egypt",
            "Finland",
            "Germany",
            "Greece",
            "India",
            "Japan",
            "Nigeria",
            "South Africa",
            "Spain",
            "Sweden",
            "Ukraine",
            "United Kingdom",
            "United States"
           ],
           "name": "",
           "type": "choropleth",
           "z": [
            0.7016432103321033,
            0.32637341409319026,
            0.033244164238552455,
            0.6776849171126196,
            0.33116672493932714,
            0.5414884466019417,
            0.03164200415176962,
            0.16663789695398573,
            0.025809752955441044,
            0.05783261000509676,
            0.4465329713927751,
            0.7730378095238095,
            0.05622025362538681,
            0.3889845118616717,
            0.07807483420676782
           ]
          }
         ],
         "name": "2024-05-26"
        },
        {
         "data": [
          {
           "coloraxis": "coloraxis",
           "geo": "geo",
           "hovertemplate": "animation_frame=2024-05-27<br>country=%{location}<br>streams_per_capita=%{z}<extra></extra>",
           "locationmode": "country names",
           "locations": [
            "Australia",
            "Brazil",
            "Egypt",
            "Finland",
            "Germany",
            "Greece",
            "India",
            "Japan",
            "Nigeria",
            "South Africa",
            "Spain",
            "Sweden",
            "Ukraine",
            "United Kingdom",
            "United States"
           ],
           "name": "",
           "type": "choropleth",
           "z": [
            0.7256884132841328,
            0.320836329718249,
            0.032755978008261175,
            0.7503120857293601,
            0.3629705762679019,
            0.5812388349514563,
            0.032865270186940236,
            0.15357216461438755,
            0.026916430904988044,
            0.05257034302747618,
            0.49514677385675504,
            0.814292380952381,
            0.05892027182816577,
            0.406604058005594,
            0.08161133271001524
           ]
          }
         ],
         "name": "2024-05-27"
        },
        {
         "data": [
          {
           "coloraxis": "coloraxis",
           "geo": "geo",
           "hovertemplate": "animation_frame=2024-05-28<br>country=%{location}<br>streams_per_capita=%{z}<extra></extra>",
           "locationmode": "country names",
           "locations": [
            "Australia",
            "Brazil",
            "Egypt",
            "Finland",
            "Germany",
            "Greece",
            "India",
            "Japan",
            "Nigeria",
            "South Africa",
            "Spain",
            "Sweden",
            "Ukraine",
            "United Kingdom",
            "United States"
           ],
           "name": "",
           "type": "choropleth",
           "z": [
            0.7371242804428044,
            0.3338198456853937,
            0.03324671346460318,
            0.7513282819102005,
            0.3747535858750039,
            0.5834736893203883,
            0.033268639008436206,
            0.15470386422553467,
            0.02695864066552154,
            0.05683526649883392,
            0.5165889329713927,
            0.8404562857142858,
            0.060497694314665375,
            0.4306805974914689,
            0.08644384344324682
           ]
          }
         ],
         "name": "2024-05-28"
        },
        {
         "data": [
          {
           "coloraxis": "coloraxis",
           "geo": "geo",
           "hovertemplate": "animation_frame=2024-05-29<br>country=%{location}<br>streams_per_capita=%{z}<extra></extra>",
           "locationmode": "country names",
           "locations": [
            "Australia",
            "Brazil",
            "Egypt",
            "Finland",
            "Germany",
            "Greece",
            "India",
            "Japan",
            "Nigeria",
            "South Africa",
            "Spain",
            "Sweden",
            "Ukraine",
            "United Kingdom",
            "United States"
           ],
           "name": "",
           "type": "choropleth",
           "z": [
            0.7326715498154982,
            0.33613009134823224,
            0.03372038798956128,
            0.7421238145486306,
            0.39267006527088505,
            0.533658640776699,
            0.03395733168630671,
            0.15951315618924175,
            0.027043241217877472,
            0.062164548164393714,
            0.5485334725412403,
            0.8393724761904762,
            0.06077258661488987,
            0.4412665608333522,
            0.088568599847765
           ]
          }
         ],
         "name": "2024-05-29"
        },
        {
         "data": [
          {
           "coloraxis": "coloraxis",
           "geo": "geo",
           "hovertemplate": "animation_frame=2024-05-30<br>country=%{location}<br>streams_per_capita=%{z}<extra></extra>",
           "locationmode": "country names",
           "locations": [
            "Australia",
            "Brazil",
            "Egypt",
            "Finland",
            "Germany",
            "Greece",
            "India",
            "Japan",
            "Nigeria",
            "South Africa",
            "Spain",
            "Sweden",
            "Ukraine",
            "United Kingdom",
            "United States"
           ],
           "name": "",
           "type": "choropleth",
           "z": [
            0.7264318450184502,
            0.3403171578670376,
            0.035055209957609294,
            0.7459654972134411,
            0.3528630642266208,
            0.574935922330097,
            0.03368999207238643,
            0.15570428548282567,
            0.026839336836078274,
            0.05245188194047601,
            0.5222558571726874,
            0.8494120952380952,
            0.060544293428796796,
            0.4329408264171578,
            0.08689750417590154
           ]
          }
         ],
         "name": "2024-05-30"
        },
        {
         "data": [
          {
           "coloraxis": "coloraxis",
           "geo": "geo",
           "hovertemplate": "animation_frame=2024-05-31<br>country=%{location}<br>streams_per_capita=%{z}<extra></extra>",
           "locationmode": "country names",
           "locations": [
            "Australia",
            "Brazil",
            "Egypt",
            "Finland",
            "Germany",
            "Greece",
            "India",
            "Japan",
            "Nigeria",
            "South Africa",
            "Spain",
            "Sweden",
            "Ukraine",
            "United Kingdom",
            "United States"
           ],
           "name": "",
           "type": "choropleth",
           "z": [
            0.724800590405904,
            0.3432472416968968,
            0.030684873465718795,
            1.0288993424873751,
            0.4234972242035406,
            0.7277661165048543,
            0.03440956113715861,
            0.15174136422553466,
            0.032154844902495705,
            0.06456018039445843,
            0.573356086865734,
            1.0886770476190477,
            0.06254007645167162,
            0.4715610846514804,
            0.09464915023562838
           ]
          }
         ],
         "name": "2024-05-31"
        },
        {
         "data": [
          {
           "coloraxis": "coloraxis",
           "geo": "geo",
           "hovertemplate": "animation_frame=2024-06-01<br>country=%{location}<br>streams_per_capita=%{z}<extra></extra>",
           "locationmode": "country names",
           "locations": [
            "Australia",
            "Brazil",
            "Egypt",
            "Finland",
            "Germany",
            "Greece",
            "India",
            "Japan",
            "Nigeria",
            "South Africa",
            "Spain",
            "Sweden",
            "Ukraine",
            "United Kingdom",
            "United States"
           ],
           "name": "",
           "type": "choropleth",
           "z": [
            0.6829407011070111,
            0.36611989455481836,
            0.03157376970644973,
            0.9449299702501031,
            0.3746079820164514,
            0.644526213592233,
            0.03436372400544465,
            0.16499509883344135,
            0.02945642618975447,
            0.07002780051585401,
            0.5111778868239716,
            1.0088330476190477,
            0.05885777562041138,
            0.4453857454680905,
            0.08939537995755668
           ]
          }
         ],
         "name": "2024-06-01"
        },
        {
         "data": [
          {
           "coloraxis": "coloraxis",
           "geo": "geo",
           "hovertemplate": "animation_frame=2024-06-02<br>country=%{location}<br>streams_per_capita=%{z}<extra></extra>",
           "locationmode": "country names",
           "locations": [
            "Australia",
            "Brazil",
            "Egypt",
            "Finland",
            "Germany",
            "Greece",
            "India",
            "Japan",
            "Nigeria",
            "South Africa",
            "Spain",
            "Sweden",
            "Ukraine",
            "United Kingdom",
            "United States"
           ],
           "name": "",
           "type": "choropleth",
           "z": [
            0.6832337638376383,
            0.3231732562073567,
            0.03288431737754809,
            0.7098875179009253,
            0.3096826996788888,
            0.5796977669902913,
            0.033240582627748115,
            0.16878280136098509,
            0.025602522649961268,
            0.053736636446476284,
            0.44085360200459384,
            0.7939837142857142,
            0.054023542260785144,
            0.42283521024596876,
            0.08486916041654026
           ]
          }
         ],
         "name": "2024-06-02"
        },
        {
         "data": [
          {
           "coloraxis": "coloraxis",
           "geo": "geo",
           "hovertemplate": "animation_frame=2024-06-03<br>country=%{location}<br>streams_per_capita=%{z}<extra></extra>",
           "locationmode": "country names",
           "locations": [
            "Australia",
            "Brazil",
            "Egypt",
            "Finland",
            "Germany",
            "Greece",
            "India",
            "Japan",
            "Nigeria",
            "South Africa",
            "Spain",
            "Sweden",
            "Ukraine",
            "United Kingdom",
            "United States"
           ],
           "name": "",
           "type": "choropleth",
           "z": [
            0.7076470110701107,
            0.3112263359209067,
            0.033159680998915926,
            0.8468581714675877,
            0.3595323696191409,
            0.6081609708737864,
            0.03372633660395481,
            0.15432564808813998,
            0.023824614361254253,
            0.049839946252336016,
            0.5009771559824598,
            0.8391329523809524,
            0.058010345246040894,
            0.4221067132453956,
            0.08472294050082263
           ]
          }
         ],
         "name": "2024-06-03"
        },
        {
         "data": [
          {
           "coloraxis": "coloraxis",
           "geo": "geo",
           "hovertemplate": "animation_frame=2024-06-04<br>country=%{location}<br>streams_per_capita=%{z}<extra></extra>",
           "locationmode": "country names",
           "locations": [
            "Australia",
            "Brazil",
            "Egypt",
            "Finland",
            "Germany",
            "Greece",
            "India",
            "Japan",
            "Nigeria",
            "South Africa",
            "Spain",
            "Sweden",
            "Ukraine",
            "United Kingdom",
            "United States"
           ],
           "name": "",
           "type": "choropleth",
           "z": [
            0.7258830996309963,
            0.3372706050410691,
            0.03257693736529878,
            0.8328985089582216,
            0.3718464036553055,
            0.5868292233009709,
            0.030922584268213517,
            0.15527860499027868,
            0.022909223333670136,
            0.05370585509753348,
            0.5139288369179369,
            0.9061618095238095,
            0.05532261391905831,
            0.4312932228772639,
            0.08656680624502493
           ]
          }
         ],
         "name": "2024-06-04"
        },
        {
         "data": [
          {
           "coloraxis": "coloraxis",
           "geo": "geo",
           "hovertemplate": "animation_frame=2024-06-05<br>country=%{location}<br>streams_per_capita=%{z}<extra></extra>",
           "locationmode": "country names",
           "locations": [
            "Australia",
            "Brazil",
            "Egypt",
            "Finland",
            "Germany",
            "Greece",
            "India",
            "Japan",
            "Nigeria",
            "South Africa",
            "Spain",
            "Sweden",
            "Ukraine",
            "United Kingdom",
            "United States"
           ],
           "name": "",
           "type": "choropleth",
           "z": [
            0.7234283763837639,
            0.29374396650564816,
            0.03381194297109407,
            0.8407542552106656,
            0.3677178652487632,
            0.5668699029126214,
            0.033213840691692004,
            0.15645351587815942,
            0.027959672122865514,
            0.05513498694920228,
            0.5185993109208603,
            1.0745239047619048,
            0.05532221952551423,
            0.4412507108855405,
            0.08856541853331713
           ]
          }
         ],
         "name": "2024-06-05"
        },
        {
         "data": [
          {
           "coloraxis": "coloraxis",
           "geo": "geo",
           "hovertemplate": "animation_frame=2024-06-06<br>country=%{location}<br>streams_per_capita=%{z}<extra></extra>",
           "locationmode": "country names",
           "locations": [
            "Australia",
            "Brazil",
            "Egypt",
            "Finland",
            "Germany",
            "Greece",
            "India",
            "Japan",
            "Nigeria",
            "South Africa",
            "Spain",
            "Sweden",
            "Ukraine",
            "United Kingdom",
            "United States"
           ],
           "name": "",
           "type": "choropleth",
           "z": [
            0.7268969003690037,
            0.3014478553840949,
            0.03393184156967971,
            0.8199928174615491,
            0.3852313668769868,
            0.5804208737864077,
            0.033348699136083466,
            0.15520473914452365,
            0.027600232393654642,
            0.05708207330069347,
            0.5308828565462518,
            0.954382,
            0.056394575571870637,
            0.4428640656472611,
            0.08888924223759569
           ]
          }
         ],
         "name": "2024-06-06"
        },
        {
         "data": [
          {
           "coloraxis": "coloraxis",
           "geo": "geo",
           "hovertemplate": "animation_frame=2024-06-07<br>country=%{location}<br>streams_per_capita=%{z}<extra></extra>",
           "locationmode": "country names",
           "locations": [
            "Australia",
            "Brazil",
            "Egypt",
            "Finland",
            "Germany",
            "Greece",
            "India",
            "Japan",
            "Nigeria",
            "South Africa",
            "Spain",
            "Sweden",
            "Ukraine",
            "United Kingdom",
            "United States"
           ],
           "name": "",
           "type": "choropleth",
           "z": [
            0.7514093357933579,
            0.3466489765614721,
            0.029637547546724458,
            1.0473480028552806,
            0.4805535550882732,
            0.6233912621359223,
            0.03457189848656302,
            0.15021369896305897,
            0.031817486780505874,
            0.06682680278622948,
            0.5775314053038213,
            1.0617465714285714,
            0.058669801589709365,
            0.4821153627464907,
            0.0967675469514675
           ]
          }
         ],
         "name": "2024-06-07"
        },
        {
         "data": [
          {
           "coloraxis": "coloraxis",
           "geo": "geo",
           "hovertemplate": "animation_frame=2024-06-08<br>country=%{location}<br>streams_per_capita=%{z}<extra></extra>",
           "locationmode": "country names",
           "locations": [
            "Australia",
            "Brazil",
            "Egypt",
            "Finland",
            "Germany",
            "Greece",
            "India",
            "Japan",
            "Nigeria",
            "South Africa",
            "Spain",
            "Sweden",
            "Ukraine",
            "United Kingdom",
            "United States"
           ],
           "name": "",
           "type": "choropleth",
           "z": [
            0.7079230627306273,
            0.3772435811890307,
            0.03159216190032679,
            0.880869530519138,
            0.4245091865790056,
            0.5897454368932039,
            0.03523276508654445,
            0.15890982663642256,
            0.03084116819911758,
            0.07203509042890018,
            0.5303953226143245,
            0.9367405714285715,
            0.060095867969176625,
            0.46354339880509265,
            0.09303988438033058
           ]
          }
         ],
         "name": "2024-06-08"
        },
        {
         "data": [
          {
           "coloraxis": "coloraxis",
           "geo": "geo",
           "hovertemplate": "animation_frame=2024-06-09<br>country=%{location}<br>streams_per_capita=%{z}<extra></extra>",
           "locationmode": "country names",
           "locations": [
            "Australia",
            "Brazil",
            "Egypt",
            "Finland",
            "Germany",
            "Greece",
            "India",
            "Japan",
            "Nigeria",
            "South Africa",
            "Spain",
            "Sweden",
            "Ukraine",
            "United Kingdom",
            "United States"
           ],
           "name": "",
           "type": "choropleth",
           "z": [
            0.6604645018450185,
            0.31046993590586996,
            0.03263307698788246,
            0.6967142103419687,
            0.33289111217818657,
            0.5398621359223301,
            0.032295016395098144,
            0.16261548930654568,
            0.027447218854198242,
            0.05939421131480995,
            0.4369820421799958,
            0.7543118095238095,
            0.055274801286329715,
            0.40235540771581024,
            0.0807585669652049
           ]
          }
         ],
         "name": "2024-06-09"
        },
        {
         "data": [
          {
           "coloraxis": "coloraxis",
           "geo": "geo",
           "hovertemplate": "animation_frame=2024-06-10<br>country=%{location}<br>streams_per_capita=%{z}<extra></extra>",
           "locationmode": "country names",
           "locations": [
            "Australia",
            "Brazil",
            "Egypt",
            "Finland",
            "Germany",
            "Greece",
            "India",
            "Japan",
            "Nigeria",
            "South Africa",
            "Spain",
            "Sweden",
            "Ukraine",
            "United Kingdom",
            "United States"
           ],
           "name": "",
           "type": "choropleth",
           "z": [
            0.7187248339483395,
            0.30181005300452984,
            0.03301232629160621,
            0.7816928622415728,
            0.37330993426906134,
            0.5441387378640776,
            0.03309609958877105,
            0.15249071613739468,
            0.027672640699201778,
            0.05662223732373701,
            0.4994801211108791,
            0.8373375238095238,
            0.05863764334688429,
            0.4348872498141769,
            0.08728817958683534
           ]
          }
         ],
         "name": "2024-06-10"
        },
        {
         "data": [
          {
           "coloraxis": "coloraxis",
           "geo": "geo",
           "hovertemplate": "animation_frame=2024-06-11<br>country=%{location}<br>streams_per_capita=%{z}<extra></extra>",
           "locationmode": "country names",
           "locations": [
            "Australia",
            "Brazil",
            "Egypt",
            "Finland",
            "Germany",
            "Greece",
            "India",
            "Japan",
            "Nigeria",
            "South Africa",
            "Spain",
            "Sweden",
            "Ukraine",
            "United Kingdom",
            "United States"
           ],
           "name": "",
           "type": "choropleth",
           "z": [
            0.7243612177121771,
            0.30664202676540797,
            0.034154426770219626,
            0.7882812894873352,
            0.3764904678063119,
            0.5522409708737864,
            0.03378550929893818,
            0.15251058813998702,
            0.028377930180862886,
            0.05707266745949619,
            0.5188034662768846,
            0.8711462857142858,
            0.058241702566591835,
            0.44581154069271217,
            0.0894808432357969
           ]
          }
         ],
         "name": "2024-06-11"
        },
        {
         "data": [
          {
           "coloraxis": "coloraxis",
           "geo": "geo",
           "hovertemplate": "animation_frame=2024-06-12<br>country=%{location}<br>streams_per_capita=%{z}<extra></extra>",
           "locationmode": "country names",
           "locations": [
            "Australia",
            "Brazil",
            "Egypt",
            "Finland",
            "Germany",
            "Greece",
            "India",
            "Japan",
            "Nigeria",
            "South Africa",
            "Spain",
            "Sweden",
            "Ukraine",
            "United Kingdom",
            "United States"
           ],
           "name": "",
           "type": "choropleth",
           "z": [
            0.7192644649446495,
            0.3168965330902393,
            0.03522709388447374,
            0.7830855653145464,
            0.3767548430517027,
            0.5389133009708738,
            0.03377307776008878,
            0.15376497893713545,
            0.02850191977366879,
            0.05698279456963257,
            0.5206603466276885,
            0.8576618095238095,
            0.058238001334870455,
            0.4438964656213094,
            0.0890964598885585
           ]
          }
         ],
         "name": "2024-06-12"
        },
        {
         "data": [
          {
           "coloraxis": "coloraxis",
           "geo": "geo",
           "hovertemplate": "animation_frame=2024-06-13<br>country=%{location}<br>streams_per_capita=%{z}<extra></extra>",
           "locationmode": "country names",
           "locations": [
            "Australia",
            "Brazil",
            "Egypt",
            "Finland",
            "Germany",
            "Greece",
            "India",
            "Japan",
            "Nigeria",
            "South Africa",
            "Spain",
            "Sweden",
            "Ukraine",
            "United Kingdom",
            "United States"
           ],
           "name": "",
           "type": "choropleth",
           "z": [
            0.7149281918819188,
            0.3089327011634682,
            0.037426424497367446,
            0.7942571614785389,
            0.38540285772765254,
            0.5805915533980582,
            0.033761388002493516,
            0.15226162508101102,
            0.02789206325149035,
            0.05934449472562435,
            0.5439817707245772,
            0.8639051428571428,
            0.05860545476609429,
            0.4325815658163443,
            0.0868253953618223
           ]
          }
         ],
         "name": "2024-06-13"
        },
        {
         "data": [
          {
           "coloraxis": "coloraxis",
           "geo": "geo",
           "hovertemplate": "animation_frame=2024-06-14<br>country=%{location}<br>streams_per_capita=%{z}<extra></extra>",
           "locationmode": "country names",
           "locations": [
            "Australia",
            "Brazil",
            "Egypt",
            "Finland",
            "Germany",
            "Greece",
            "India",
            "Japan",
            "Nigeria",
            "South Africa",
            "Spain",
            "Sweden",
            "Ukraine",
            "United Kingdom",
            "United States"
           ],
           "name": "",
           "type": "choropleth",
           "z": [
            0.7063790774907749,
            0.3412742044621544,
            0.03408132063203169,
            1.0177002575959777,
            0.48027989260021947,
            0.756961067961165,
            0.03443155814808402,
            0.14849803953337654,
            0.027789144858711395,
            0.0696078737238791,
            0.618503654207559,
            1.0721559999999999,
            0.059607335719919906,
            0.4540658331537519,
            0.09113759947091153
           ]
          }
         ],
         "name": "2024-06-14"
        },
        {
         "data": [
          {
           "coloraxis": "coloraxis",
           "geo": "geo",
           "hovertemplate": "animation_frame=2024-06-15<br>country=%{location}<br>streams_per_capita=%{z}<extra></extra>",
           "locationmode": "country names",
           "locations": [
            "Australia",
            "Brazil",
            "Egypt",
            "Finland",
            "Germany",
            "Greece",
            "India",
            "Japan",
            "Nigeria",
            "South Africa",
            "Spain",
            "Sweden",
            "Ukraine",
            "United Kingdom",
            "United States"
           ],
           "name": "",
           "type": "choropleth",
           "z": [
            0.6772628782287823,
            0.36037763847903315,
            0.02682454269079817,
            0.8683720909610857,
            0.3900130282301778,
            0.6597408737864078,
            0.035291580296586064,
            0.15960936487362282,
            0.028205613653969216,
            0.0715255224180271,
            0.5274795990812278,
            0.9233314285714286,
            0.05741035131363388,
            0.42593236622186276,
            0.08549080454877865
           ]
          }
         ],
         "name": "2024-06-15"
        },
        {
         "data": [
          {
           "coloraxis": "coloraxis",
           "geo": "geo",
           "hovertemplate": "animation_frame=2024-06-16<br>country=%{location}<br>streams_per_capita=%{z}<extra></extra>",
           "locationmode": "country names",
           "locations": [
            "Australia",
            "Brazil",
            "Egypt",
            "Finland",
            "Germany",
            "Greece",
            "India",
            "Japan",
            "Nigeria",
            "South Africa",
            "Spain",
            "Sweden",
            "Ukraine",
            "United Kingdom",
            "United States"
           ],
           "name": "",
           "type": "choropleth",
           "z": [
            0.6662132841328413,
            0.2964800904084356,
            0.03291857142240743,
            0.6971960611313828,
            0.31222152783327983,
            0.5873804854368933,
            0.03337430674492056,
            0.16582676604018146,
            0.02592837897005827,
            0.05926676139435032,
            0.4568281478387972,
            0.7703729523809524,
            0.052784357745282444,
            0.3864365521828257,
            0.07756342173808274
           ]
          }
         ],
         "name": "2024-06-16"
        },
        {
         "data": [
          {
           "coloraxis": "coloraxis",
           "geo": "geo",
           "hovertemplate": "animation_frame=2024-06-17<br>country=%{location}<br>streams_per_capita=%{z}<extra></extra>",
           "locationmode": "country names",
           "locations": [
            "Australia",
            "Brazil",
            "Egypt",
            "Finland",
            "Germany",
            "Greece",
            "India",
            "Japan",
            "Nigeria",
            "South Africa",
            "Spain",
            "Sweden",
            "Ukraine",
            "United Kingdom",
            "United States"
           ],
           "name": "",
           "type": "choropleth",
           "z": [
            0.6868654612546126,
            0.28432827566114693,
            0.034589711839169444,
            0.7971191813679632,
            0.36398043225843313,
            0.6298141747572815,
            0.033490034932631044,
            0.15042828904731043,
            0.027064480819103433,
            0.05540554774738598,
            0.5165864689914387,
            0.8377017142857143,
            0.05620044293428797,
            0.4130786444966425,
            0.0829108761402322
           ]
          }
         ],
         "name": "2024-06-17"
        },
        {
         "data": [
          {
           "coloraxis": "coloraxis",
           "geo": "geo",
           "hovertemplate": "animation_frame=2024-06-18<br>country=%{location}<br>streams_per_capita=%{z}<extra></extra>",
           "locationmode": "country names",
           "locations": [
            "Australia",
            "Brazil",
            "Egypt",
            "Finland",
            "Germany",
            "Greece",
            "India",
            "Japan",
            "Nigeria",
            "South Africa",
            "Spain",
            "Sweden",
            "Ukraine",
            "United Kingdom",
            "United States"
           ],
           "name": "",
           "type": "choropleth",
           "z": [
            0.6930217343173432,
            0.2977175582204011,
            0.033885190732951494,
            0.7972536101123048,
            0.35982483398634857,
            0.6252657281553398,
            0.03320863378602119,
            0.15090537103046014,
            0.026405303795763026,
            0.05317492702364588,
            0.5188253497598664,
            0.8483753333333334,
            0.0555842485286087,
            0.4187901775851884,
            0.0840572636835832
           ]
          }
         ],
         "name": "2024-06-18"
        },
        {
         "data": [
          {
           "coloraxis": "coloraxis",
           "geo": "geo",
           "hovertemplate": "animation_frame=2024-06-19<br>country=%{location}<br>streams_per_capita=%{z}<extra></extra>",
           "locationmode": "country names",
           "locations": [
            "Australia",
            "Brazil",
            "Egypt",
            "Finland",
            "Germany",
            "Greece",
            "India",
            "Japan",
            "Nigeria",
            "South Africa",
            "Spain",
            "Sweden",
            "Ukraine",
            "United Kingdom",
            "United States"
           ],
           "name": "",
           "type": "choropleth",
           "z": [
            0.6870295202952029,
            0.2879880457868917,
            0.03385416570775641,
            0.8169798755913401,
            0.35090117011837335,
            0.596935145631068,
            0.033653008880220193,
            0.15455119086195723,
            0.02580737007847496,
            0.0538623256675985,
            0.5149939235748591,
            0.8665978095238095,
            0.05352293550148656,
            0.4194913546664744,
            0.08419800009519246
           ]
          }
         ],
         "name": "2024-06-19"
        },
        {
         "data": [
          {
           "coloraxis": "coloraxis",
           "geo": "geo",
           "hovertemplate": "animation_frame=2024-06-20<br>country=%{location}<br>streams_per_capita=%{z}<extra></extra>",
           "locationmode": "country names",
           "locations": [
            "Australia",
            "Brazil",
            "Egypt",
            "Finland",
            "Germany",
            "Greece",
            "India",
            "Japan",
            "Nigeria",
            "South Africa",
            "Spain",
            "Sweden",
            "Ukraine",
            "United Kingdom",
            "United States"
           ],
           "name": "",
           "type": "choropleth",
           "z": [
            0.6899473800738007,
            0.29778388436742287,
            0.03397810530171134,
            0.9691805255667333,
            0.3591926911123649,
            0.5986068932038835,
            0.033072229219256656,
            0.15222242384964355,
            0.026736081640901282,
            0.05409311628337993,
            0.5179960743370223,
            1.0544725714285714,
            0.05336250834294035,
            0.41568307510784885,
            0.08343362314421902
           ]
          }
         ],
         "name": "2024-06-20"
        },
        {
         "data": [
          {
           "coloraxis": "coloraxis",
           "geo": "geo",
           "hovertemplate": "animation_frame=2024-06-21<br>country=%{location}<br>streams_per_capita=%{z}<extra></extra>",
           "locationmode": "country names",
           "locations": [
            "Australia",
            "Brazil",
            "Egypt",
            "Finland",
            "Germany",
            "Greece",
            "India",
            "Japan",
            "Nigeria",
            "South Africa",
            "Spain",
            "Sweden",
            "Ukraine",
            "United Kingdom",
            "United States"
           ],
           "name": "",
           "type": "choropleth",
           "z": [
            0.6970581180811808,
            0.3319195440106761,
            0.031053453786341376,
            1.1406944007235742,
            0.4176224448144501,
            0.6368629126213592,
            0.03393611014271648,
            0.14805447180816592,
            0.033912536627260785,
            0.060835807064419975,
            0.5882582585090833,
            1.9648000952380953,
            0.05780368302894242,
            0.4573201848689865,
            0.09179079506834398
           ]
          }
         ],
         "name": "2024-06-21"
        },
        {
         "data": [
          {
           "coloraxis": "coloraxis",
           "geo": "geo",
           "hovertemplate": "animation_frame=2024-06-22<br>country=%{location}<br>streams_per_capita=%{z}<extra></extra>",
           "locationmode": "country names",
           "locations": [
            "Australia",
            "Brazil",
            "Egypt",
            "Finland",
            "Germany",
            "Greece",
            "India",
            "Japan",
            "Nigeria",
            "South Africa",
            "Spain",
            "Sweden",
            "Ukraine",
            "United Kingdom",
            "United States"
           ],
           "name": "",
           "type": "choropleth",
           "z": [
            0.6522770848708487,
            0.3646561096178787,
            0.03244283863345282,
            0.8296757660265931,
            0.3723094852021551,
            0.592125145631068,
            0.03481277802755434,
            0.15807351749837978,
            0.031096855949614362,
            0.06463735771541539,
            0.5387328669868449,
            0.7215124761904762,
            0.05638086281172259,
            0.44259347393194093,
            0.08883493055508104
           ]
          }
         ],
         "name": "2024-06-22"
        },
        {
         "data": [
          {
           "coloraxis": "coloraxis",
           "geo": "geo",
           "hovertemplate": "animation_frame=2024-06-23<br>country=%{location}<br>streams_per_capita=%{z}<extra></extra>",
           "locationmode": "country names",
           "locations": [
            "Australia",
            "Brazil",
            "Egypt",
            "Finland",
            "Germany",
            "Greece",
            "India",
            "Japan",
            "Nigeria",
            "South Africa",
            "Spain",
            "Sweden",
            "Ukraine",
            "United Kingdom",
            "United States"
           ],
           "name": "",
           "type": "choropleth",
           "z": [
            0.6485032841328413,
            0.301173467661598,
            0.032300327455639474,
            0.687480658133338,
            0.31525685245915297,
            0.5432603883495145,
            0.03412752545477715,
            0.16261024789371353,
            0.02788280118554444,
            0.05208242852950716,
            0.4896513885988724,
            0.7607340952380952,
            0.04983019841029064,
            0.4016734497949021,
            0.08062168811787992
           ]
          }
         ],
         "name": "2024-06-23"
        },
        {
         "data": [
          {
           "coloraxis": "coloraxis",
           "geo": "geo",
           "hovertemplate": "animation_frame=2024-06-24<br>country=%{location}<br>streams_per_capita=%{z}<extra></extra>",
           "locationmode": "country names",
           "locations": [
            "Australia",
            "Brazil",
            "Egypt",
            "Finland",
            "Germany",
            "Greece",
            "India",
            "Japan",
            "Nigeria",
            "South Africa",
            "Spain",
            "Sweden",
            "Ukraine",
            "United Kingdom",
            "United States"
           ],
           "name": "",
           "type": "choropleth",
           "z": [
            0.6710312546125461,
            0.27495241339774074,
            0.03224569848553029,
            0.7456166563953411,
            0.35671762897460774,
            0.5461657281553398,
            0.032975477294713784,
            0.1532302171095269,
            0.027671306119699573,
            0.05229327999752884,
            0.5009433075798705,
            0.8299148571428572,
            0.05157978884776409,
            0.4147797013263374,
            0.08325230292177446
           ]
          }
         ],
         "name": "2024-06-24"
        },
        {
         "data": [
          {
           "coloraxis": "coloraxis",
           "geo": "geo",
           "hovertemplate": "animation_frame=2024-06-25<br>country=%{location}<br>streams_per_capita=%{z}<extra></extra>",
           "locationmode": "country names",
           "locations": [
            "Australia",
            "Brazil",
            "Egypt",
            "Finland",
            "Germany",
            "Greece",
            "India",
            "Japan",
            "Nigeria",
            "South Africa",
            "Spain",
            "Sweden",
            "Ukraine",
            "United Kingdom",
            "United States"
           ],
           "name": "",
           "type": "choropleth",
           "z": [
            0.6730380811808118,
            0.27174359528598013,
            0.03259986151659935,
            0.7472663347328938,
            0.3557428754102753,
            0.5599757281553398,
            0.03364684020256186,
            0.15357032566429035,
            0.027083177562224243,
            0.05315645512533399,
            0.5360047609104197,
            0.8417990476190477,
            0.051617680965960804,
            0.4151705299840216,
            0.0833307479027993
           ]
          }
         ],
         "name": "2024-06-25"
        },
        {
         "data": [
          {
           "coloraxis": "coloraxis",
           "geo": "geo",
           "hovertemplate": "animation_frame=2024-06-26<br>country=%{location}<br>streams_per_capita=%{z}<extra></extra>",
           "locationmode": "country names",
           "locations": [
            "Australia",
            "Brazil",
            "Egypt",
            "Finland",
            "Germany",
            "Greece",
            "India",
            "Japan",
            "Nigeria",
            "South Africa",
            "Spain",
            "Sweden",
            "Ukraine",
            "United Kingdom",
            "United States"
           ],
           "name": "",
           "type": "choropleth",
           "z": [
            0.6796205904059041,
            0.2815271977144146,
            0.03420340023512739,
            0.7480516256035328,
            0.355583149198189,
            0.5620391262135922,
            0.034853690804195675,
            0.15645617303953338,
            0.028000463103297294,
            0.055498972925386504,
            0.5427230528294007,
            0.8504964761904762,
            0.05277334506401311,
            0.4272177061671341,
            0.0857487909211566
           ]
          }
         ],
         "name": "2024-06-26"
        },
        {
         "data": [
          {
           "coloraxis": "coloraxis",
           "geo": "geo",
           "hovertemplate": "animation_frame=2024-06-27<br>country=%{location}<br>streams_per_capita=%{z}<extra></extra>",
           "locationmode": "country names",
           "locations": [
            "Australia",
            "Brazil",
            "Egypt",
            "Finland",
            "Germany",
            "Greece",
            "India",
            "Japan",
            "Nigeria",
            "South Africa",
            "Spain",
            "Sweden",
            "Ukraine",
            "United Kingdom",
            "United States"
           ],
           "name": "",
           "type": "choropleth",
           "z": [
            0.685100701107011,
            0.2980630509557732,
            0.03567867511699224,
            0.765338488208666,
            0.3551928935168081,
            0.5692586407766991,
            0.03401325126832014,
            0.15682580200907323,
            0.03622740897915193,
            0.05779554265062474,
            0.5553726247650866,
            0.8679740952380952,
            0.053503337176142224,
            0.4215298161615531,
            0.08460714888752727
           ]
          }
         ],
         "name": "2024-06-27"
        },
        {
         "data": [
          {
           "coloraxis": "coloraxis",
           "geo": "geo",
           "hovertemplate": "animation_frame=2024-06-28<br>country=%{location}<br>streams_per_capita=%{z}<extra></extra>",
           "locationmode": "country names",
           "locations": [
            "Australia",
            "Brazil",
            "Egypt",
            "Finland",
            "Germany",
            "Greece",
            "India",
            "Japan",
            "Nigeria",
            "South Africa",
            "Spain",
            "Sweden",
            "Ukraine",
            "United Kingdom",
            "United States"
           ],
           "name": "",
           "type": "choropleth",
           "z": [
            0.6884518819188192,
            0.3211489013777419,
            0.03165806411452694,
            0.8780165553077629,
            0.4243923899280428,
            0.5926483495145631,
            0.03480709332950945,
            0.14739192320155542,
            0.03534148816139571,
            0.06800213137288214,
            0.6051056170390479,
            0.9582061904761905,
            0.057724076208967905,
            0.43874687324256195,
            0.08806286199727249
           ]
          }
         ],
         "name": "2024-06-28"
        },
        {
         "data": [
          {
           "coloraxis": "coloraxis",
           "geo": "geo",
           "hovertemplate": "animation_frame=2024-06-29<br>country=%{location}<br>streams_per_capita=%{z}<extra></extra>",
           "locationmode": "country names",
           "locations": [
            "Australia",
            "Brazil",
            "Egypt",
            "Finland",
            "Germany",
            "Greece",
            "India",
            "Japan",
            "Nigeria",
            "South Africa",
            "Spain",
            "Sweden",
            "Ukraine",
            "United Kingdom",
            "United States"
           ],
           "name": "",
           "type": "choropleth",
           "z": [
            0.6438094464944649,
            0.34030085709452473,
            0.03370378025391972,
            0.7370098471715429,
            0.373968119720409,
            0.5581826213592233,
            0.03392949254646784,
            0.16392263447828906,
            0.034217696439998654,
            0.06959244443758011,
            0.537174796408436,
            0.90165,
            0.05350133487045689,
            0.4292243652253375,
            0.08615155650307893
           ]
          }
         ],
         "name": "2024-06-29"
        },
        {
         "data": [
          {
           "coloraxis": "coloraxis",
           "geo": "geo",
           "hovertemplate": "animation_frame=2024-06-30<br>country=%{location}<br>streams_per_capita=%{z}<extra></extra>",
           "locationmode": "country names",
           "locations": [
            "Australia",
            "Brazil",
            "Egypt",
            "Finland",
            "Germany",
            "Greece",
            "India",
            "Japan",
            "Nigeria",
            "South Africa",
            "Spain",
            "Sweden",
            "Ukraine",
            "United Kingdom",
            "United States"
           ],
           "name": "",
           "type": "choropleth",
           "z": [
            0.6218219926199262,
            0.2695474268368325,
            0.03374775912408366,
            0.6191759588910515,
            0.27315579476428825,
            0.5092976699029126,
            0.03401953956593975,
            0.1676898898250162,
            0.030266932740561112,
            0.05674652107433549,
            0.4623050114846523,
            0.6635924761904762,
            0.048015684727868456,
            0.3543061151398511,
            0.07111437693392017
           ]
          }
         ],
         "name": "2024-06-30"
        },
        {
         "data": [
          {
           "coloraxis": "coloraxis",
           "geo": "geo",
           "hovertemplate": "animation_frame=2024-07-01<br>country=%{location}<br>streams_per_capita=%{z}<extra></extra>",
           "locationmode": "country names",
           "locations": [
            "Australia",
            "Brazil",
            "Egypt",
            "Finland",
            "Germany",
            "Greece",
            "India",
            "Japan",
            "Nigeria",
            "South Africa",
            "Spain",
            "Sweden",
            "Ukraine",
            "United Kingdom",
            "United States"
           ],
           "name": "",
           "type": "choropleth",
           "z": [
            0.654489594095941,
            0.26827739037272336,
            0.033824292555073125,
            0.6909082364207904,
            0.3251288323669215,
            0.5399779611650486,
            0.033670780694122514,
            0.1538670366169799,
            0.030579447475666027,
            0.054454121426475356,
            0.5402446022134058,
            0.79672,
            0.05000743280140768,
            0.3847160125152477,
            0.07721808446835596
           ]
          }
         ],
         "name": "2024-07-01"
        },
        {
         "data": [
          {
           "coloraxis": "coloraxis",
           "geo": "geo",
           "hovertemplate": "animation_frame=2024-07-02<br>country=%{location}<br>streams_per_capita=%{z}<extra></extra>",
           "locationmode": "country names",
           "locations": [
            "Australia",
            "Brazil",
            "Egypt",
            "Finland",
            "Germany",
            "Greece",
            "India",
            "Japan",
            "Nigeria",
            "South Africa",
            "Spain",
            "Sweden",
            "Ukraine",
            "United Kingdom",
            "United States"
           ],
           "name": "",
           "type": "choropleth",
           "z": [
            0.6608092619926199,
            0.2827967125913952,
            0.034272333195854515,
            0.728776529947195,
            0.32442212825351796,
            0.5338276699029126,
            0.0343180085561051,
            0.1568356610499028,
            0.031147889932976323,
            0.05524098413826123,
            0.5662182292754229,
            0.7879200952380953,
            0.050827134275832776,
            0.3984634544955396,
            0.07997739549655479
           ]
          }
         ],
         "name": "2024-07-02"
        },
        {
         "data": [
          {
           "coloraxis": "coloraxis",
           "geo": "geo",
           "hovertemplate": "animation_frame=2024-07-03<br>country=%{location}<br>streams_per_capita=%{z}<extra></extra>",
           "locationmode": "country names",
           "locations": [
            "Australia",
            "Brazil",
            "Egypt",
            "Finland",
            "Germany",
            "Greece",
            "India",
            "Japan",
            "Nigeria",
            "South Africa",
            "Spain",
            "Sweden",
            "Ukraine",
            "United Kingdom",
            "United States"
           ],
           "name": "",
           "type": "choropleth",
           "z": [
            0.656180590405904,
            0.2806062205138808,
            0.03484334094806038,
            0.7110001906476255,
            0.32737185705526095,
            0.5403357281553398,
            0.03503746693803954,
            0.1567476587815943,
            0.029597731635849247,
            0.055327845305574004,
            0.5661863228231363,
            0.7876108571428572,
            0.05039876221103089,
            0.39146057547410423,
            0.078571816091987
           ]
          }
         ],
         "name": "2024-07-03"
        },
        {
         "data": [
          {
           "coloraxis": "coloraxis",
           "geo": "geo",
           "hovertemplate": "animation_frame=2024-07-04<br>country=%{location}<br>streams_per_capita=%{z}<extra></extra>",
           "locationmode": "country names",
           "locations": [
            "Australia",
            "Brazil",
            "Egypt",
            "Finland",
            "Germany",
            "Greece",
            "India",
            "Japan",
            "Nigeria",
            "South Africa",
            "Spain",
            "Sweden",
            "Ukraine",
            "United Kingdom",
            "United States"
           ],
           "name": "",
           "type": "choropleth",
           "z": [
            0.6548419188191882,
            0.29037472041050316,
            0.036006345080289714,
            0.7203993846071994,
            0.3369954750303744,
            0.5382685436893204,
            0.034716065288860856,
            0.15639450745301361,
            0.03111358239870668,
            0.05551392342502355,
            0.57704796408436,
            0.783179619047619,
            0.05111816637339967,
            0.398199147094093,
            0.0799243451669959
           ]
          }
         ],
         "name": "2024-07-04"
        },
        {
         "data": [
          {
           "coloraxis": "coloraxis",
           "geo": "geo",
           "hovertemplate": "animation_frame=2024-07-05<br>country=%{location}<br>streams_per_capita=%{z}<extra></extra>",
           "locationmode": "country names",
           "locations": [
            "Australia",
            "Brazil",
            "Egypt",
            "Finland",
            "Germany",
            "Greece",
            "India",
            "Japan",
            "Nigeria",
            "South Africa",
            "Spain",
            "Sweden",
            "Ukraine",
            "United Kingdom",
            "United States"
           ],
           "name": "",
           "type": "choropleth",
           "z": [
            0.6727508487084871,
            0.3147734949157002,
            0.031214366599609748,
            0.8377852953043047,
            0.36212700500618283,
            0.5866178640776699,
            0.03486623715070906,
            0.15116706092028515,
            0.030208026001145128,
            0.06375898497227671,
            0.5619615159741074,
            0.8690527619047619,
            0.05337412778350828,
            0.3978155549190511,
            0.07984735265301102
           ]
          }
         ],
         "name": "2024-07-05"
        },
        {
         "data": [
          {
           "coloraxis": "coloraxis",
           "geo": "geo",
           "hovertemplate": "animation_frame=2024-07-06<br>country=%{location}<br>streams_per_capita=%{z}<extra></extra>",
           "locationmode": "country names",
           "locations": [
            "Australia",
            "Brazil",
            "Egypt",
            "Finland",
            "Germany",
            "Greece",
            "India",
            "Japan",
            "Nigeria",
            "South Africa",
            "Spain",
            "Sweden",
            "Ukraine",
            "United Kingdom",
            "United States"
           ],
           "name": "",
           "type": "choropleth",
           "z": [
            0.6185356826568266,
            0.33447751066669174,
            0.033186863301879,
            0.7337608569389086,
            0.32956165961973194,
            0.5452319417475728,
            0.03598283174167426,
            0.15817446532728452,
            0.031515951803576844,
            0.06817784607781055,
            0.539948381708081,
            0.7815638095238095,
            0.0545897397002609,
            0.3782739755473392,
            0.07592507419960216
           ]
          }
         ],
         "name": "2024-07-06"
        },
        {
         "data": [
          {
           "coloraxis": "coloraxis",
           "geo": "geo",
           "hovertemplate": "animation_frame=2024-07-07<br>country=%{location}<br>streams_per_capita=%{z}<extra></extra>",
           "locationmode": "country names",
           "locations": [
            "Australia",
            "Brazil",
            "Egypt",
            "Finland",
            "Germany",
            "Greece",
            "India",
            "Japan",
            "Nigeria",
            "South Africa",
            "Spain",
            "Sweden",
            "Ukraine",
            "United Kingdom",
            "United States"
           ],
           "name": "",
           "type": "choropleth",
           "z": [
            0.603680258302583,
            0.28198299438001617,
            0.0342021067389461,
            0.6256393567637787,
            0.2839249869410118,
            0.5141675728155339,
            0.035520363784596394,
            0.16652138690861956,
            0.028573848135798725,
            0.052986485860348743,
            0.47838041344748383,
            0.6760355238095238,
            0.05005928038347188,
            0.3467001470690583,
            0.06958774880863303
           ]
          }
         ],
         "name": "2024-07-07"
        },
        {
         "data": [
          {
           "coloraxis": "coloraxis",
           "geo": "geo",
           "hovertemplate": "animation_frame=2024-07-08<br>country=%{location}<br>streams_per_capita=%{z}<extra></extra>",
           "locationmode": "country names",
           "locations": [
            "Australia",
            "Brazil",
            "Egypt",
            "Finland",
            "Germany",
            "Greece",
            "India",
            "Japan",
            "Nigeria",
            "South Africa",
            "Spain",
            "Sweden",
            "Ukraine",
            "United Kingdom",
            "United States"
           ],
           "name": "",
           "type": "choropleth",
           "z": [
            0.6353755719557196,
            0.2621220137962145,
            0.034782716575943014,
            0.7413892448137195,
            0.3242976839890737,
            0.5491435922330097,
            0.03419699234114086,
            0.15254882534024627,
            0.030956615641103365,
            0.04988153891299983,
            0.5576350177490081,
            0.7650087619047619,
            0.04896171348825921,
            0.3798361036293026,
            0.07623861596615043
           ]
          }
         ],
         "name": "2024-07-08"
        },
        {
         "data": [
          {
           "coloraxis": "coloraxis",
           "geo": "geo",
           "hovertemplate": "animation_frame=2024-07-09<br>country=%{location}<br>streams_per_capita=%{z}<extra></extra>",
           "locationmode": "country names",
           "locations": [
            "Australia",
            "Brazil",
            "Egypt",
            "Finland",
            "Germany",
            "Greece",
            "India",
            "Japan",
            "Nigeria",
            "South Africa",
            "Spain",
            "Sweden",
            "Ukraine",
            "United Kingdom",
            "United States"
           ],
           "name": "",
           "type": "choropleth",
           "z": [
            0.6426987822878228,
            0.2589716181418341,
            0.035690930285191644,
            0.7137666207043322,
            0.32304174000416824,
            0.5344543689320388,
            0.03513657963814005,
            0.15151070965651328,
            0.030826795156781515,
            0.04687588614144285,
            0.5366283775318438,
            0.7659559047619048,
            0.049211425277592376,
            0.37004003020044957,
            0.07427240192545617
           ]
          }
         ],
         "name": "2024-07-09"
        },
        {
         "data": [
          {
           "coloraxis": "coloraxis",
           "geo": "geo",
           "hovertemplate": "animation_frame=2024-07-10<br>country=%{location}<br>streams_per_capita=%{z}<extra></extra>",
           "locationmode": "country names",
           "locations": [
            "Australia",
            "Brazil",
            "Egypt",
            "Finland",
            "Germany",
            "Greece",
            "India",
            "Japan",
            "Nigeria",
            "South Africa",
            "Spain",
            "Sweden",
            "Ukraine",
            "United Kingdom",
            "United States"
           ],
           "name": "",
           "type": "choropleth",
           "z": [
            0.6498930258302583,
            0.2744820686803376,
            0.03557566750138713,
            0.7409380749910218,
            0.30945652659661643,
            0.5355645631067961,
            0.03525735798812381,
            0.15226642903434867,
            0.029953310767572666,
            0.04917466446321837,
            0.5569039465441638,
            0.7254737142857143,
            0.04848112978581397,
            0.37850595315690017,
            0.0759716354709481
           ]
          }
         ],
         "name": "2024-07-10"
        },
        {
         "data": [
          {
           "coloraxis": "coloraxis",
           "geo": "geo",
           "hovertemplate": "animation_frame=2024-07-11<br>country=%{location}<br>streams_per_capita=%{z}<extra></extra>",
           "locationmode": "country names",
           "locations": [
            "Australia",
            "Brazil",
            "Egypt",
            "Finland",
            "Germany",
            "Greece",
            "India",
            "Japan",
            "Nigeria",
            "South Africa",
            "Spain",
            "Sweden",
            "Ukraine",
            "United Kingdom",
            "United States"
           ],
           "name": "",
           "type": "choropleth",
           "z": [
            0.6627119557195572,
            0.2905358297464429,
            0.03575024227797178,
            0.7182242282096415,
            0.32816754396402353,
            0.5527678640776699,
            0.03508366224216629,
            0.15377451393389502,
            0.0401998795931427,
            0.05128348803805582,
            0.5758953434955105,
            0.7560415238095238,
            0.047187761664947515,
            0.39047179947841365,
            0.07837335440629752
           ]
          }
         ],
         "name": "2024-07-11"
        },
        {
         "data": [
          {
           "coloraxis": "coloraxis",
           "geo": "geo",
           "hovertemplate": "animation_frame=2024-07-12<br>country=%{location}<br>streams_per_capita=%{z}<extra></extra>",
           "locationmode": "country names",
           "locations": [
            "Australia",
            "Brazil",
            "Egypt",
            "Finland",
            "Germany",
            "Greece",
            "India",
            "Japan",
            "Nigeria",
            "South Africa",
            "Spain",
            "Sweden",
            "Ukraine",
            "United Kingdom",
            "United States"
           ],
           "name": "",
           "type": "choropleth",
           "z": [
            0.7200948339483395,
            0.31328228201417213,
            0.031964953164722046,
            0.9139006947554168,
            0.389107258772429,
            0.6652736893203883,
            0.0355112884793732,
            0.15104708360337005,
            0.03727888080563133,
            0.06868498926591193,
            0.6264903946544164,
            0.951462,
            0.048140131060008494,
            0.4829945953875275,
            0.09694402169682327
           ]
          }
         ],
         "name": "2024-07-12"
        },
        {
         "data": [
          {
           "coloraxis": "coloraxis",
           "geo": "geo",
           "hovertemplate": "animation_frame=2024-07-13<br>country=%{location}<br>streams_per_capita=%{z}<extra></extra>",
           "locationmode": "country names",
           "locations": [
            "Australia",
            "Brazil",
            "Egypt",
            "Finland",
            "Germany",
            "Greece",
            "India",
            "Japan",
            "Nigeria",
            "South Africa",
            "Spain",
            "Sweden",
            "Ukraine",
            "United Kingdom",
            "United States"
           ],
           "name": "",
           "type": "choropleth",
           "z": [
            0.6713515867158671,
            0.3238581142040862,
            0.034553361764001735,
            0.800621067892723,
            0.35223422454719244,
            0.5844488349514563,
            0.03669589939280385,
            0.15842923687621516,
            0.03843274477114277,
            0.07268078829907178,
            0.5427457089162664,
            0.7952331428571429,
            0.04856140404101693,
            0.43421435946969705,
            0.08715312073363533
           ]
          }
         ],
         "name": "2024-07-13"
        },
        {
         "data": [
          {
           "coloraxis": "coloraxis",
           "geo": "geo",
           "hovertemplate": "animation_frame=2024-07-14<br>country=%{location}<br>streams_per_capita=%{z}<extra></extra>",
           "locationmode": "country names",
           "locations": [
            "Australia",
            "Brazil",
            "Egypt",
            "Finland",
            "Germany",
            "Greece",
            "India",
            "Japan",
            "Nigeria",
            "South Africa",
            "Spain",
            "Sweden",
            "Ukraine",
            "United Kingdom",
            "United States"
           ],
           "name": "",
           "type": "choropleth",
           "z": [
            0.6366271955719557,
            0.27161990865176777,
            0.034275467799739105,
            0.6217049218123052,
            0.28675374222621286,
            0.5148711650485437,
            0.03521511701742965,
            0.15243237200259235,
            0.03409233858745074,
            0.056891608877631394,
            0.4649941950302777,
            0.664840380952381,
            0.044303501001152844,
            0.3959900423069092,
            0.0794809457905547
           ]
          }
         ],
         "name": "2024-07-14"
        },
        {
         "data": [
          {
           "coloraxis": "coloraxis",
           "geo": "geo",
           "hovertemplate": "animation_frame=2024-07-15<br>country=%{location}<br>streams_per_capita=%{z}<extra></extra>",
           "locationmode": "country names",
           "locations": [
            "Australia",
            "Brazil",
            "Egypt",
            "Finland",
            "Germany",
            "Greece",
            "India",
            "Japan",
            "Nigeria",
            "South Africa",
            "Spain",
            "Sweden",
            "Ukraine",
            "United Kingdom",
            "United States"
           ],
           "name": "",
           "type": "choropleth",
           "z": [
            0.6610844280442805,
            0.2593233746217319,
            0.03441303159069846,
            0.7318414343795306,
            0.32394126211569274,
            0.5462827184466019,
            0.033613878715990315,
            0.16396746597537265,
            0.034620377387086995,
            0.05235379245370442,
            0.541007705157653,
            0.7357477142857143,
            0.0461192282021722,
            0.3780058448220674,
            0.07587125647348976
           ]
          }
         ],
         "name": "2024-07-15"
        },
        {
         "data": [
          {
           "coloraxis": "coloraxis",
           "geo": "geo",
           "hovertemplate": "animation_frame=2024-07-16<br>country=%{location}<br>streams_per_capita=%{z}<extra></extra>",
           "locationmode": "country names",
           "locations": [
            "Australia",
            "Brazil",
            "Egypt",
            "Finland",
            "Germany",
            "Greece",
            "India",
            "Japan",
            "Nigeria",
            "South Africa",
            "Spain",
            "Sweden",
            "Ukraine",
            "United Kingdom",
            "United States"
           ],
           "name": "",
           "type": "choropleth",
           "z": [
            0.6645168265682657,
            0.2738799691746706,
            0.033761524944757565,
            0.7303215737739805,
            0.3141274471555294,
            0.5468719417475728,
            0.03368307130140834,
            0.15067601263771874,
            0.0345666616146307,
            0.05332077161876226,
            0.5779569429943621,
            0.7343880952380952,
            0.044639190583095685,
            0.39343231191162104,
            0.078967572197344
           ]
          }
         ],
         "name": "2024-07-16"
        },
        {
         "data": [
          {
           "coloraxis": "coloraxis",
           "geo": "geo",
           "hovertemplate": "animation_frame=2024-07-17<br>country=%{location}<br>streams_per_capita=%{z}<extra></extra>",
           "locationmode": "country names",
           "locations": [
            "Australia",
            "Brazil",
            "Egypt",
            "Finland",
            "Germany",
            "Greece",
            "India",
            "Japan",
            "Nigeria",
            "South Africa",
            "Spain",
            "Sweden",
            "Ukraine",
            "United Kingdom",
            "United States"
           ],
           "name": "",
           "type": "choropleth",
           "z": [
            0.655330110701107,
            0.275354448997237,
            0.03662599584217455,
            0.6991631899338053,
            0.31889986913844237,
            0.5319278640776699,
            0.03383552212976021,
            0.1524992709008425,
            0.034686879020578626,
            0.05418241771819544,
            0.5872937982877428,
            0.723854,
            0.045503731569686304,
            0.4017040510342538,
            0.08062783023052462
           ]
          }
         ],
         "name": "2024-07-17"
        },
        {
         "data": [
          {
           "coloraxis": "coloraxis",
           "geo": "geo",
           "hovertemplate": "animation_frame=2024-07-18<br>country=%{location}<br>streams_per_capita=%{z}<extra></extra>",
           "locationmode": "country names",
           "locations": [
            "Australia",
            "Brazil",
            "Egypt",
            "Finland",
            "Germany",
            "Greece",
            "India",
            "Japan",
            "Nigeria",
            "South Africa",
            "Spain",
            "Sweden",
            "Ukraine",
            "United Kingdom",
            "United States"
           ],
           "name": "",
           "type": "choropleth",
           "z": [
            0.6652063468634687,
            0.28916078510610305,
            0.0388093229804165,
            0.7121453178273265,
            0.3296885334077079,
            0.5235557281553398,
            0.03374385267862958,
            0.15403864225534672,
            0.03474248088646391,
            0.05523499158262159,
            0.5969439340154521,
            0.7462408571428572,
            0.04768005582185547,
            0.4058229866402372,
            0.08145456035663276
           ]
          }
         ],
         "name": "2024-07-18"
        },
        {
         "data": [
          {
           "coloraxis": "coloraxis",
           "geo": "geo",
           "hovertemplate": "animation_frame=2024-07-19<br>country=%{location}<br>streams_per_capita=%{z}<extra></extra>",
           "locationmode": "country names",
           "locations": [
            "Australia",
            "Brazil",
            "Egypt",
            "Finland",
            "Germany",
            "Greece",
            "India",
            "Japan",
            "Nigeria",
            "South Africa",
            "Spain",
            "Sweden",
            "Ukraine",
            "United Kingdom",
            "United States"
           ],
           "name": "",
           "type": "choropleth",
           "z": [
            0.6629566051660517,
            0.32959282841193166,
            0.0350803245549979,
            0.8062615774095865,
            0.39492831337761003,
            0.5312768932038835,
            0.034185684817444856,
            0.15231634802333116,
            0.034626582971270754,
            0.06524377963457767,
            0.6547923992482773,
            0.8731401904761905,
            0.05584679327710697,
            0.44553079739344237,
            0.08942449398312294
           ]
          }
         ],
         "name": "2024-07-19"
        },
        {
         "data": [
          {
           "coloraxis": "coloraxis",
           "geo": "geo",
           "hovertemplate": "animation_frame=2024-07-20<br>country=%{location}<br>streams_per_capita=%{z}<extra></extra>",
           "locationmode": "country names",
           "locations": [
            "Australia",
            "Brazil",
            "Egypt",
            "Finland",
            "Germany",
            "Greece",
            "India",
            "Japan",
            "Nigeria",
            "South Africa",
            "Spain",
            "Sweden",
            "Ukraine",
            "United Kingdom",
            "United States"
           ],
           "name": "",
           "type": "choropleth",
           "z": [
            0.6232659778597786,
            0.3497290331372291,
            0.0364764790135107,
            0.7252528297871397,
            0.3644366441180553,
            0.5113559223300971,
            0.03500468281899679,
            0.15649445074530136,
            0.03472472298002762,
            0.07314562836888196,
            0.5950669033201086,
            0.8392208571428571,
            0.053712092712820826,
            0.39964591626753826,
            0.08021473272718846
           ]
          }
         ],
         "name": "2024-07-20"
        },
        {
         "data": [
          {
           "coloraxis": "coloraxis",
           "geo": "geo",
           "hovertemplate": "animation_frame=2024-07-21<br>country=%{location}<br>streams_per_capita=%{z}<extra></extra>",
           "locationmode": "country names",
           "locations": [
            "Australia",
            "Brazil",
            "Egypt",
            "Finland",
            "Germany",
            "Greece",
            "India",
            "Japan",
            "Nigeria",
            "South Africa",
            "Spain",
            "Sweden",
            "Ukraine",
            "United Kingdom",
            "United States"
           ],
           "name": "",
           "type": "choropleth",
           "z": [
            0.6280736162361623,
            0.29539829050993366,
            0.03695821664605145,
            0.6166395474114043,
            0.28396028085675007,
            0.47421466019417474,
            0.034316829543268354,
            0.1602302819183409,
            0.03200056835404668,
            0.05859369546079355,
            0.5124845270411359,
            0.7078122857142857,
            0.04904389903525271,
            0.36255202851572604,
            0.0727694513650938
           ]
          }
         ],
         "name": "2024-07-21"
        },
        {
         "data": [
          {
           "coloraxis": "coloraxis",
           "geo": "geo",
           "hovertemplate": "animation_frame=2024-07-22<br>country=%{location}<br>streams_per_capita=%{z}<extra></extra>",
           "locationmode": "country names",
           "locations": [
            "Australia",
            "Brazil",
            "Egypt",
            "Finland",
            "Germany",
            "Greece",
            "India",
            "Japan",
            "Nigeria",
            "South Africa",
            "Spain",
            "Sweden",
            "Ukraine",
            "United Kingdom",
            "United States"
           ],
           "name": "",
           "type": "choropleth",
           "z": [
            0.6500709594095941,
            0.27893337311805727,
            0.03643625789137708,
            0.701549034125925,
            0.32220140012842724,
            0.5020896116504855,
            0.03285036375234025,
            0.15553957388204795,
            0.033409492775588565,
            0.051245972786383924,
            0.5990613280434328,
            0.7189835238095238,
            0.051558157878769495,
            0.38427101277899844,
            0.07712876656604814
           ]
          }
         ],
         "name": "2024-07-22"
        },
        {
         "data": [
          {
           "coloraxis": "coloraxis",
           "geo": "geo",
           "hovertemplate": "animation_frame=2024-07-23<br>country=%{location}<br>streams_per_capita=%{z}<extra></extra>",
           "locationmode": "country names",
           "locations": [
            "Australia",
            "Brazil",
            "Egypt",
            "Finland",
            "Germany",
            "Greece",
            "India",
            "Japan",
            "Nigeria",
            "South Africa",
            "Spain",
            "Sweden",
            "Ukraine",
            "United Kingdom",
            "United States"
           ],
           "name": "",
           "type": "choropleth",
           "z": [
            0.6445857933579335,
            0.28839962032216226,
            0.03733663509091423,
            0.6808833635561546,
            0.31266805750306403,
            0.49186844660194173,
            0.03374123066407605,
            0.15550959170447182,
            0.03395067528880805,
            0.05177144887021792,
            0.6064305700563792,
            0.7316354285714286,
            0.05220229355014865,
            0.39479988994100934,
            0.07924206494616398
           ]
          }
         ],
         "name": "2024-07-23"
        },
        {
         "data": [
          {
           "coloraxis": "coloraxis",
           "geo": "geo",
           "hovertemplate": "animation_frame=2024-07-24<br>country=%{location}<br>streams_per_capita=%{z}<extra></extra>",
           "locationmode": "country names",
           "locations": [
            "Australia",
            "Brazil",
            "Egypt",
            "Finland",
            "Germany",
            "Greece",
            "India",
            "Japan",
            "Nigeria",
            "South Africa",
            "Spain",
            "Sweden",
            "Ukraine",
            "United Kingdom",
            "United States"
           ],
           "name": "",
           "type": "choropleth",
           "z": [
            0.645900479704797,
            0.28867554461214595,
            0.03890433357948471,
            0.6773538109573615,
            0.31887143294183534,
            0.49328339805825244,
            0.03378415223110161,
            0.15543933084899547,
            0.03329256761308141,
            0.05193127094691646,
            0.6111689287951556,
            0.7147426666666666,
            0.05478053516170135,
            0.3892100293723557,
            0.07812009884255783
           ]
          }
         ],
         "name": "2024-07-24"
        },
        {
         "data": [
          {
           "coloraxis": "coloraxis",
           "geo": "geo",
           "hovertemplate": "animation_frame=2024-07-25<br>country=%{location}<br>streams_per_capita=%{z}<extra></extra>",
           "locationmode": "country names",
           "locations": [
            "Australia",
            "Brazil",
            "Egypt",
            "Finland",
            "Germany",
            "Greece",
            "India",
            "Japan",
            "Nigeria",
            "South Africa",
            "Spain",
            "Sweden",
            "Ukraine",
            "United Kingdom",
            "United States"
           ],
           "name": "",
           "type": "choropleth",
           "z": [
            0.6549613284132841,
            0.29268107531530174,
            0.04078962786766333,
            0.6979715979374587,
            0.3232327508197607,
            0.4942358252427185,
            0.033660734679788265,
            0.1571971889176928,
            0.03393291317234179,
            0.05572948553600939,
            0.5960101691376071,
            0.7393044761904762,
            0.05595488744615011,
            0.3898915185332546,
            0.07825688360294905
           ]
          }
         ],
         "name": "2024-07-25"
        },
        {
         "data": [
          {
           "coloraxis": "coloraxis",
           "geo": "geo",
           "hovertemplate": "animation_frame=2024-07-26<br>country=%{location}<br>streams_per_capita=%{z}<extra></extra>",
           "locationmode": "country names",
           "locations": [
            "Australia",
            "Brazil",
            "Egypt",
            "Finland",
            "Germany",
            "Greece",
            "India",
            "Japan",
            "Nigeria",
            "South Africa",
            "Spain",
            "Sweden",
            "Ukraine",
            "United Kingdom",
            "United States"
           ],
           "name": "",
           "type": "choropleth",
           "z": [
            0.6582201476014761,
            0.32172246395879933,
            0.037455891662198204,
            0.8022671992977074,
            0.36506143858096296,
            0.5292800970873787,
            0.03395302124287444,
            0.15593186973428386,
            0.03421086777137853,
            0.06847558960260706,
            0.6263122572562122,
            0.7921486666666666,
            0.05584118075359505,
            0.4256360952472877,
            0.0854313386664238
           ]
          }
         ],
         "name": "2024-07-26"
        },
        {
         "data": [
          {
           "coloraxis": "coloraxis",
           "geo": "geo",
           "hovertemplate": "animation_frame=2024-07-27<br>country=%{location}<br>streams_per_capita=%{z}<extra></extra>",
           "locationmode": "country names",
           "locations": [
            "Australia",
            "Brazil",
            "Egypt",
            "Finland",
            "Germany",
            "Greece",
            "India",
            "Japan",
            "Nigeria",
            "South Africa",
            "Spain",
            "Sweden",
            "Ukraine",
            "United Kingdom",
            "United States"
           ],
           "name": "",
           "type": "choropleth",
           "z": [
            0.614920258302583,
            0.3413604402007406,
            0.03970564030142842,
            0.7293523744496713,
            0.326674871035984,
            0.4953039805825243,
            0.03499807415987168,
            0.15263612281270253,
            0.03438392947357785,
            0.07734313558929372,
            0.5700076216329087,
            0.7361371428571428,
            0.05550846429221528,
            0.39504572526834275,
            0.07929140766248928
           ]
          }
         ],
         "name": "2024-07-27"
        },
        {
         "data": [
          {
           "coloraxis": "coloraxis",
           "geo": "geo",
           "hovertemplate": "animation_frame=2024-07-28<br>country=%{location}<br>streams_per_capita=%{z}<extra></extra>",
           "locationmode": "country names",
           "locations": [
            "Australia",
            "Brazil",
            "Egypt",
            "Finland",
            "Germany",
            "Greece",
            "India",
            "Japan",
            "Nigeria",
            "South Africa",
            "Spain",
            "Sweden",
            "Ukraine",
            "United Kingdom",
            "United States"
           ],
           "name": "",
           "type": "choropleth",
           "z": [
            0.6014470848708487,
            0.2793090051312896,
            0.04031842703613223,
            0.6418266702727148,
            0.27601630140874783,
            0.4534678640776699,
            0.03396757706724309,
            0.1561474319507453,
            0.029448768145229193,
            0.05900338239609557,
            0.4905751305074128,
            0.6246827619047619,
            0.05050361021782659,
            0.36374732259297704,
            0.07300936422553922
           ]
          }
         ],
         "name": "2024-07-28"
        },
        {
         "data": [
          {
           "coloraxis": "coloraxis",
           "geo": "geo",
           "hovertemplate": "animation_frame=2024-07-29<br>country=%{location}<br>streams_per_capita=%{z}<extra></extra>",
           "locationmode": "country names",
           "locations": [
            "Australia",
            "Brazil",
            "Egypt",
            "Finland",
            "Germany",
            "Greece",
            "India",
            "Japan",
            "Nigeria",
            "South Africa",
            "Spain",
            "Sweden",
            "Ukraine",
            "United Kingdom",
            "United States"
           ],
           "name": "",
           "type": "choropleth",
           "z": [
            0.6298512546125461,
            0.26212229103621976,
            0.04021907331119982,
            0.6946951189774193,
            0.313373337413018,
            0.48004300970873787,
            0.032360281458454196,
            0.15383448639014907,
            0.03109185443400357,
            0.05062963534990038,
            0.5480934641887659,
            0.6997914285714286,
            0.05493037437048723,
            0.3848597314043234,
            0.07724693093420433
           ]
          }
         ],
         "name": "2024-07-29"
        },
        {
         "data": [
          {
           "coloraxis": "coloraxis",
           "geo": "geo",
           "hovertemplate": "animation_frame=2024-07-30<br>country=%{location}<br>streams_per_capita=%{z}<extra></extra>",
           "locationmode": "country names",
           "locations": [
            "Australia",
            "Brazil",
            "Egypt",
            "Finland",
            "Germany",
            "Greece",
            "India",
            "Japan",
            "Nigeria",
            "South Africa",
            "Spain",
            "Sweden",
            "Ukraine",
            "United Kingdom",
            "United States"
           ],
           "name": "",
           "type": "choropleth",
           "z": [
            0.6401516605166052,
            0.26394942484446365,
            0.04086825732896116,
            0.7086104448296807,
            0.30862017209691506,
            0.4705619417475728,
            0.03301589577967605,
            0.15349686487362282,
            0.03182171365060119,
            0.05176435973867515,
            0.5501946335351848,
            0.7053210476190476,
            0.05469904738790122,
            0.3886162422794311,
            0.07800091715943032
           ]
          }
         ],
         "name": "2024-07-30"
        },
        {
         "data": [
          {
           "coloraxis": "coloraxis",
           "geo": "geo",
           "hovertemplate": "animation_frame=2024-07-31<br>country=%{location}<br>streams_per_capita=%{z}<extra></extra>",
           "locationmode": "country names",
           "locations": [
            "Australia",
            "Brazil",
            "Egypt",
            "Finland",
            "Germany",
            "Greece",
            "India",
            "Japan",
            "Nigeria",
            "South Africa",
            "Spain",
            "Sweden",
            "Ukraine",
            "United Kingdom",
            "United States"
           ],
           "name": "",
           "type": "choropleth",
           "z": [
            0.6447310701107011,
            0.2765322068304419,
            0.04157062575540295,
            0.6917701410349062,
            0.3035410915846834,
            0.4754797087378641,
            0.03365236059502775,
            0.15226310758263123,
            0.031747840254622614,
            0.053805473612677034,
            0.5543098559198163,
            0.6836232380952381,
            0.05419865299435714,
            0.3889840577504128,
            0.07807474306005074
           ]
          }
         ],
         "name": "2024-07-31"
        },
        {
         "data": [
          {
           "coloraxis": "coloraxis",
           "geo": "geo",
           "hovertemplate": "animation_frame=2024-08-01<br>country=%{location}<br>streams_per_capita=%{z}<extra></extra>",
           "locationmode": "country names",
           "locations": [
            "Australia",
            "Brazil",
            "Egypt",
            "Finland",
            "Germany",
            "Greece",
            "India",
            "Japan",
            "Nigeria",
            "South Africa",
            "Spain",
            "Sweden",
            "Ukraine",
            "United Kingdom",
            "United States"
           ],
           "name": "",
           "type": "choropleth",
           "z": [
            0.6544373062730627,
            0.2861764656128414,
            0.04311899733387777,
            0.6656248143402483,
            0.30149700059163087,
            0.4761849514563107,
            0.03345349928411303,
            0.15372936649384317,
            0.030255868781785725,
            0.05699396111016727,
            0.5669755481311338,
            0.7053278095238095,
            0.05477926096717432,
            0.38802312902901975,
            0.07788187072627009
           ]
          }
         ],
         "name": "2024-08-01"
        },
        {
         "data": [
          {
           "coloraxis": "coloraxis",
           "geo": "geo",
           "hovertemplate": "animation_frame=2024-08-02<br>country=%{location}<br>streams_per_capita=%{z}<extra></extra>",
           "locationmode": "country names",
           "locations": [
            "Australia",
            "Brazil",
            "Egypt",
            "Finland",
            "Germany",
            "Greece",
            "India",
            "Japan",
            "Nigeria",
            "South Africa",
            "Spain",
            "Sweden",
            "Ukraine",
            "United Kingdom",
            "United States"
           ],
           "name": "",
           "type": "choropleth",
           "z": [
            0.6630885239852399,
            0.325570057139635,
            0.03903555263005115,
            0.7438634076267917,
            0.35930860212420784,
            0.47844349514563106,
            0.033482685179722846,
            0.15100158781594297,
            0.03141475531305783,
            0.06987560813628431,
            0.599499603257465,
            0.776867238095238,
            0.05718342333596262,
            0.42079159239078867,
            0.08445897666793406
           ]
          }
         ],
         "name": "2024-08-02"
        },
        {
         "data": [
          {
           "coloraxis": "coloraxis",
           "geo": "geo",
           "hovertemplate": "animation_frame=2024-08-03<br>country=%{location}<br>streams_per_capita=%{z}<extra></extra>",
           "locationmode": "country names",
           "locations": [
            "Australia",
            "Brazil",
            "Egypt",
            "Finland",
            "Germany",
            "Greece",
            "India",
            "Japan",
            "Nigeria",
            "South Africa",
            "Spain",
            "Sweden",
            "Ukraine",
            "United Kingdom",
            "United States"
           ],
           "name": "",
           "type": "choropleth",
           "z": [
            0.6382852767527676,
            0.3462577768170968,
            0.04117823377515103,
            0.6535579723959973,
            0.3284041532261954,
            0.46868203883495146,
            0.03530900081278601,
            0.15131969377835386,
            0.03292037149304503,
            0.08023730829227609,
            0.5570901440801838,
            0.7192439047619048,
            0.05445151993204296,
            0.3927150505025188,
            0.07882360742782
           ]
          }
         ],
         "name": "2024-08-03"
        },
        {
         "data": [
          {
           "coloraxis": "coloraxis",
           "geo": "geo",
           "hovertemplate": "animation_frame=2024-08-04<br>country=%{location}<br>streams_per_capita=%{z}<extra></extra>",
           "locationmode": "country names",
           "locations": [
            "Australia",
            "Brazil",
            "Egypt",
            "Finland",
            "Germany",
            "Greece",
            "India",
            "Japan",
            "Nigeria",
            "South Africa",
            "Spain",
            "Sweden",
            "Ukraine",
            "United Kingdom",
            "United States"
           ],
           "name": "",
           "type": "choropleth",
           "z": [
            0.6277637269372693,
            0.2889706548502904,
            0.04157353376141636,
            0.5514779624645861,
            0.2626910470190835,
            0.42810436893203885,
            0.0337335021146238,
            0.15255827932598834,
            0.029126890303458962,
            0.05868906667490385,
            0.46518532052620587,
            0.5619076190476191,
            0.05122237728293186,
            0.3360180000327839,
            0.06744368694139338
           ]
          }
         ],
         "name": "2024-08-04"
        },
        {
         "data": [
          {
           "coloraxis": "coloraxis",
           "geo": "geo",
           "hovertemplate": "animation_frame=2024-08-05<br>country=%{location}<br>streams_per_capita=%{z}<extra></extra>",
           "locationmode": "country names",
           "locations": [
            "Australia",
            "Brazil",
            "Egypt",
            "Finland",
            "Germany",
            "Greece",
            "India",
            "Japan",
            "Nigeria",
            "South Africa",
            "Spain",
            "Sweden",
            "Ukraine",
            "United Kingdom",
            "United States"
           ],
           "name": "",
           "type": "choropleth",
           "z": [
            0.640649926199262,
            0.2755843138544819,
            0.04031935231077286,
            0.6250883407892812,
            0.3011007488940462,
            0.45182601941747574,
            0.03298083681895588,
            0.14754871192482177,
            0.030622941295342022,
            0.05253136052635644,
            0.5341343913134265,
            0.654416761904762,
            0.055470966567562646,
            0.3697649999137921,
            0.07421719935728745
           ]
          }
         ],
         "name": "2024-08-05"
        },
        {
         "data": [
          {
           "coloraxis": "coloraxis",
           "geo": "geo",
           "hovertemplate": "animation_frame=2024-08-06<br>country=%{location}<br>streams_per_capita=%{z}<extra></extra>",
           "locationmode": "country names",
           "locations": [
            "Australia",
            "Brazil",
            "Egypt",
            "Finland",
            "Germany",
            "Greece",
            "India",
            "Japan",
            "Nigeria",
            "South Africa",
            "Spain",
            "Sweden",
            "Ukraine",
            "United Kingdom",
            "United States"
           ],
           "name": "",
           "type": "choropleth",
           "z": [
            0.6445421033210332,
            0.29658966129729525,
            0.042295701176852094,
            0.6312419141021606,
            0.30528192298774237,
            0.44076466019417476,
            0.03374782488630927,
            0.14923838302009074,
            0.03136603263615237,
            0.05492171065840888,
            0.5376359782835665,
            0.6775228571428571,
            0.05469294945695043,
            0.37706899864614785,
            0.0756832178559312
           ]
          }
         ],
         "name": "2024-08-06"
        },
        {
         "data": [
          {
           "coloraxis": "coloraxis",
           "geo": "geo",
           "hovertemplate": "animation_frame=2024-08-07<br>country=%{location}<br>streams_per_capita=%{z}<extra></extra>",
           "locationmode": "country names",
           "locations": [
            "Australia",
            "Brazil",
            "Egypt",
            "Finland",
            "Germany",
            "Greece",
            "India",
            "Japan",
            "Nigeria",
            "South Africa",
            "Spain",
            "Sweden",
            "Ukraine",
            "United Kingdom",
            "United States"
           ],
           "name": "",
           "type": "choropleth",
           "z": [
            0.6450537269372694,
            0.29517330789617124,
            0.043595579864849285,
            0.6247684074716134,
            0.29815303073246735,
            0.4570071844660194,
            0.03442032349631845,
            0.14986217595593002,
            0.03512987521471153,
            0.05687044959612028,
            0.5429306326999374,
            0.6652475238095238,
            0.055266124628359926,
            0.37058613561118664,
            0.07438201320328998
           ]
          }
         ],
         "name": "2024-08-07"
        },
        {
         "data": [
          {
           "coloraxis": "coloraxis",
           "geo": "geo",
           "hovertemplate": "animation_frame=2024-08-08<br>country=%{location}<br>streams_per_capita=%{z}<extra></extra>",
           "locationmode": "country names",
           "locations": [
            "Australia",
            "Brazil",
            "Egypt",
            "Finland",
            "Germany",
            "Greece",
            "India",
            "Japan",
            "Nigeria",
            "South Africa",
            "Spain",
            "Sweden",
            "Ukraine",
            "United Kingdom",
            "United States"
           ],
           "name": "",
           "type": "choropleth",
           "z": [
            0.6659466051660516,
            0.2999007762720147,
            0.04474788668924356,
            0.6356303564223864,
            0.3063400941826938,
            0.5350414563106796,
            0.03489989092061972,
            0.1544229018146468,
            0.036111557374288505,
            0.06635000849460207,
            0.5576042388807684,
            0.6710613333333333,
            0.056384199987864814,
            0.3818060236217837,
            0.0766340074846391
           ]
          }
         ],
         "name": "2024-08-08"
        },
        {
         "data": [
          {
           "coloraxis": "coloraxis",
           "geo": "geo",
           "hovertemplate": "animation_frame=2024-08-09<br>country=%{location}<br>streams_per_capita=%{z}<extra></extra>",
           "locationmode": "country names",
           "locations": [
            "Australia",
            "Brazil",
            "Egypt",
            "Finland",
            "Germany",
            "Greece",
            "India",
            "Japan",
            "Nigeria",
            "South Africa",
            "Spain",
            "Sweden",
            "Ukraine",
            "United Kingdom",
            "United States"
           ],
           "name": "",
           "type": "choropleth",
           "z": [
            0.6524990405904059,
            0.31665428171343724,
            0.04053577216090122,
            0.7357877515551082,
            0.3498204031577678,
            0.5089249514563107,
            0.03472765261327088,
            0.1541088626053143,
            0.05682744350139773,
            0.09183653296677838,
            0.5758244936312382,
            0.7817623809523809,
            0.057486469267641525,
            0.4099839495107969,
            0.08228972596439607
           ]
          }
         ],
         "name": "2024-08-09"
        },
        {
         "data": [
          {
           "coloraxis": "coloraxis",
           "geo": "geo",
           "hovertemplate": "animation_frame=2024-08-10<br>country=%{location}<br>streams_per_capita=%{z}<extra></extra>",
           "locationmode": "country names",
           "locations": [
            "Australia",
            "Brazil",
            "Egypt",
            "Finland",
            "Germany",
            "Greece",
            "India",
            "Japan",
            "Nigeria",
            "South Africa",
            "Spain",
            "Sweden",
            "Ukraine",
            "United Kingdom",
            "United States"
           ],
           "name": "",
           "type": "choropleth",
           "z": [
            0.6364052398523985,
            0.32309233501870194,
            0.04181960016635683,
            0.6226872447871176,
            0.3312726186546381,
            0.48763126213592234,
            0.03650449851763506,
            0.1563221403110823,
            0.04208312283183456,
            0.07838596382843993,
            0.5412162038003758,
            0.7584139047619047,
            0.05593768582003519,
            0.38050350069242445,
            0.0763725722380954
           ]
          }
         ],
         "name": "2024-08-10"
        },
        {
         "data": [
          {
           "coloraxis": "coloraxis",
           "geo": "geo",
           "hovertemplate": "animation_frame=2024-08-11<br>country=%{location}<br>streams_per_capita=%{z}<extra></extra>",
           "locationmode": "country names",
           "locations": [
            "Australia",
            "Brazil",
            "Egypt",
            "Finland",
            "Germany",
            "Greece",
            "India",
            "Japan",
            "Nigeria",
            "South Africa",
            "Spain",
            "Sweden",
            "Ukraine",
            "United Kingdom",
            "United States"
           ],
           "name": "",
           "type": "choropleth",
           "z": [
            0.6187074538745387,
            0.3001038287314625,
            0.042345382760107284,
            0.5284842627035606,
            0.2739283712792595,
            0.4520259223300971,
            0.03576884538036825,
            0.15213911211924822,
            0.03677678842073356,
            0.06118346795990548,
            0.46563140530382124,
            0.6312507619047619,
            0.051407287179176024,
            0.3648567163985391,
            0.07323203565537259
           ]
          }
         ],
         "name": "2024-08-11"
        },
        {
         "data": [
          {
           "coloraxis": "coloraxis",
           "geo": "geo",
           "hovertemplate": "animation_frame=2024-08-12<br>country=%{location}<br>streams_per_capita=%{z}<extra></extra>",
           "locationmode": "country names",
           "locations": [
            "Australia",
            "Brazil",
            "Egypt",
            "Finland",
            "Germany",
            "Greece",
            "India",
            "Japan",
            "Nigeria",
            "South Africa",
            "Spain",
            "Sweden",
            "Ukraine",
            "United Kingdom",
            "United States"
           ],
           "name": "",
           "type": "choropleth",
           "z": [
            0.6283163837638377,
            0.2801207121778847,
            0.042704842516415056,
            0.5993980855431462,
            0.3017801777161756,
            0.45821446601941745,
            0.034028416879502886,
            0.15336294556059624,
            0.03723198107170523,
            0.053516564474029686,
            0.5263284401754019,
            0.704292380952381,
            0.05543677568108731,
            0.3783399535186364,
            0.0759383169355293
           ]
          }
         ],
         "name": "2024-08-12"
        },
        {
         "data": [
          {
           "coloraxis": "coloraxis",
           "geo": "geo",
           "hovertemplate": "animation_frame=2024-08-13<br>country=%{location}<br>streams_per_capita=%{z}<extra></extra>",
           "locationmode": "country names",
           "locations": [
            "Australia",
            "Brazil",
            "Egypt",
            "Finland",
            "Germany",
            "Greece",
            "India",
            "Japan",
            "Nigeria",
            "South Africa",
            "Spain",
            "Sweden",
            "Ukraine",
            "United Kingdom",
            "United States"
           ],
           "name": "",
           "type": "choropleth",
           "z": [
            0.6308643911439115,
            0.28797653797718176,
            0.04262821466964594,
            0.6113030100156508,
            0.29107692974959704,
            0.45777184466019416,
            0.0351093440978759,
            0.14979165586519766,
            0.03664385672425988,
            0.054343737933803885,
            0.5227520985591981,
            0.698058,
            0.05529233663005886,
            0.38460912058439606,
            0.07719662970724134
           ]
          }
         ],
         "name": "2024-08-13"
        },
        {
         "data": [
          {
           "coloraxis": "coloraxis",
           "geo": "geo",
           "hovertemplate": "animation_frame=2024-08-14<br>country=%{location}<br>streams_per_capita=%{z}<extra></extra>",
           "locationmode": "country names",
           "locations": [
            "Australia",
            "Brazil",
            "Egypt",
            "Finland",
            "Germany",
            "Greece",
            "India",
            "Japan",
            "Nigeria",
            "South Africa",
            "Spain",
            "Sweden",
            "Ukraine",
            "United Kingdom",
            "United States"
           ],
           "name": "",
           "type": "choropleth",
           "z": [
            0.6374149815498155,
            0.2967007311617766,
            0.042408424176183845,
            0.6085390628117421,
            0.2938214176693478,
            0.460177572815534,
            0.03565756925512466,
            0.14906900518470512,
            0.03552165218416355,
            0.05354906018811682,
            0.5370884527041135,
            0.6894976190476191,
            0.05494123536193192,
            0.383275630196928,
            0.07692897884263593
           ]
          }
         ],
         "name": "2024-08-14"
        },
        {
         "data": [
          {
           "coloraxis": "coloraxis",
           "geo": "geo",
           "hovertemplate": "animation_frame=2024-08-15<br>country=%{location}<br>streams_per_capita=%{z}<extra></extra>",
           "locationmode": "country names",
           "locations": [
            "Australia",
            "Brazil",
            "Egypt",
            "Finland",
            "Germany",
            "Greece",
            "India",
            "Japan",
            "Nigeria",
            "South Africa",
            "Spain",
            "Sweden",
            "Ukraine",
            "United Kingdom",
            "United States"
           ],
           "name": "",
           "type": "choropleth",
           "z": [
            0.6563308856088561,
            0.31144323158468507,
            0.04598155159096773,
            0.6213956292923426,
            0.3007449373935722,
            0.4058283495145631,
            0.033618422212105765,
            0.14865191186001298,
            0.03505385891347546,
            0.055963056203376216,
            0.48091152641470036,
            0.6830120952380953,
            0.05384497299921121,
            0.3825856301121117,
            0.07679048581635357
           ]
          }
         ],
         "name": "2024-08-15"
        },
        {
         "data": [
          {
           "coloraxis": "coloraxis",
           "geo": "geo",
           "hovertemplate": "animation_frame=2024-08-16<br>country=%{location}<br>streams_per_capita=%{z}<extra></extra>",
           "locationmode": "country names",
           "locations": [
            "Australia",
            "Brazil",
            "Egypt",
            "Finland",
            "Germany",
            "Greece",
            "India",
            "Japan",
            "Nigeria",
            "South Africa",
            "Spain",
            "Sweden",
            "Ukraine",
            "United Kingdom",
            "United States"
           ],
           "name": "",
           "type": "choropleth",
           "z": [
            0.665309520295203,
            0.3576126628197658,
            0.04093802114854927,
            0.7765714463060914,
            0.37432619319106764,
            0.4593670873786408,
            0.03385065474233295,
            0.1396020495787427,
            0.03537565676467617,
            0.06798795310979659,
            0.5377192733347255,
            0.8202270476190476,
            0.05638577756204114,
            0.42400306721393033,
            0.08510356625114388
           ]
          }
         ],
         "name": "2024-08-16"
        },
        {
         "data": [
          {
           "coloraxis": "coloraxis",
           "geo": "geo",
           "hovertemplate": "animation_frame=2024-08-17<br>country=%{location}<br>streams_per_capita=%{z}<extra></extra>",
           "locationmode": "country names",
           "locations": [
            "Australia",
            "Brazil",
            "Egypt",
            "Finland",
            "Germany",
            "Greece",
            "India",
            "Japan",
            "Nigeria",
            "South Africa",
            "Spain",
            "Sweden",
            "Ukraine",
            "United Kingdom",
            "United States"
           ],
           "name": "",
           "type": "choropleth",
           "z": [
            0.6316775645756457,
            0.3729158459109449,
            0.04095931190686178,
            0.6842047112131839,
            0.3293115862493181,
            0.44954310679611653,
            0.035773164073453025,
            0.14803471322099807,
            0.03440466808123674,
            0.07511969666548257,
            0.5034034245145125,
            0.7672640000000001,
            0.05409671743219465,
            0.3850343884540074,
            0.07728198713768107
           ]
          }
         ],
         "name": "2024-08-17"
        },
        {
         "data": [
          {
           "coloraxis": "coloraxis",
           "geo": "geo",
           "hovertemplate": "animation_frame=2024-08-18<br>country=%{location}<br>streams_per_capita=%{z}<extra></extra>",
           "locationmode": "country names",
           "locations": [
            "Australia",
            "Brazil",
            "Egypt",
            "Finland",
            "Germany",
            "Greece",
            "India",
            "Japan",
            "Nigeria",
            "South Africa",
            "Spain",
            "Sweden",
            "Ukraine",
            "United Kingdom",
            "United States"
           ],
           "name": "",
           "type": "choropleth",
           "z": [
            0.6179629889298893,
            0.3139003721594647,
            0.041564762535486285,
            0.568294324464524,
            0.267768559710711,
            0.43423504854368933,
            0.035645733066197484,
            0.15042611795204147,
            0.030128595365599004,
            0.06078056126152563,
            0.43826734182501564,
            0.5867603809523809,
            0.04920702627267763,
            0.3426029209110017,
            0.06876537608364479
           ]
          }
         ],
         "name": "2024-08-18"
        },
        {
         "data": [
          {
           "coloraxis": "coloraxis",
           "geo": "geo",
           "hovertemplate": "animation_frame=2024-08-19<br>country=%{location}<br>streams_per_capita=%{z}<extra></extra>",
           "locationmode": "country names",
           "locations": [
            "Australia",
            "Brazil",
            "Egypt",
            "Finland",
            "Germany",
            "Greece",
            "India",
            "Japan",
            "Nigeria",
            "South Africa",
            "Spain",
            "Sweden",
            "Ukraine",
            "United Kingdom",
            "United States"
           ],
           "name": "",
           "type": "choropleth",
           "z": [
            0.6351412546125461,
            0.2976999652275248,
            0.04185108782887223,
            0.6401078267500787,
            0.30517781251876747,
            0.4684076699029126,
            0.03325146941916653,
            0.14585393713545042,
            0.03155617863999192,
            0.051875361020587825,
            0.5096878471497182,
            0.6589593333333333,
            0.052272920332504094,
            0.3705489277854551,
            0.07437454505292254
           ]
          }
         ],
         "name": "2024-08-19"
        },
        {
         "data": [
          {
           "coloraxis": "coloraxis",
           "geo": "geo",
           "hovertemplate": "animation_frame=2024-08-20<br>country=%{location}<br>streams_per_capita=%{z}<extra></extra>",
           "locationmode": "country names",
           "locations": [
            "Australia",
            "Brazil",
            "Egypt",
            "Finland",
            "Germany",
            "Greece",
            "India",
            "Japan",
            "Nigeria",
            "South Africa",
            "Spain",
            "Sweden",
            "Ukraine",
            "United Kingdom",
            "United States"
           ],
           "name": "",
           "type": "choropleth",
           "z": [
            0.6402351291512915,
            0.30334920023306955,
            0.04181926026955007,
            0.6400273113807765,
            0.30181366444938534,
            0.4460833980582524,
            0.03428698023810318,
            0.1524476911860013,
            0.0319058384695699,
            0.05335685051044836,
            0.5139960952182084,
            0.6497501904761904,
            0.05238498877495298,
            0.37977334838306875,
            0.07622602007789292
           ]
          }
         ],
         "name": "2024-08-20"
        },
        {
         "data": [
          {
           "coloraxis": "coloraxis",
           "geo": "geo",
           "hovertemplate": "animation_frame=2024-08-21<br>country=%{location}<br>streams_per_capita=%{z}<extra></extra>",
           "locationmode": "country names",
           "locations": [
            "Australia",
            "Brazil",
            "Egypt",
            "Finland",
            "Germany",
            "Greece",
            "India",
            "Japan",
            "Nigeria",
            "South Africa",
            "Spain",
            "Sweden",
            "Ukraine",
            "United Kingdom",
            "United States"
           ],
           "name": "",
           "type": "choropleth",
           "z": [
            0.6508244280442804,
            0.3141033682311148,
            0.04202137612906048,
            0.6416186426775794,
            0.30016096610685417,
            0.4337016504854369,
            0.03511974897209399,
            0.15249890635126376,
            0.032635769256677105,
            0.05353037206357052,
            0.5165328669868449,
            0.6343180952380952,
            0.052799435713852316,
            0.3773848696486083,
            0.075746617748204
           ]
          }
         ],
         "name": "2024-08-21"
        },
        {
         "data": [
          {
           "coloraxis": "coloraxis",
           "geo": "geo",
           "hovertemplate": "animation_frame=2024-08-22<br>country=%{location}<br>streams_per_capita=%{z}<extra></extra>",
           "locationmode": "country names",
           "locations": [
            "Australia",
            "Brazil",
            "Egypt",
            "Finland",
            "Germany",
            "Greece",
            "India",
            "Japan",
            "Nigeria",
            "South Africa",
            "Spain",
            "Sweden",
            "Ukraine",
            "United Kingdom",
            "United States"
           ],
           "name": "",
           "type": "choropleth",
           "z": [
            0.6744029520295203,
            0.32501110839614306,
            0.044482011853731185,
            0.652012219182698,
            0.30856814678266814,
            0.4358100970873786,
            0.03555759171645353,
            0.15443757290991575,
            0.032645675457209256,
            0.05556235810153366,
            0.5296728126957612,
            0.6594125714285715,
            0.056141132212851164,
            0.38139950615254103,
            0.07655241353154989
           ]
          }
         ],
         "name": "2024-08-22"
        },
        {
         "data": [
          {
           "coloraxis": "coloraxis",
           "geo": "geo",
           "hovertemplate": "animation_frame=2024-08-23<br>country=%{location}<br>streams_per_capita=%{z}<extra></extra>",
           "locationmode": "country names",
           "locations": [
            "Australia",
            "Brazil",
            "Egypt",
            "Finland",
            "Germany",
            "Greece",
            "India",
            "Japan",
            "Nigeria",
            "South Africa",
            "Spain",
            "Sweden",
            "Ukraine",
            "United Kingdom",
            "United States"
           ],
           "name": "",
           "type": "choropleth",
           "z": [
            0.7113567896678967,
            0.35152148844989944,
            0.04035245448312039,
            0.8514028561674507,
            0.3587549819294912,
            0.44991407766990293,
            0.03618386477361011,
            0.15315191186001295,
            0.03394222996867738,
            0.0678347413779789,
            0.6082007517226978,
            0.8561894285714285,
            0.05781502942782598,
            0.4560934106273666,
            0.09154456368225304
           ]
          }
         ],
         "name": "2024-08-23"
        },
        {
         "data": [
          {
           "coloraxis": "coloraxis",
           "geo": "geo",
           "hovertemplate": "animation_frame=2024-08-24<br>country=%{location}<br>streams_per_capita=%{z}<extra></extra>",
           "locationmode": "country names",
           "locations": [
            "Australia",
            "Brazil",
            "Egypt",
            "Finland",
            "Germany",
            "Greece",
            "India",
            "Japan",
            "Nigeria",
            "South Africa",
            "Spain",
            "Sweden",
            "Ukraine",
            "United Kingdom",
            "United States"
           ],
           "name": "",
           "type": "choropleth",
           "z": [
            0.6995919557195572,
            0.35905600718004627,
            0.04113665306579036,
            0.7497942335743769,
            0.3226651518886649,
            0.4450122330097087,
            0.03680389078140959,
            0.15452674983797796,
            0.03340611633154828,
            0.07894310161088544,
            0.5219836917936939,
            0.7906057142857142,
            0.05551893089011589,
            0.3915708659150227,
            0.07859395298337142
           ]
          }
         ],
         "name": "2024-08-24"
        },
        {
         "data": [
          {
           "coloraxis": "coloraxis",
           "geo": "geo",
           "hovertemplate": "animation_frame=2024-08-25<br>country=%{location}<br>streams_per_capita=%{z}<extra></extra>",
           "locationmode": "country names",
           "locations": [
            "Australia",
            "Brazil",
            "Egypt",
            "Finland",
            "Germany",
            "Greece",
            "India",
            "Japan",
            "Nigeria",
            "South Africa",
            "Spain",
            "Sweden",
            "Ukraine",
            "United Kingdom",
            "United States"
           ],
           "name": "",
           "type": "choropleth",
           "z": [
            0.6721480811808118,
            0.2855283489652839,
            0.04224498102002069,
            0.5956151046123425,
            0.2558668624934442,
            0.42010669902912623,
            0.036374155383046336,
            0.1573882615035645,
            0.030488851840625105,
            0.06362659273788747,
            0.449153643766966,
            0.6073718095238095,
            0.05151489594078029,
            0.35733237116435107,
            0.07172179041742692
           ]
          }
         ],
         "name": "2024-08-25"
        },
        {
         "data": [
          {
           "coloraxis": "coloraxis",
           "geo": "geo",
           "hovertemplate": "animation_frame=2024-08-26<br>country=%{location}<br>streams_per_capita=%{z}<extra></extra>",
           "locationmode": "country names",
           "locations": [
            "Australia",
            "Brazil",
            "Egypt",
            "Finland",
            "Germany",
            "Greece",
            "India",
            "Japan",
            "Nigeria",
            "South Africa",
            "Spain",
            "Sweden",
            "Ukraine",
            "United Kingdom",
            "United States"
           ],
           "name": "",
           "type": "choropleth",
           "z": [
            0.6991029520295203,
            0.28696735146514296,
            0.04166392742885939,
            0.669813741703503,
            0.29330851293795485,
            0.44475368932038833,
            0.03584813966527491,
            0.15005209008425147,
            0.03173020022902563,
            0.05336704403292817,
            0.527564230528294,
            0.6776065714285714,
            0.046872883926946184,
            0.37896595321344434,
            0.07606396415513632
           ]
          }
         ],
         "name": "2024-08-26"
        },
        {
         "data": [
          {
           "coloraxis": "coloraxis",
           "geo": "geo",
           "hovertemplate": "animation_frame=2024-08-27<br>country=%{location}<br>streams_per_capita=%{z}<extra></extra>",
           "locationmode": "country names",
           "locations": [
            "Australia",
            "Brazil",
            "Egypt",
            "Finland",
            "Germany",
            "Greece",
            "India",
            "Japan",
            "Nigeria",
            "South Africa",
            "Spain",
            "Sweden",
            "Ukraine",
            "United Kingdom",
            "United States"
           ],
           "name": "",
           "type": "choropleth",
           "z": [
            0.6894037638376384,
            0.3007316739657538,
            0.04035513589126263,
            0.6507110269699885,
            0.29160242491820826,
            0.443741067961165,
            0.034078293591058635,
            0.14635005670771226,
            0.033178526321107404,
            0.05366509645234528,
            0.5133443725203591,
            0.6746326666666667,
            0.048615860688065046,
            0.43967118008823497,
            0.0882483837893529
           ]
          }
         ],
         "name": "2024-08-27"
        },
        {
         "data": [
          {
           "coloraxis": "coloraxis",
           "geo": "geo",
           "hovertemplate": "animation_frame=2024-08-28<br>country=%{location}<br>streams_per_capita=%{z}<extra></extra>",
           "locationmode": "country names",
           "locations": [
            "Australia",
            "Brazil",
            "Egypt",
            "Finland",
            "Germany",
            "Greece",
            "India",
            "Japan",
            "Nigeria",
            "South Africa",
            "Spain",
            "Sweden",
            "Ukraine",
            "United Kingdom",
            "United States"
           ],
           "name": "",
           "type": "choropleth",
           "z": [
            0.6880968634686346,
            0.3019484944458019,
            0.04144600636783449,
            0.6407941582020599,
            0.2923013018966871,
            0.4402603883495146,
            0.036082719909109946,
            0.14735564646791963,
            0.03362666296184029,
            0.05393295442259873,
            0.5084984130298601,
            0.6701148571428571,
            0.05083186699836175,
            0.430773016457036,
            0.08646239327028152
           ]
          }
         ],
         "name": "2024-08-28"
        },
        {
         "data": [
          {
           "coloraxis": "coloraxis",
           "geo": "geo",
           "hovertemplate": "animation_frame=2024-08-29<br>country=%{location}<br>streams_per_capita=%{z}<extra></extra>",
           "locationmode": "country names",
           "locations": [
            "Australia",
            "Brazil",
            "Egypt",
            "Finland",
            "Germany",
            "Greece",
            "India",
            "Japan",
            "Nigeria",
            "South Africa",
            "Spain",
            "Sweden",
            "Ukraine",
            "United Kingdom",
            "United States"
           ],
           "name": "",
           "type": "choropleth",
           "z": [
            0.6943974538745388,
            0.30891865120387946,
            0.04252263894483417,
            0.6529445304082963,
            0.2947378267646318,
            0.4523142718446602,
            0.036226122243609264,
            0.1373256318859365,
            0.04261535482132633,
            0.05622021097502587,
            0.508260158697014,
            0.6758653333333333,
            0.05042221345792124,
            0.43446784144468087,
            0.08720399824306764
           ]
          }
         ],
         "name": "2024-08-29"
        },
        {
         "data": [
          {
           "coloraxis": "coloraxis",
           "geo": "geo",
           "hovertemplate": "animation_frame=2024-08-30<br>country=%{location}<br>streams_per_capita=%{z}<extra></extra>",
           "locationmode": "country names",
           "locations": [
            "Australia",
            "Brazil",
            "Egypt",
            "Finland",
            "Germany",
            "Greece",
            "India",
            "Japan",
            "Nigeria",
            "South Africa",
            "Spain",
            "Sweden",
            "Ukraine",
            "United Kingdom",
            "United States"
           ],
           "name": "",
           "type": "choropleth",
           "z": [
            0.6951310701107011,
            0.3479224667781892,
            0.038081537826091215,
            0.8546935228577636,
            0.34923304489982093,
            0.5359501941747573,
            0.03644640240230321,
            0.13449253078418666,
            0.03951107658886531,
            0.06839887562358102,
            0.5509312173731468,
            0.8790652380952381,
            0.0550585826102785,
            0.4536553165756806,
            0.09105520283866865
           ]
          }
         ],
         "name": "2024-08-30"
        },
        {
         "data": [
          {
           "coloraxis": "coloraxis",
           "geo": "geo",
           "hovertemplate": "animation_frame=2024-08-31<br>country=%{location}<br>streams_per_capita=%{z}<extra></extra>",
           "locationmode": "country names",
           "locations": [
            "Australia",
            "Brazil",
            "Egypt",
            "Finland",
            "Germany",
            "Greece",
            "India",
            "Japan",
            "Nigeria",
            "South Africa",
            "Spain",
            "Sweden",
            "Ukraine",
            "United Kingdom",
            "United States"
           ],
           "name": "",
           "type": "choropleth",
           "z": [
            0.6600765682656826,
            0.37906180572524106,
            0.038195280515843255,
            0.7168015535564649,
            0.3160821604060478,
            0.48854757281553396,
            0.03759766065813951,
            0.14210362119248218,
            0.03677255313057829,
            0.07912131836224072,
            0.5016261432449363,
            0.7870344761904762,
            0.05529979976943147,
            0.4288529315130347,
            0.08607700436893853
           ]
          }
         ],
         "name": "2024-08-31"
        },
        {
         "data": [
          {
           "coloraxis": "coloraxis",
           "geo": "geo",
           "hovertemplate": "animation_frame=2024-09-01<br>country=%{location}<br>streams_per_capita=%{z}<extra></extra>",
           "locationmode": "country names",
           "locations": [
            "Australia",
            "Brazil",
            "Egypt",
            "Finland",
            "Germany",
            "Greece",
            "India",
            "Japan",
            "Nigeria",
            "South Africa",
            "Spain",
            "Sweden",
            "Ukraine",
            "United Kingdom",
            "United States"
           ],
           "name": "",
           "type": "choropleth",
           "z": [
            0.6440430627306273,
            0.31688332894761573,
            0.03924389048944092,
            0.5949442023170337,
            0.25986014944466,
            0.4654904854368932,
            0.03760300230813453,
            0.15118395981853533,
            0.0325596056043919,
            0.06511185074211932,
            0.42952457715598247,
            0.627592,
            0.04972222559310721,
            0.361806905183576,
            0.07261989430344426
           ]
          }
         ],
         "name": "2024-09-01"
        },
        {
         "data": [
          {
           "coloraxis": "coloraxis",
           "geo": "geo",
           "hovertemplate": "animation_frame=2024-09-02<br>country=%{location}<br>streams_per_capita=%{z}<extra></extra>",
           "locationmode": "country names",
           "locations": [
            "Australia",
            "Brazil",
            "Egypt",
            "Finland",
            "Germany",
            "Greece",
            "India",
            "Japan",
            "Nigeria",
            "South Africa",
            "Spain",
            "Sweden",
            "Ukraine",
            "United Kingdom",
            "United States"
           ],
           "name": "",
           "type": "choropleth",
           "z": [
            0.6469325461254612,
            0.29193983891885794,
            0.039741801545036815,
            0.6746249783858796,
            0.28338779894239846,
            0.48433747572815533,
            0.03615379341529842,
            0.14273670609202851,
            0.035278371392004314,
            0.054839467465674085,
            0.5025266026310294,
            0.6925670476190476,
            0.05042178872641223,
            0.39124434527110286,
            0.07852841555357218
           ]
          }
         ],
         "name": "2024-09-02"
        },
        {
         "data": [
          {
           "coloraxis": "coloraxis",
           "geo": "geo",
           "hovertemplate": "animation_frame=2024-09-03<br>country=%{location}<br>streams_per_capita=%{z}<extra></extra>",
           "locationmode": "country names",
           "locations": [
            "Australia",
            "Brazil",
            "Egypt",
            "Finland",
            "Germany",
            "Greece",
            "India",
            "Japan",
            "Nigeria",
            "South Africa",
            "Spain",
            "Sweden",
            "Ukraine",
            "United Kingdom",
            "United States"
           ],
           "name": "",
           "type": "choropleth",
           "z": [
            0.6584430996309963,
            0.299533015055542,
            0.03998725424740951,
            0.6598406540543656,
            0.2846647708723538,
            0.4751215533980582,
            0.03683145149547652,
            0.14262205119896307,
            0.035609629180559765,
            0.055925340170200934,
            0.5044376696596367,
            0.6907573333333333,
            0.0500203871124325,
            0.39522706214815806,
            0.07932780460477214
           ]
          }
         ],
         "name": "2024-09-03"
        },
        {
         "data": [
          {
           "coloraxis": "coloraxis",
           "geo": "geo",
           "hovertemplate": "animation_frame=2024-09-04<br>country=%{location}<br>streams_per_capita=%{z}<extra></extra>",
           "locationmode": "country names",
           "locations": [
            "Australia",
            "Brazil",
            "Egypt",
            "Finland",
            "Germany",
            "Greece",
            "India",
            "Japan",
            "Nigeria",
            "South Africa",
            "Spain",
            "Sweden",
            "Ukraine",
            "United Kingdom",
            "United States"
           ],
           "name": "",
           "type": "choropleth",
           "z": [
            0.6658655719557196,
            0.2981108772061726,
            0.04046994547932479,
            0.6631639525243076,
            0.28700130229642157,
            0.46423145631067964,
            0.036797289684465946,
            0.1448293745949449,
            0.03520081421979725,
            0.05667579965094908,
            0.5062957193568595,
            0.6864570476190476,
            0.05057226503246162,
            0.387472365315691,
            0.07777132445953201
           ]
          }
         ],
         "name": "2024-09-04"
        },
        {
         "data": [
          {
           "coloraxis": "coloraxis",
           "geo": "geo",
           "hovertemplate": "animation_frame=2024-09-05<br>country=%{location}<br>streams_per_capita=%{z}<extra></extra>",
           "locationmode": "country names",
           "locations": [
            "Australia",
            "Brazil",
            "Egypt",
            "Finland",
            "Germany",
            "Greece",
            "India",
            "Japan",
            "Nigeria",
            "South Africa",
            "Spain",
            "Sweden",
            "Ukraine",
            "United Kingdom",
            "United States"
           ],
           "name": "",
           "type": "choropleth",
           "z": [
            0.6740783394833948,
            0.3094049254741274,
            0.04138301215964776,
            0.6812330911073967,
            0.3046843798799164,
            0.4670349514563107,
            0.03720741359641893,
            0.14303660077770577,
            0.034504399481324305,
            0.05854777827544133,
            0.5140051576529547,
            0.6982422857142857,
            0.05448258600813057,
            0.37813585248087356,
            0.07589735089652558
           ]
          }
         ],
         "name": "2024-09-05"
        },
        {
         "data": [
          {
           "coloraxis": "coloraxis",
           "geo": "geo",
           "hovertemplate": "animation_frame=2024-09-06<br>country=%{location}<br>streams_per_capita=%{z}<extra></extra>",
           "locationmode": "country names",
           "locations": [
            "Australia",
            "Brazil",
            "Egypt",
            "Finland",
            "Germany",
            "Greece",
            "India",
            "Japan",
            "Nigeria",
            "South Africa",
            "Spain",
            "Sweden",
            "Ukraine",
            "United Kingdom",
            "United States"
           ],
           "name": "",
           "type": "choropleth",
           "z": [
            0.6768623247232473,
            0.33914460650715184,
            0.03694651853095203,
            0.8447301892731892,
            0.3774799301608926,
            0.46471533980582524,
            0.03748514227272333,
            0.13901307517822423,
            0.03450509834630022,
            0.07117787696727261,
            0.5574278555021925,
            0.828824,
            0.05898270735999029,
            0.4183713698144541,
            0.08397320288869937
           ]
          }
         ],
         "name": "2024-09-06"
        },
        {
         "data": [
          {
           "coloraxis": "coloraxis",
           "geo": "geo",
           "hovertemplate": "animation_frame=2024-09-07<br>country=%{location}<br>streams_per_capita=%{z}<extra></extra>",
           "locationmode": "country names",
           "locations": [
            "Australia",
            "Brazil",
            "Egypt",
            "Finland",
            "Germany",
            "Greece",
            "India",
            "Japan",
            "Nigeria",
            "South Africa",
            "Spain",
            "Sweden",
            "Ukraine",
            "United Kingdom",
            "United States"
           ],
           "name": "",
           "type": "choropleth",
           "z": [
            0.6529948708487084,
            0.3629133272559818,
            0.03836399207251124,
            0.7079101029940544,
            0.34023413761094157,
            0.45403106796116505,
            0.035861214677019464,
            0.1513926036941024,
            0.03427420767235863,
            0.07954008679938838,
            0.4956583420338275,
            0.7576954285714286,
            0.06046423153934834,
            0.3948403497893048,
            0.0792501858246344
           ]
          }
         ],
         "name": "2024-09-07"
        },
        {
         "data": [
          {
           "coloraxis": "coloraxis",
           "geo": "geo",
           "hovertemplate": "animation_frame=2024-09-08<br>country=%{location}<br>streams_per_capita=%{z}<extra></extra>",
           "locationmode": "country names",
           "locations": [
            "Australia",
            "Brazil",
            "Egypt",
            "Finland",
            "Germany",
            "Greece",
            "India",
            "Japan",
            "Nigeria",
            "South Africa",
            "Spain",
            "Sweden",
            "Ukraine",
            "United Kingdom",
            "United States"
           ],
           "name": "",
           "type": "choropleth",
           "z": [
            0.6420018450184501,
            0.3094587100351484,
            0.038535639959926545,
            0.5808208488696369,
            0.2779642287487123,
            0.4181487378640777,
            0.03536728873253854,
            0.15599616007777056,
            0.0313782880334108,
            0.062179251548334286,
            0.41501181875130505,
            0.5969782857142857,
            0.055972240762089676,
            0.3517477255508,
            0.07060087103095887
           ]
          }
         ],
         "name": "2024-09-08"
        },
        {
         "data": [
          {
           "coloraxis": "coloraxis",
           "geo": "geo",
           "hovertemplate": "animation_frame=2024-09-09<br>country=%{location}<br>streams_per_capita=%{z}<extra></extra>",
           "locationmode": "country names",
           "locations": [
            "Australia",
            "Brazil",
            "Egypt",
            "Finland",
            "Germany",
            "Greece",
            "India",
            "Japan",
            "Nigeria",
            "South Africa",
            "Spain",
            "Sweden",
            "Ukraine",
            "United Kingdom",
            "United States"
           ],
           "name": "",
           "type": "choropleth",
           "z": [
            0.6505280811808118,
            0.30604520891679043,
            0.03885468976254139,
            0.6565120351855711,
            0.3051486343001951,
            0.458696213592233,
            0.03553943216888361,
            0.1428118033052495,
            0.03252002711259304,
            0.051715677946468565,
            0.4820618709542702,
            0.6455001904761904,
            0.05702424003397852,
            0.37504468784384737,
            0.07527690931290935
           ]
          }
         ],
         "name": "2024-09-09"
        },
        {
         "data": [
          {
           "coloraxis": "coloraxis",
           "geo": "geo",
           "hovertemplate": "animation_frame=2024-09-10<br>country=%{location}<br>streams_per_capita=%{z}<extra></extra>",
           "locationmode": "country names",
           "locations": [
            "Australia",
            "Brazil",
            "Egypt",
            "Finland",
            "Germany",
            "Greece",
            "India",
            "Japan",
            "Nigeria",
            "South Africa",
            "Spain",
            "Sweden",
            "Ukraine",
            "United Kingdom",
            "United States"
           ],
           "name": "",
           "type": "choropleth",
           "z": [
            0.6534525830258303,
            0.33547818262128076,
            0.038567675233963955,
            0.6382487020443632,
            0.3045295605872783,
            0.47739349514563106,
            0.03611371179114665,
            0.14270943778353856,
            0.03242141979050891,
            0.05238102151451032,
            0.48815598245980374,
            0.6457581904761904,
            0.05717659729385353,
            0.37666377026693054,
            0.07560188264190983
           ]
          }
         ],
         "name": "2024-09-10"
        },
        {
         "data": [
          {
           "coloraxis": "coloraxis",
           "geo": "geo",
           "hovertemplate": "animation_frame=2024-09-11<br>country=%{location}<br>streams_per_capita=%{z}<extra></extra>",
           "locationmode": "country names",
           "locations": [
            "Australia",
            "Brazil",
            "Egypt",
            "Finland",
            "Germany",
            "Greece",
            "India",
            "Japan",
            "Nigeria",
            "South Africa",
            "Spain",
            "Sweden",
            "Ukraine",
            "United Kingdom",
            "United States"
           ],
           "name": "",
           "type": "choropleth",
           "z": [
            0.6459328044280442,
            0.32671596526511665,
            0.03897839331704718,
            0.6293093678922796,
            0.29934887093818074,
            0.4380155339805825,
            0.036072871198964705,
            0.1443906513285807,
            0.032435788622814994,
            0.05454181660926375,
            0.4637954896638129,
            0.6371944761904762,
            0.05710148049268855,
            0.37043575154072994,
            0.07435182893885216
           ]
          }
         ],
         "name": "2024-09-11"
        },
        {
         "data": [
          {
           "coloraxis": "coloraxis",
           "geo": "geo",
           "hovertemplate": "animation_frame=2024-09-12<br>country=%{location}<br>streams_per_capita=%{z}<extra></extra>",
           "locationmode": "country names",
           "locations": [
            "Australia",
            "Brazil",
            "Egypt",
            "Finland",
            "Germany",
            "Greece",
            "India",
            "Japan",
            "Nigeria",
            "South Africa",
            "Spain",
            "Sweden",
            "Ukraine",
            "United Kingdom",
            "United States"
           ],
           "name": "",
           "type": "choropleth",
           "z": [
            0.6662353505535056,
            0.3234214048079995,
            0.04116216420945351,
            0.6495153560011883,
            0.30736487438920523,
            0.41478291262135925,
            0.036691395082537784,
            0.1453863253402463,
            0.03274646778485063,
            0.05803641867576876,
            0.48347082898308624,
            0.6598037142857143,
            0.05753255263636915,
            0.38372832052707845,
            0.07701984035870078
           ]
          }
         ],
         "name": "2024-09-12"
        },
        {
         "data": [
          {
           "coloraxis": "coloraxis",
           "geo": "geo",
           "hovertemplate": "animation_frame=2024-09-13<br>country=%{location}<br>streams_per_capita=%{z}<extra></extra>",
           "locationmode": "country names",
           "locations": [
            "Australia",
            "Brazil",
            "Egypt",
            "Finland",
            "Germany",
            "Greece",
            "India",
            "Japan",
            "Nigeria",
            "South Africa",
            "Spain",
            "Sweden",
            "Ukraine",
            "United Kingdom",
            "United States"
           ],
           "name": "",
           "type": "choropleth",
           "z": [
            0.6760512915129151,
            0.3470138432043306,
            0.03794340754045393,
            0.8203143468988725,
            0.3705731777394655,
            0.4551976699029126,
            0.03738394928525025,
            0.1423725291639663,
            0.03313643023138325,
            0.08429156563238452,
            0.5304259344330758,
            0.8059277142857143,
            0.06482658819246405,
            0.4159033337171794,
            0.08347783224222088
           ]
          }
         ],
         "name": "2024-09-13"
        },
        {
         "data": [
          {
           "coloraxis": "coloraxis",
           "geo": "geo",
           "hovertemplate": "animation_frame=2024-09-14<br>country=%{location}<br>streams_per_capita=%{z}<extra></extra>",
           "locationmode": "country names",
           "locations": [
            "Australia",
            "Brazil",
            "Egypt",
            "Finland",
            "Germany",
            "Greece",
            "India",
            "Japan",
            "Nigeria",
            "South Africa",
            "Spain",
            "Sweden",
            "Ukraine",
            "United Kingdom",
            "United States"
           ],
           "name": "",
           "type": "choropleth",
           "z": [
            0.641489815498155,
            0.36074163581001073,
            0.03819783918347194,
            0.681102386642252,
            0.33156188754015625,
            0.4568226213592233,
            0.03847436566641362,
            0.153375291639663,
            0.03201339210535179,
            0.08198702642593479,
            0.485735372729171,
            0.7393154285714286,
            0.06136927370911959,
            0.3956602256941746,
            0.07941474681200245
           ]
          }
         ],
         "name": "2024-09-14"
        },
        {
         "data": [
          {
           "coloraxis": "coloraxis",
           "geo": "geo",
           "hovertemplate": "animation_frame=2024-09-15<br>country=%{location}<br>streams_per_capita=%{z}<extra></extra>",
           "locationmode": "country names",
           "locations": [
            "Australia",
            "Brazil",
            "Egypt",
            "Finland",
            "Germany",
            "Greece",
            "India",
            "Japan",
            "Nigeria",
            "South Africa",
            "Spain",
            "Sweden",
            "Ukraine",
            "United Kingdom",
            "United States"
           ],
           "name": "",
           "type": "choropleth",
           "z": [
            0.6262176383763838,
            0.285655851173806,
            0.03755939968143549,
            0.5683104630077102,
            0.27377922486422734,
            0.41322873786407766,
            0.03680582601239234,
            0.14920654569021388,
            0.0296166262503789,
            0.06438559315489521,
            0.40964656504489455,
            0.5797946666666667,
            0.05662720708694861,
            0.34634591098959355,
            0.06951664848887505
           ]
          }
         ],
         "name": "2024-09-15"
        },
        {
         "data": [
          {
           "coloraxis": "coloraxis",
           "geo": "geo",
           "hovertemplate": "animation_frame=2024-09-16<br>country=%{location}<br>streams_per_capita=%{z}<extra></extra>",
           "locationmode": "country names",
           "locations": [
            "Australia",
            "Brazil",
            "Egypt",
            "Finland",
            "Germany",
            "Greece",
            "India",
            "Japan",
            "Nigeria",
            "South Africa",
            "Spain",
            "Sweden",
            "Ukraine",
            "United Kingdom",
            "United States"
           ],
           "name": "",
           "type": "choropleth",
           "z": [
            0.646250590405904,
            0.29436852245174144,
            0.0389824531955724,
            0.6324437922029554,
            0.30577189684678724,
            0.4169380582524272,
            0.03749596719174798,
            0.15926299416720674,
            0.031621653026169545,
            0.0576763247718041,
            0.46870891626644395,
            0.6379154285714286,
            0.05818533462775317,
            0.37810860580533784,
            0.0758918820935006
           ]
          }
         ],
         "name": "2024-09-16"
        },
        {
         "data": [
          {
           "coloraxis": "coloraxis",
           "geo": "geo",
           "hovertemplate": "animation_frame=2024-09-17<br>country=%{location}<br>streams_per_capita=%{z}<extra></extra>",
           "locationmode": "country names",
           "locations": [
            "Australia",
            "Brazil",
            "Egypt",
            "Finland",
            "Germany",
            "Greece",
            "India",
            "Japan",
            "Nigeria",
            "South Africa",
            "Spain",
            "Sweden",
            "Ukraine",
            "United Kingdom",
            "United States"
           ],
           "name": "",
           "type": "choropleth",
           "z": [
            0.6514714391143911,
            0.29626125876360354,
            0.03887949278785712,
            0.6238401752184689,
            0.3062938733951112,
            0.41899029126213594,
            0.035718134766438765,
            0.14502830524951393,
            0.031249907379340542,
            0.05766915841660618,
            0.46871632908749217,
            0.6394089523809524,
            0.05857053576846065,
            0.3845138304637726,
            0.07717750359773734
           ]
          }
         ],
         "name": "2024-09-17"
        },
        {
         "data": [
          {
           "coloraxis": "coloraxis",
           "geo": "geo",
           "hovertemplate": "animation_frame=2024-09-18<br>country=%{location}<br>streams_per_capita=%{z}<extra></extra>",
           "locationmode": "country names",
           "locations": [
            "Australia",
            "Brazil",
            "Egypt",
            "Finland",
            "Germany",
            "Greece",
            "India",
            "Japan",
            "Nigeria",
            "South Africa",
            "Spain",
            "Sweden",
            "Ukraine",
            "United Kingdom",
            "United States"
           ],
           "name": "",
           "type": "choropleth",
           "z": [
            0.6511184870848709,
            0.2949997509538936,
            0.03968294274799902,
            0.6264537324814784,
            0.30603308857858486,
            0.41322533980582526,
            0.03669420821404095,
            0.14632849157485417,
            0.03131626587181301,
            0.05964980616862557,
            0.46910962622676966,
            0.641072380952381,
            0.05793853528305321,
            0.37895691493451666,
            0.0760621500414447
           ]
          }
         ],
         "name": "2024-09-18"
        },
        {
         "data": [
          {
           "coloraxis": "coloraxis",
           "geo": "geo",
           "hovertemplate": "animation_frame=2024-09-19<br>country=%{location}<br>streams_per_capita=%{z}<extra></extra>",
           "locationmode": "country names",
           "locations": [
            "Australia",
            "Brazil",
            "Egypt",
            "Finland",
            "Germany",
            "Greece",
            "India",
            "Japan",
            "Nigeria",
            "South Africa",
            "Spain",
            "Sweden",
            "Ukraine",
            "United Kingdom",
            "United States"
           ],
           "name": "",
           "type": "choropleth",
           "z": [
            0.6659286715867159,
            0.3062111159145161,
            0.04031973941546945,
            0.6416819554239249,
            0.31144332631308747,
            0.42128252427184465,
            0.037508436541504674,
            0.14697276409591706,
            0.03211222255902462,
            0.060856271333034735,
            0.47648525788264773,
            0.6580859047619048,
            0.05796987440082519,
            0.3838348608879232,
            0.0770412245546151
           ]
          }
         ],
         "name": "2024-09-19"
        },
        {
         "data": [
          {
           "coloraxis": "coloraxis",
           "geo": "geo",
           "hovertemplate": "animation_frame=2024-09-20<br>country=%{location}<br>streams_per_capita=%{z}<extra></extra>",
           "locationmode": "country names",
           "locations": [
            "Australia",
            "Brazil",
            "Egypt",
            "Finland",
            "Germany",
            "Greece",
            "India",
            "Japan",
            "Nigeria",
            "South Africa",
            "Spain",
            "Sweden",
            "Ukraine",
            "United Kingdom",
            "United States"
           ],
           "name": "",
           "type": "choropleth",
           "z": [
            0.6669766051660516,
            0.3177513486081612,
            0.03592191849012098,
            0.8273629886453822,
            0.40006005351318796,
            0.46407233009708737,
            0.03762209544137925,
            0.14358651166558653,
            0.03263989087602304,
            0.06626677683908135,
            0.5369875339319273,
            0.8223663809523809,
            0.0602701292397306,
            0.4086187445789553,
            0.08201570953067826
           ]
          }
         ],
         "name": "2024-09-20"
        },
        {
         "data": [
          {
           "coloraxis": "coloraxis",
           "geo": "geo",
           "hovertemplate": "animation_frame=2024-09-21<br>country=%{location}<br>streams_per_capita=%{z}<extra></extra>",
           "locationmode": "country names",
           "locations": [
            "Australia",
            "Brazil",
            "Egypt",
            "Finland",
            "Germany",
            "Greece",
            "India",
            "Japan",
            "Nigeria",
            "South Africa",
            "Spain",
            "Sweden",
            "Ukraine",
            "United Kingdom",
            "United States"
           ],
           "name": "",
           "type": "choropleth",
           "z": [
            0.6323892619926199,
            0.3490217797868541,
            0.035794721551767904,
            0.6934845508918318,
            0.34572858287041336,
            0.46476009708737864,
            0.03806652828314576,
            0.15391507615035646,
            0.03163079300124617,
            0.06411875453688974,
            0.4947951555648361,
            0.7283342857142857,
            0.05918005582185547,
            0.3853891958347333,
            0.07735320212588956
           ]
          }
         ],
         "name": "2024-09-21"
        },
        {
         "data": [
          {
           "coloraxis": "coloraxis",
           "geo": "geo",
           "hovertemplate": "animation_frame=2024-09-22<br>country=%{location}<br>streams_per_capita=%{z}<extra></extra>",
           "locationmode": "country names",
           "locations": [
            "Australia",
            "Brazil",
            "Egypt",
            "Finland",
            "Germany",
            "Greece",
            "India",
            "Japan",
            "Nigeria",
            "South Africa",
            "Spain",
            "Sweden",
            "Ukraine",
            "United Kingdom",
            "United States"
           ],
           "name": "",
           "type": "choropleth",
           "z": [
            0.6350136531365314,
            0.293303314662707,
            0.03542463057867082,
            0.5683338727626615,
            0.27752906877033245,
            0.41841446601941745,
            0.03767844744267798,
            0.15381695560596242,
            0.029318349836650836,
            0.05828603641867577,
            0.41648859887241596,
            0.5904186666666666,
            0.05565693829257933,
            0.3367124972839386,
            0.06758308261419652
           ]
          }
         ],
         "name": "2024-09-22"
        },
        {
         "data": [
          {
           "coloraxis": "coloraxis",
           "geo": "geo",
           "hovertemplate": "animation_frame=2024-09-23<br>country=%{location}<br>streams_per_capita=%{z}<extra></extra>",
           "locationmode": "country names",
           "locations": [
            "Australia",
            "Brazil",
            "Egypt",
            "Finland",
            "Germany",
            "Greece",
            "India",
            "Japan",
            "Nigeria",
            "South Africa",
            "Spain",
            "Sweden",
            "Ukraine",
            "United Kingdom",
            "United States"
           ],
           "name": "",
           "type": "choropleth",
           "z": [
            0.6500378228782288,
            0.27282777286995097,
            0.03521533911990652,
            0.6304945754100032,
            0.30569867603414347,
            0.41345932038834954,
            0.037436193647074054,
            0.17072807031756318,
            0.030910793674850966,
            0.05985730613001375,
            0.47748876592190437,
            0.6505798095238096,
            0.05571445907408531,
            0.36578418737427437,
            0.07341819253425591
           ]
          }
         ],
         "name": "2024-09-23"
        },
        {
         "data": [
          {
           "coloraxis": "coloraxis",
           "geo": "geo",
           "hovertemplate": "animation_frame=2024-09-24<br>country=%{location}<br>streams_per_capita=%{z}<extra></extra>",
           "locationmode": "country names",
           "locations": [
            "Australia",
            "Brazil",
            "Egypt",
            "Finland",
            "Germany",
            "Greece",
            "India",
            "Japan",
            "Nigeria",
            "South Africa",
            "Spain",
            "Sweden",
            "Ukraine",
            "United Kingdom",
            "United States"
           ],
           "name": "",
           "type": "choropleth",
           "z": [
            0.653829815498155,
            0.28312647783019756,
            0.03510002912821218,
            0.6287374250156287,
            0.3081258179146555,
            0.41614330097087376,
            0.037787203299082237,
            0.150724546338302,
            0.030633979993937556,
            0.06452728311736451,
            0.47958790979327626,
            0.6460148571428571,
            0.05567234997876343,
            0.3784711184287153,
            0.07596464363568282
           ]
          }
         ],
         "name": "2024-09-24"
        },
        {
         "data": [
          {
           "coloraxis": "coloraxis",
           "geo": "geo",
           "hovertemplate": "animation_frame=2024-09-25<br>country=%{location}<br>streams_per_capita=%{z}<extra></extra>",
           "locationmode": "country names",
           "locations": [
            "Australia",
            "Brazil",
            "Egypt",
            "Finland",
            "Germany",
            "Greece",
            "India",
            "Japan",
            "Nigeria",
            "South Africa",
            "Spain",
            "Sweden",
            "Ukraine",
            "United Kingdom",
            "United States"
           ],
           "name": "",
           "type": "choropleth",
           "z": [
            0.6534322878228782,
            0.27910759261695767,
            0.03609343419544476,
            0.626595787130842,
            0.31848978232163305,
            0.4130334951456311,
            0.03770355182271246,
            0.15046561082307194,
            0.02966735290155266,
            0.05934129766630114,
            0.5018186677803299,
            0.6480491428571429,
            0.05550634063467023,
            0.378064366579468,
            0.07588300263912673
           ]
          }
         ],
         "name": "2024-09-25"
        },
        {
         "data": [
          {
           "coloraxis": "coloraxis",
           "geo": "geo",
           "hovertemplate": "animation_frame=2024-09-26<br>country=%{location}<br>streams_per_capita=%{z}<extra></extra>",
           "locationmode": "country names",
           "locations": [
            "Australia",
            "Brazil",
            "Egypt",
            "Finland",
            "Germany",
            "Greece",
            "India",
            "Japan",
            "Nigeria",
            "South Africa",
            "Spain",
            "Sweden",
            "Ukraine",
            "United Kingdom",
            "United States"
           ],
           "name": "",
           "type": "choropleth",
           "z": [
            0.6573670110701108,
            0.2783664877920418,
            0.039929962752314016,
            0.6371578429329585,
            0.3173121455902628,
            0.41626466019417474,
            0.03771760235586537,
            0.1493769685677252,
            0.0310435106597959,
            0.06110554929185908,
            0.5133181666318647,
            0.6563168571428571,
            0.05698622656392209,
            0.38373870649103264,
            0.07702192497232697
           ]
          }
         ],
         "name": "2024-09-26"
        },
        {
         "data": [
          {
           "coloraxis": "coloraxis",
           "geo": "geo",
           "hovertemplate": "animation_frame=2024-09-27<br>country=%{location}<br>streams_per_capita=%{z}<extra></extra>",
           "locationmode": "country names",
           "locations": [
            "Australia",
            "Brazil",
            "Egypt",
            "Finland",
            "Germany",
            "Greece",
            "India",
            "Japan",
            "Nigeria",
            "South Africa",
            "Spain",
            "Sweden",
            "Ukraine",
            "United Kingdom",
            "United States"
           ],
           "name": "",
           "type": "choropleth",
           "z": [
            0.6500781180811808,
            0.30822317350525347,
            0.034172762314628895,
            0.8331737509255277,
            0.3852000583372882,
            0.4691446601941748,
            0.035190590800541356,
            0.13768507777057679,
            0.03146433683607827,
            0.07810629063894853,
            0.5590306326999374,
            0.8159971428571429,
            0.060004945088283475,
            0.41421113938140874,
            0.08313818429177007
           ]
          }
         ],
         "name": "2024-09-27"
        },
        {
         "data": [
          {
           "coloraxis": "coloraxis",
           "geo": "geo",
           "hovertemplate": "animation_frame=2024-09-28<br>country=%{location}<br>streams_per_capita=%{z}<extra></extra>",
           "locationmode": "country names",
           "locations": [
            "Australia",
            "Brazil",
            "Egypt",
            "Finland",
            "Germany",
            "Greece",
            "India",
            "Japan",
            "Nigeria",
            "South Africa",
            "Spain",
            "Sweden",
            "Ukraine",
            "United Kingdom",
            "United States"
           ],
           "name": "",
           "type": "choropleth",
           "z": [
            0.5775971955719558,
            0.3243929806589854,
            0.036294775845562,
            0.7051520082288836,
            0.3343510284268854,
            0.4550118446601942,
            0.03922505654524941,
            0.15175372650680494,
            0.031653190360715365,
            0.07673275981898775,
            0.5129392357485905,
            0.7320651428571429,
            0.0586468660882228,
            0.38760355952327047,
            0.07779765704011891
           ]
          }
         ],
         "name": "2024-09-28"
        },
        {
         "data": [
          {
           "coloraxis": "coloraxis",
           "geo": "geo",
           "hovertemplate": "animation_frame=2024-09-29<br>country=%{location}<br>streams_per_capita=%{z}<extra></extra>",
           "locationmode": "country names",
           "locations": [
            "Australia",
            "Brazil",
            "Egypt",
            "Finland",
            "Germany",
            "Greece",
            "India",
            "Japan",
            "Nigeria",
            "South Africa",
            "Spain",
            "Sweden",
            "Ukraine",
            "United Kingdom",
            "United States"
           ],
           "name": "",
           "type": "choropleth",
           "z": [
            0.5984846863468635,
            0.2547737157679078,
            0.03519171629183649,
            0.567382408101194,
            0.2650620704964431,
            0.39187077669902914,
            0.03845062660386822,
            0.15812916396629942,
            0.028057711090902968,
            0.06213847745841506,
            0.4185487366882439,
            0.5721153333333333,
            0.05315985073721255,
            0.3357827850494093,
            0.06739647588216115
           ]
          }
         ],
         "name": "2024-09-29"
        },
        {
         "data": [
          {
           "coloraxis": "coloraxis",
           "geo": "geo",
           "hovertemplate": "animation_frame=2024-09-30<br>country=%{location}<br>streams_per_capita=%{z}<extra></extra>",
           "locationmode": "country names",
           "locations": [
            "Australia",
            "Brazil",
            "Egypt",
            "Finland",
            "Germany",
            "Greece",
            "India",
            "Japan",
            "Nigeria",
            "South Africa",
            "Spain",
            "Sweden",
            "Ukraine",
            "United Kingdom",
            "United States"
           ],
           "name": "",
           "type": "choropleth",
           "z": [
            0.647099815498155,
            0.26382376933631563,
            0.0365603391090015,
            0.6560078387209761,
            0.3048081778671651,
            0.40058398058252426,
            0.03834688997354037,
            0.14642165424497733,
            0.03008340069381294,
            0.058808886898234665,
            0.49148759657548546,
            0.6394419047619048,
            0.0558782840847036,
            0.36531320075501417,
            0.07332365868755761
           ]
          }
         ],
         "name": "2024-09-30"
        },
        {
         "data": [
          {
           "coloraxis": "coloraxis",
           "geo": "geo",
           "hovertemplate": "animation_frame=2024-10-01<br>country=%{location}<br>streams_per_capita=%{z}<extra></extra>",
           "locationmode": "country names",
           "locations": [
            "Australia",
            "Brazil",
            "Egypt",
            "Finland",
            "Germany",
            "Greece",
            "India",
            "Japan",
            "Nigeria",
            "South Africa",
            "Spain",
            "Sweden",
            "Ukraine",
            "United Kingdom",
            "United States"
           ],
           "name": "",
           "type": "choropleth",
           "z": [
            0.6483306642066421,
            0.2716215110050185,
            0.03675178598541074,
            0.6438769746438658,
            0.3010627501885633,
            0.42183495145631067,
            0.03924245643731811,
            0.1456149546338302,
            0.031206716681822774,
            0.05814176718612445,
            0.49714806849029025,
            0.6409495238095239,
            0.05460026697409138,
            0.36957664628258885,
            0.07417939405121483
           ]
          }
         ],
         "name": "2024-10-01"
        },
        {
         "data": [
          {
           "coloraxis": "coloraxis",
           "geo": "geo",
           "hovertemplate": "animation_frame=2024-10-02<br>country=%{location}<br>streams_per_capita=%{z}<extra></extra>",
           "locationmode": "country names",
           "locations": [
            "Australia",
            "Brazil",
            "Egypt",
            "Finland",
            "Germany",
            "Greece",
            "India",
            "Japan",
            "Nigeria",
            "South Africa",
            "Spain",
            "Sweden",
            "Ukraine",
            "United Kingdom",
            "United States"
           ],
           "name": "",
           "type": "choropleth",
           "z": [
            0.6492205904059041,
            0.2756150686991335,
            0.03737408038912595,
            0.6360476530390562,
            0.33027906321115175,
            0.42109388349514565,
            0.039064313441191,
            0.14584637070641607,
            0.029689426088713753,
            0.058765950545971245,
            0.4961190645228649,
            0.6437786666666667,
            0.05450837327832049,
            0.3725354448120125,
            0.07477326783690975
           ]
          }
         ],
         "name": "2024-10-02"
        },
        {
         "data": [
          {
           "coloraxis": "coloraxis",
           "geo": "geo",
           "hovertemplate": "animation_frame=2024-10-03<br>country=%{location}<br>streams_per_capita=%{z}<extra></extra>",
           "locationmode": "country names",
           "locations": [
            "Australia",
            "Brazil",
            "Egypt",
            "Finland",
            "Germany",
            "Greece",
            "India",
            "Japan",
            "Nigeria",
            "South Africa",
            "Spain",
            "Sweden",
            "Ukraine",
            "United Kingdom",
            "United States"
           ],
           "name": "",
           "type": "choropleth",
           "z": [
            0.6601451291512915,
            0.2788575456271263,
            0.04099329214596011,
            0.6481701818246308,
            0.2764702752343778,
            0.435176213592233,
            0.03761685897445363,
            0.1448982906675308,
            0.02976521083830117,
            0.06248325018919795,
            0.5093528294007099,
            0.651456,
            0.0552303865056732,
            0.3772908539692598,
            0.07572774743755117
           ]
          }
         ],
         "name": "2024-10-03"
        },
        {
         "data": [
          {
           "coloraxis": "coloraxis",
           "geo": "geo",
           "hovertemplate": "animation_frame=2024-10-04<br>country=%{location}<br>streams_per_capita=%{z}<extra></extra>",
           "locationmode": "country names",
           "locations": [
            "Australia",
            "Brazil",
            "Egypt",
            "Finland",
            "Germany",
            "Greece",
            "India",
            "Japan",
            "Nigeria",
            "South Africa",
            "Spain",
            "Sweden",
            "Ukraine",
            "United Kingdom",
            "United States"
           ],
           "name": "",
           "type": "choropleth",
           "z": [
            0.6654530627306273,
            0.3102761921320226,
            0.03840209828118056,
            0.8147197701587696,
            0.3381266037398529,
            0.5794629126213592,
            0.03833191272942307,
            0.14205616493843162,
            0.033479114041291974,
            0.0793307798044697,
            0.5639993526832324,
            0.7869106666666666,
            0.059746738668770095,
            0.4065158285826093,
            0.08159362378495105
           ]
          }
         ],
         "name": "2024-10-04"
        },
        {
         "data": [
          {
           "coloraxis": "coloraxis",
           "geo": "geo",
           "hovertemplate": "animation_frame=2024-10-05<br>country=%{location}<br>streams_per_capita=%{z}<extra></extra>",
           "locationmode": "country names",
           "locations": [
            "Australia",
            "Brazil",
            "Egypt",
            "Finland",
            "Germany",
            "Greece",
            "India",
            "Japan",
            "Nigeria",
            "South Africa",
            "Spain",
            "Sweden",
            "Ukraine",
            "United Kingdom",
            "United States"
           ],
           "name": "",
           "type": "choropleth",
           "z": [
            0.6416870110701107,
            0.34125463789635924,
            0.039864957488020596,
            0.6806907651176917,
            0.30569019065392694,
            0.5313388349514563,
            0.03956507697265395,
            0.1519433003888529,
            0.0328961133003267,
            0.08743756467481119,
            0.5152585508456881,
            0.6999655238095238,
            0.05796165281232935,
            0.3858364221810264,
            0.07744296694113276
           ]
          }
         ],
         "name": "2024-10-05"
        },
        {
         "data": [
          {
           "coloraxis": "coloraxis",
           "geo": "geo",
           "hovertemplate": "animation_frame=2024-10-06<br>country=%{location}<br>streams_per_capita=%{z}<extra></extra>",
           "locationmode": "country names",
           "locations": [
            "Australia",
            "Brazil",
            "Egypt",
            "Finland",
            "Germany",
            "Greece",
            "India",
            "Japan",
            "Nigeria",
            "South Africa",
            "Spain",
            "Sweden",
            "Ukraine",
            "United Kingdom",
            "United States"
           ],
           "name": "",
           "type": "choropleth",
           "z": [
            0.5938027675276752,
            0.28355777869669,
            0.03917612828438154,
            0.5481535999148737,
            0.25098594971834165,
            0.45925038834951454,
            0.03854113629135128,
            0.15828519928710305,
            0.028820151729480315,
            0.07083872611858465,
            0.4166119440384214,
            0.5660448571428571,
            0.05312302044778836,
            0.3379178404038871,
            0.06782501246328448
           ]
          }
         ],
         "name": "2024-10-06"
        },
        {
         "data": [
          {
           "coloraxis": "coloraxis",
           "geo": "geo",
           "hovertemplate": "animation_frame=2024-10-07<br>country=%{location}<br>streams_per_capita=%{z}<extra></extra>",
           "locationmode": "country names",
           "locations": [
            "Australia",
            "Brazil",
            "Egypt",
            "Finland",
            "Germany",
            "Greece",
            "India",
            "Japan",
            "Nigeria",
            "South Africa",
            "Spain",
            "Sweden",
            "Ukraine",
            "United Kingdom",
            "United States"
           ],
           "name": "",
           "type": "choropleth",
           "z": [
            0.6319712915129151,
            0.26603488525083174,
            0.03847861282901409,
            0.6331191281639746,
            0.28482365931770504,
            0.47164106796116506,
            0.037907520355996926,
            0.14497090084251457,
            0.03086348135798727,
            0.058755695244567314,
            0.47928891209020674,
            0.6199662857142857,
            0.0555427461925854,
            0.36791805617997886,
            0.07384649095782815
           ]
          }
         ],
         "name": "2024-10-07"
        },
        {
         "data": [
          {
           "coloraxis": "coloraxis",
           "geo": "geo",
           "hovertemplate": "animation_frame=2024-10-08<br>country=%{location}<br>streams_per_capita=%{z}<extra></extra>",
           "locationmode": "country names",
           "locations": [
            "Australia",
            "Brazil",
            "Egypt",
            "Finland",
            "Germany",
            "Greece",
            "India",
            "Japan",
            "Nigeria",
            "South Africa",
            "Spain",
            "Sweden",
            "Ukraine",
            "United Kingdom",
            "United States"
           ],
           "name": "",
           "type": "choropleth",
           "z": [
            0.6173031734317344,
            0.27804707911208015,
            0.03934383903378517,
            0.6273844475874208,
            0.2836887367217264,
            0.4761987378640777,
            0.03821768116617066,
            0.14509705119896307,
            0.03083638560506551,
            0.06045518711291643,
            0.488529672165379,
            0.6240748571428572,
            0.05563333535586433,
            0.37112274863173716,
            0.0744897192207151
           ]
          }
         ],
         "name": "2024-10-08"
        },
        {
         "data": [
          {
           "coloraxis": "coloraxis",
           "geo": "geo",
           "hovertemplate": "animation_frame=2024-10-09<br>country=%{location}<br>streams_per_capita=%{z}<extra></extra>",
           "locationmode": "country names",
           "locations": [
            "Australia",
            "Brazil",
            "Egypt",
            "Finland",
            "Germany",
            "Greece",
            "India",
            "Japan",
            "Nigeria",
            "South Africa",
            "Spain",
            "Sweden",
            "Ukraine",
            "United Kingdom",
            "United States"
           ],
           "name": "",
           "type": "choropleth",
           "z": [
            0.6364761254612546,
            0.27429283123132153,
            0.04007180357809179,
            0.6062645923022696,
            0.2825126917471527,
            0.47652951456310677,
            0.03840356302381564,
            0.14902563188593648,
            0.03106443871880368,
            0.06176077656107619,
            0.4743883482981833,
            0.6233715238095238,
            0.05570930162004733,
            0.37033958249508914,
            0.07433252641634736
           ]
          }
         ],
         "name": "2024-10-09"
        },
        {
         "data": [
          {
           "coloraxis": "coloraxis",
           "geo": "geo",
           "hovertemplate": "animation_frame=2024-10-10<br>country=%{location}<br>streams_per_capita=%{z}<extra></extra>",
           "locationmode": "country names",
           "locations": [
            "Australia",
            "Brazil",
            "Egypt",
            "Finland",
            "Germany",
            "Greece",
            "India",
            "Japan",
            "Nigeria",
            "South Africa",
            "Spain",
            "Sweden",
            "Ukraine",
            "United Kingdom",
            "United States"
           ],
           "name": "",
           "type": "choropleth",
           "z": [
            0.6471963099630996,
            0.27368353758246716,
            0.042986560319753765,
            0.6145580300336515,
            0.2842820072192035,
            0.4634419417475728,
            0.0381337423269054,
            0.14910102073882048,
            0.03129267707386076,
            0.06401918235593927,
            0.4876529338066402,
            0.6189486666666667,
            0.05502348158485529,
            0.3669137818064836,
            0.07364491852289112
           ]
          }
         ],
         "name": "2024-10-10"
        },
        {
         "data": [
          {
           "coloraxis": "coloraxis",
           "geo": "geo",
           "hovertemplate": "animation_frame=2024-10-11<br>country=%{location}<br>streams_per_capita=%{z}<extra></extra>",
           "locationmode": "country names",
           "locations": [
            "Australia",
            "Brazil",
            "Egypt",
            "Finland",
            "Germany",
            "Greece",
            "India",
            "Japan",
            "Nigeria",
            "South Africa",
            "Spain",
            "Sweden",
            "Ukraine",
            "United Kingdom",
            "United States"
           ],
           "name": "",
           "type": "choropleth",
           "z": [
            0.6482056826568265,
            0.30849286224461026,
            0.03865349917767161,
            0.7951162285466,
            0.36015547658048225,
            0.48755233009708737,
            0.038053462208524756,
            0.14564878483473753,
            0.031837766494897446,
            0.0793924351707415,
            0.5292303194821466,
            0.8002959047619048,
            0.05898419392027183,
            0.4066800850195888,
            0.08162659243458491
           ]
          }
         ],
         "name": "2024-10-11"
        },
        {
         "data": [
          {
           "coloraxis": "coloraxis",
           "geo": "geo",
           "hovertemplate": "animation_frame=2024-10-12<br>country=%{location}<br>streams_per_capita=%{z}<extra></extra>",
           "locationmode": "country names",
           "locations": [
            "Australia",
            "Brazil",
            "Egypt",
            "Finland",
            "Germany",
            "Greece",
            "India",
            "Japan",
            "Nigeria",
            "South Africa",
            "Spain",
            "Sweden",
            "Ukraine",
            "United Kingdom",
            "United States"
           ],
           "name": "",
           "type": "choropleth",
           "z": [
            0.6150537638376383,
            0.32317611788808903,
            0.040033754018890276,
            0.6732633109728793,
            0.312043239103964,
            0.49175,
            0.03642625812583553,
            0.15446980719377834,
            0.031498185477080595,
            0.09220902898976015,
            0.4448395280851952,
            0.7290563809523809,
            0.05679922334809781,
            0.3712721512359246,
            0.07451970649063534
           ]
          }
         ],
         "name": "2024-10-12"
        },
        {
         "data": [
          {
           "coloraxis": "coloraxis",
           "geo": "geo",
           "hovertemplate": "animation_frame=2024-10-13<br>country=%{location}<br>streams_per_capita=%{z}<extra></extra>",
           "locationmode": "country names",
           "locations": [
            "Australia",
            "Brazil",
            "Egypt",
            "Finland",
            "Germany",
            "Greece",
            "India",
            "Japan",
            "Nigeria",
            "South Africa",
            "Spain",
            "Sweden",
            "Ukraine",
            "United Kingdom",
            "United States"
           ],
           "name": "",
           "type": "choropleth",
           "z": [
            0.5954141328413284,
            0.27854132755671673,
            0.03895364694119924,
            0.538994533290179,
            0.24675275031039856,
            0.42315757281553396,
            0.03781207668884665,
            0.15236194102397926,
            0.028376755582499746,
            0.07151089625774167,
            0.3965087909793276,
            0.5938871428571428,
            0.05138262241368849,
            0.32883584960532386,
            0.06600212516509464
           ]
          }
         ],
         "name": "2024-10-13"
        },
        {
         "data": [
          {
           "coloraxis": "coloraxis",
           "geo": "geo",
           "hovertemplate": "animation_frame=2024-10-14<br>country=%{location}<br>streams_per_capita=%{z}<extra></extra>",
           "locationmode": "country names",
           "locations": [
            "Australia",
            "Brazil",
            "Egypt",
            "Finland",
            "Germany",
            "Greece",
            "India",
            "Japan",
            "Nigeria",
            "South Africa",
            "Spain",
            "Sweden",
            "Ukraine",
            "United Kingdom",
            "United States"
           ],
           "name": "",
           "type": "choropleth",
           "z": [
            0.6058557195571955,
            0.2685624917767795,
            0.03891051781305221,
            0.6078236465127003,
            0.2818674198716211,
            0.45100349514563104,
            0.03820909190297404,
            0.16219590894361632,
            0.028821271597453773,
            0.0581355120700573,
            0.45027030695343495,
            0.6603131428571428,
            0.05328781627328439,
            0.3544965195960947,
            0.071152593870328
           ]
          }
         ],
         "name": "2024-10-14"
        },
        {
         "data": [
          {
           "coloraxis": "coloraxis",
           "geo": "geo",
           "hovertemplate": "animation_frame=2024-10-15<br>country=%{location}<br>streams_per_capita=%{z}<extra></extra>",
           "locationmode": "country names",
           "locations": [
            "Australia",
            "Brazil",
            "Egypt",
            "Finland",
            "Germany",
            "Greece",
            "India",
            "Japan",
            "Nigeria",
            "South Africa",
            "Spain",
            "Sweden",
            "Ukraine",
            "United Kingdom",
            "United States"
           ],
           "name": "",
           "type": "choropleth",
           "z": [
            0.6179240221402214,
            0.27459260286074094,
            0.038903634902715256,
            0.6033619600349373,
            0.28049204625458546,
            0.4401295145631068,
            0.03816450046878788,
            0.1451371597537265,
            0.02555334949984844,
            0.057841676062211377,
            0.44558872415953227,
            0.661626,
            0.053069595291547846,
            0.3603349841058862,
            0.07232445839121199
           ]
          }
         ],
         "name": "2024-10-15"
        },
        {
         "data": [
          {
           "coloraxis": "coloraxis",
           "geo": "geo",
           "hovertemplate": "animation_frame=2024-10-16<br>country=%{location}<br>streams_per_capita=%{z}<extra></extra>",
           "locationmode": "country names",
           "locations": [
            "Australia",
            "Brazil",
            "Egypt",
            "Finland",
            "Germany",
            "Greece",
            "India",
            "Japan",
            "Nigeria",
            "South Africa",
            "Spain",
            "Sweden",
            "Ukraine",
            "United Kingdom",
            "United States"
           ],
           "name": "",
           "type": "choropleth",
           "z": [
            0.6269543911439115,
            0.279842772024134,
            0.03960031005764376,
            0.6009929637725174,
            0.27899276693743524,
            0.4436428155339806,
            0.03825824951982004,
            0.14738506966947504,
            0.03112681873294938,
            0.06151095803666579,
            0.4487974733764878,
            0.6569494285714286,
            0.052754414173897216,
            0.35704770200000413,
            0.07166465318668269
           ]
          }
         ],
         "name": "2024-10-16"
        },
        {
         "data": [
          {
           "coloraxis": "coloraxis",
           "geo": "geo",
           "hovertemplate": "animation_frame=2024-10-17<br>country=%{location}<br>streams_per_capita=%{z}<extra></extra>",
           "locationmode": "country names",
           "locations": [
            "Australia",
            "Brazil",
            "Egypt",
            "Finland",
            "Germany",
            "Greece",
            "India",
            "Japan",
            "Nigeria",
            "South Africa",
            "Spain",
            "Sweden",
            "Ukraine",
            "United Kingdom",
            "United States"
           ],
           "name": "",
           "type": "choropleth",
           "z": [
            0.6343853505535055,
            0.29031592673345485,
            0.0428941461546261,
            0.6047709789977256,
            0.2823098205482111,
            0.43928330097087376,
            0.03889685099516974,
            0.1457428305249514,
            0.032053564211377186,
            0.06442327829860843,
            0.4572105241177699,
            0.6718126666666666,
            0.05240953218858079,
            0.37997492983578207,
            0.07626648039962766
           ]
          }
         ],
         "name": "2024-10-17"
        },
        {
         "data": [
          {
           "coloraxis": "coloraxis",
           "geo": "geo",
           "hovertemplate": "animation_frame=2024-10-18<br>country=%{location}<br>streams_per_capita=%{z}<extra></extra>",
           "locationmode": "country names",
           "locations": [
            "Australia",
            "Brazil",
            "Egypt",
            "Finland",
            "Germany",
            "Greece",
            "India",
            "Japan",
            "Nigeria",
            "South Africa",
            "Spain",
            "Sweden",
            "Ukraine",
            "United Kingdom",
            "United States"
           ],
           "name": "",
           "type": "choropleth",
           "z": [
            0.6355493357933579,
            0.3178290274984493,
            0.038485269141479865,
            0.7356689293140676,
            0.34148549781499665,
            0.4577476699029126,
            0.03872431363791771,
            0.14008781594296824,
            0.03902937758916843,
            0.07867386905957033,
            0.5188753810816454,
            0.8427979047619047,
            0.055885140464777626,
            0.3995272320927048,
            0.08019091109164636
           ]
          }
         ],
         "name": "2024-10-18"
        },
        {
         "data": [
          {
           "coloraxis": "coloraxis",
           "geo": "geo",
           "hovertemplate": "animation_frame=2024-10-19<br>country=%{location}<br>streams_per_capita=%{z}<extra></extra>",
           "locationmode": "country names",
           "locations": [
            "Australia",
            "Brazil",
            "Egypt",
            "Finland",
            "Germany",
            "Greece",
            "India",
            "Japan",
            "Nigeria",
            "South Africa",
            "Spain",
            "Sweden",
            "Ukraine",
            "United Kingdom",
            "United States"
           ],
           "name": "",
           "type": "choropleth",
           "z": [
            0.6238269741697416,
            0.326398807398079,
            0.03956312912361508,
            0.6312882015721779,
            0.2994974548526908,
            0.4630011650485437,
            0.04070393737572191,
            0.14924183408943617,
            0.03258156512074366,
            0.08827499343598931,
            0.47712211317602843,
            0.7193320952380953,
            0.05466273284388083,
            0.37683035585520586,
            0.07563531878599582
           ]
          }
         ],
         "name": "2024-10-19"
        },
        {
         "data": [
          {
           "coloraxis": "coloraxis",
           "geo": "geo",
           "hovertemplate": "animation_frame=2024-10-20<br>country=%{location}<br>streams_per_capita=%{z}<extra></extra>",
           "locationmode": "country names",
           "locations": [
            "Australia",
            "Brazil",
            "Egypt",
            "Finland",
            "Germany",
            "Greece",
            "India",
            "Japan",
            "Nigeria",
            "South Africa",
            "Spain",
            "Sweden",
            "Ukraine",
            "United Kingdom",
            "United States"
           ],
           "name": "",
           "type": "choropleth",
           "z": [
            0.6269072324723247,
            0.2692692799278236,
            0.03708321369673854,
            0.5271149693855383,
            0.24188716866654753,
            0.4011696116504854,
            0.039490341995696704,
            0.1611746597537265,
            0.030264524603415176,
            0.06605464345838417,
            0.39507371058676133,
            0.5794501904761905,
            0.049993629027364844,
            0.32755946004647846,
            0.06574593526510822
           ]
          }
         ],
         "name": "2024-10-20"
        },
        {
         "data": [
          {
           "coloraxis": "coloraxis",
           "geo": "geo",
           "hovertemplate": "animation_frame=2024-10-21<br>country=%{location}<br>streams_per_capita=%{z}<extra></extra>",
           "locationmode": "country names",
           "locations": [
            "Australia",
            "Brazil",
            "Egypt",
            "Finland",
            "Germany",
            "Greece",
            "India",
            "Japan",
            "Nigeria",
            "South Africa",
            "Spain",
            "Sweden",
            "Ukraine",
            "United Kingdom",
            "United States"
           ],
           "name": "",
           "type": "choropleth",
           "z": [
            0.6431235055350554,
            0.27558771121929215,
            0.03876667537274571,
            0.5920912271056586,
            0.27317311259951144,
            0.4157193203883495,
            0.03914356235300889,
            0.15048791315618923,
            0.03159324374389546,
            0.0551651041747108,
            0.4493201085821675,
            0.6451189523809524,
            0.05189105636793884,
            0.3636724235327544,
            0.07299433089765392
           ]
          }
         ],
         "name": "2024-10-21"
        },
        {
         "data": [
          {
           "coloraxis": "coloraxis",
           "geo": "geo",
           "hovertemplate": "animation_frame=2024-10-22<br>country=%{location}<br>streams_per_capita=%{z}<extra></extra>",
           "locationmode": "country names",
           "locations": [
            "Australia",
            "Brazil",
            "Egypt",
            "Finland",
            "Germany",
            "Greece",
            "India",
            "Japan",
            "Nigeria",
            "South Africa",
            "Spain",
            "Sweden",
            "Ukraine",
            "United Kingdom",
            "United States"
           ],
           "name": "",
           "type": "choropleth",
           "z": [
            0.6550037269372694,
            0.2873814352574103,
            0.03899684216039204,
            0.5936396405183842,
            0.2712393674535618,
            0.4239061165048544,
            0.03979661515712889,
            0.1484796176279974,
            0.03130042352901553,
            0.0600283565261711,
            0.4513161829191898,
            0.6407939047619048,
            0.051386080941690435,
            0.36627515488892737,
            0.07351673683650585
           ]
          }
         ],
         "name": "2024-10-22"
        },
        {
         "data": [
          {
           "coloraxis": "coloraxis",
           "geo": "geo",
           "hovertemplate": "animation_frame=2024-10-23<br>country=%{location}<br>streams_per_capita=%{z}<extra></extra>",
           "locationmode": "country names",
           "locations": [
            "Australia",
            "Brazil",
            "Egypt",
            "Finland",
            "Germany",
            "Greece",
            "India",
            "Japan",
            "Nigeria",
            "South Africa",
            "Spain",
            "Sweden",
            "Ukraine",
            "United Kingdom",
            "United States"
           ],
           "name": "",
           "type": "choropleth",
           "z": [
            0.655610885608856,
            0.2868643403567468,
            0.03881589431868058,
            0.5927245319157426,
            0.2722869229471705,
            0.4307483495145631,
            0.039757319999848974,
            0.14924832307193778,
            0.031086326664645853,
            0.06218578466955998,
            0.4529925245353936,
            0.6367507619047619,
            0.051683028942418545,
            0.3631831699218851,
            0.07289613060075555
           ]
          }
         ],
         "name": "2024-10-23"
        },
        {
         "data": [
          {
           "coloraxis": "coloraxis",
           "geo": "geo",
           "hovertemplate": "animation_frame=2024-10-24<br>country=%{location}<br>streams_per_capita=%{z}<extra></extra>",
           "locationmode": "country names",
           "locations": [
            "Australia",
            "Brazil",
            "Egypt",
            "Finland",
            "Germany",
            "Greece",
            "India",
            "Japan",
            "Nigeria",
            "South Africa",
            "Spain",
            "Sweden",
            "Ukraine",
            "United Kingdom",
            "United States"
           ],
           "name": "",
           "type": "choropleth",
           "z": [
            0.6597886715867158,
            0.2957576311486194,
            0.03869818616618297,
            0.5986957928946073,
            0.28178691048838234,
            0.42823543689320387,
            0.03909850481345637,
            0.14793641445236552,
            0.03125531305782897,
            0.06610405115294916,
            0.46640893714763,
            0.6504774285714285,
            0.052564407499544934,
            0.36861549782994146,
            0.07398647761418399
           ]
          }
         ],
         "name": "2024-10-24"
        },
        {
         "data": [
          {
           "coloraxis": "coloraxis",
           "geo": "geo",
           "hovertemplate": "animation_frame=2024-10-25<br>country=%{location}<br>streams_per_capita=%{z}<extra></extra>",
           "locationmode": "country names",
           "locations": [
            "Australia",
            "Brazil",
            "Egypt",
            "Finland",
            "Germany",
            "Greece",
            "India",
            "Japan",
            "Nigeria",
            "South Africa",
            "Spain",
            "Sweden",
            "Ukraine",
            "United Kingdom",
            "United States"
           ],
           "name": "",
           "type": "choropleth",
           "z": [
            0.6633672693726937,
            0.33202870608800256,
            0.03794385129461831,
            0.7673788611686256,
            0.36604461768503077,
            0.4788152427184466,
            0.04012036039508917,
            0.14675183084899546,
            0.030991066316392174,
            0.0910931008386489,
            0.516869513468365,
            0.8676970476190476,
            0.05557205266670712,
            0.3963881074472357,
            0.0795608432386195
           ]
          }
         ],
         "name": "2024-10-25"
        },
        {
         "data": [
          {
           "coloraxis": "coloraxis",
           "geo": "geo",
           "hovertemplate": "animation_frame=2024-10-26<br>country=%{location}<br>streams_per_capita=%{z}<extra></extra>",
           "locationmode": "country names",
           "locations": [
            "Australia",
            "Brazil",
            "Egypt",
            "Finland",
            "Germany",
            "Greece",
            "India",
            "Japan",
            "Nigeria",
            "South Africa",
            "Spain",
            "Sweden",
            "Ukraine",
            "United Kingdom",
            "United States"
           ],
           "name": "",
           "type": "choropleth",
           "z": [
            0.6334934317343174,
            0.3577980940924384,
            0.03826798066617867,
            0.6442662504932453,
            0.30955288173924395,
            0.45092961165048545,
            0.0422179039782852,
            0.1532627754374595,
            0.031059319322353576,
            0.09594007444360357,
            0.4544355397786594,
            0.7411859047619047,
            0.0529931739578909,
            0.37416387313777943,
            0.07510011702415213
           ]
          }
         ],
         "name": "2024-10-26"
        },
        {
         "data": [
          {
           "coloraxis": "coloraxis",
           "geo": "geo",
           "hovertemplate": "animation_frame=2024-10-27<br>country=%{location}<br>streams_per_capita=%{z}<extra></extra>",
           "locationmode": "country names",
           "locations": [
            "Australia",
            "Brazil",
            "Egypt",
            "Finland",
            "Germany",
            "Greece",
            "India",
            "Japan",
            "Nigeria",
            "South Africa",
            "Spain",
            "Sweden",
            "Ukraine",
            "United Kingdom",
            "United States"
           ],
           "name": "",
           "type": "choropleth",
           "z": [
            0.6172715129151292,
            0.2863439514689021,
            0.037933050129425626,
            0.5178353070535188,
            0.24869942100026046,
            0.40338417475728156,
            0.04186546163662585,
            0.15771982339598184,
            0.02795990788454414,
            0.07049705777873878,
            0.3879282522447275,
            0.592338380952381,
            0.049546720465991144,
            0.32415147223822316,
            0.06506190267513498
           ]
          }
         ],
         "name": "2024-10-27"
        },
        {
         "data": [
          {
           "coloraxis": "coloraxis",
           "geo": "geo",
           "hovertemplate": "animation_frame=2024-10-28<br>country=%{location}<br>streams_per_capita=%{z}<extra></extra>",
           "locationmode": "country names",
           "locations": [
            "Australia",
            "Brazil",
            "Egypt",
            "Finland",
            "Germany",
            "Greece",
            "India",
            "Japan",
            "Nigeria",
            "South Africa",
            "Spain",
            "Sweden",
            "Ukraine",
            "United Kingdom",
            "United States"
           ],
           "name": "",
           "type": "choropleth",
           "z": [
            0.7147870110701107,
            0.2797431958724132,
            0.03835323811520838,
            0.6134719592812141,
            0.2940977370747613,
            0.3921096116504854,
            0.04070725167361457,
            0.15057788399222294,
            0.029586053012697452,
            0.06904279734968416,
            0.4416615786176655,
            0.6622553333333333,
            0.053677325405011835,
            0.420382936204004,
            0.08437695344320954
           ]
          }
         ],
         "name": "2024-10-28"
        },
        {
         "data": [
          {
           "coloraxis": "coloraxis",
           "geo": "geo",
           "hovertemplate": "animation_frame=2024-10-29<br>country=%{location}<br>streams_per_capita=%{z}<extra></extra>",
           "locationmode": "country names",
           "locations": [
            "Australia",
            "Brazil",
            "Egypt",
            "Finland",
            "Germany",
            "Greece",
            "India",
            "Japan",
            "Nigeria",
            "South Africa",
            "Spain",
            "Sweden",
            "Ukraine",
            "United Kingdom",
            "United States"
           ],
           "name": "",
           "type": "choropleth",
           "z": [
            0.7244265682656826,
            0.2925544283217112,
            0.037332612978700865,
            0.5938547619786563,
            0.2883003793000861,
            0.39889699029126213,
            0.04124356158276634,
            0.1461679115359689,
            0.030766671718702638,
            0.06766554434954515,
            0.44456404259761956,
            0.6443585714285714,
            0.052667465566409805,
            0.39799690644761665,
            0.07988375253551055
           ]
          }
         ],
         "name": "2024-10-29"
        },
        {
         "data": [
          {
           "coloraxis": "coloraxis",
           "geo": "geo",
           "hovertemplate": "animation_frame=2024-10-30<br>country=%{location}<br>streams_per_capita=%{z}<extra></extra>",
           "locationmode": "country names",
           "locations": [
            "Australia",
            "Brazil",
            "Egypt",
            "Finland",
            "Germany",
            "Greece",
            "India",
            "Japan",
            "Nigeria",
            "South Africa",
            "Spain",
            "Sweden",
            "Ukraine",
            "United Kingdom",
            "United States"
           ],
           "name": "",
           "type": "choropleth",
           "z": [
            0.6942349077490775,
            0.29019827359359435,
            0.03975056332938893,
            0.5793277676049782,
            0.29673527808673417,
            0.40302922330097085,
            0.04244016542852169,
            0.14811620220349966,
            0.030538925937152673,
            0.0670865677174232,
            0.4393256838588432,
            0.6401972380952381,
            0.052175141071536923,
            0.38584534326995173,
            0.07744475753309094
           ]
          }
         ],
         "name": "2024-10-30"
        },
        {
         "data": [
          {
           "coloraxis": "coloraxis",
           "geo": "geo",
           "hovertemplate": "animation_frame=2024-10-31<br>country=%{location}<br>streams_per_capita=%{z}<extra></extra>",
           "locationmode": "country names",
           "locations": [
            "Australia",
            "Brazil",
            "Egypt",
            "Finland",
            "Germany",
            "Greece",
            "India",
            "Japan",
            "Nigeria",
            "South Africa",
            "Spain",
            "Sweden",
            "Ukraine",
            "United Kingdom",
            "United States"
           ],
           "name": "",
           "type": "choropleth",
           "z": [
            0.6717409963099631,
            0.30741583181399545,
            0.044185990059774534,
            0.6081716005976582,
            0.3330538782867115,
            0.4149922330097087,
            0.03740306235515518,
            0.14648362767336356,
            0.032730764373042336,
            0.07508130106414197,
            0.5492167467112132,
            0.6546678095238095,
            0.05244187245919544,
            0.42005502392880684,
            0.0843111366928257
           ]
          }
         ],
         "name": "2024-10-31"
        },
        {
         "data": [
          {
           "coloraxis": "coloraxis",
           "geo": "geo",
           "hovertemplate": "animation_frame=2024-11-01<br>country=%{location}<br>streams_per_capita=%{z}<extra></extra>",
           "locationmode": "country names",
           "locations": [
            "Australia",
            "Brazil",
            "Egypt",
            "Finland",
            "Germany",
            "Greece",
            "India",
            "Japan",
            "Nigeria",
            "South Africa",
            "Spain",
            "Sweden",
            "Ukraine",
            "United Kingdom",
            "United States"
           ],
           "name": "",
           "type": "choropleth",
           "z": [
            0.6675835793357934,
            0.3468619673702611,
            0.041446742810915815,
            0.9538200020394862,
            0.28111121571227204,
            0.4398964077669903,
            0.03364715918912527,
            0.1406723023331173,
            0.03606518389410933,
            0.08989729253865043,
            0.4559220714136563,
            0.7428520952380953,
            0.05491735938353255,
            0.3816484909611864,
            0.0766023883944614
           ]
          }
         ],
         "name": "2024-11-01"
        },
        {
         "data": [
          {
           "coloraxis": "coloraxis",
           "geo": "geo",
           "hovertemplate": "animation_frame=2024-11-02<br>country=%{location}<br>streams_per_capita=%{z}<extra></extra>",
           "locationmode": "country names",
           "locations": [
            "Australia",
            "Brazil",
            "Egypt",
            "Finland",
            "Germany",
            "Greece",
            "India",
            "Japan",
            "Nigeria",
            "South Africa",
            "Spain",
            "Sweden",
            "Ukraine",
            "United Kingdom",
            "United States"
           ],
           "name": "",
           "type": "choropleth",
           "z": [
            0.631190110701107,
            0.34343213728549143,
            0.04151589292793614,
            0.7535804067444922,
            0.2815326243481008,
            0.44427135922330097,
            0.03640673326077654,
            0.150824967595593,
            0.03485358357751507,
            0.09619968492748698,
            0.4584351430361245,
            0.6614657142857143,
            0.051919725744797036,
            0.3551674177105354,
            0.07128725285405951
           ]
          }
         ],
         "name": "2024-11-02"
        },
        {
         "data": [
          {
           "coloraxis": "coloraxis",
           "geo": "geo",
           "hovertemplate": "animation_frame=2024-11-03<br>country=%{location}<br>streams_per_capita=%{z}<extra></extra>",
           "locationmode": "country names",
           "locations": [
            "Australia",
            "Brazil",
            "Egypt",
            "Finland",
            "Germany",
            "Greece",
            "India",
            "Japan",
            "Nigeria",
            "South Africa",
            "Spain",
            "Sweden",
            "Ukraine",
            "United Kingdom",
            "United States"
           ],
           "name": "",
           "type": "choropleth",
           "z": [
            0.6256810332103321,
            0.2749159680845065,
            0.041130629339048284,
            0.6135102661529526,
            0.23733747295419697,
            0.38810388349514563,
            0.038185869818652095,
            0.15564139662994167,
            0.030262756390825502,
            0.07198061686255734,
            0.387367884735853,
            0.5482276190476191,
            0.04830968994599842,
            0.32094009995633355,
            0.06441733367344192
           ]
          }
         ],
         "name": "2024-11-03"
        },
        {
         "data": [
          {
           "coloraxis": "coloraxis",
           "geo": "geo",
           "hovertemplate": "animation_frame=2024-11-04<br>country=%{location}<br>streams_per_capita=%{z}<extra></extra>",
           "locationmode": "country names",
           "locations": [
            "Australia",
            "Brazil",
            "Egypt",
            "Finland",
            "Germany",
            "Greece",
            "India",
            "Japan",
            "Nigeria",
            "South Africa",
            "Spain",
            "Sweden",
            "Ukraine",
            "United Kingdom",
            "United States"
           ],
           "name": "",
           "type": "choropleth",
           "z": [
            0.6259477121771218,
            0.27706093641336016,
            0.04199929227819885,
            0.6910614639077443,
            0.2665866264327995,
            0.4048109708737864,
            0.03794091907415107,
            0.1636224805573558,
            0.032004193189855513,
            0.0591974763309497,
            0.4375079139695135,
            0.6082464761904762,
            0.04947315090103756,
            0.3534682798671282,
            0.07094621124090233
           ]
          }
         ],
         "name": "2024-11-04"
        },
        {
         "data": [
          {
           "coloraxis": "coloraxis",
           "geo": "geo",
           "hovertemplate": "animation_frame=2024-11-05<br>country=%{location}<br>streams_per_capita=%{z}<extra></extra>",
           "locationmode": "country names",
           "locations": [
            "Australia",
            "Brazil",
            "Egypt",
            "Finland",
            "Germany",
            "Greece",
            "India",
            "Japan",
            "Nigeria",
            "South Africa",
            "Spain",
            "Sweden",
            "Ukraine",
            "United Kingdom",
            "United States"
           ],
           "name": "",
           "type": "choropleth",
           "z": [
            0.6261687084870848,
            0.29143719809033325,
            0.041947599638836985,
            0.667071253441633,
            0.2644328598060321,
            0.401728932038835,
            0.03840348396464583,
            0.14687416558651978,
            0.031600771277491495,
            0.06079722612630701,
            0.4506419920651493,
            0.6000935238095239,
            0.05051735331593957,
            0.35471896086921817,
            0.07119724106061519
           ]
          }
         ],
         "name": "2024-11-05"
        },
        {
         "data": [
          {
           "coloraxis": "coloraxis",
           "geo": "geo",
           "hovertemplate": "animation_frame=2024-11-06<br>country=%{location}<br>streams_per_capita=%{z}<extra></extra>",
           "locationmode": "country names",
           "locations": [
            "Australia",
            "Brazil",
            "Egypt",
            "Finland",
            "Germany",
            "Greece",
            "India",
            "Japan",
            "Nigeria",
            "South Africa",
            "Spain",
            "Sweden",
            "Ukraine",
            "United Kingdom",
            "United States"
           ],
           "name": "",
           "type": "choropleth",
           "z": [
            0.6278404059040591,
            0.2972688993101893,
            0.04290656182965091,
            0.6563659015637539,
            0.2615725326830157,
            0.39470961165048546,
            0.038820079728986594,
            0.14877739792611797,
            0.0313230987504631,
            0.06273972539268229,
            0.45122038003758613,
            0.5982142857142857,
            0.05068845943814089,
            0.34835891295667165,
            0.06992068718461986
           ]
          }
         ],
         "name": "2024-11-06"
        },
        {
         "data": [
          {
           "coloraxis": "coloraxis",
           "geo": "geo",
           "hovertemplate": "animation_frame=2024-11-07<br>country=%{location}<br>streams_per_capita=%{z}<extra></extra>",
           "locationmode": "country names",
           "locations": [
            "Australia",
            "Brazil",
            "Egypt",
            "Finland",
            "Germany",
            "Greece",
            "India",
            "Japan",
            "Nigeria",
            "South Africa",
            "Spain",
            "Sweden",
            "Ukraine",
            "United Kingdom",
            "United States"
           ],
           "name": "",
           "type": "choropleth",
           "z": [
            0.6430169372693727,
            0.30218103772343663,
            0.04549198689029346,
            0.6569619635818699,
            0.26939729792461964,
            0.39837893203883495,
            0.038743679009695,
            0.149199708360337,
            0.03157758243238692,
            0.06300548287951566,
            0.46558039256629774,
            0.6245696190476191,
            0.05170993871731084,
            0.3558881655222062,
            0.07143191739515337
           ]
          }
         ],
         "name": "2024-11-07"
        },
        {
         "data": [
          {
           "coloraxis": "coloraxis",
           "geo": "geo",
           "hovertemplate": "animation_frame=2024-11-08<br>country=%{location}<br>streams_per_capita=%{z}<extra></extra>",
           "locationmode": "country names",
           "locations": [
            "Australia",
            "Brazil",
            "Egypt",
            "Finland",
            "Germany",
            "Greece",
            "India",
            "Japan",
            "Nigeria",
            "South Africa",
            "Spain",
            "Sweden",
            "Ukraine",
            "United Kingdom",
            "United States"
           ],
           "name": "",
           "type": "choropleth",
           "z": [
            0.6425259409594096,
            0.3331091667763096,
            0.042080433199235545,
            0.828691846932125,
            0.3431466336653594,
            0.4445865048543689,
            0.038565731942814804,
            0.14415488496435516,
            0.03336119531171062,
            0.08041476825181089,
            0.5117314888285655,
            0.7474250476190476,
            0.05484612584187853,
            0.3752201798722978,
            0.07531213310873684
           ]
          }
         ],
         "name": "2024-11-08"
        },
        {
         "data": [
          {
           "coloraxis": "coloraxis",
           "geo": "geo",
           "hovertemplate": "animation_frame=2024-11-09<br>country=%{location}<br>streams_per_capita=%{z}<extra></extra>",
           "locationmode": "country names",
           "locations": [
            "Australia",
            "Brazil",
            "Egypt",
            "Finland",
            "Germany",
            "Greece",
            "India",
            "Japan",
            "Nigeria",
            "South Africa",
            "Spain",
            "Sweden",
            "Ukraine",
            "United Kingdom",
            "United States"
           ],
           "name": "",
           "type": "choropleth",
           "z": [
            0.6258377859778598,
            0.35183994323628365,
            0.042332381707248595,
            0.6974241288955295,
            0.3103293119811965,
            0.4365400970873786,
            0.040909658272691996,
            0.15536403920933248,
            0.03398782038328113,
            0.08732251687336864,
            0.48064474838170806,
            0.681558,
            0.05389912626661004,
            0.3622421927983843,
            0.07270726284209318
           ]
          }
         ],
         "name": "2024-11-09"
        },
        {
         "data": [
          {
           "coloraxis": "coloraxis",
           "geo": "geo",
           "hovertemplate": "animation_frame=2024-11-10<br>country=%{location}<br>streams_per_capita=%{z}<extra></extra>",
           "locationmode": "country names",
           "locations": [
            "Australia",
            "Brazil",
            "Egypt",
            "Finland",
            "Germany",
            "Greece",
            "India",
            "Japan",
            "Nigeria",
            "South Africa",
            "Spain",
            "Sweden",
            "Ukraine",
            "United Kingdom",
            "United States"
           ],
           "name": "",
           "type": "choropleth",
           "z": [
            0.6178560885608856,
            0.3040754186793978,
            0.04120313121624642,
            0.5787059903257414,
            0.26339765538771737,
            0.37538844660194176,
            0.040564103015929685,
            0.15985858716785484,
            0.030069095011956485,
            0.06741710040619643,
            0.40116423052829403,
            0.5571804761904762,
            0.050840058248892664,
            0.32968464214326215,
            0.06617249014018918
           ]
          }
         ],
         "name": "2024-11-10"
        },
        {
         "data": [
          {
           "coloraxis": "coloraxis",
           "geo": "geo",
           "hovertemplate": "animation_frame=2024-11-11<br>country=%{location}<br>streams_per_capita=%{z}<extra></extra>",
           "locationmode": "country names",
           "locations": [
            "Australia",
            "Brazil",
            "Egypt",
            "Finland",
            "Germany",
            "Greece",
            "India",
            "Japan",
            "Nigeria",
            "South Africa",
            "Spain",
            "Sweden",
            "Ukraine",
            "United Kingdom",
            "United States"
           ],
           "name": "",
           "type": "choropleth",
           "z": [
            0.6155712546125461,
            0.28850442644211793,
            0.04187353045969655,
            0.6395513130301002,
            0.27911341731537936,
            0.38772330097087376,
            0.03909889942183438,
            0.14828679520414775,
            0.03200793169647368,
            0.05854248073269804,
            0.4542625182710378,
            0.6018067619047619,
            0.05232846914628967,
            0.35527700501144,
            0.07130924861504327
           ]
          }
         ],
         "name": "2024-11-11"
        },
        {
         "data": [
          {
           "coloraxis": "coloraxis",
           "geo": "geo",
           "hovertemplate": "animation_frame=2024-11-12<br>country=%{location}<br>streams_per_capita=%{z}<extra></extra>",
           "locationmode": "country names",
           "locations": [
            "Australia",
            "Brazil",
            "Egypt",
            "Finland",
            "Germany",
            "Greece",
            "India",
            "Japan",
            "Nigeria",
            "South Africa",
            "Spain",
            "Sweden",
            "Ukraine",
            "United Kingdom",
            "United States"
           ],
           "name": "",
           "type": "choropleth",
           "z": [
            0.6215874907749077,
            0.2978638563614834,
            0.0424587477867407,
            0.6264255343675598,
            0.27849530105015974,
            0.38473533980582525,
            0.03945093340569489,
            0.14898353856124433,
            0.03249239668586441,
            0.059839081347398335,
            0.45644019628314886,
            0.6046502857142857,
            0.05156929191189855,
            0.3595219345186506,
            0.07216126754481687
           ]
          }
         ],
         "name": "2024-11-12"
        },
        {
         "data": [
          {
           "coloraxis": "coloraxis",
           "geo": "geo",
           "hovertemplate": "animation_frame=2024-11-13<br>country=%{location}<br>streams_per_capita=%{z}<extra></extra>",
           "locationmode": "country names",
           "locations": [
            "Australia",
            "Brazil",
            "Egypt",
            "Finland",
            "Germany",
            "Greece",
            "India",
            "Japan",
            "Nigeria",
            "South Africa",
            "Spain",
            "Sweden",
            "Ukraine",
            "United Kingdom",
            "United States"
           ],
           "name": "",
           "type": "choropleth",
           "z": [
            0.6294454612546125,
            0.29867710467454844,
            0.043269637710319525,
            0.6228605124430828,
            0.28223774867280393,
            0.3893157281553398,
            0.039923224636489445,
            0.15102824044069993,
            0.0321091955474723,
            0.0631544473103001,
            0.4289820839423679,
            0.6092245714285714,
            0.05224792184940234,
            0.36315539589133905,
            0.07289055594993009
           ]
          }
         ],
         "name": "2024-11-13"
        },
        {
         "data": [
          {
           "coloraxis": "coloraxis",
           "geo": "geo",
           "hovertemplate": "animation_frame=2024-11-14<br>country=%{location}<br>streams_per_capita=%{z}<extra></extra>",
           "locationmode": "country names",
           "locations": [
            "Australia",
            "Brazil",
            "Egypt",
            "Finland",
            "Germany",
            "Greece",
            "India",
            "Japan",
            "Nigeria",
            "South Africa",
            "Spain",
            "Sweden",
            "Ukraine",
            "United Kingdom",
            "United States"
           ],
           "name": "",
           "type": "choropleth",
           "z": [
            0.6394911439114391,
            0.3336359462812247,
            0.046557355664780135,
            0.6426030938119328,
            0.2952858339222235,
            0.4089047572815534,
            0.04065735158804339,
            0.15022403596889178,
            0.03403910696844162,
            0.064644879299427,
            0.4553565880141992,
            0.6193711428571429,
            0.05245928645106486,
            0.3661220754484177,
            0.0734860115721989
           ]
          }
         ],
         "name": "2024-11-14"
        },
        {
         "data": [
          {
           "coloraxis": "coloraxis",
           "geo": "geo",
           "hovertemplate": "animation_frame=2024-11-15<br>country=%{location}<br>streams_per_capita=%{z}<extra></extra>",
           "locationmode": "country names",
           "locations": [
            "Australia",
            "Brazil",
            "Egypt",
            "Finland",
            "Germany",
            "Greece",
            "India",
            "Japan",
            "Nigeria",
            "South Africa",
            "Spain",
            "Sweden",
            "Ukraine",
            "United Kingdom",
            "United States"
           ],
           "name": "",
           "type": "choropleth",
           "z": [
            0.64233073800738,
            0.3757077279476721,
            0.04276565572009173,
            0.8820125295392978,
            0.4060553875354528,
            0.46707252427184465,
            0.040588659481543825,
            0.14574090246273494,
            0.04378740190630157,
            0.08288573987983999,
            0.5631312173731468,
            0.7627134285714285,
            0.05654935986893999,
            0.40180023472864485,
            0.08064713569324611
           ]
          }
         ],
         "name": "2024-11-15"
        },
        {
         "data": [
          {
           "coloraxis": "coloraxis",
           "geo": "geo",
           "hovertemplate": "animation_frame=2024-11-16<br>country=%{location}<br>streams_per_capita=%{z}<extra></extra>",
           "locationmode": "country names",
           "locations": [
            "Australia",
            "Brazil",
            "Egypt",
            "Finland",
            "Germany",
            "Greece",
            "India",
            "Japan",
            "Nigeria",
            "South Africa",
            "Spain",
            "Sweden",
            "Ukraine",
            "United Kingdom",
            "United States"
           ],
           "name": "",
           "type": "choropleth",
           "z": [
            0.5871973062730628,
            0.33210316617483976,
            0.04398457287703358,
            0.6866114823074569,
            0.3449113892927523,
            0.4279885436893204,
            0.041232789599011915,
            0.15736572423849643,
            0.03832144841871274,
            0.09345234528240691,
            0.5016671747755272,
            0.6782628571428572,
            0.054268642679449065,
            0.37748193226801663,
            0.07576609962392629
           ]
          }
         ],
         "name": "2024-11-16"
        },
        {
         "data": [
          {
           "coloraxis": "coloraxis",
           "geo": "geo",
           "hovertemplate": "animation_frame=2024-11-17<br>country=%{location}<br>streams_per_capita=%{z}<extra></extra>",
           "locationmode": "country names",
           "locations": [
            "Australia",
            "Brazil",
            "Egypt",
            "Finland",
            "Germany",
            "Greece",
            "India",
            "Japan",
            "Nigeria",
            "South Africa",
            "Spain",
            "Sweden",
            "Ukraine",
            "United Kingdom",
            "United States"
           ],
           "name": "",
           "type": "choropleth",
           "z": [
            0.5986751660516605,
            0.3163902270548653,
            0.043082090205610095,
            0.5679965594754087,
            0.2830899489318941,
            0.37578106796116506,
            0.040972010521243815,
            0.16290977802981205,
            0.036185106597958976,
            0.07263312585911316,
            0.40943819168928797,
            0.5783239047619048,
            0.04870141374916571,
            0.34906442606804294,
            0.07006229390036643
           ]
          }
         ],
         "name": "2024-11-17"
        },
        {
         "data": [
          {
           "coloraxis": "coloraxis",
           "geo": "geo",
           "hovertemplate": "animation_frame=2024-11-18<br>country=%{location}<br>streams_per_capita=%{z}<extra></extra>",
           "locationmode": "country names",
           "locations": [
            "Australia",
            "Brazil",
            "Egypt",
            "Finland",
            "Germany",
            "Greece",
            "India",
            "Japan",
            "Nigeria",
            "South Africa",
            "Spain",
            "Sweden",
            "Ukraine",
            "United Kingdom",
            "United States"
           ],
           "name": "",
           "type": "choropleth",
           "z": [
            0.6048595571955719,
            0.2973178251226435,
            0.042980073955691374,
            0.6396146257764457,
            0.302673069502397,
            0.38963388349514566,
            0.03927462183242321,
            0.15071034510693454,
            0.03603836600316594,
            0.06081328864657822,
            0.4584328043432867,
            0.6120386666666666,
            0.04912572052666707,
            0.36056564332792124,
            0.0723707550430567
           ]
          }
         ],
         "name": "2024-11-18"
        },
        {
         "data": [
          {
           "coloraxis": "coloraxis",
           "geo": "geo",
           "hovertemplate": "animation_frame=2024-11-19<br>country=%{location}<br>streams_per_capita=%{z}<extra></extra>",
           "locationmode": "country names",
           "locations": [
            "Australia",
            "Brazil",
            "Egypt",
            "Finland",
            "Germany",
            "Greece",
            "India",
            "Japan",
            "Nigeria",
            "South Africa",
            "Spain",
            "Sweden",
            "Ukraine",
            "United Kingdom",
            "United States"
           ],
           "name": "",
           "type": "choropleth",
           "z": [
            0.60905,
            0.3104966684209537,
            0.043369539046773944,
            0.6236248764115683,
            0.3011150866733118,
            0.4011274757281553,
            0.04002855894951851,
            0.1501896143875567,
            0.03688275066518473,
            0.06188031877924846,
            0.4585419503027772,
            0.6169559047619048,
            0.050166980158970934,
            0.37246302139058857,
            0.07475873140564339
           ]
          }
         ],
         "name": "2024-11-19"
        },
        {
         "data": [
          {
           "coloraxis": "coloraxis",
           "geo": "geo",
           "hovertemplate": "animation_frame=2024-11-20<br>country=%{location}<br>streams_per_capita=%{z}<extra></extra>",
           "locationmode": "country names",
           "locations": [
            "Australia",
            "Brazil",
            "Egypt",
            "Finland",
            "Germany",
            "Greece",
            "India",
            "Japan",
            "Nigeria",
            "South Africa",
            "Spain",
            "Sweden",
            "Ukraine",
            "United Kingdom",
            "United States"
           ],
           "name": "",
           "type": "choropleth",
           "z": [
            0.6151065313653137,
            0.31621168919045917,
            0.04481514849067076,
            0.6028552807175445,
            0.3080095837642147,
            0.3961476699029126,
            0.04007353399254601,
            0.15045317563188593,
            0.036580963086457176,
            0.06323831219979303,
            0.4582393401545208,
            0.6344651428571428,
            0.05148203992476185,
            0.37345856510891223,
            0.07495855147143908
           ]
          }
         ],
         "name": "2024-11-20"
        },
        {
         "data": [
          {
           "coloraxis": "coloraxis",
           "geo": "geo",
           "hovertemplate": "animation_frame=2024-11-21<br>country=%{location}<br>streams_per_capita=%{z}<extra></extra>",
           "locationmode": "country names",
           "locations": [
            "Australia",
            "Brazil",
            "Egypt",
            "Finland",
            "Germany",
            "Greece",
            "India",
            "Japan",
            "Nigeria",
            "South Africa",
            "Spain",
            "Sweden",
            "Ukraine",
            "United Kingdom",
            "United States"
           ],
           "name": "",
           "type": "choropleth",
           "z": [
            0.6255321402214022,
            0.295101798770746,
            0.04805572464634894,
            0.6119201762825487,
            0.3141260827925609,
            0.43666922330097085,
            0.04022245878192434,
            0.15293310920285158,
            0.04169254572092553,
            0.06541089162432236,
            0.4675125078304448,
            0.6530575238095239,
            0.051743977913961535,
            0.37700505685114066,
            0.07567038381012259
           ]
          }
         ],
         "name": "2024-11-21"
        },
        {
         "data": [
          {
           "coloraxis": "coloraxis",
           "geo": "geo",
           "hovertemplate": "animation_frame=2024-11-22<br>country=%{location}<br>streams_per_capita=%{z}<extra></extra>",
           "locationmode": "country names",
           "locations": [
            "Australia",
            "Brazil",
            "Egypt",
            "Finland",
            "Germany",
            "Greece",
            "India",
            "Japan",
            "Nigeria",
            "South Africa",
            "Spain",
            "Sweden",
            "Ukraine",
            "United Kingdom",
            "United States"
           ],
           "name": "",
           "type": "choropleth",
           "z": [
            0.6272885608856088,
            0.3296783827979625,
            0.0432558246817558,
            0.8129007257910768,
            0.37856175031396505,
            0.7474839805825243,
            0.04031960531484522,
            0.14510635936487362,
            0.0889954279074467,
            0.0851344772730783,
            0.7237866360409271,
            0.7610953333333333,
            0.05608603846853953,
            0.4162756024082487,
            0.08355255196871204
           ]
          }
         ],
         "name": "2024-11-22"
        },
        {
         "data": [
          {
           "coloraxis": "coloraxis",
           "geo": "geo",
           "hovertemplate": "animation_frame=2024-11-23<br>country=%{location}<br>streams_per_capita=%{z}<extra></extra>",
           "locationmode": "country names",
           "locations": [
            "Australia",
            "Brazil",
            "Egypt",
            "Finland",
            "Germany",
            "Greece",
            "India",
            "Japan",
            "Nigeria",
            "South Africa",
            "Spain",
            "Sweden",
            "Ukraine",
            "United Kingdom",
            "United States"
           ],
           "name": "",
           "type": "choropleth",
           "z": [
            0.6526894095940959,
            0.3519707112380881,
            0.04279544389857332,
            0.6852781903550036,
            0.36733370132835574,
            0.6325644660194175,
            0.04008543892857737,
            0.1590570074530136,
            0.058076458354383485,
            0.10463020680494849,
            0.5771619753602004,
            0.7819910476190476,
            0.05545937746495965,
            0.4386451669693123,
            0.08804244807286261
           ]
          }
         ],
         "name": "2024-11-23"
        },
        {
         "data": [
          {
           "coloraxis": "coloraxis",
           "geo": "geo",
           "hovertemplate": "animation_frame=2024-11-24<br>country=%{location}<br>streams_per_capita=%{z}<extra></extra>",
           "locationmode": "country names",
           "locations": [
            "Australia",
            "Brazil",
            "Egypt",
            "Finland",
            "Germany",
            "Greece",
            "India",
            "Japan",
            "Nigeria",
            "South Africa",
            "Spain",
            "Sweden",
            "Ukraine",
            "United Kingdom",
            "United States"
           ],
           "name": "",
           "type": "choropleth",
           "z": [
            0.6391016605166051,
            0.3095841024002406,
            0.04150385491602996,
            0.5556975707945573,
            0.31207374578121616,
            0.5243989320388349,
            0.03949170043847536,
            0.16606460628645495,
            0.047826849887171195,
            0.07731678687815652,
            0.47306957611192313,
            0.6895378095238095,
            0.052874249135368,
            0.4021303736138858,
            0.08071339935656534
           ]
          }
         ],
         "name": "2024-11-24"
        },
        {
         "data": [
          {
           "coloraxis": "coloraxis",
           "geo": "geo",
           "hovertemplate": "animation_frame=2024-11-25<br>country=%{location}<br>streams_per_capita=%{z}<extra></extra>",
           "locationmode": "country names",
           "locations": [
            "Australia",
            "Brazil",
            "Egypt",
            "Finland",
            "Germany",
            "Greece",
            "India",
            "Japan",
            "Nigeria",
            "South Africa",
            "Spain",
            "Sweden",
            "Ukraine",
            "United Kingdom",
            "United States"
           ],
           "name": "",
           "type": "choropleth",
           "z": [
            0.6384032472324723,
            0.2964253425558709,
            0.03935187381663392,
            0.6124621475789969,
            0.3179982526100802,
            0.5498143689320388,
            0.03604913832365868,
            0.15199930330524952,
            0.04798467128085952,
            0.0697658733223161,
            0.5434624765086656,
            0.6592233333333334,
            0.05575841878526788,
            0.4102798835641154,
            0.08234912422176728
           ]
          }
         ],
         "name": "2024-11-25"
        },
        {
         "data": [
          {
           "coloraxis": "coloraxis",
           "geo": "geo",
           "hovertemplate": "animation_frame=2024-11-26<br>country=%{location}<br>streams_per_capita=%{z}<extra></extra>",
           "locationmode": "country names",
           "locations": [
            "Australia",
            "Brazil",
            "Egypt",
            "Finland",
            "Germany",
            "Greece",
            "India",
            "Japan",
            "Nigeria",
            "South Africa",
            "Spain",
            "Sweden",
            "Ukraine",
            "United Kingdom",
            "United States"
           ],
           "name": "",
           "type": "choropleth",
           "z": [
            0.6283993726937269,
            0.30769957521192415,
            0.03817516995477645,
            0.6129179284140335,
            0.3147391006487929,
            0.5398418446601941,
            0.03564243114278358,
            0.14956126053143226,
            0.04747288740695834,
            0.06816118121302918,
            0.5310145124243058,
            0.6537508571428572,
            0.05494797039014623,
            0.4086398827256209,
            0.08201995226334763
           ]
          }
         ],
         "name": "2024-11-26"
        },
        {
         "data": [
          {
           "coloraxis": "coloraxis",
           "geo": "geo",
           "hovertemplate": "animation_frame=2024-11-27<br>country=%{location}<br>streams_per_capita=%{z}<extra></extra>",
           "locationmode": "country names",
           "locations": [
            "Australia",
            "Brazil",
            "Egypt",
            "Finland",
            "Germany",
            "Greece",
            "India",
            "Japan",
            "Nigeria",
            "South Africa",
            "Spain",
            "Sweden",
            "Ukraine",
            "United Kingdom",
            "United States"
           ],
           "name": "",
           "type": "choropleth",
           "z": [
            0.624790295202952,
            0.3072905475255155,
            0.03872846530671877,
            0.6056545199005086,
            0.31708319590966855,
            0.5276612621359223,
            0.03666376012159834,
            0.15334711600777706,
            0.04528968795257822,
            0.06668824810415927,
            0.5177212988097724,
            0.6612886666666666,
            0.05534345610096475,
            0.4056334464602606,
            0.08141651689300905
           ]
          }
         ],
         "name": "2024-11-27"
        },
        {
         "data": [
          {
           "coloraxis": "coloraxis",
           "geo": "geo",
           "hovertemplate": "animation_frame=2024-11-28<br>country=%{location}<br>streams_per_capita=%{z}<extra></extra>",
           "locationmode": "country names",
           "locations": [
            "Australia",
            "Brazil",
            "Egypt",
            "Finland",
            "Germany",
            "Greece",
            "India",
            "Japan",
            "Nigeria",
            "South Africa",
            "Spain",
            "Sweden",
            "Ukraine",
            "United Kingdom",
            "United States"
           ],
           "name": "",
           "type": "choropleth",
           "z": [
            0.6442321402214022,
            0.3242773950717065,
            0.0428274319647209,
            0.6110676710397389,
            0.3323139746744073,
            0.569438640776699,
            0.037455483397036735,
            0.15538674659753726,
            0.04582332609208178,
            0.07313310269201662,
            0.5419977030695343,
            0.6865266666666666,
            0.05115472362113949,
            0.4224165196652368,
            0.08478512314338989
           ]
          }
         ],
         "name": "2024-11-28"
        },
        {
         "data": [
          {
           "coloraxis": "coloraxis",
           "geo": "geo",
           "hovertemplate": "animation_frame=2024-11-29<br>country=%{location}<br>streams_per_capita=%{z}<extra></extra>",
           "locationmode": "country names",
           "locations": [
            "Australia",
            "Brazil",
            "Egypt",
            "Finland",
            "Germany",
            "Greece",
            "India",
            "Japan",
            "Nigeria",
            "South Africa",
            "Spain",
            "Sweden",
            "Ukraine",
            "United Kingdom",
            "United States"
           ],
           "name": "",
           "type": "choropleth",
           "z": [
            0.6419488191881919,
            0.34766627821739376,
            0.04044898517624107,
            0.7796851210612422,
            0.41007839126957063,
            0.7242542718446602,
            0.037924651446888266,
            0.14901155217109527,
            0.047711608736654205,
            0.0898416915069424,
            0.5700749425767384,
            0.8696437142857143,
            0.056706055457799893,
            0.45538171574337377,
            0.09140171619506747
           ]
          }
         ],
         "name": "2024-11-29"
        },
        {
         "data": [
          {
           "coloraxis": "coloraxis",
           "geo": "geo",
           "hovertemplate": "animation_frame=2024-11-30<br>country=%{location}<br>streams_per_capita=%{z}<extra></extra>",
           "locationmode": "country names",
           "locations": [
            "Australia",
            "Brazil",
            "Egypt",
            "Finland",
            "Germany",
            "Greece",
            "India",
            "Japan",
            "Nigeria",
            "South Africa",
            "Spain",
            "Sweden",
            "Ukraine",
            "United Kingdom",
            "United States"
           ],
           "name": "",
           "type": "choropleth",
           "z": [
            0.6323508487084871,
            0.3798544020074056,
            0.042550019520934526,
            0.6672752020643148,
            0.42757856043861064,
            0.6487543689320389,
            0.03904111816823968,
            0.1593675388852884,
            0.04534699067057357,
            0.10032855576320139,
            0.5173896220505325,
            1.0014117142857142,
            0.05630444147806565,
            0.492125322578299,
            0.09877669109590778
           ]
          }
         ],
         "name": "2024-11-30"
        },
        {
         "data": [
          {
           "coloraxis": "coloraxis",
           "geo": "geo",
           "hovertemplate": "animation_frame=2024-12-01<br>country=%{location}<br>streams_per_capita=%{z}<extra></extra>",
           "locationmode": "country names",
           "locations": [
            "Australia",
            "Brazil",
            "Egypt",
            "Finland",
            "Germany",
            "Greece",
            "India",
            "Japan",
            "Nigeria",
            "South Africa",
            "Spain",
            "Sweden",
            "Ukraine",
            "United Kingdom",
            "United States"
           ],
           "name": "",
           "type": "choropleth",
           "z": [
            0.6664027675276752,
            0.33362431629795314,
            0.04041466504033598,
            0.5696425135337646,
            0.48236471102469186,
            0.5822816504854369,
            0.039004935879837166,
            0.16568839922229422,
            0.03948055387154357,
            0.07669048759015862,
            0.4298875756942994,
            1.145186,
            0.05286308476427401,
            0.5594105922974615,
            0.11228182078022131
           ]
          }
         ],
         "name": "2024-12-01"
        },
        {
         "data": [
          {
           "coloraxis": "coloraxis",
           "geo": "geo",
           "hovertemplate": "animation_frame=2024-12-02<br>country=%{location}<br>streams_per_capita=%{z}<extra></extra>",
           "locationmode": "country names",
           "locations": [
            "Australia",
            "Brazil",
            "Egypt",
            "Finland",
            "Germany",
            "Greece",
            "India",
            "Japan",
            "Nigeria",
            "South Africa",
            "Spain",
            "Sweden",
            "Ukraine",
            "United Kingdom",
            "United States"
           ],
           "name": "",
           "type": "choropleth",
           "z": [
            0.6238176014760147,
            0.3019235945341428,
            0.04088376984155871,
            0.6185967448026354,
            0.34602534378416216,
            0.6268491262135922,
            0.037482272768594734,
            0.15075132858068696,
            0.042136859654440736,
            0.06858490740883748,
            0.48576920025057424,
            0.7460747619047619,
            0.05416015411686184,
            0.45943676814935114,
            0.09221562403623372
           ]
          }
         ],
         "name": "2024-12-02"
        },
        {
         "data": [
          {
           "coloraxis": "coloraxis",
           "geo": "geo",
           "hovertemplate": "animation_frame=2024-12-03<br>country=%{location}<br>streams_per_capita=%{z}<extra></extra>",
           "locationmode": "country names",
           "locations": [
            "Australia",
            "Brazil",
            "Egypt",
            "Finland",
            "Germany",
            "Greece",
            "India",
            "Japan",
            "Nigeria",
            "South Africa",
            "Spain",
            "Sweden",
            "Ukraine",
            "United Kingdom",
            "United States"
           ],
           "name": "",
           "type": "choropleth",
           "z": [
            0.6189440590405904,
            0.29981824803112606,
            0.04095949129684313,
            0.6111948285723153,
            0.34002523449150757,
            0.5973970873786407,
            0.03805311366070655,
            0.14969638690861958,
            0.04178166784547506,
            0.06872556257432777,
            0.4836596784297348,
            0.7478965714285715,
            0.05324170256659183,
            0.4548039983295151,
            0.09128575992963803
           ]
          }
         ],
         "name": "2024-12-03"
        },
        {
         "data": [
          {
           "coloraxis": "coloraxis",
           "geo": "geo",
           "hovertemplate": "animation_frame=2024-12-04<br>country=%{location}<br>streams_per_capita=%{z}<extra></extra>",
           "locationmode": "country names",
           "locations": [
            "Australia",
            "Brazil",
            "Egypt",
            "Finland",
            "Germany",
            "Greece",
            "India",
            "Japan",
            "Nigeria",
            "South Africa",
            "Spain",
            "Sweden",
            "Ukraine",
            "United Kingdom",
            "United States"
           ],
           "name": "",
           "type": "choropleth",
           "z": [
            0.6415216974169742,
            0.3078892919572205,
            0.041423752568569484,
            0.6443614856327062,
            0.35456915224636737,
            0.5993928155339806,
            0.038067433682507854,
            0.14944590084251458,
            0.041168813781954125,
            0.06932149752112067,
            0.4979672165378993,
            0.7576712380952381,
            0.05425492991930101,
            0.4631075691865237,
            0.09295240705366449
           ]
          }
         ],
         "name": "2024-12-04"
        },
        {
         "data": [
          {
           "coloraxis": "coloraxis",
           "geo": "geo",
           "hovertemplate": "animation_frame=2024-12-05<br>country=%{location}<br>streams_per_capita=%{z}<extra></extra>",
           "locationmode": "country names",
           "locations": [
            "Australia",
            "Brazil",
            "Egypt",
            "Finland",
            "Germany",
            "Greece",
            "India",
            "Japan",
            "Nigeria",
            "South Africa",
            "Spain",
            "Sweden",
            "Ukraine",
            "United Kingdom",
            "United States"
           ],
           "name": "",
           "type": "choropleth",
           "z": [
            0.6959113653136532,
            0.32162058530533993,
            0.04543597000822333,
            0.7376420879018564,
            0.372682650442141,
            0.6101403883495146,
            0.03761144582747027,
            0.15442894523655218,
            0.04356350409214914,
            0.07226819775433611,
            0.5553984547922322,
            0.7998478095238095,
            0.05629482434318306,
            0.4737662342760864,
            0.09509175575356595
           ]
          }
         ],
         "name": "2024-12-05"
        },
        {
         "data": [
          {
           "coloraxis": "coloraxis",
           "geo": "geo",
           "hovertemplate": "animation_frame=2024-12-06<br>country=%{location}<br>streams_per_capita=%{z}<extra></extra>",
           "locationmode": "country names",
           "locations": [
            "Australia",
            "Brazil",
            "Egypt",
            "Finland",
            "Germany",
            "Greece",
            "India",
            "Japan",
            "Nigeria",
            "South Africa",
            "Spain",
            "Sweden",
            "Ukraine",
            "United Kingdom",
            "United States"
           ],
           "name": "",
           "type": "choropleth",
           "z": [
            0.665250295202952,
            0.3595978328289758,
            0.04187352101811859,
            0.6814858100528937,
            0.4685452580380188,
            0.7005952427184466,
            0.03743957806701298,
            0.14669136422553467,
            0.05255333265972854,
            0.08589635041005761,
            0.5232636249738986,
            0.9359970476190476,
            0.059184303136945574,
            0.5131933310275224,
            0.10300534600781554
           ]
          }
         ],
         "name": "2024-12-06"
        },
        {
         "data": [
          {
           "coloraxis": "coloraxis",
           "geo": "geo",
           "hovertemplate": "animation_frame=2024-12-07<br>country=%{location}<br>streams_per_capita=%{z}<extra></extra>",
           "locationmode": "country names",
           "locations": [
            "Australia",
            "Brazil",
            "Egypt",
            "Finland",
            "Germany",
            "Greece",
            "India",
            "Japan",
            "Nigeria",
            "South Africa",
            "Spain",
            "Sweden",
            "Ukraine",
            "United Kingdom",
            "United States"
           ],
           "name": "",
           "type": "choropleth",
           "z": [
            0.6459752398523986,
            0.38191420126684583,
            0.04248806388632401,
            0.669292165269323,
            0.46889313469070215,
            0.6568819417475729,
            0.03820806688365068,
            0.15923540991574855,
            0.04595336970799232,
            0.09316765255533074,
            0.4830606807266653,
            1.0654526666666666,
            0.059069504277653055,
            0.5503205593349901,
            0.11045731930307409
           ]
          }
         ],
         "name": "2024-12-07"
        },
        {
         "data": [
          {
           "coloraxis": "coloraxis",
           "geo": "geo",
           "hovertemplate": "animation_frame=2024-12-08<br>country=%{location}<br>streams_per_capita=%{z}<extra></extra>",
           "locationmode": "country names",
           "locations": [
            "Australia",
            "Brazil",
            "Egypt",
            "Finland",
            "Germany",
            "Greece",
            "India",
            "Japan",
            "Nigeria",
            "South Africa",
            "Spain",
            "Sweden",
            "Ukraine",
            "United Kingdom",
            "United States"
           ],
           "name": "",
           "type": "choropleth",
           "z": [
            0.6328329151291513,
            0.311360891303122,
            0.04171162628074179,
            0.5624374520609895,
            0.43748408692007,
            0.5756102912621359,
            0.037932431556668644,
            0.1640274384316267,
            0.041049248930652385,
            0.07243841413501784,
            0.43258563374399667,
            0.9761155238095238,
            0.05467914568290759,
            0.5101255018497051,
            0.1023895881893707
           ]
          }
         ],
         "name": "2024-12-08"
        },
        {
         "data": [
          {
           "coloraxis": "coloraxis",
           "geo": "geo",
           "hovertemplate": "animation_frame=2024-12-09<br>country=%{location}<br>streams_per_capita=%{z}<extra></extra>",
           "locationmode": "country names",
           "locations": [
            "Australia",
            "Brazil",
            "Egypt",
            "Finland",
            "Germany",
            "Greece",
            "India",
            "Japan",
            "Nigeria",
            "South Africa",
            "Spain",
            "Sweden",
            "Ukraine",
            "United Kingdom",
            "United States"
           ],
           "name": "",
           "type": "choropleth",
           "z": [
            0.6225863837638377,
            0.2833611544461778,
            0.04212771662168746,
            0.6164833050317672,
            0.3402248024958938,
            0.5952387378640777,
            0.03672754299738821,
            0.1499347699287103,
            0.04155803526321107,
            0.06607382581432344,
            0.47288655251618295,
            0.7325932380952381,
            0.05625262423396639,
            0.44695588641646145,
            0.08971053002262896
           ]
          }
         ],
         "name": "2024-12-09"
        },
        {
         "data": [
          {
           "coloraxis": "coloraxis",
           "geo": "geo",
           "hovertemplate": "animation_frame=2024-12-10<br>country=%{location}<br>streams_per_capita=%{z}<extra></extra>",
           "locationmode": "country names",
           "locations": [
            "Australia",
            "Brazil",
            "Egypt",
            "Finland",
            "Germany",
            "Greece",
            "India",
            "Japan",
            "Nigeria",
            "South Africa",
            "Spain",
            "Sweden",
            "Ukraine",
            "United Kingdom",
            "United States"
           ],
           "name": "",
           "type": "choropleth",
           "z": [
            0.623270590405904,
            0.30213775538973364,
            0.04197180784474088,
            0.6092878202769267,
            0.34110467299343317,
            0.5900906796116505,
            0.0371307296390581,
            0.15003622812702527,
            0.04334770216563942,
            0.06644687784762228,
            0.47346477343913135,
            0.7132880952380952,
            0.0556660093440932,
            0.45273946205892374,
            0.09087137755161265
           ]
          }
         ],
         "name": "2024-12-10"
        },
        {
         "data": [
          {
           "coloraxis": "coloraxis",
           "geo": "geo",
           "hovertemplate": "animation_frame=2024-12-11<br>country=%{location}<br>streams_per_capita=%{z}<extra></extra>",
           "locationmode": "country names",
           "locations": [
            "Australia",
            "Brazil",
            "Egypt",
            "Finland",
            "Germany",
            "Greece",
            "India",
            "Japan",
            "Nigeria",
            "South Africa",
            "Spain",
            "Sweden",
            "Ukraine",
            "United Kingdom",
            "United States"
           ],
           "name": "",
           "type": "choropleth",
           "z": [
            0.6304218081180811,
            0.3151296402458508,
            0.0428115229058488,
            0.6156623674888161,
            0.3453150492418941,
            0.5801961165048544,
            0.03792633506346971,
            0.15165865197666883,
            0.041259582028224044,
            0.06760656092174155,
            0.47383257465024015,
            0.7245791428571429,
            0.0558911170438687,
            0.46314861498483073,
            0.0929606455408021
           ]
          }
         ],
         "name": "2024-12-11"
        },
        {
         "data": [
          {
           "coloraxis": "coloraxis",
           "geo": "geo",
           "hovertemplate": "animation_frame=2024-12-12<br>country=%{location}<br>streams_per_capita=%{z}<extra></extra>",
           "locationmode": "country names",
           "locations": [
            "Australia",
            "Brazil",
            "Egypt",
            "Finland",
            "Germany",
            "Greece",
            "India",
            "Japan",
            "Nigeria",
            "South Africa",
            "Spain",
            "Sweden",
            "Ukraine",
            "United Kingdom",
            "United States"
           ],
           "name": "",
           "type": "choropleth",
           "z": [
            0.6388121402214022,
            0.3292965246320696,
            0.045793720838919326,
            0.6210272803451166,
            0.3544154938590621,
            0.5670198058252427,
            0.03755861642778987,
            0.15195575178224238,
            0.04114613435047657,
            0.0699239346996772,
            0.4845760492795991,
            0.7430088571428571,
            0.05639572841453795,
            0.47725773460973364,
            0.0957925505188324
           ]
          }
         ],
         "name": "2024-12-12"
        },
        {
         "data": [
          {
           "coloraxis": "coloraxis",
           "geo": "geo",
           "hovertemplate": "animation_frame=2024-12-13<br>country=%{location}<br>streams_per_capita=%{z}<extra></extra>",
           "locationmode": "country names",
           "locations": [
            "Australia",
            "Brazil",
            "Egypt",
            "Finland",
            "Germany",
            "Greece",
            "India",
            "Japan",
            "Nigeria",
            "South Africa",
            "Spain",
            "Sweden",
            "Ukraine",
            "United Kingdom",
            "United States"
           ],
           "name": "",
           "type": "choropleth",
           "z": [
            0.6546255350553506,
            0.3499910014472868,
            0.04099077124464329,
            0.7653730708012078,
            0.4259965337042294,
            0.6121277669902913,
            0.037327843398584484,
            0.14572218081659105,
            0.042765370819440235,
            0.09429592104653498,
            0.529887032783462,
            0.9720022857142857,
            0.059361173472483465,
            0.5241736094296584,
            0.10520924716492841
           ]
          }
         ],
         "name": "2024-12-13"
        },
        {
         "data": [
          {
           "coloraxis": "coloraxis",
           "geo": "geo",
           "hovertemplate": "animation_frame=2024-12-14<br>country=%{location}<br>streams_per_capita=%{z}<extra></extra>",
           "locationmode": "country names",
           "locations": [
            "Australia",
            "Brazil",
            "Egypt",
            "Finland",
            "Germany",
            "Greece",
            "India",
            "Japan",
            "Nigeria",
            "South Africa",
            "Spain",
            "Sweden",
            "Ukraine",
            "United Kingdom",
            "United States"
           ],
           "name": "",
           "type": "choropleth",
           "z": [
            0.6433031734317343,
            0.36537999736856946,
            0.03963507394771324,
            0.6979396755443433,
            0.46455013996808203,
            0.5861212621359223,
            0.03830892576019743,
            0.15537802981205445,
            0.04207996109932303,
            0.09834605464345839,
            0.49533054917519315,
            1.0785315238095239,
            0.05768597172501669,
            0.5652142513765687,
            0.1134466993462734
           ]
          }
         ],
         "name": "2024-12-14"
        },
        {
         "data": [
          {
           "coloraxis": "coloraxis",
           "geo": "geo",
           "hovertemplate": "animation_frame=2024-12-15<br>country=%{location}<br>streams_per_capita=%{z}<extra></extra>",
           "locationmode": "country names",
           "locations": [
            "Australia",
            "Brazil",
            "Egypt",
            "Finland",
            "Germany",
            "Greece",
            "India",
            "Japan",
            "Nigeria",
            "South Africa",
            "Spain",
            "Sweden",
            "Ukraine",
            "United Kingdom",
            "United States"
           ],
           "name": "",
           "type": "choropleth",
           "z": [
            0.6139671586715867,
            0.31989759036144577,
            0.04047828239266845,
            0.5653938203567327,
            0.4467618508507605,
            0.5101736893203883,
            0.03692955567555867,
            0.16118679520414778,
            0.03710722946347378,
            0.08375984987721438,
            0.4080171225725621,
            0.9595529523809524,
            0.05371042412474971,
            0.5017210743469634,
            0.1007026976735018
           ]
          }
         ],
         "name": "2024-12-15"
        },
        {
         "data": [
          {
           "coloraxis": "coloraxis",
           "geo": "geo",
           "hovertemplate": "animation_frame=2024-12-16<br>country=%{location}<br>streams_per_capita=%{z}<extra></extra>",
           "locationmode": "country names",
           "locations": [
            "Australia",
            "Brazil",
            "Egypt",
            "Finland",
            "Germany",
            "Greece",
            "India",
            "Japan",
            "Nigeria",
            "South Africa",
            "Spain",
            "Sweden",
            "Ukraine",
            "United Kingdom",
            "United States"
           ],
           "name": "",
           "type": "choropleth",
           "z": [
            0.6068911808118082,
            0.2943173693212789,
            0.041433647342277474,
            0.6062466802927993,
            0.3416661681954593,
            0.5311233980582524,
            0.036094034994987416,
            0.14856096889176928,
            0.03975832322926139,
            0.09235042550233988,
            0.4637853205262059,
            0.7278353333333333,
            0.05586994114434804,
            0.4579851355908102,
            0.09192426032410338
           ]
          }
         ],
         "name": "2024-12-16"
        },
        {
         "data": [
          {
           "coloraxis": "coloraxis",
           "geo": "geo",
           "hovertemplate": "animation_frame=2024-12-17<br>country=%{location}<br>streams_per_capita=%{z}<extra></extra>",
           "locationmode": "country names",
           "locations": [
            "Australia",
            "Brazil",
            "Egypt",
            "Finland",
            "Germany",
            "Greece",
            "India",
            "Japan",
            "Nigeria",
            "South Africa",
            "Spain",
            "Sweden",
            "Ukraine",
            "United Kingdom",
            "United States"
           ],
           "name": "",
           "type": "choropleth",
           "z": [
            0.6240949446494465,
            0.31384529067909706,
            0.042211586158756226,
            0.6067840405769086,
            0.3491882124113993,
            0.5357648543689321,
            0.03690008997923483,
            0.15072021224886584,
            0.04143849988211916,
            0.07015769070381639,
            0.4759200668197954,
            0.749984,
            0.05645667738608094,
            0.4764545143339413,
            0.09563133255782963
           ]
          }
         ],
         "name": "2024-12-17"
        },
        {
         "data": [
          {
           "coloraxis": "coloraxis",
           "geo": "geo",
           "hovertemplate": "animation_frame=2024-12-18<br>country=%{location}<br>streams_per_capita=%{z}<extra></extra>",
           "locationmode": "country names",
           "locations": [
            "Australia",
            "Brazil",
            "Egypt",
            "Finland",
            "Germany",
            "Greece",
            "India",
            "Japan",
            "Nigeria",
            "South Africa",
            "Spain",
            "Sweden",
            "Ukraine",
            "United Kingdom",
            "United States"
           ],
           "name": "",
           "type": "choropleth",
           "z": [
            0.6443440221402214,
            0.32051904967764977,
            0.04249796810160996,
            0.6119636262065112,
            0.35973735917111266,
            0.5350454368932039,
            0.03698890848795499,
            0.15025548444588463,
            0.04155428412650298,
            0.07244754197105657,
            0.49780181666318646,
            0.7827425714285714,
            0.05633177598446696,
            0.4914539264063485,
            0.09864193214480915
           ]
          }
         ],
         "name": "2024-12-18"
        },
        {
         "data": [
          {
           "coloraxis": "coloraxis",
           "geo": "geo",
           "hovertemplate": "animation_frame=2024-12-19<br>country=%{location}<br>streams_per_capita=%{z}<extra></extra>",
           "locationmode": "country names",
           "locations": [
            "Australia",
            "Brazil",
            "Egypt",
            "Finland",
            "Germany",
            "Greece",
            "India",
            "Japan",
            "Nigeria",
            "South Africa",
            "Spain",
            "Sweden",
            "Ukraine",
            "United Kingdom",
            "United States"
           ],
           "name": "",
           "type": "choropleth",
           "z": [
            0.6862091881918819,
            0.3286617671935793,
            0.044868389548819,
            0.655141145747893,
            0.3856299164490448,
            0.5385331067961165,
            0.037610123820656836,
            0.15106603208036293,
            0.0422594346771749,
            0.07118320539947796,
            0.5109434537481728,
            0.8320635238095239,
            0.05663321400400461,
            0.5261672164513552,
            0.10560939301378879
           ]
          }
         ],
         "name": "2024-12-19"
        },
        {
         "data": [
          {
           "coloraxis": "coloraxis",
           "geo": "geo",
           "hovertemplate": "animation_frame=2024-12-20<br>country=%{location}<br>streams_per_capita=%{z}<extra></extra>",
           "locationmode": "country names",
           "locations": [
            "Australia",
            "Brazil",
            "Egypt",
            "Finland",
            "Germany",
            "Greece",
            "India",
            "Japan",
            "Nigeria",
            "South Africa",
            "Spain",
            "Sweden",
            "Ukraine",
            "United Kingdom",
            "United States"
           ],
           "name": "",
           "type": "choropleth",
           "z": [
            0.7031622878228783,
            0.3584506465800801,
            0.04086535876452571,
            0.7796539080546405,
            0.48611626636855576,
            0.6128503883495146,
            0.037990647291961784,
            0.147311916720674,
            0.041986978377286044,
            0.088447248521167,
            0.553984986427229,
            1.1283848571428572,
            0.0592875128936351,
            0.6159554861979548,
            0.12363120123599182
           ]
          }
         ],
         "name": "2024-12-20"
        },
        {
         "data": [
          {
           "coloraxis": "coloraxis",
           "geo": "geo",
           "hovertemplate": "animation_frame=2024-12-21<br>country=%{location}<br>streams_per_capita=%{z}<extra></extra>",
           "locationmode": "country names",
           "locations": [
            "Australia",
            "Brazil",
            "Egypt",
            "Finland",
            "Germany",
            "Greece",
            "India",
            "Japan",
            "Nigeria",
            "South Africa",
            "Spain",
            "Sweden",
            "Ukraine",
            "United Kingdom",
            "United States"
           ],
           "name": "",
           "type": "choropleth",
           "z": [
            0.7220864575645757,
            0.3904945961693889,
            0.04159325721778658,
            0.8116064500968756,
            0.4946393580562127,
            0.5795420388349515,
            0.03965293577179972,
            0.15868843972780297,
            0.04291412801859149,
            0.09495479327227516,
            0.5049795155564836,
            1.342280857142857,
            0.058323615071900974,
            0.635615793690751,
            0.12757731014559281
           ]
          }
         ],
         "name": "2024-12-21"
        },
        {
         "data": [
          {
           "coloraxis": "coloraxis",
           "geo": "geo",
           "hovertemplate": "animation_frame=2024-12-22<br>country=%{location}<br>streams_per_capita=%{z}<extra></extra>",
           "locationmode": "country names",
           "locations": [
            "Australia",
            "Brazil",
            "Egypt",
            "Finland",
            "Germany",
            "Greece",
            "India",
            "Japan",
            "Nigeria",
            "South Africa",
            "Spain",
            "Sweden",
            "Ukraine",
            "United Kingdom",
            "United States"
           ],
           "name": "",
           "type": "choropleth",
           "z": [
            0.7224976383763838,
            0.34815854369114524,
            0.0403902868860287,
            0.7822456516823545,
            0.5261330920756626,
            0.5224195145631068,
            0.039274488463041095,
            0.16020145819831497,
            0.03968270267084301,
            0.08224365607672943,
            0.41420870745458344,
            1.3239834285714285,
            0.05409793095079182,
            0.5942338798083808,
            0.11927135973625175
           ]
          }
         ],
         "name": "2024-12-22"
        },
        {
         "data": [
          {
           "coloraxis": "coloraxis",
           "geo": "geo",
           "hovertemplate": "animation_frame=2024-12-23<br>country=%{location}<br>streams_per_capita=%{z}<extra></extra>",
           "locationmode": "country names",
           "locations": [
            "Australia",
            "Brazil",
            "Egypt",
            "Finland",
            "Germany",
            "Greece",
            "India",
            "Japan",
            "Nigeria",
            "South Africa",
            "Spain",
            "Sweden",
            "Ukraine",
            "United Kingdom",
            "United States"
           ],
           "name": "",
           "type": "choropleth",
           "z": [
            0.8175048708487085,
            0.3446784156908445,
            0.040950096926767314,
            0.9550029040510404,
            0.5532303938228922,
            0.5587876699029126,
            0.03844836413666956,
            0.1549852559948153,
            0.044210981442187866,
            0.08023791063678626,
            0.5236872415953227,
            1.6620154285714286,
            0.058620593410594016,
            0.6902579028213331,
            0.13854477409591953
           ]
          }
         ],
         "name": "2024-12-23"
        },
        {
         "data": [
          {
           "coloraxis": "coloraxis",
           "geo": "geo",
           "hovertemplate": "animation_frame=2024-12-24<br>country=%{location}<br>streams_per_capita=%{z}<extra></extra>",
           "locationmode": "country names",
           "locations": [
            "Australia",
            "Brazil",
            "Egypt",
            "Finland",
            "Germany",
            "Greece",
            "India",
            "Japan",
            "Nigeria",
            "South Africa",
            "Spain",
            "Sweden",
            "Ukraine",
            "United Kingdom",
            "United States"
           ],
           "name": "",
           "type": "choropleth",
           "z": [
            1.5740046863468635,
            0.4502910973065429,
            0.0412032728399159,
            1.2654286689692171,
            1.5149191893797795,
            0.5666429126213592,
            0.03977092642670886,
            0.17125345106934542,
            0.04785414772153178,
            0.11149784546002131,
            0.6874381708081019,
            2.626643714285714,
            0.05730259086220496,
            1.0413829539436406,
            0.20902066533645774
           ]
          }
         ],
         "name": "2024-12-24"
        },
        {
         "data": [
          {
           "coloraxis": "coloraxis",
           "geo": "geo",
           "hovertemplate": "animation_frame=2024-12-25<br>country=%{location}<br>streams_per_capita=%{z}<extra></extra>",
           "locationmode": "country names",
           "locations": [
            "Australia",
            "Brazil",
            "Egypt",
            "Finland",
            "Germany",
            "Greece",
            "India",
            "Japan",
            "Nigeria",
            "South Africa",
            "Spain",
            "Sweden",
            "Ukraine",
            "United Kingdom",
            "United States"
           ],
           "name": "",
           "type": "choropleth",
           "z": [
            1.3645976014760148,
            0.4216869725391425,
            0.04143555454102653,
            0.5728090375841842,
            0.557175497218746,
            0.48993417475728157,
            0.03957743288968875,
            0.16377883182112768,
            0.048597285372671856,
            0.1667431232335089,
            0.4151046982668616,
            0.7939437142857143,
            0.0504016746556641,
            1.572761492607457,
            0.3156760463146224
           ]
          }
         ],
         "name": "2024-12-25"
        },
        {
         "data": [
          {
           "coloraxis": "coloraxis",
           "geo": "geo",
           "hovertemplate": "animation_frame=2024-12-26<br>country=%{location}<br>streams_per_capita=%{z}<extra></extra>",
           "locationmode": "country names",
           "locations": [
            "Australia",
            "Brazil",
            "Egypt",
            "Finland",
            "Germany",
            "Greece",
            "India",
            "Japan",
            "Nigeria",
            "South Africa",
            "Spain",
            "Sweden",
            "Ukraine",
            "United Kingdom",
            "United States"
           ],
           "name": "",
           "type": "choropleth",
           "z": [
            0.5168507380073801,
            0.2906687263876097,
            0.042010423898620336,
            0.474125570280252,
            0.37788913133858204,
            0.4487583495145631,
            0.037895493737591164,
            0.15653353856124433,
            0.04068691691084841,
            0.08309961851514355,
            0.461604050950094,
            0.5885479047619048,
            0.05376736848492203,
            0.3825278407922255,
            0.07677888666155061
           ]
          }
         ],
         "name": "2024-12-26"
        },
        {
         "data": [
          {
           "coloraxis": "coloraxis",
           "geo": "geo",
           "hovertemplate": "animation_frame=2024-12-27<br>country=%{location}<br>streams_per_capita=%{z}<extra></extra>",
           "locationmode": "country names",
           "locations": [
            "Australia",
            "Brazil",
            "Egypt",
            "Finland",
            "Germany",
            "Greece",
            "India",
            "Japan",
            "Nigeria",
            "South Africa",
            "Spain",
            "Sweden",
            "Ukraine",
            "United Kingdom",
            "United States"
           ],
           "name": "",
           "type": "choropleth",
           "z": [
            0.5472633579335794,
            0.3278933800725523,
            0.037326768641940136,
            0.5260260610870462,
            0.2705820915775265,
            0.49901252427184467,
            0.037779252009012436,
            0.15305659429682436,
            0.041185620221615975,
            0.07488844270777024,
            0.47924303612445185,
            0.607684761904762,
            0.055914204235179905,
            0.32423050224602695,
            0.06507776514412407
           ]
          }
         ],
         "name": "2024-12-27"
        },
        {
         "data": [
          {
           "coloraxis": "coloraxis",
           "geo": "geo",
           "hovertemplate": "animation_frame=2024-12-28<br>country=%{location}<br>streams_per_capita=%{z}<extra></extra>",
           "locationmode": "country names",
           "locations": [
            "Australia",
            "Brazil",
            "Egypt",
            "Finland",
            "Germany",
            "Greece",
            "India",
            "Japan",
            "Nigeria",
            "South Africa",
            "Spain",
            "Sweden",
            "Ukraine",
            "United Kingdom",
            "United States"
           ],
           "name": "",
           "type": "choropleth",
           "z": [
            0.5297583394833948,
            0.37634849538559856,
            0.039023533501300896,
            0.5065383268232342,
            0.2583988448968002,
            0.4748722330097087,
            0.038489296849971114,
            0.15893041963707064,
            0.041850901788420734,
            0.07737071987891331,
            0.4571192315723533,
            0.5906908571428572,
            0.05445728414537953,
            0.3163603439637898,
            0.06349811021101147
           ]
          }
         ],
         "name": "2024-12-28"
        },
        {
         "data": [
          {
           "coloraxis": "coloraxis",
           "geo": "geo",
           "hovertemplate": "animation_frame=2024-12-29<br>country=%{location}<br>streams_per_capita=%{z}<extra></extra>",
           "locationmode": "country names",
           "locations": [
            "Australia",
            "Brazil",
            "Egypt",
            "Finland",
            "Germany",
            "Greece",
            "India",
            "Japan",
            "Nigeria",
            "South Africa",
            "Spain",
            "Sweden",
            "Ukraine",
            "United Kingdom",
            "United States"
           ],
           "name": "",
           "type": "choropleth",
           "z": [
            0.5318495571955719,
            0.3432324445989888,
            0.03899052574473302,
            0.46081446439101387,
            0.223611239468943,
            0.44458349514563106,
            0.03845549939861271,
            0.16378422715489308,
            0.03831381142433734,
            0.06992493860719416,
            0.4009414909166841,
            0.5472219047619048,
            0.05139357441902797,
            0.2988306239566336,
            0.059979641116446374
           ]
          }
         ],
         "name": "2024-12-29"
        },
        {
         "data": [
          {
           "coloraxis": "coloraxis",
           "geo": "geo",
           "hovertemplate": "animation_frame=2024-12-30<br>country=%{location}<br>streams_per_capita=%{z}<extra></extra>",
           "locationmode": "country names",
           "locations": [
            "Australia",
            "Brazil",
            "Egypt",
            "Finland",
            "Germany",
            "Greece",
            "India",
            "Japan",
            "Nigeria",
            "South Africa",
            "Spain",
            "Sweden",
            "Ukraine",
            "United Kingdom",
            "United States"
           ],
           "name": "",
           "type": "choropleth",
           "z": [
            0.5471950922509226,
            0.34425671954589027,
            0.039719566628927734,
            0.5347270413705347,
            0.2619722192242141,
            0.4803654368932039,
            0.03790928165680609,
            0.15817617465975373,
            0.041914814253477484,
            0.0736634593108561,
            0.48129131342660264,
            0.6193645714285714,
            0.05748058370244524,
            0.32717132675884725,
            0.06566803128395252
           ]
          }
         ],
         "name": "2024-12-30"
        },
        {
         "data": [
          {
           "coloraxis": "coloraxis",
           "geo": "geo",
           "hovertemplate": "animation_frame=2024-12-31<br>country=%{location}<br>streams_per_capita=%{z}<extra></extra>",
           "locationmode": "country names",
           "locations": [
            "Australia",
            "Brazil",
            "Egypt",
            "Finland",
            "Germany",
            "Greece",
            "India",
            "Japan",
            "Nigeria",
            "South Africa",
            "Spain",
            "Sweden",
            "Ukraine",
            "United Kingdom",
            "United States"
           ],
           "name": "",
           "type": "choropleth",
           "z": [
            0.7015141697416974,
            0.4493910305809823,
            0.0415836645745735,
            0.7730894226037145,
            0.4602830469116579,
            0.5027581553398058,
            0.04082582805385134,
            0.14240548444588463,
            0.043790142635815564,
            0.1495341251332108,
            0.5730543328461056,
            1.297864,
            0.06715542139433286,
            0.4254509496923975,
            0.08539417726780411
           ]
          }
         ],
         "name": "2024-12-31"
        }
       ],
       "layout": {
        "coloraxis": {
         "cmax": 2.626643714285714,
         "cmin": 0,
         "colorbar": {
          "title": {
           "text": "streams_per_capita"
          }
         },
         "colorscale": [
          [
           0,
           "#440154"
          ],
          [
           0.1111111111111111,
           "#482878"
          ],
          [
           0.2222222222222222,
           "#3e4989"
          ],
          [
           0.3333333333333333,
           "#31688e"
          ],
          [
           0.4444444444444444,
           "#26828e"
          ],
          [
           0.5555555555555556,
           "#1f9e89"
          ],
          [
           0.6666666666666666,
           "#35b779"
          ],
          [
           0.7777777777777778,
           "#6ece58"
          ],
          [
           0.8888888888888888,
           "#b5de2b"
          ],
          [
           1,
           "#fde725"
          ]
         ]
        },
        "geo": {
         "center": {},
         "domain": {
          "x": [
           0,
           1
          ],
          "y": [
           0,
           1
          ]
         },
         "showcoastlines": true,
         "showframe": false
        },
        "legend": {
         "tracegroupgap": 0
        },
        "margin": {
         "b": 0,
         "l": 0,
         "r": 0,
         "t": 50
        },
        "sliders": [
         {
          "active": 0,
          "currentvalue": {
           "prefix": "animation_frame="
          },
          "len": 0.9,
          "pad": {
           "b": 10,
           "t": 60
          },
          "steps": [
           {
            "args": [
             [
              "2024-01-01"
             ],
             {
              "frame": {
               "duration": 0,
               "redraw": true
              },
              "fromcurrent": true,
              "mode": "immediate",
              "transition": {
               "duration": 0,
               "easing": "linear"
              }
             }
            ],
            "label": "2024-01-01",
            "method": "animate"
           },
           {
            "args": [
             [
              "2024-01-02"
             ],
             {
              "frame": {
               "duration": 0,
               "redraw": true
              },
              "fromcurrent": true,
              "mode": "immediate",
              "transition": {
               "duration": 0,
               "easing": "linear"
              }
             }
            ],
            "label": "2024-01-02",
            "method": "animate"
           },
           {
            "args": [
             [
              "2024-01-03"
             ],
             {
              "frame": {
               "duration": 0,
               "redraw": true
              },
              "fromcurrent": true,
              "mode": "immediate",
              "transition": {
               "duration": 0,
               "easing": "linear"
              }
             }
            ],
            "label": "2024-01-03",
            "method": "animate"
           },
           {
            "args": [
             [
              "2024-01-04"
             ],
             {
              "frame": {
               "duration": 0,
               "redraw": true
              },
              "fromcurrent": true,
              "mode": "immediate",
              "transition": {
               "duration": 0,
               "easing": "linear"
              }
             }
            ],
            "label": "2024-01-04",
            "method": "animate"
           },
           {
            "args": [
             [
              "2024-01-05"
             ],
             {
              "frame": {
               "duration": 0,
               "redraw": true
              },
              "fromcurrent": true,
              "mode": "immediate",
              "transition": {
               "duration": 0,
               "easing": "linear"
              }
             }
            ],
            "label": "2024-01-05",
            "method": "animate"
           },
           {
            "args": [
             [
              "2024-01-06"
             ],
             {
              "frame": {
               "duration": 0,
               "redraw": true
              },
              "fromcurrent": true,
              "mode": "immediate",
              "transition": {
               "duration": 0,
               "easing": "linear"
              }
             }
            ],
            "label": "2024-01-06",
            "method": "animate"
           },
           {
            "args": [
             [
              "2024-01-07"
             ],
             {
              "frame": {
               "duration": 0,
               "redraw": true
              },
              "fromcurrent": true,
              "mode": "immediate",
              "transition": {
               "duration": 0,
               "easing": "linear"
              }
             }
            ],
            "label": "2024-01-07",
            "method": "animate"
           },
           {
            "args": [
             [
              "2024-01-08"
             ],
             {
              "frame": {
               "duration": 0,
               "redraw": true
              },
              "fromcurrent": true,
              "mode": "immediate",
              "transition": {
               "duration": 0,
               "easing": "linear"
              }
             }
            ],
            "label": "2024-01-08",
            "method": "animate"
           },
           {
            "args": [
             [
              "2024-01-09"
             ],
             {
              "frame": {
               "duration": 0,
               "redraw": true
              },
              "fromcurrent": true,
              "mode": "immediate",
              "transition": {
               "duration": 0,
               "easing": "linear"
              }
             }
            ],
            "label": "2024-01-09",
            "method": "animate"
           },
           {
            "args": [
             [
              "2024-01-10"
             ],
             {
              "frame": {
               "duration": 0,
               "redraw": true
              },
              "fromcurrent": true,
              "mode": "immediate",
              "transition": {
               "duration": 0,
               "easing": "linear"
              }
             }
            ],
            "label": "2024-01-10",
            "method": "animate"
           },
           {
            "args": [
             [
              "2024-01-11"
             ],
             {
              "frame": {
               "duration": 0,
               "redraw": true
              },
              "fromcurrent": true,
              "mode": "immediate",
              "transition": {
               "duration": 0,
               "easing": "linear"
              }
             }
            ],
            "label": "2024-01-11",
            "method": "animate"
           },
           {
            "args": [
             [
              "2024-01-12"
             ],
             {
              "frame": {
               "duration": 0,
               "redraw": true
              },
              "fromcurrent": true,
              "mode": "immediate",
              "transition": {
               "duration": 0,
               "easing": "linear"
              }
             }
            ],
            "label": "2024-01-12",
            "method": "animate"
           },
           {
            "args": [
             [
              "2024-01-13"
             ],
             {
              "frame": {
               "duration": 0,
               "redraw": true
              },
              "fromcurrent": true,
              "mode": "immediate",
              "transition": {
               "duration": 0,
               "easing": "linear"
              }
             }
            ],
            "label": "2024-01-13",
            "method": "animate"
           },
           {
            "args": [
             [
              "2024-01-14"
             ],
             {
              "frame": {
               "duration": 0,
               "redraw": true
              },
              "fromcurrent": true,
              "mode": "immediate",
              "transition": {
               "duration": 0,
               "easing": "linear"
              }
             }
            ],
            "label": "2024-01-14",
            "method": "animate"
           },
           {
            "args": [
             [
              "2024-01-15"
             ],
             {
              "frame": {
               "duration": 0,
               "redraw": true
              },
              "fromcurrent": true,
              "mode": "immediate",
              "transition": {
               "duration": 0,
               "easing": "linear"
              }
             }
            ],
            "label": "2024-01-15",
            "method": "animate"
           },
           {
            "args": [
             [
              "2024-01-16"
             ],
             {
              "frame": {
               "duration": 0,
               "redraw": true
              },
              "fromcurrent": true,
              "mode": "immediate",
              "transition": {
               "duration": 0,
               "easing": "linear"
              }
             }
            ],
            "label": "2024-01-16",
            "method": "animate"
           },
           {
            "args": [
             [
              "2024-01-17"
             ],
             {
              "frame": {
               "duration": 0,
               "redraw": true
              },
              "fromcurrent": true,
              "mode": "immediate",
              "transition": {
               "duration": 0,
               "easing": "linear"
              }
             }
            ],
            "label": "2024-01-17",
            "method": "animate"
           },
           {
            "args": [
             [
              "2024-01-18"
             ],
             {
              "frame": {
               "duration": 0,
               "redraw": true
              },
              "fromcurrent": true,
              "mode": "immediate",
              "transition": {
               "duration": 0,
               "easing": "linear"
              }
             }
            ],
            "label": "2024-01-18",
            "method": "animate"
           },
           {
            "args": [
             [
              "2024-01-19"
             ],
             {
              "frame": {
               "duration": 0,
               "redraw": true
              },
              "fromcurrent": true,
              "mode": "immediate",
              "transition": {
               "duration": 0,
               "easing": "linear"
              }
             }
            ],
            "label": "2024-01-19",
            "method": "animate"
           },
           {
            "args": [
             [
              "2024-01-20"
             ],
             {
              "frame": {
               "duration": 0,
               "redraw": true
              },
              "fromcurrent": true,
              "mode": "immediate",
              "transition": {
               "duration": 0,
               "easing": "linear"
              }
             }
            ],
            "label": "2024-01-20",
            "method": "animate"
           },
           {
            "args": [
             [
              "2024-01-21"
             ],
             {
              "frame": {
               "duration": 0,
               "redraw": true
              },
              "fromcurrent": true,
              "mode": "immediate",
              "transition": {
               "duration": 0,
               "easing": "linear"
              }
             }
            ],
            "label": "2024-01-21",
            "method": "animate"
           },
           {
            "args": [
             [
              "2024-01-22"
             ],
             {
              "frame": {
               "duration": 0,
               "redraw": true
              },
              "fromcurrent": true,
              "mode": "immediate",
              "transition": {
               "duration": 0,
               "easing": "linear"
              }
             }
            ],
            "label": "2024-01-22",
            "method": "animate"
           },
           {
            "args": [
             [
              "2024-01-23"
             ],
             {
              "frame": {
               "duration": 0,
               "redraw": true
              },
              "fromcurrent": true,
              "mode": "immediate",
              "transition": {
               "duration": 0,
               "easing": "linear"
              }
             }
            ],
            "label": "2024-01-23",
            "method": "animate"
           },
           {
            "args": [
             [
              "2024-01-24"
             ],
             {
              "frame": {
               "duration": 0,
               "redraw": true
              },
              "fromcurrent": true,
              "mode": "immediate",
              "transition": {
               "duration": 0,
               "easing": "linear"
              }
             }
            ],
            "label": "2024-01-24",
            "method": "animate"
           },
           {
            "args": [
             [
              "2024-01-25"
             ],
             {
              "frame": {
               "duration": 0,
               "redraw": true
              },
              "fromcurrent": true,
              "mode": "immediate",
              "transition": {
               "duration": 0,
               "easing": "linear"
              }
             }
            ],
            "label": "2024-01-25",
            "method": "animate"
           },
           {
            "args": [
             [
              "2024-01-26"
             ],
             {
              "frame": {
               "duration": 0,
               "redraw": true
              },
              "fromcurrent": true,
              "mode": "immediate",
              "transition": {
               "duration": 0,
               "easing": "linear"
              }
             }
            ],
            "label": "2024-01-26",
            "method": "animate"
           },
           {
            "args": [
             [
              "2024-01-27"
             ],
             {
              "frame": {
               "duration": 0,
               "redraw": true
              },
              "fromcurrent": true,
              "mode": "immediate",
              "transition": {
               "duration": 0,
               "easing": "linear"
              }
             }
            ],
            "label": "2024-01-27",
            "method": "animate"
           },
           {
            "args": [
             [
              "2024-01-28"
             ],
             {
              "frame": {
               "duration": 0,
               "redraw": true
              },
              "fromcurrent": true,
              "mode": "immediate",
              "transition": {
               "duration": 0,
               "easing": "linear"
              }
             }
            ],
            "label": "2024-01-28",
            "method": "animate"
           },
           {
            "args": [
             [
              "2024-01-29"
             ],
             {
              "frame": {
               "duration": 0,
               "redraw": true
              },
              "fromcurrent": true,
              "mode": "immediate",
              "transition": {
               "duration": 0,
               "easing": "linear"
              }
             }
            ],
            "label": "2024-01-29",
            "method": "animate"
           },
           {
            "args": [
             [
              "2024-01-30"
             ],
             {
              "frame": {
               "duration": 0,
               "redraw": true
              },
              "fromcurrent": true,
              "mode": "immediate",
              "transition": {
               "duration": 0,
               "easing": "linear"
              }
             }
            ],
            "label": "2024-01-30",
            "method": "animate"
           },
           {
            "args": [
             [
              "2024-01-31"
             ],
             {
              "frame": {
               "duration": 0,
               "redraw": true
              },
              "fromcurrent": true,
              "mode": "immediate",
              "transition": {
               "duration": 0,
               "easing": "linear"
              }
             }
            ],
            "label": "2024-01-31",
            "method": "animate"
           },
           {
            "args": [
             [
              "2024-02-01"
             ],
             {
              "frame": {
               "duration": 0,
               "redraw": true
              },
              "fromcurrent": true,
              "mode": "immediate",
              "transition": {
               "duration": 0,
               "easing": "linear"
              }
             }
            ],
            "label": "2024-02-01",
            "method": "animate"
           },
           {
            "args": [
             [
              "2024-02-02"
             ],
             {
              "frame": {
               "duration": 0,
               "redraw": true
              },
              "fromcurrent": true,
              "mode": "immediate",
              "transition": {
               "duration": 0,
               "easing": "linear"
              }
             }
            ],
            "label": "2024-02-02",
            "method": "animate"
           },
           {
            "args": [
             [
              "2024-02-03"
             ],
             {
              "frame": {
               "duration": 0,
               "redraw": true
              },
              "fromcurrent": true,
              "mode": "immediate",
              "transition": {
               "duration": 0,
               "easing": "linear"
              }
             }
            ],
            "label": "2024-02-03",
            "method": "animate"
           },
           {
            "args": [
             [
              "2024-02-04"
             ],
             {
              "frame": {
               "duration": 0,
               "redraw": true
              },
              "fromcurrent": true,
              "mode": "immediate",
              "transition": {
               "duration": 0,
               "easing": "linear"
              }
             }
            ],
            "label": "2024-02-04",
            "method": "animate"
           },
           {
            "args": [
             [
              "2024-02-05"
             ],
             {
              "frame": {
               "duration": 0,
               "redraw": true
              },
              "fromcurrent": true,
              "mode": "immediate",
              "transition": {
               "duration": 0,
               "easing": "linear"
              }
             }
            ],
            "label": "2024-02-05",
            "method": "animate"
           },
           {
            "args": [
             [
              "2024-02-06"
             ],
             {
              "frame": {
               "duration": 0,
               "redraw": true
              },
              "fromcurrent": true,
              "mode": "immediate",
              "transition": {
               "duration": 0,
               "easing": "linear"
              }
             }
            ],
            "label": "2024-02-06",
            "method": "animate"
           },
           {
            "args": [
             [
              "2024-02-07"
             ],
             {
              "frame": {
               "duration": 0,
               "redraw": true
              },
              "fromcurrent": true,
              "mode": "immediate",
              "transition": {
               "duration": 0,
               "easing": "linear"
              }
             }
            ],
            "label": "2024-02-07",
            "method": "animate"
           },
           {
            "args": [
             [
              "2024-02-08"
             ],
             {
              "frame": {
               "duration": 0,
               "redraw": true
              },
              "fromcurrent": true,
              "mode": "immediate",
              "transition": {
               "duration": 0,
               "easing": "linear"
              }
             }
            ],
            "label": "2024-02-08",
            "method": "animate"
           },
           {
            "args": [
             [
              "2024-02-09"
             ],
             {
              "frame": {
               "duration": 0,
               "redraw": true
              },
              "fromcurrent": true,
              "mode": "immediate",
              "transition": {
               "duration": 0,
               "easing": "linear"
              }
             }
            ],
            "label": "2024-02-09",
            "method": "animate"
           },
           {
            "args": [
             [
              "2024-02-10"
             ],
             {
              "frame": {
               "duration": 0,
               "redraw": true
              },
              "fromcurrent": true,
              "mode": "immediate",
              "transition": {
               "duration": 0,
               "easing": "linear"
              }
             }
            ],
            "label": "2024-02-10",
            "method": "animate"
           },
           {
            "args": [
             [
              "2024-02-11"
             ],
             {
              "frame": {
               "duration": 0,
               "redraw": true
              },
              "fromcurrent": true,
              "mode": "immediate",
              "transition": {
               "duration": 0,
               "easing": "linear"
              }
             }
            ],
            "label": "2024-02-11",
            "method": "animate"
           },
           {
            "args": [
             [
              "2024-02-12"
             ],
             {
              "frame": {
               "duration": 0,
               "redraw": true
              },
              "fromcurrent": true,
              "mode": "immediate",
              "transition": {
               "duration": 0,
               "easing": "linear"
              }
             }
            ],
            "label": "2024-02-12",
            "method": "animate"
           },
           {
            "args": [
             [
              "2024-02-13"
             ],
             {
              "frame": {
               "duration": 0,
               "redraw": true
              },
              "fromcurrent": true,
              "mode": "immediate",
              "transition": {
               "duration": 0,
               "easing": "linear"
              }
             }
            ],
            "label": "2024-02-13",
            "method": "animate"
           },
           {
            "args": [
             [
              "2024-02-14"
             ],
             {
              "frame": {
               "duration": 0,
               "redraw": true
              },
              "fromcurrent": true,
              "mode": "immediate",
              "transition": {
               "duration": 0,
               "easing": "linear"
              }
             }
            ],
            "label": "2024-02-14",
            "method": "animate"
           },
           {
            "args": [
             [
              "2024-02-15"
             ],
             {
              "frame": {
               "duration": 0,
               "redraw": true
              },
              "fromcurrent": true,
              "mode": "immediate",
              "transition": {
               "duration": 0,
               "easing": "linear"
              }
             }
            ],
            "label": "2024-02-15",
            "method": "animate"
           },
           {
            "args": [
             [
              "2024-02-16"
             ],
             {
              "frame": {
               "duration": 0,
               "redraw": true
              },
              "fromcurrent": true,
              "mode": "immediate",
              "transition": {
               "duration": 0,
               "easing": "linear"
              }
             }
            ],
            "label": "2024-02-16",
            "method": "animate"
           },
           {
            "args": [
             [
              "2024-02-17"
             ],
             {
              "frame": {
               "duration": 0,
               "redraw": true
              },
              "fromcurrent": true,
              "mode": "immediate",
              "transition": {
               "duration": 0,
               "easing": "linear"
              }
             }
            ],
            "label": "2024-02-17",
            "method": "animate"
           },
           {
            "args": [
             [
              "2024-02-18"
             ],
             {
              "frame": {
               "duration": 0,
               "redraw": true
              },
              "fromcurrent": true,
              "mode": "immediate",
              "transition": {
               "duration": 0,
               "easing": "linear"
              }
             }
            ],
            "label": "2024-02-18",
            "method": "animate"
           },
           {
            "args": [
             [
              "2024-02-19"
             ],
             {
              "frame": {
               "duration": 0,
               "redraw": true
              },
              "fromcurrent": true,
              "mode": "immediate",
              "transition": {
               "duration": 0,
               "easing": "linear"
              }
             }
            ],
            "label": "2024-02-19",
            "method": "animate"
           },
           {
            "args": [
             [
              "2024-02-20"
             ],
             {
              "frame": {
               "duration": 0,
               "redraw": true
              },
              "fromcurrent": true,
              "mode": "immediate",
              "transition": {
               "duration": 0,
               "easing": "linear"
              }
             }
            ],
            "label": "2024-02-20",
            "method": "animate"
           },
           {
            "args": [
             [
              "2024-02-21"
             ],
             {
              "frame": {
               "duration": 0,
               "redraw": true
              },
              "fromcurrent": true,
              "mode": "immediate",
              "transition": {
               "duration": 0,
               "easing": "linear"
              }
             }
            ],
            "label": "2024-02-21",
            "method": "animate"
           },
           {
            "args": [
             [
              "2024-02-22"
             ],
             {
              "frame": {
               "duration": 0,
               "redraw": true
              },
              "fromcurrent": true,
              "mode": "immediate",
              "transition": {
               "duration": 0,
               "easing": "linear"
              }
             }
            ],
            "label": "2024-02-22",
            "method": "animate"
           },
           {
            "args": [
             [
              "2024-02-23"
             ],
             {
              "frame": {
               "duration": 0,
               "redraw": true
              },
              "fromcurrent": true,
              "mode": "immediate",
              "transition": {
               "duration": 0,
               "easing": "linear"
              }
             }
            ],
            "label": "2024-02-23",
            "method": "animate"
           },
           {
            "args": [
             [
              "2024-02-24"
             ],
             {
              "frame": {
               "duration": 0,
               "redraw": true
              },
              "fromcurrent": true,
              "mode": "immediate",
              "transition": {
               "duration": 0,
               "easing": "linear"
              }
             }
            ],
            "label": "2024-02-24",
            "method": "animate"
           },
           {
            "args": [
             [
              "2024-02-25"
             ],
             {
              "frame": {
               "duration": 0,
               "redraw": true
              },
              "fromcurrent": true,
              "mode": "immediate",
              "transition": {
               "duration": 0,
               "easing": "linear"
              }
             }
            ],
            "label": "2024-02-25",
            "method": "animate"
           },
           {
            "args": [
             [
              "2024-02-26"
             ],
             {
              "frame": {
               "duration": 0,
               "redraw": true
              },
              "fromcurrent": true,
              "mode": "immediate",
              "transition": {
               "duration": 0,
               "easing": "linear"
              }
             }
            ],
            "label": "2024-02-26",
            "method": "animate"
           },
           {
            "args": [
             [
              "2024-02-27"
             ],
             {
              "frame": {
               "duration": 0,
               "redraw": true
              },
              "fromcurrent": true,
              "mode": "immediate",
              "transition": {
               "duration": 0,
               "easing": "linear"
              }
             }
            ],
            "label": "2024-02-27",
            "method": "animate"
           },
           {
            "args": [
             [
              "2024-02-28"
             ],
             {
              "frame": {
               "duration": 0,
               "redraw": true
              },
              "fromcurrent": true,
              "mode": "immediate",
              "transition": {
               "duration": 0,
               "easing": "linear"
              }
             }
            ],
            "label": "2024-02-28",
            "method": "animate"
           },
           {
            "args": [
             [
              "2024-02-29"
             ],
             {
              "frame": {
               "duration": 0,
               "redraw": true
              },
              "fromcurrent": true,
              "mode": "immediate",
              "transition": {
               "duration": 0,
               "easing": "linear"
              }
             }
            ],
            "label": "2024-02-29",
            "method": "animate"
           },
           {
            "args": [
             [
              "2024-03-01"
             ],
             {
              "frame": {
               "duration": 0,
               "redraw": true
              },
              "fromcurrent": true,
              "mode": "immediate",
              "transition": {
               "duration": 0,
               "easing": "linear"
              }
             }
            ],
            "label": "2024-03-01",
            "method": "animate"
           },
           {
            "args": [
             [
              "2024-03-02"
             ],
             {
              "frame": {
               "duration": 0,
               "redraw": true
              },
              "fromcurrent": true,
              "mode": "immediate",
              "transition": {
               "duration": 0,
               "easing": "linear"
              }
             }
            ],
            "label": "2024-03-02",
            "method": "animate"
           },
           {
            "args": [
             [
              "2024-03-03"
             ],
             {
              "frame": {
               "duration": 0,
               "redraw": true
              },
              "fromcurrent": true,
              "mode": "immediate",
              "transition": {
               "duration": 0,
               "easing": "linear"
              }
             }
            ],
            "label": "2024-03-03",
            "method": "animate"
           },
           {
            "args": [
             [
              "2024-03-04"
             ],
             {
              "frame": {
               "duration": 0,
               "redraw": true
              },
              "fromcurrent": true,
              "mode": "immediate",
              "transition": {
               "duration": 0,
               "easing": "linear"
              }
             }
            ],
            "label": "2024-03-04",
            "method": "animate"
           },
           {
            "args": [
             [
              "2024-03-05"
             ],
             {
              "frame": {
               "duration": 0,
               "redraw": true
              },
              "fromcurrent": true,
              "mode": "immediate",
              "transition": {
               "duration": 0,
               "easing": "linear"
              }
             }
            ],
            "label": "2024-03-05",
            "method": "animate"
           },
           {
            "args": [
             [
              "2024-03-06"
             ],
             {
              "frame": {
               "duration": 0,
               "redraw": true
              },
              "fromcurrent": true,
              "mode": "immediate",
              "transition": {
               "duration": 0,
               "easing": "linear"
              }
             }
            ],
            "label": "2024-03-06",
            "method": "animate"
           },
           {
            "args": [
             [
              "2024-03-07"
             ],
             {
              "frame": {
               "duration": 0,
               "redraw": true
              },
              "fromcurrent": true,
              "mode": "immediate",
              "transition": {
               "duration": 0,
               "easing": "linear"
              }
             }
            ],
            "label": "2024-03-07",
            "method": "animate"
           },
           {
            "args": [
             [
              "2024-03-08"
             ],
             {
              "frame": {
               "duration": 0,
               "redraw": true
              },
              "fromcurrent": true,
              "mode": "immediate",
              "transition": {
               "duration": 0,
               "easing": "linear"
              }
             }
            ],
            "label": "2024-03-08",
            "method": "animate"
           },
           {
            "args": [
             [
              "2024-03-09"
             ],
             {
              "frame": {
               "duration": 0,
               "redraw": true
              },
              "fromcurrent": true,
              "mode": "immediate",
              "transition": {
               "duration": 0,
               "easing": "linear"
              }
             }
            ],
            "label": "2024-03-09",
            "method": "animate"
           },
           {
            "args": [
             [
              "2024-03-10"
             ],
             {
              "frame": {
               "duration": 0,
               "redraw": true
              },
              "fromcurrent": true,
              "mode": "immediate",
              "transition": {
               "duration": 0,
               "easing": "linear"
              }
             }
            ],
            "label": "2024-03-10",
            "method": "animate"
           },
           {
            "args": [
             [
              "2024-03-11"
             ],
             {
              "frame": {
               "duration": 0,
               "redraw": true
              },
              "fromcurrent": true,
              "mode": "immediate",
              "transition": {
               "duration": 0,
               "easing": "linear"
              }
             }
            ],
            "label": "2024-03-11",
            "method": "animate"
           },
           {
            "args": [
             [
              "2024-03-12"
             ],
             {
              "frame": {
               "duration": 0,
               "redraw": true
              },
              "fromcurrent": true,
              "mode": "immediate",
              "transition": {
               "duration": 0,
               "easing": "linear"
              }
             }
            ],
            "label": "2024-03-12",
            "method": "animate"
           },
           {
            "args": [
             [
              "2024-03-13"
             ],
             {
              "frame": {
               "duration": 0,
               "redraw": true
              },
              "fromcurrent": true,
              "mode": "immediate",
              "transition": {
               "duration": 0,
               "easing": "linear"
              }
             }
            ],
            "label": "2024-03-13",
            "method": "animate"
           },
           {
            "args": [
             [
              "2024-03-14"
             ],
             {
              "frame": {
               "duration": 0,
               "redraw": true
              },
              "fromcurrent": true,
              "mode": "immediate",
              "transition": {
               "duration": 0,
               "easing": "linear"
              }
             }
            ],
            "label": "2024-03-14",
            "method": "animate"
           },
           {
            "args": [
             [
              "2024-03-15"
             ],
             {
              "frame": {
               "duration": 0,
               "redraw": true
              },
              "fromcurrent": true,
              "mode": "immediate",
              "transition": {
               "duration": 0,
               "easing": "linear"
              }
             }
            ],
            "label": "2024-03-15",
            "method": "animate"
           },
           {
            "args": [
             [
              "2024-03-16"
             ],
             {
              "frame": {
               "duration": 0,
               "redraw": true
              },
              "fromcurrent": true,
              "mode": "immediate",
              "transition": {
               "duration": 0,
               "easing": "linear"
              }
             }
            ],
            "label": "2024-03-16",
            "method": "animate"
           },
           {
            "args": [
             [
              "2024-03-17"
             ],
             {
              "frame": {
               "duration": 0,
               "redraw": true
              },
              "fromcurrent": true,
              "mode": "immediate",
              "transition": {
               "duration": 0,
               "easing": "linear"
              }
             }
            ],
            "label": "2024-03-17",
            "method": "animate"
           },
           {
            "args": [
             [
              "2024-03-18"
             ],
             {
              "frame": {
               "duration": 0,
               "redraw": true
              },
              "fromcurrent": true,
              "mode": "immediate",
              "transition": {
               "duration": 0,
               "easing": "linear"
              }
             }
            ],
            "label": "2024-03-18",
            "method": "animate"
           },
           {
            "args": [
             [
              "2024-03-19"
             ],
             {
              "frame": {
               "duration": 0,
               "redraw": true
              },
              "fromcurrent": true,
              "mode": "immediate",
              "transition": {
               "duration": 0,
               "easing": "linear"
              }
             }
            ],
            "label": "2024-03-19",
            "method": "animate"
           },
           {
            "args": [
             [
              "2024-03-20"
             ],
             {
              "frame": {
               "duration": 0,
               "redraw": true
              },
              "fromcurrent": true,
              "mode": "immediate",
              "transition": {
               "duration": 0,
               "easing": "linear"
              }
             }
            ],
            "label": "2024-03-20",
            "method": "animate"
           },
           {
            "args": [
             [
              "2024-03-21"
             ],
             {
              "frame": {
               "duration": 0,
               "redraw": true
              },
              "fromcurrent": true,
              "mode": "immediate",
              "transition": {
               "duration": 0,
               "easing": "linear"
              }
             }
            ],
            "label": "2024-03-21",
            "method": "animate"
           },
           {
            "args": [
             [
              "2024-03-22"
             ],
             {
              "frame": {
               "duration": 0,
               "redraw": true
              },
              "fromcurrent": true,
              "mode": "immediate",
              "transition": {
               "duration": 0,
               "easing": "linear"
              }
             }
            ],
            "label": "2024-03-22",
            "method": "animate"
           },
           {
            "args": [
             [
              "2024-03-23"
             ],
             {
              "frame": {
               "duration": 0,
               "redraw": true
              },
              "fromcurrent": true,
              "mode": "immediate",
              "transition": {
               "duration": 0,
               "easing": "linear"
              }
             }
            ],
            "label": "2024-03-23",
            "method": "animate"
           },
           {
            "args": [
             [
              "2024-03-24"
             ],
             {
              "frame": {
               "duration": 0,
               "redraw": true
              },
              "fromcurrent": true,
              "mode": "immediate",
              "transition": {
               "duration": 0,
               "easing": "linear"
              }
             }
            ],
            "label": "2024-03-24",
            "method": "animate"
           },
           {
            "args": [
             [
              "2024-03-25"
             ],
             {
              "frame": {
               "duration": 0,
               "redraw": true
              },
              "fromcurrent": true,
              "mode": "immediate",
              "transition": {
               "duration": 0,
               "easing": "linear"
              }
             }
            ],
            "label": "2024-03-25",
            "method": "animate"
           },
           {
            "args": [
             [
              "2024-03-26"
             ],
             {
              "frame": {
               "duration": 0,
               "redraw": true
              },
              "fromcurrent": true,
              "mode": "immediate",
              "transition": {
               "duration": 0,
               "easing": "linear"
              }
             }
            ],
            "label": "2024-03-26",
            "method": "animate"
           },
           {
            "args": [
             [
              "2024-03-27"
             ],
             {
              "frame": {
               "duration": 0,
               "redraw": true
              },
              "fromcurrent": true,
              "mode": "immediate",
              "transition": {
               "duration": 0,
               "easing": "linear"
              }
             }
            ],
            "label": "2024-03-27",
            "method": "animate"
           },
           {
            "args": [
             [
              "2024-03-28"
             ],
             {
              "frame": {
               "duration": 0,
               "redraw": true
              },
              "fromcurrent": true,
              "mode": "immediate",
              "transition": {
               "duration": 0,
               "easing": "linear"
              }
             }
            ],
            "label": "2024-03-28",
            "method": "animate"
           },
           {
            "args": [
             [
              "2024-03-29"
             ],
             {
              "frame": {
               "duration": 0,
               "redraw": true
              },
              "fromcurrent": true,
              "mode": "immediate",
              "transition": {
               "duration": 0,
               "easing": "linear"
              }
             }
            ],
            "label": "2024-03-29",
            "method": "animate"
           },
           {
            "args": [
             [
              "2024-03-30"
             ],
             {
              "frame": {
               "duration": 0,
               "redraw": true
              },
              "fromcurrent": true,
              "mode": "immediate",
              "transition": {
               "duration": 0,
               "easing": "linear"
              }
             }
            ],
            "label": "2024-03-30",
            "method": "animate"
           },
           {
            "args": [
             [
              "2024-03-31"
             ],
             {
              "frame": {
               "duration": 0,
               "redraw": true
              },
              "fromcurrent": true,
              "mode": "immediate",
              "transition": {
               "duration": 0,
               "easing": "linear"
              }
             }
            ],
            "label": "2024-03-31",
            "method": "animate"
           },
           {
            "args": [
             [
              "2024-04-01"
             ],
             {
              "frame": {
               "duration": 0,
               "redraw": true
              },
              "fromcurrent": true,
              "mode": "immediate",
              "transition": {
               "duration": 0,
               "easing": "linear"
              }
             }
            ],
            "label": "2024-04-01",
            "method": "animate"
           },
           {
            "args": [
             [
              "2024-04-02"
             ],
             {
              "frame": {
               "duration": 0,
               "redraw": true
              },
              "fromcurrent": true,
              "mode": "immediate",
              "transition": {
               "duration": 0,
               "easing": "linear"
              }
             }
            ],
            "label": "2024-04-02",
            "method": "animate"
           },
           {
            "args": [
             [
              "2024-04-03"
             ],
             {
              "frame": {
               "duration": 0,
               "redraw": true
              },
              "fromcurrent": true,
              "mode": "immediate",
              "transition": {
               "duration": 0,
               "easing": "linear"
              }
             }
            ],
            "label": "2024-04-03",
            "method": "animate"
           },
           {
            "args": [
             [
              "2024-04-04"
             ],
             {
              "frame": {
               "duration": 0,
               "redraw": true
              },
              "fromcurrent": true,
              "mode": "immediate",
              "transition": {
               "duration": 0,
               "easing": "linear"
              }
             }
            ],
            "label": "2024-04-04",
            "method": "animate"
           },
           {
            "args": [
             [
              "2024-04-05"
             ],
             {
              "frame": {
               "duration": 0,
               "redraw": true
              },
              "fromcurrent": true,
              "mode": "immediate",
              "transition": {
               "duration": 0,
               "easing": "linear"
              }
             }
            ],
            "label": "2024-04-05",
            "method": "animate"
           },
           {
            "args": [
             [
              "2024-04-06"
             ],
             {
              "frame": {
               "duration": 0,
               "redraw": true
              },
              "fromcurrent": true,
              "mode": "immediate",
              "transition": {
               "duration": 0,
               "easing": "linear"
              }
             }
            ],
            "label": "2024-04-06",
            "method": "animate"
           },
           {
            "args": [
             [
              "2024-04-07"
             ],
             {
              "frame": {
               "duration": 0,
               "redraw": true
              },
              "fromcurrent": true,
              "mode": "immediate",
              "transition": {
               "duration": 0,
               "easing": "linear"
              }
             }
            ],
            "label": "2024-04-07",
            "method": "animate"
           },
           {
            "args": [
             [
              "2024-04-08"
             ],
             {
              "frame": {
               "duration": 0,
               "redraw": true
              },
              "fromcurrent": true,
              "mode": "immediate",
              "transition": {
               "duration": 0,
               "easing": "linear"
              }
             }
            ],
            "label": "2024-04-08",
            "method": "animate"
           },
           {
            "args": [
             [
              "2024-04-09"
             ],
             {
              "frame": {
               "duration": 0,
               "redraw": true
              },
              "fromcurrent": true,
              "mode": "immediate",
              "transition": {
               "duration": 0,
               "easing": "linear"
              }
             }
            ],
            "label": "2024-04-09",
            "method": "animate"
           },
           {
            "args": [
             [
              "2024-04-10"
             ],
             {
              "frame": {
               "duration": 0,
               "redraw": true
              },
              "fromcurrent": true,
              "mode": "immediate",
              "transition": {
               "duration": 0,
               "easing": "linear"
              }
             }
            ],
            "label": "2024-04-10",
            "method": "animate"
           },
           {
            "args": [
             [
              "2024-04-11"
             ],
             {
              "frame": {
               "duration": 0,
               "redraw": true
              },
              "fromcurrent": true,
              "mode": "immediate",
              "transition": {
               "duration": 0,
               "easing": "linear"
              }
             }
            ],
            "label": "2024-04-11",
            "method": "animate"
           },
           {
            "args": [
             [
              "2024-04-12"
             ],
             {
              "frame": {
               "duration": 0,
               "redraw": true
              },
              "fromcurrent": true,
              "mode": "immediate",
              "transition": {
               "duration": 0,
               "easing": "linear"
              }
             }
            ],
            "label": "2024-04-12",
            "method": "animate"
           },
           {
            "args": [
             [
              "2024-04-13"
             ],
             {
              "frame": {
               "duration": 0,
               "redraw": true
              },
              "fromcurrent": true,
              "mode": "immediate",
              "transition": {
               "duration": 0,
               "easing": "linear"
              }
             }
            ],
            "label": "2024-04-13",
            "method": "animate"
           },
           {
            "args": [
             [
              "2024-04-14"
             ],
             {
              "frame": {
               "duration": 0,
               "redraw": true
              },
              "fromcurrent": true,
              "mode": "immediate",
              "transition": {
               "duration": 0,
               "easing": "linear"
              }
             }
            ],
            "label": "2024-04-14",
            "method": "animate"
           },
           {
            "args": [
             [
              "2024-04-15"
             ],
             {
              "frame": {
               "duration": 0,
               "redraw": true
              },
              "fromcurrent": true,
              "mode": "immediate",
              "transition": {
               "duration": 0,
               "easing": "linear"
              }
             }
            ],
            "label": "2024-04-15",
            "method": "animate"
           },
           {
            "args": [
             [
              "2024-04-16"
             ],
             {
              "frame": {
               "duration": 0,
               "redraw": true
              },
              "fromcurrent": true,
              "mode": "immediate",
              "transition": {
               "duration": 0,
               "easing": "linear"
              }
             }
            ],
            "label": "2024-04-16",
            "method": "animate"
           },
           {
            "args": [
             [
              "2024-04-17"
             ],
             {
              "frame": {
               "duration": 0,
               "redraw": true
              },
              "fromcurrent": true,
              "mode": "immediate",
              "transition": {
               "duration": 0,
               "easing": "linear"
              }
             }
            ],
            "label": "2024-04-17",
            "method": "animate"
           },
           {
            "args": [
             [
              "2024-04-18"
             ],
             {
              "frame": {
               "duration": 0,
               "redraw": true
              },
              "fromcurrent": true,
              "mode": "immediate",
              "transition": {
               "duration": 0,
               "easing": "linear"
              }
             }
            ],
            "label": "2024-04-18",
            "method": "animate"
           },
           {
            "args": [
             [
              "2024-04-19"
             ],
             {
              "frame": {
               "duration": 0,
               "redraw": true
              },
              "fromcurrent": true,
              "mode": "immediate",
              "transition": {
               "duration": 0,
               "easing": "linear"
              }
             }
            ],
            "label": "2024-04-19",
            "method": "animate"
           },
           {
            "args": [
             [
              "2024-04-20"
             ],
             {
              "frame": {
               "duration": 0,
               "redraw": true
              },
              "fromcurrent": true,
              "mode": "immediate",
              "transition": {
               "duration": 0,
               "easing": "linear"
              }
             }
            ],
            "label": "2024-04-20",
            "method": "animate"
           },
           {
            "args": [
             [
              "2024-04-21"
             ],
             {
              "frame": {
               "duration": 0,
               "redraw": true
              },
              "fromcurrent": true,
              "mode": "immediate",
              "transition": {
               "duration": 0,
               "easing": "linear"
              }
             }
            ],
            "label": "2024-04-21",
            "method": "animate"
           },
           {
            "args": [
             [
              "2024-04-22"
             ],
             {
              "frame": {
               "duration": 0,
               "redraw": true
              },
              "fromcurrent": true,
              "mode": "immediate",
              "transition": {
               "duration": 0,
               "easing": "linear"
              }
             }
            ],
            "label": "2024-04-22",
            "method": "animate"
           },
           {
            "args": [
             [
              "2024-04-23"
             ],
             {
              "frame": {
               "duration": 0,
               "redraw": true
              },
              "fromcurrent": true,
              "mode": "immediate",
              "transition": {
               "duration": 0,
               "easing": "linear"
              }
             }
            ],
            "label": "2024-04-23",
            "method": "animate"
           },
           {
            "args": [
             [
              "2024-04-24"
             ],
             {
              "frame": {
               "duration": 0,
               "redraw": true
              },
              "fromcurrent": true,
              "mode": "immediate",
              "transition": {
               "duration": 0,
               "easing": "linear"
              }
             }
            ],
            "label": "2024-04-24",
            "method": "animate"
           },
           {
            "args": [
             [
              "2024-04-25"
             ],
             {
              "frame": {
               "duration": 0,
               "redraw": true
              },
              "fromcurrent": true,
              "mode": "immediate",
              "transition": {
               "duration": 0,
               "easing": "linear"
              }
             }
            ],
            "label": "2024-04-25",
            "method": "animate"
           },
           {
            "args": [
             [
              "2024-04-26"
             ],
             {
              "frame": {
               "duration": 0,
               "redraw": true
              },
              "fromcurrent": true,
              "mode": "immediate",
              "transition": {
               "duration": 0,
               "easing": "linear"
              }
             }
            ],
            "label": "2024-04-26",
            "method": "animate"
           },
           {
            "args": [
             [
              "2024-04-27"
             ],
             {
              "frame": {
               "duration": 0,
               "redraw": true
              },
              "fromcurrent": true,
              "mode": "immediate",
              "transition": {
               "duration": 0,
               "easing": "linear"
              }
             }
            ],
            "label": "2024-04-27",
            "method": "animate"
           },
           {
            "args": [
             [
              "2024-04-28"
             ],
             {
              "frame": {
               "duration": 0,
               "redraw": true
              },
              "fromcurrent": true,
              "mode": "immediate",
              "transition": {
               "duration": 0,
               "easing": "linear"
              }
             }
            ],
            "label": "2024-04-28",
            "method": "animate"
           },
           {
            "args": [
             [
              "2024-04-29"
             ],
             {
              "frame": {
               "duration": 0,
               "redraw": true
              },
              "fromcurrent": true,
              "mode": "immediate",
              "transition": {
               "duration": 0,
               "easing": "linear"
              }
             }
            ],
            "label": "2024-04-29",
            "method": "animate"
           },
           {
            "args": [
             [
              "2024-04-30"
             ],
             {
              "frame": {
               "duration": 0,
               "redraw": true
              },
              "fromcurrent": true,
              "mode": "immediate",
              "transition": {
               "duration": 0,
               "easing": "linear"
              }
             }
            ],
            "label": "2024-04-30",
            "method": "animate"
           },
           {
            "args": [
             [
              "2024-05-01"
             ],
             {
              "frame": {
               "duration": 0,
               "redraw": true
              },
              "fromcurrent": true,
              "mode": "immediate",
              "transition": {
               "duration": 0,
               "easing": "linear"
              }
             }
            ],
            "label": "2024-05-01",
            "method": "animate"
           },
           {
            "args": [
             [
              "2024-05-02"
             ],
             {
              "frame": {
               "duration": 0,
               "redraw": true
              },
              "fromcurrent": true,
              "mode": "immediate",
              "transition": {
               "duration": 0,
               "easing": "linear"
              }
             }
            ],
            "label": "2024-05-02",
            "method": "animate"
           },
           {
            "args": [
             [
              "2024-05-03"
             ],
             {
              "frame": {
               "duration": 0,
               "redraw": true
              },
              "fromcurrent": true,
              "mode": "immediate",
              "transition": {
               "duration": 0,
               "easing": "linear"
              }
             }
            ],
            "label": "2024-05-03",
            "method": "animate"
           },
           {
            "args": [
             [
              "2024-05-04"
             ],
             {
              "frame": {
               "duration": 0,
               "redraw": true
              },
              "fromcurrent": true,
              "mode": "immediate",
              "transition": {
               "duration": 0,
               "easing": "linear"
              }
             }
            ],
            "label": "2024-05-04",
            "method": "animate"
           },
           {
            "args": [
             [
              "2024-05-05"
             ],
             {
              "frame": {
               "duration": 0,
               "redraw": true
              },
              "fromcurrent": true,
              "mode": "immediate",
              "transition": {
               "duration": 0,
               "easing": "linear"
              }
             }
            ],
            "label": "2024-05-05",
            "method": "animate"
           },
           {
            "args": [
             [
              "2024-05-06"
             ],
             {
              "frame": {
               "duration": 0,
               "redraw": true
              },
              "fromcurrent": true,
              "mode": "immediate",
              "transition": {
               "duration": 0,
               "easing": "linear"
              }
             }
            ],
            "label": "2024-05-06",
            "method": "animate"
           },
           {
            "args": [
             [
              "2024-05-07"
             ],
             {
              "frame": {
               "duration": 0,
               "redraw": true
              },
              "fromcurrent": true,
              "mode": "immediate",
              "transition": {
               "duration": 0,
               "easing": "linear"
              }
             }
            ],
            "label": "2024-05-07",
            "method": "animate"
           },
           {
            "args": [
             [
              "2024-05-08"
             ],
             {
              "frame": {
               "duration": 0,
               "redraw": true
              },
              "fromcurrent": true,
              "mode": "immediate",
              "transition": {
               "duration": 0,
               "easing": "linear"
              }
             }
            ],
            "label": "2024-05-08",
            "method": "animate"
           },
           {
            "args": [
             [
              "2024-05-09"
             ],
             {
              "frame": {
               "duration": 0,
               "redraw": true
              },
              "fromcurrent": true,
              "mode": "immediate",
              "transition": {
               "duration": 0,
               "easing": "linear"
              }
             }
            ],
            "label": "2024-05-09",
            "method": "animate"
           },
           {
            "args": [
             [
              "2024-05-10"
             ],
             {
              "frame": {
               "duration": 0,
               "redraw": true
              },
              "fromcurrent": true,
              "mode": "immediate",
              "transition": {
               "duration": 0,
               "easing": "linear"
              }
             }
            ],
            "label": "2024-05-10",
            "method": "animate"
           },
           {
            "args": [
             [
              "2024-05-11"
             ],
             {
              "frame": {
               "duration": 0,
               "redraw": true
              },
              "fromcurrent": true,
              "mode": "immediate",
              "transition": {
               "duration": 0,
               "easing": "linear"
              }
             }
            ],
            "label": "2024-05-11",
            "method": "animate"
           },
           {
            "args": [
             [
              "2024-05-12"
             ],
             {
              "frame": {
               "duration": 0,
               "redraw": true
              },
              "fromcurrent": true,
              "mode": "immediate",
              "transition": {
               "duration": 0,
               "easing": "linear"
              }
             }
            ],
            "label": "2024-05-12",
            "method": "animate"
           },
           {
            "args": [
             [
              "2024-05-13"
             ],
             {
              "frame": {
               "duration": 0,
               "redraw": true
              },
              "fromcurrent": true,
              "mode": "immediate",
              "transition": {
               "duration": 0,
               "easing": "linear"
              }
             }
            ],
            "label": "2024-05-13",
            "method": "animate"
           },
           {
            "args": [
             [
              "2024-05-14"
             ],
             {
              "frame": {
               "duration": 0,
               "redraw": true
              },
              "fromcurrent": true,
              "mode": "immediate",
              "transition": {
               "duration": 0,
               "easing": "linear"
              }
             }
            ],
            "label": "2024-05-14",
            "method": "animate"
           },
           {
            "args": [
             [
              "2024-05-15"
             ],
             {
              "frame": {
               "duration": 0,
               "redraw": true
              },
              "fromcurrent": true,
              "mode": "immediate",
              "transition": {
               "duration": 0,
               "easing": "linear"
              }
             }
            ],
            "label": "2024-05-15",
            "method": "animate"
           },
           {
            "args": [
             [
              "2024-05-16"
             ],
             {
              "frame": {
               "duration": 0,
               "redraw": true
              },
              "fromcurrent": true,
              "mode": "immediate",
              "transition": {
               "duration": 0,
               "easing": "linear"
              }
             }
            ],
            "label": "2024-05-16",
            "method": "animate"
           },
           {
            "args": [
             [
              "2024-05-17"
             ],
             {
              "frame": {
               "duration": 0,
               "redraw": true
              },
              "fromcurrent": true,
              "mode": "immediate",
              "transition": {
               "duration": 0,
               "easing": "linear"
              }
             }
            ],
            "label": "2024-05-17",
            "method": "animate"
           },
           {
            "args": [
             [
              "2024-05-18"
             ],
             {
              "frame": {
               "duration": 0,
               "redraw": true
              },
              "fromcurrent": true,
              "mode": "immediate",
              "transition": {
               "duration": 0,
               "easing": "linear"
              }
             }
            ],
            "label": "2024-05-18",
            "method": "animate"
           },
           {
            "args": [
             [
              "2024-05-19"
             ],
             {
              "frame": {
               "duration": 0,
               "redraw": true
              },
              "fromcurrent": true,
              "mode": "immediate",
              "transition": {
               "duration": 0,
               "easing": "linear"
              }
             }
            ],
            "label": "2024-05-19",
            "method": "animate"
           },
           {
            "args": [
             [
              "2024-05-20"
             ],
             {
              "frame": {
               "duration": 0,
               "redraw": true
              },
              "fromcurrent": true,
              "mode": "immediate",
              "transition": {
               "duration": 0,
               "easing": "linear"
              }
             }
            ],
            "label": "2024-05-20",
            "method": "animate"
           },
           {
            "args": [
             [
              "2024-05-21"
             ],
             {
              "frame": {
               "duration": 0,
               "redraw": true
              },
              "fromcurrent": true,
              "mode": "immediate",
              "transition": {
               "duration": 0,
               "easing": "linear"
              }
             }
            ],
            "label": "2024-05-21",
            "method": "animate"
           },
           {
            "args": [
             [
              "2024-05-22"
             ],
             {
              "frame": {
               "duration": 0,
               "redraw": true
              },
              "fromcurrent": true,
              "mode": "immediate",
              "transition": {
               "duration": 0,
               "easing": "linear"
              }
             }
            ],
            "label": "2024-05-22",
            "method": "animate"
           },
           {
            "args": [
             [
              "2024-05-23"
             ],
             {
              "frame": {
               "duration": 0,
               "redraw": true
              },
              "fromcurrent": true,
              "mode": "immediate",
              "transition": {
               "duration": 0,
               "easing": "linear"
              }
             }
            ],
            "label": "2024-05-23",
            "method": "animate"
           },
           {
            "args": [
             [
              "2024-05-24"
             ],
             {
              "frame": {
               "duration": 0,
               "redraw": true
              },
              "fromcurrent": true,
              "mode": "immediate",
              "transition": {
               "duration": 0,
               "easing": "linear"
              }
             }
            ],
            "label": "2024-05-24",
            "method": "animate"
           },
           {
            "args": [
             [
              "2024-05-25"
             ],
             {
              "frame": {
               "duration": 0,
               "redraw": true
              },
              "fromcurrent": true,
              "mode": "immediate",
              "transition": {
               "duration": 0,
               "easing": "linear"
              }
             }
            ],
            "label": "2024-05-25",
            "method": "animate"
           },
           {
            "args": [
             [
              "2024-05-26"
             ],
             {
              "frame": {
               "duration": 0,
               "redraw": true
              },
              "fromcurrent": true,
              "mode": "immediate",
              "transition": {
               "duration": 0,
               "easing": "linear"
              }
             }
            ],
            "label": "2024-05-26",
            "method": "animate"
           },
           {
            "args": [
             [
              "2024-05-27"
             ],
             {
              "frame": {
               "duration": 0,
               "redraw": true
              },
              "fromcurrent": true,
              "mode": "immediate",
              "transition": {
               "duration": 0,
               "easing": "linear"
              }
             }
            ],
            "label": "2024-05-27",
            "method": "animate"
           },
           {
            "args": [
             [
              "2024-05-28"
             ],
             {
              "frame": {
               "duration": 0,
               "redraw": true
              },
              "fromcurrent": true,
              "mode": "immediate",
              "transition": {
               "duration": 0,
               "easing": "linear"
              }
             }
            ],
            "label": "2024-05-28",
            "method": "animate"
           },
           {
            "args": [
             [
              "2024-05-29"
             ],
             {
              "frame": {
               "duration": 0,
               "redraw": true
              },
              "fromcurrent": true,
              "mode": "immediate",
              "transition": {
               "duration": 0,
               "easing": "linear"
              }
             }
            ],
            "label": "2024-05-29",
            "method": "animate"
           },
           {
            "args": [
             [
              "2024-05-30"
             ],
             {
              "frame": {
               "duration": 0,
               "redraw": true
              },
              "fromcurrent": true,
              "mode": "immediate",
              "transition": {
               "duration": 0,
               "easing": "linear"
              }
             }
            ],
            "label": "2024-05-30",
            "method": "animate"
           },
           {
            "args": [
             [
              "2024-05-31"
             ],
             {
              "frame": {
               "duration": 0,
               "redraw": true
              },
              "fromcurrent": true,
              "mode": "immediate",
              "transition": {
               "duration": 0,
               "easing": "linear"
              }
             }
            ],
            "label": "2024-05-31",
            "method": "animate"
           },
           {
            "args": [
             [
              "2024-06-01"
             ],
             {
              "frame": {
               "duration": 0,
               "redraw": true
              },
              "fromcurrent": true,
              "mode": "immediate",
              "transition": {
               "duration": 0,
               "easing": "linear"
              }
             }
            ],
            "label": "2024-06-01",
            "method": "animate"
           },
           {
            "args": [
             [
              "2024-06-02"
             ],
             {
              "frame": {
               "duration": 0,
               "redraw": true
              },
              "fromcurrent": true,
              "mode": "immediate",
              "transition": {
               "duration": 0,
               "easing": "linear"
              }
             }
            ],
            "label": "2024-06-02",
            "method": "animate"
           },
           {
            "args": [
             [
              "2024-06-03"
             ],
             {
              "frame": {
               "duration": 0,
               "redraw": true
              },
              "fromcurrent": true,
              "mode": "immediate",
              "transition": {
               "duration": 0,
               "easing": "linear"
              }
             }
            ],
            "label": "2024-06-03",
            "method": "animate"
           },
           {
            "args": [
             [
              "2024-06-04"
             ],
             {
              "frame": {
               "duration": 0,
               "redraw": true
              },
              "fromcurrent": true,
              "mode": "immediate",
              "transition": {
               "duration": 0,
               "easing": "linear"
              }
             }
            ],
            "label": "2024-06-04",
            "method": "animate"
           },
           {
            "args": [
             [
              "2024-06-05"
             ],
             {
              "frame": {
               "duration": 0,
               "redraw": true
              },
              "fromcurrent": true,
              "mode": "immediate",
              "transition": {
               "duration": 0,
               "easing": "linear"
              }
             }
            ],
            "label": "2024-06-05",
            "method": "animate"
           },
           {
            "args": [
             [
              "2024-06-06"
             ],
             {
              "frame": {
               "duration": 0,
               "redraw": true
              },
              "fromcurrent": true,
              "mode": "immediate",
              "transition": {
               "duration": 0,
               "easing": "linear"
              }
             }
            ],
            "label": "2024-06-06",
            "method": "animate"
           },
           {
            "args": [
             [
              "2024-06-07"
             ],
             {
              "frame": {
               "duration": 0,
               "redraw": true
              },
              "fromcurrent": true,
              "mode": "immediate",
              "transition": {
               "duration": 0,
               "easing": "linear"
              }
             }
            ],
            "label": "2024-06-07",
            "method": "animate"
           },
           {
            "args": [
             [
              "2024-06-08"
             ],
             {
              "frame": {
               "duration": 0,
               "redraw": true
              },
              "fromcurrent": true,
              "mode": "immediate",
              "transition": {
               "duration": 0,
               "easing": "linear"
              }
             }
            ],
            "label": "2024-06-08",
            "method": "animate"
           },
           {
            "args": [
             [
              "2024-06-09"
             ],
             {
              "frame": {
               "duration": 0,
               "redraw": true
              },
              "fromcurrent": true,
              "mode": "immediate",
              "transition": {
               "duration": 0,
               "easing": "linear"
              }
             }
            ],
            "label": "2024-06-09",
            "method": "animate"
           },
           {
            "args": [
             [
              "2024-06-10"
             ],
             {
              "frame": {
               "duration": 0,
               "redraw": true
              },
              "fromcurrent": true,
              "mode": "immediate",
              "transition": {
               "duration": 0,
               "easing": "linear"
              }
             }
            ],
            "label": "2024-06-10",
            "method": "animate"
           },
           {
            "args": [
             [
              "2024-06-11"
             ],
             {
              "frame": {
               "duration": 0,
               "redraw": true
              },
              "fromcurrent": true,
              "mode": "immediate",
              "transition": {
               "duration": 0,
               "easing": "linear"
              }
             }
            ],
            "label": "2024-06-11",
            "method": "animate"
           },
           {
            "args": [
             [
              "2024-06-12"
             ],
             {
              "frame": {
               "duration": 0,
               "redraw": true
              },
              "fromcurrent": true,
              "mode": "immediate",
              "transition": {
               "duration": 0,
               "easing": "linear"
              }
             }
            ],
            "label": "2024-06-12",
            "method": "animate"
           },
           {
            "args": [
             [
              "2024-06-13"
             ],
             {
              "frame": {
               "duration": 0,
               "redraw": true
              },
              "fromcurrent": true,
              "mode": "immediate",
              "transition": {
               "duration": 0,
               "easing": "linear"
              }
             }
            ],
            "label": "2024-06-13",
            "method": "animate"
           },
           {
            "args": [
             [
              "2024-06-14"
             ],
             {
              "frame": {
               "duration": 0,
               "redraw": true
              },
              "fromcurrent": true,
              "mode": "immediate",
              "transition": {
               "duration": 0,
               "easing": "linear"
              }
             }
            ],
            "label": "2024-06-14",
            "method": "animate"
           },
           {
            "args": [
             [
              "2024-06-15"
             ],
             {
              "frame": {
               "duration": 0,
               "redraw": true
              },
              "fromcurrent": true,
              "mode": "immediate",
              "transition": {
               "duration": 0,
               "easing": "linear"
              }
             }
            ],
            "label": "2024-06-15",
            "method": "animate"
           },
           {
            "args": [
             [
              "2024-06-16"
             ],
             {
              "frame": {
               "duration": 0,
               "redraw": true
              },
              "fromcurrent": true,
              "mode": "immediate",
              "transition": {
               "duration": 0,
               "easing": "linear"
              }
             }
            ],
            "label": "2024-06-16",
            "method": "animate"
           },
           {
            "args": [
             [
              "2024-06-17"
             ],
             {
              "frame": {
               "duration": 0,
               "redraw": true
              },
              "fromcurrent": true,
              "mode": "immediate",
              "transition": {
               "duration": 0,
               "easing": "linear"
              }
             }
            ],
            "label": "2024-06-17",
            "method": "animate"
           },
           {
            "args": [
             [
              "2024-06-18"
             ],
             {
              "frame": {
               "duration": 0,
               "redraw": true
              },
              "fromcurrent": true,
              "mode": "immediate",
              "transition": {
               "duration": 0,
               "easing": "linear"
              }
             }
            ],
            "label": "2024-06-18",
            "method": "animate"
           },
           {
            "args": [
             [
              "2024-06-19"
             ],
             {
              "frame": {
               "duration": 0,
               "redraw": true
              },
              "fromcurrent": true,
              "mode": "immediate",
              "transition": {
               "duration": 0,
               "easing": "linear"
              }
             }
            ],
            "label": "2024-06-19",
            "method": "animate"
           },
           {
            "args": [
             [
              "2024-06-20"
             ],
             {
              "frame": {
               "duration": 0,
               "redraw": true
              },
              "fromcurrent": true,
              "mode": "immediate",
              "transition": {
               "duration": 0,
               "easing": "linear"
              }
             }
            ],
            "label": "2024-06-20",
            "method": "animate"
           },
           {
            "args": [
             [
              "2024-06-21"
             ],
             {
              "frame": {
               "duration": 0,
               "redraw": true
              },
              "fromcurrent": true,
              "mode": "immediate",
              "transition": {
               "duration": 0,
               "easing": "linear"
              }
             }
            ],
            "label": "2024-06-21",
            "method": "animate"
           },
           {
            "args": [
             [
              "2024-06-22"
             ],
             {
              "frame": {
               "duration": 0,
               "redraw": true
              },
              "fromcurrent": true,
              "mode": "immediate",
              "transition": {
               "duration": 0,
               "easing": "linear"
              }
             }
            ],
            "label": "2024-06-22",
            "method": "animate"
           },
           {
            "args": [
             [
              "2024-06-23"
             ],
             {
              "frame": {
               "duration": 0,
               "redraw": true
              },
              "fromcurrent": true,
              "mode": "immediate",
              "transition": {
               "duration": 0,
               "easing": "linear"
              }
             }
            ],
            "label": "2024-06-23",
            "method": "animate"
           },
           {
            "args": [
             [
              "2024-06-24"
             ],
             {
              "frame": {
               "duration": 0,
               "redraw": true
              },
              "fromcurrent": true,
              "mode": "immediate",
              "transition": {
               "duration": 0,
               "easing": "linear"
              }
             }
            ],
            "label": "2024-06-24",
            "method": "animate"
           },
           {
            "args": [
             [
              "2024-06-25"
             ],
             {
              "frame": {
               "duration": 0,
               "redraw": true
              },
              "fromcurrent": true,
              "mode": "immediate",
              "transition": {
               "duration": 0,
               "easing": "linear"
              }
             }
            ],
            "label": "2024-06-25",
            "method": "animate"
           },
           {
            "args": [
             [
              "2024-06-26"
             ],
             {
              "frame": {
               "duration": 0,
               "redraw": true
              },
              "fromcurrent": true,
              "mode": "immediate",
              "transition": {
               "duration": 0,
               "easing": "linear"
              }
             }
            ],
            "label": "2024-06-26",
            "method": "animate"
           },
           {
            "args": [
             [
              "2024-06-27"
             ],
             {
              "frame": {
               "duration": 0,
               "redraw": true
              },
              "fromcurrent": true,
              "mode": "immediate",
              "transition": {
               "duration": 0,
               "easing": "linear"
              }
             }
            ],
            "label": "2024-06-27",
            "method": "animate"
           },
           {
            "args": [
             [
              "2024-06-28"
             ],
             {
              "frame": {
               "duration": 0,
               "redraw": true
              },
              "fromcurrent": true,
              "mode": "immediate",
              "transition": {
               "duration": 0,
               "easing": "linear"
              }
             }
            ],
            "label": "2024-06-28",
            "method": "animate"
           },
           {
            "args": [
             [
              "2024-06-29"
             ],
             {
              "frame": {
               "duration": 0,
               "redraw": true
              },
              "fromcurrent": true,
              "mode": "immediate",
              "transition": {
               "duration": 0,
               "easing": "linear"
              }
             }
            ],
            "label": "2024-06-29",
            "method": "animate"
           },
           {
            "args": [
             [
              "2024-06-30"
             ],
             {
              "frame": {
               "duration": 0,
               "redraw": true
              },
              "fromcurrent": true,
              "mode": "immediate",
              "transition": {
               "duration": 0,
               "easing": "linear"
              }
             }
            ],
            "label": "2024-06-30",
            "method": "animate"
           },
           {
            "args": [
             [
              "2024-07-01"
             ],
             {
              "frame": {
               "duration": 0,
               "redraw": true
              },
              "fromcurrent": true,
              "mode": "immediate",
              "transition": {
               "duration": 0,
               "easing": "linear"
              }
             }
            ],
            "label": "2024-07-01",
            "method": "animate"
           },
           {
            "args": [
             [
              "2024-07-02"
             ],
             {
              "frame": {
               "duration": 0,
               "redraw": true
              },
              "fromcurrent": true,
              "mode": "immediate",
              "transition": {
               "duration": 0,
               "easing": "linear"
              }
             }
            ],
            "label": "2024-07-02",
            "method": "animate"
           },
           {
            "args": [
             [
              "2024-07-03"
             ],
             {
              "frame": {
               "duration": 0,
               "redraw": true
              },
              "fromcurrent": true,
              "mode": "immediate",
              "transition": {
               "duration": 0,
               "easing": "linear"
              }
             }
            ],
            "label": "2024-07-03",
            "method": "animate"
           },
           {
            "args": [
             [
              "2024-07-04"
             ],
             {
              "frame": {
               "duration": 0,
               "redraw": true
              },
              "fromcurrent": true,
              "mode": "immediate",
              "transition": {
               "duration": 0,
               "easing": "linear"
              }
             }
            ],
            "label": "2024-07-04",
            "method": "animate"
           },
           {
            "args": [
             [
              "2024-07-05"
             ],
             {
              "frame": {
               "duration": 0,
               "redraw": true
              },
              "fromcurrent": true,
              "mode": "immediate",
              "transition": {
               "duration": 0,
               "easing": "linear"
              }
             }
            ],
            "label": "2024-07-05",
            "method": "animate"
           },
           {
            "args": [
             [
              "2024-07-06"
             ],
             {
              "frame": {
               "duration": 0,
               "redraw": true
              },
              "fromcurrent": true,
              "mode": "immediate",
              "transition": {
               "duration": 0,
               "easing": "linear"
              }
             }
            ],
            "label": "2024-07-06",
            "method": "animate"
           },
           {
            "args": [
             [
              "2024-07-07"
             ],
             {
              "frame": {
               "duration": 0,
               "redraw": true
              },
              "fromcurrent": true,
              "mode": "immediate",
              "transition": {
               "duration": 0,
               "easing": "linear"
              }
             }
            ],
            "label": "2024-07-07",
            "method": "animate"
           },
           {
            "args": [
             [
              "2024-07-08"
             ],
             {
              "frame": {
               "duration": 0,
               "redraw": true
              },
              "fromcurrent": true,
              "mode": "immediate",
              "transition": {
               "duration": 0,
               "easing": "linear"
              }
             }
            ],
            "label": "2024-07-08",
            "method": "animate"
           },
           {
            "args": [
             [
              "2024-07-09"
             ],
             {
              "frame": {
               "duration": 0,
               "redraw": true
              },
              "fromcurrent": true,
              "mode": "immediate",
              "transition": {
               "duration": 0,
               "easing": "linear"
              }
             }
            ],
            "label": "2024-07-09",
            "method": "animate"
           },
           {
            "args": [
             [
              "2024-07-10"
             ],
             {
              "frame": {
               "duration": 0,
               "redraw": true
              },
              "fromcurrent": true,
              "mode": "immediate",
              "transition": {
               "duration": 0,
               "easing": "linear"
              }
             }
            ],
            "label": "2024-07-10",
            "method": "animate"
           },
           {
            "args": [
             [
              "2024-07-11"
             ],
             {
              "frame": {
               "duration": 0,
               "redraw": true
              },
              "fromcurrent": true,
              "mode": "immediate",
              "transition": {
               "duration": 0,
               "easing": "linear"
              }
             }
            ],
            "label": "2024-07-11",
            "method": "animate"
           },
           {
            "args": [
             [
              "2024-07-12"
             ],
             {
              "frame": {
               "duration": 0,
               "redraw": true
              },
              "fromcurrent": true,
              "mode": "immediate",
              "transition": {
               "duration": 0,
               "easing": "linear"
              }
             }
            ],
            "label": "2024-07-12",
            "method": "animate"
           },
           {
            "args": [
             [
              "2024-07-13"
             ],
             {
              "frame": {
               "duration": 0,
               "redraw": true
              },
              "fromcurrent": true,
              "mode": "immediate",
              "transition": {
               "duration": 0,
               "easing": "linear"
              }
             }
            ],
            "label": "2024-07-13",
            "method": "animate"
           },
           {
            "args": [
             [
              "2024-07-14"
             ],
             {
              "frame": {
               "duration": 0,
               "redraw": true
              },
              "fromcurrent": true,
              "mode": "immediate",
              "transition": {
               "duration": 0,
               "easing": "linear"
              }
             }
            ],
            "label": "2024-07-14",
            "method": "animate"
           },
           {
            "args": [
             [
              "2024-07-15"
             ],
             {
              "frame": {
               "duration": 0,
               "redraw": true
              },
              "fromcurrent": true,
              "mode": "immediate",
              "transition": {
               "duration": 0,
               "easing": "linear"
              }
             }
            ],
            "label": "2024-07-15",
            "method": "animate"
           },
           {
            "args": [
             [
              "2024-07-16"
             ],
             {
              "frame": {
               "duration": 0,
               "redraw": true
              },
              "fromcurrent": true,
              "mode": "immediate",
              "transition": {
               "duration": 0,
               "easing": "linear"
              }
             }
            ],
            "label": "2024-07-16",
            "method": "animate"
           },
           {
            "args": [
             [
              "2024-07-17"
             ],
             {
              "frame": {
               "duration": 0,
               "redraw": true
              },
              "fromcurrent": true,
              "mode": "immediate",
              "transition": {
               "duration": 0,
               "easing": "linear"
              }
             }
            ],
            "label": "2024-07-17",
            "method": "animate"
           },
           {
            "args": [
             [
              "2024-07-18"
             ],
             {
              "frame": {
               "duration": 0,
               "redraw": true
              },
              "fromcurrent": true,
              "mode": "immediate",
              "transition": {
               "duration": 0,
               "easing": "linear"
              }
             }
            ],
            "label": "2024-07-18",
            "method": "animate"
           },
           {
            "args": [
             [
              "2024-07-19"
             ],
             {
              "frame": {
               "duration": 0,
               "redraw": true
              },
              "fromcurrent": true,
              "mode": "immediate",
              "transition": {
               "duration": 0,
               "easing": "linear"
              }
             }
            ],
            "label": "2024-07-19",
            "method": "animate"
           },
           {
            "args": [
             [
              "2024-07-20"
             ],
             {
              "frame": {
               "duration": 0,
               "redraw": true
              },
              "fromcurrent": true,
              "mode": "immediate",
              "transition": {
               "duration": 0,
               "easing": "linear"
              }
             }
            ],
            "label": "2024-07-20",
            "method": "animate"
           },
           {
            "args": [
             [
              "2024-07-21"
             ],
             {
              "frame": {
               "duration": 0,
               "redraw": true
              },
              "fromcurrent": true,
              "mode": "immediate",
              "transition": {
               "duration": 0,
               "easing": "linear"
              }
             }
            ],
            "label": "2024-07-21",
            "method": "animate"
           },
           {
            "args": [
             [
              "2024-07-22"
             ],
             {
              "frame": {
               "duration": 0,
               "redraw": true
              },
              "fromcurrent": true,
              "mode": "immediate",
              "transition": {
               "duration": 0,
               "easing": "linear"
              }
             }
            ],
            "label": "2024-07-22",
            "method": "animate"
           },
           {
            "args": [
             [
              "2024-07-23"
             ],
             {
              "frame": {
               "duration": 0,
               "redraw": true
              },
              "fromcurrent": true,
              "mode": "immediate",
              "transition": {
               "duration": 0,
               "easing": "linear"
              }
             }
            ],
            "label": "2024-07-23",
            "method": "animate"
           },
           {
            "args": [
             [
              "2024-07-24"
             ],
             {
              "frame": {
               "duration": 0,
               "redraw": true
              },
              "fromcurrent": true,
              "mode": "immediate",
              "transition": {
               "duration": 0,
               "easing": "linear"
              }
             }
            ],
            "label": "2024-07-24",
            "method": "animate"
           },
           {
            "args": [
             [
              "2024-07-25"
             ],
             {
              "frame": {
               "duration": 0,
               "redraw": true
              },
              "fromcurrent": true,
              "mode": "immediate",
              "transition": {
               "duration": 0,
               "easing": "linear"
              }
             }
            ],
            "label": "2024-07-25",
            "method": "animate"
           },
           {
            "args": [
             [
              "2024-07-26"
             ],
             {
              "frame": {
               "duration": 0,
               "redraw": true
              },
              "fromcurrent": true,
              "mode": "immediate",
              "transition": {
               "duration": 0,
               "easing": "linear"
              }
             }
            ],
            "label": "2024-07-26",
            "method": "animate"
           },
           {
            "args": [
             [
              "2024-07-27"
             ],
             {
              "frame": {
               "duration": 0,
               "redraw": true
              },
              "fromcurrent": true,
              "mode": "immediate",
              "transition": {
               "duration": 0,
               "easing": "linear"
              }
             }
            ],
            "label": "2024-07-27",
            "method": "animate"
           },
           {
            "args": [
             [
              "2024-07-28"
             ],
             {
              "frame": {
               "duration": 0,
               "redraw": true
              },
              "fromcurrent": true,
              "mode": "immediate",
              "transition": {
               "duration": 0,
               "easing": "linear"
              }
             }
            ],
            "label": "2024-07-28",
            "method": "animate"
           },
           {
            "args": [
             [
              "2024-07-29"
             ],
             {
              "frame": {
               "duration": 0,
               "redraw": true
              },
              "fromcurrent": true,
              "mode": "immediate",
              "transition": {
               "duration": 0,
               "easing": "linear"
              }
             }
            ],
            "label": "2024-07-29",
            "method": "animate"
           },
           {
            "args": [
             [
              "2024-07-30"
             ],
             {
              "frame": {
               "duration": 0,
               "redraw": true
              },
              "fromcurrent": true,
              "mode": "immediate",
              "transition": {
               "duration": 0,
               "easing": "linear"
              }
             }
            ],
            "label": "2024-07-30",
            "method": "animate"
           },
           {
            "args": [
             [
              "2024-07-31"
             ],
             {
              "frame": {
               "duration": 0,
               "redraw": true
              },
              "fromcurrent": true,
              "mode": "immediate",
              "transition": {
               "duration": 0,
               "easing": "linear"
              }
             }
            ],
            "label": "2024-07-31",
            "method": "animate"
           },
           {
            "args": [
             [
              "2024-08-01"
             ],
             {
              "frame": {
               "duration": 0,
               "redraw": true
              },
              "fromcurrent": true,
              "mode": "immediate",
              "transition": {
               "duration": 0,
               "easing": "linear"
              }
             }
            ],
            "label": "2024-08-01",
            "method": "animate"
           },
           {
            "args": [
             [
              "2024-08-02"
             ],
             {
              "frame": {
               "duration": 0,
               "redraw": true
              },
              "fromcurrent": true,
              "mode": "immediate",
              "transition": {
               "duration": 0,
               "easing": "linear"
              }
             }
            ],
            "label": "2024-08-02",
            "method": "animate"
           },
           {
            "args": [
             [
              "2024-08-03"
             ],
             {
              "frame": {
               "duration": 0,
               "redraw": true
              },
              "fromcurrent": true,
              "mode": "immediate",
              "transition": {
               "duration": 0,
               "easing": "linear"
              }
             }
            ],
            "label": "2024-08-03",
            "method": "animate"
           },
           {
            "args": [
             [
              "2024-08-04"
             ],
             {
              "frame": {
               "duration": 0,
               "redraw": true
              },
              "fromcurrent": true,
              "mode": "immediate",
              "transition": {
               "duration": 0,
               "easing": "linear"
              }
             }
            ],
            "label": "2024-08-04",
            "method": "animate"
           },
           {
            "args": [
             [
              "2024-08-05"
             ],
             {
              "frame": {
               "duration": 0,
               "redraw": true
              },
              "fromcurrent": true,
              "mode": "immediate",
              "transition": {
               "duration": 0,
               "easing": "linear"
              }
             }
            ],
            "label": "2024-08-05",
            "method": "animate"
           },
           {
            "args": [
             [
              "2024-08-06"
             ],
             {
              "frame": {
               "duration": 0,
               "redraw": true
              },
              "fromcurrent": true,
              "mode": "immediate",
              "transition": {
               "duration": 0,
               "easing": "linear"
              }
             }
            ],
            "label": "2024-08-06",
            "method": "animate"
           },
           {
            "args": [
             [
              "2024-08-07"
             ],
             {
              "frame": {
               "duration": 0,
               "redraw": true
              },
              "fromcurrent": true,
              "mode": "immediate",
              "transition": {
               "duration": 0,
               "easing": "linear"
              }
             }
            ],
            "label": "2024-08-07",
            "method": "animate"
           },
           {
            "args": [
             [
              "2024-08-08"
             ],
             {
              "frame": {
               "duration": 0,
               "redraw": true
              },
              "fromcurrent": true,
              "mode": "immediate",
              "transition": {
               "duration": 0,
               "easing": "linear"
              }
             }
            ],
            "label": "2024-08-08",
            "method": "animate"
           },
           {
            "args": [
             [
              "2024-08-09"
             ],
             {
              "frame": {
               "duration": 0,
               "redraw": true
              },
              "fromcurrent": true,
              "mode": "immediate",
              "transition": {
               "duration": 0,
               "easing": "linear"
              }
             }
            ],
            "label": "2024-08-09",
            "method": "animate"
           },
           {
            "args": [
             [
              "2024-08-10"
             ],
             {
              "frame": {
               "duration": 0,
               "redraw": true
              },
              "fromcurrent": true,
              "mode": "immediate",
              "transition": {
               "duration": 0,
               "easing": "linear"
              }
             }
            ],
            "label": "2024-08-10",
            "method": "animate"
           },
           {
            "args": [
             [
              "2024-08-11"
             ],
             {
              "frame": {
               "duration": 0,
               "redraw": true
              },
              "fromcurrent": true,
              "mode": "immediate",
              "transition": {
               "duration": 0,
               "easing": "linear"
              }
             }
            ],
            "label": "2024-08-11",
            "method": "animate"
           },
           {
            "args": [
             [
              "2024-08-12"
             ],
             {
              "frame": {
               "duration": 0,
               "redraw": true
              },
              "fromcurrent": true,
              "mode": "immediate",
              "transition": {
               "duration": 0,
               "easing": "linear"
              }
             }
            ],
            "label": "2024-08-12",
            "method": "animate"
           },
           {
            "args": [
             [
              "2024-08-13"
             ],
             {
              "frame": {
               "duration": 0,
               "redraw": true
              },
              "fromcurrent": true,
              "mode": "immediate",
              "transition": {
               "duration": 0,
               "easing": "linear"
              }
             }
            ],
            "label": "2024-08-13",
            "method": "animate"
           },
           {
            "args": [
             [
              "2024-08-14"
             ],
             {
              "frame": {
               "duration": 0,
               "redraw": true
              },
              "fromcurrent": true,
              "mode": "immediate",
              "transition": {
               "duration": 0,
               "easing": "linear"
              }
             }
            ],
            "label": "2024-08-14",
            "method": "animate"
           },
           {
            "args": [
             [
              "2024-08-15"
             ],
             {
              "frame": {
               "duration": 0,
               "redraw": true
              },
              "fromcurrent": true,
              "mode": "immediate",
              "transition": {
               "duration": 0,
               "easing": "linear"
              }
             }
            ],
            "label": "2024-08-15",
            "method": "animate"
           },
           {
            "args": [
             [
              "2024-08-16"
             ],
             {
              "frame": {
               "duration": 0,
               "redraw": true
              },
              "fromcurrent": true,
              "mode": "immediate",
              "transition": {
               "duration": 0,
               "easing": "linear"
              }
             }
            ],
            "label": "2024-08-16",
            "method": "animate"
           },
           {
            "args": [
             [
              "2024-08-17"
             ],
             {
              "frame": {
               "duration": 0,
               "redraw": true
              },
              "fromcurrent": true,
              "mode": "immediate",
              "transition": {
               "duration": 0,
               "easing": "linear"
              }
             }
            ],
            "label": "2024-08-17",
            "method": "animate"
           },
           {
            "args": [
             [
              "2024-08-18"
             ],
             {
              "frame": {
               "duration": 0,
               "redraw": true
              },
              "fromcurrent": true,
              "mode": "immediate",
              "transition": {
               "duration": 0,
               "easing": "linear"
              }
             }
            ],
            "label": "2024-08-18",
            "method": "animate"
           },
           {
            "args": [
             [
              "2024-08-19"
             ],
             {
              "frame": {
               "duration": 0,
               "redraw": true
              },
              "fromcurrent": true,
              "mode": "immediate",
              "transition": {
               "duration": 0,
               "easing": "linear"
              }
             }
            ],
            "label": "2024-08-19",
            "method": "animate"
           },
           {
            "args": [
             [
              "2024-08-20"
             ],
             {
              "frame": {
               "duration": 0,
               "redraw": true
              },
              "fromcurrent": true,
              "mode": "immediate",
              "transition": {
               "duration": 0,
               "easing": "linear"
              }
             }
            ],
            "label": "2024-08-20",
            "method": "animate"
           },
           {
            "args": [
             [
              "2024-08-21"
             ],
             {
              "frame": {
               "duration": 0,
               "redraw": true
              },
              "fromcurrent": true,
              "mode": "immediate",
              "transition": {
               "duration": 0,
               "easing": "linear"
              }
             }
            ],
            "label": "2024-08-21",
            "method": "animate"
           },
           {
            "args": [
             [
              "2024-08-22"
             ],
             {
              "frame": {
               "duration": 0,
               "redraw": true
              },
              "fromcurrent": true,
              "mode": "immediate",
              "transition": {
               "duration": 0,
               "easing": "linear"
              }
             }
            ],
            "label": "2024-08-22",
            "method": "animate"
           },
           {
            "args": [
             [
              "2024-08-23"
             ],
             {
              "frame": {
               "duration": 0,
               "redraw": true
              },
              "fromcurrent": true,
              "mode": "immediate",
              "transition": {
               "duration": 0,
               "easing": "linear"
              }
             }
            ],
            "label": "2024-08-23",
            "method": "animate"
           },
           {
            "args": [
             [
              "2024-08-24"
             ],
             {
              "frame": {
               "duration": 0,
               "redraw": true
              },
              "fromcurrent": true,
              "mode": "immediate",
              "transition": {
               "duration": 0,
               "easing": "linear"
              }
             }
            ],
            "label": "2024-08-24",
            "method": "animate"
           },
           {
            "args": [
             [
              "2024-08-25"
             ],
             {
              "frame": {
               "duration": 0,
               "redraw": true
              },
              "fromcurrent": true,
              "mode": "immediate",
              "transition": {
               "duration": 0,
               "easing": "linear"
              }
             }
            ],
            "label": "2024-08-25",
            "method": "animate"
           },
           {
            "args": [
             [
              "2024-08-26"
             ],
             {
              "frame": {
               "duration": 0,
               "redraw": true
              },
              "fromcurrent": true,
              "mode": "immediate",
              "transition": {
               "duration": 0,
               "easing": "linear"
              }
             }
            ],
            "label": "2024-08-26",
            "method": "animate"
           },
           {
            "args": [
             [
              "2024-08-27"
             ],
             {
              "frame": {
               "duration": 0,
               "redraw": true
              },
              "fromcurrent": true,
              "mode": "immediate",
              "transition": {
               "duration": 0,
               "easing": "linear"
              }
             }
            ],
            "label": "2024-08-27",
            "method": "animate"
           },
           {
            "args": [
             [
              "2024-08-28"
             ],
             {
              "frame": {
               "duration": 0,
               "redraw": true
              },
              "fromcurrent": true,
              "mode": "immediate",
              "transition": {
               "duration": 0,
               "easing": "linear"
              }
             }
            ],
            "label": "2024-08-28",
            "method": "animate"
           },
           {
            "args": [
             [
              "2024-08-29"
             ],
             {
              "frame": {
               "duration": 0,
               "redraw": true
              },
              "fromcurrent": true,
              "mode": "immediate",
              "transition": {
               "duration": 0,
               "easing": "linear"
              }
             }
            ],
            "label": "2024-08-29",
            "method": "animate"
           },
           {
            "args": [
             [
              "2024-08-30"
             ],
             {
              "frame": {
               "duration": 0,
               "redraw": true
              },
              "fromcurrent": true,
              "mode": "immediate",
              "transition": {
               "duration": 0,
               "easing": "linear"
              }
             }
            ],
            "label": "2024-08-30",
            "method": "animate"
           },
           {
            "args": [
             [
              "2024-08-31"
             ],
             {
              "frame": {
               "duration": 0,
               "redraw": true
              },
              "fromcurrent": true,
              "mode": "immediate",
              "transition": {
               "duration": 0,
               "easing": "linear"
              }
             }
            ],
            "label": "2024-08-31",
            "method": "animate"
           },
           {
            "args": [
             [
              "2024-09-01"
             ],
             {
              "frame": {
               "duration": 0,
               "redraw": true
              },
              "fromcurrent": true,
              "mode": "immediate",
              "transition": {
               "duration": 0,
               "easing": "linear"
              }
             }
            ],
            "label": "2024-09-01",
            "method": "animate"
           },
           {
            "args": [
             [
              "2024-09-02"
             ],
             {
              "frame": {
               "duration": 0,
               "redraw": true
              },
              "fromcurrent": true,
              "mode": "immediate",
              "transition": {
               "duration": 0,
               "easing": "linear"
              }
             }
            ],
            "label": "2024-09-02",
            "method": "animate"
           },
           {
            "args": [
             [
              "2024-09-03"
             ],
             {
              "frame": {
               "duration": 0,
               "redraw": true
              },
              "fromcurrent": true,
              "mode": "immediate",
              "transition": {
               "duration": 0,
               "easing": "linear"
              }
             }
            ],
            "label": "2024-09-03",
            "method": "animate"
           },
           {
            "args": [
             [
              "2024-09-04"
             ],
             {
              "frame": {
               "duration": 0,
               "redraw": true
              },
              "fromcurrent": true,
              "mode": "immediate",
              "transition": {
               "duration": 0,
               "easing": "linear"
              }
             }
            ],
            "label": "2024-09-04",
            "method": "animate"
           },
           {
            "args": [
             [
              "2024-09-05"
             ],
             {
              "frame": {
               "duration": 0,
               "redraw": true
              },
              "fromcurrent": true,
              "mode": "immediate",
              "transition": {
               "duration": 0,
               "easing": "linear"
              }
             }
            ],
            "label": "2024-09-05",
            "method": "animate"
           },
           {
            "args": [
             [
              "2024-09-06"
             ],
             {
              "frame": {
               "duration": 0,
               "redraw": true
              },
              "fromcurrent": true,
              "mode": "immediate",
              "transition": {
               "duration": 0,
               "easing": "linear"
              }
             }
            ],
            "label": "2024-09-06",
            "method": "animate"
           },
           {
            "args": [
             [
              "2024-09-07"
             ],
             {
              "frame": {
               "duration": 0,
               "redraw": true
              },
              "fromcurrent": true,
              "mode": "immediate",
              "transition": {
               "duration": 0,
               "easing": "linear"
              }
             }
            ],
            "label": "2024-09-07",
            "method": "animate"
           },
           {
            "args": [
             [
              "2024-09-08"
             ],
             {
              "frame": {
               "duration": 0,
               "redraw": true
              },
              "fromcurrent": true,
              "mode": "immediate",
              "transition": {
               "duration": 0,
               "easing": "linear"
              }
             }
            ],
            "label": "2024-09-08",
            "method": "animate"
           },
           {
            "args": [
             [
              "2024-09-09"
             ],
             {
              "frame": {
               "duration": 0,
               "redraw": true
              },
              "fromcurrent": true,
              "mode": "immediate",
              "transition": {
               "duration": 0,
               "easing": "linear"
              }
             }
            ],
            "label": "2024-09-09",
            "method": "animate"
           },
           {
            "args": [
             [
              "2024-09-10"
             ],
             {
              "frame": {
               "duration": 0,
               "redraw": true
              },
              "fromcurrent": true,
              "mode": "immediate",
              "transition": {
               "duration": 0,
               "easing": "linear"
              }
             }
            ],
            "label": "2024-09-10",
            "method": "animate"
           },
           {
            "args": [
             [
              "2024-09-11"
             ],
             {
              "frame": {
               "duration": 0,
               "redraw": true
              },
              "fromcurrent": true,
              "mode": "immediate",
              "transition": {
               "duration": 0,
               "easing": "linear"
              }
             }
            ],
            "label": "2024-09-11",
            "method": "animate"
           },
           {
            "args": [
             [
              "2024-09-12"
             ],
             {
              "frame": {
               "duration": 0,
               "redraw": true
              },
              "fromcurrent": true,
              "mode": "immediate",
              "transition": {
               "duration": 0,
               "easing": "linear"
              }
             }
            ],
            "label": "2024-09-12",
            "method": "animate"
           },
           {
            "args": [
             [
              "2024-09-13"
             ],
             {
              "frame": {
               "duration": 0,
               "redraw": true
              },
              "fromcurrent": true,
              "mode": "immediate",
              "transition": {
               "duration": 0,
               "easing": "linear"
              }
             }
            ],
            "label": "2024-09-13",
            "method": "animate"
           },
           {
            "args": [
             [
              "2024-09-14"
             ],
             {
              "frame": {
               "duration": 0,
               "redraw": true
              },
              "fromcurrent": true,
              "mode": "immediate",
              "transition": {
               "duration": 0,
               "easing": "linear"
              }
             }
            ],
            "label": "2024-09-14",
            "method": "animate"
           },
           {
            "args": [
             [
              "2024-09-15"
             ],
             {
              "frame": {
               "duration": 0,
               "redraw": true
              },
              "fromcurrent": true,
              "mode": "immediate",
              "transition": {
               "duration": 0,
               "easing": "linear"
              }
             }
            ],
            "label": "2024-09-15",
            "method": "animate"
           },
           {
            "args": [
             [
              "2024-09-16"
             ],
             {
              "frame": {
               "duration": 0,
               "redraw": true
              },
              "fromcurrent": true,
              "mode": "immediate",
              "transition": {
               "duration": 0,
               "easing": "linear"
              }
             }
            ],
            "label": "2024-09-16",
            "method": "animate"
           },
           {
            "args": [
             [
              "2024-09-17"
             ],
             {
              "frame": {
               "duration": 0,
               "redraw": true
              },
              "fromcurrent": true,
              "mode": "immediate",
              "transition": {
               "duration": 0,
               "easing": "linear"
              }
             }
            ],
            "label": "2024-09-17",
            "method": "animate"
           },
           {
            "args": [
             [
              "2024-09-18"
             ],
             {
              "frame": {
               "duration": 0,
               "redraw": true
              },
              "fromcurrent": true,
              "mode": "immediate",
              "transition": {
               "duration": 0,
               "easing": "linear"
              }
             }
            ],
            "label": "2024-09-18",
            "method": "animate"
           },
           {
            "args": [
             [
              "2024-09-19"
             ],
             {
              "frame": {
               "duration": 0,
               "redraw": true
              },
              "fromcurrent": true,
              "mode": "immediate",
              "transition": {
               "duration": 0,
               "easing": "linear"
              }
             }
            ],
            "label": "2024-09-19",
            "method": "animate"
           },
           {
            "args": [
             [
              "2024-09-20"
             ],
             {
              "frame": {
               "duration": 0,
               "redraw": true
              },
              "fromcurrent": true,
              "mode": "immediate",
              "transition": {
               "duration": 0,
               "easing": "linear"
              }
             }
            ],
            "label": "2024-09-20",
            "method": "animate"
           },
           {
            "args": [
             [
              "2024-09-21"
             ],
             {
              "frame": {
               "duration": 0,
               "redraw": true
              },
              "fromcurrent": true,
              "mode": "immediate",
              "transition": {
               "duration": 0,
               "easing": "linear"
              }
             }
            ],
            "label": "2024-09-21",
            "method": "animate"
           },
           {
            "args": [
             [
              "2024-09-22"
             ],
             {
              "frame": {
               "duration": 0,
               "redraw": true
              },
              "fromcurrent": true,
              "mode": "immediate",
              "transition": {
               "duration": 0,
               "easing": "linear"
              }
             }
            ],
            "label": "2024-09-22",
            "method": "animate"
           },
           {
            "args": [
             [
              "2024-09-23"
             ],
             {
              "frame": {
               "duration": 0,
               "redraw": true
              },
              "fromcurrent": true,
              "mode": "immediate",
              "transition": {
               "duration": 0,
               "easing": "linear"
              }
             }
            ],
            "label": "2024-09-23",
            "method": "animate"
           },
           {
            "args": [
             [
              "2024-09-24"
             ],
             {
              "frame": {
               "duration": 0,
               "redraw": true
              },
              "fromcurrent": true,
              "mode": "immediate",
              "transition": {
               "duration": 0,
               "easing": "linear"
              }
             }
            ],
            "label": "2024-09-24",
            "method": "animate"
           },
           {
            "args": [
             [
              "2024-09-25"
             ],
             {
              "frame": {
               "duration": 0,
               "redraw": true
              },
              "fromcurrent": true,
              "mode": "immediate",
              "transition": {
               "duration": 0,
               "easing": "linear"
              }
             }
            ],
            "label": "2024-09-25",
            "method": "animate"
           },
           {
            "args": [
             [
              "2024-09-26"
             ],
             {
              "frame": {
               "duration": 0,
               "redraw": true
              },
              "fromcurrent": true,
              "mode": "immediate",
              "transition": {
               "duration": 0,
               "easing": "linear"
              }
             }
            ],
            "label": "2024-09-26",
            "method": "animate"
           },
           {
            "args": [
             [
              "2024-09-27"
             ],
             {
              "frame": {
               "duration": 0,
               "redraw": true
              },
              "fromcurrent": true,
              "mode": "immediate",
              "transition": {
               "duration": 0,
               "easing": "linear"
              }
             }
            ],
            "label": "2024-09-27",
            "method": "animate"
           },
           {
            "args": [
             [
              "2024-09-28"
             ],
             {
              "frame": {
               "duration": 0,
               "redraw": true
              },
              "fromcurrent": true,
              "mode": "immediate",
              "transition": {
               "duration": 0,
               "easing": "linear"
              }
             }
            ],
            "label": "2024-09-28",
            "method": "animate"
           },
           {
            "args": [
             [
              "2024-09-29"
             ],
             {
              "frame": {
               "duration": 0,
               "redraw": true
              },
              "fromcurrent": true,
              "mode": "immediate",
              "transition": {
               "duration": 0,
               "easing": "linear"
              }
             }
            ],
            "label": "2024-09-29",
            "method": "animate"
           },
           {
            "args": [
             [
              "2024-09-30"
             ],
             {
              "frame": {
               "duration": 0,
               "redraw": true
              },
              "fromcurrent": true,
              "mode": "immediate",
              "transition": {
               "duration": 0,
               "easing": "linear"
              }
             }
            ],
            "label": "2024-09-30",
            "method": "animate"
           },
           {
            "args": [
             [
              "2024-10-01"
             ],
             {
              "frame": {
               "duration": 0,
               "redraw": true
              },
              "fromcurrent": true,
              "mode": "immediate",
              "transition": {
               "duration": 0,
               "easing": "linear"
              }
             }
            ],
            "label": "2024-10-01",
            "method": "animate"
           },
           {
            "args": [
             [
              "2024-10-02"
             ],
             {
              "frame": {
               "duration": 0,
               "redraw": true
              },
              "fromcurrent": true,
              "mode": "immediate",
              "transition": {
               "duration": 0,
               "easing": "linear"
              }
             }
            ],
            "label": "2024-10-02",
            "method": "animate"
           },
           {
            "args": [
             [
              "2024-10-03"
             ],
             {
              "frame": {
               "duration": 0,
               "redraw": true
              },
              "fromcurrent": true,
              "mode": "immediate",
              "transition": {
               "duration": 0,
               "easing": "linear"
              }
             }
            ],
            "label": "2024-10-03",
            "method": "animate"
           },
           {
            "args": [
             [
              "2024-10-04"
             ],
             {
              "frame": {
               "duration": 0,
               "redraw": true
              },
              "fromcurrent": true,
              "mode": "immediate",
              "transition": {
               "duration": 0,
               "easing": "linear"
              }
             }
            ],
            "label": "2024-10-04",
            "method": "animate"
           },
           {
            "args": [
             [
              "2024-10-05"
             ],
             {
              "frame": {
               "duration": 0,
               "redraw": true
              },
              "fromcurrent": true,
              "mode": "immediate",
              "transition": {
               "duration": 0,
               "easing": "linear"
              }
             }
            ],
            "label": "2024-10-05",
            "method": "animate"
           },
           {
            "args": [
             [
              "2024-10-06"
             ],
             {
              "frame": {
               "duration": 0,
               "redraw": true
              },
              "fromcurrent": true,
              "mode": "immediate",
              "transition": {
               "duration": 0,
               "easing": "linear"
              }
             }
            ],
            "label": "2024-10-06",
            "method": "animate"
           },
           {
            "args": [
             [
              "2024-10-07"
             ],
             {
              "frame": {
               "duration": 0,
               "redraw": true
              },
              "fromcurrent": true,
              "mode": "immediate",
              "transition": {
               "duration": 0,
               "easing": "linear"
              }
             }
            ],
            "label": "2024-10-07",
            "method": "animate"
           },
           {
            "args": [
             [
              "2024-10-08"
             ],
             {
              "frame": {
               "duration": 0,
               "redraw": true
              },
              "fromcurrent": true,
              "mode": "immediate",
              "transition": {
               "duration": 0,
               "easing": "linear"
              }
             }
            ],
            "label": "2024-10-08",
            "method": "animate"
           },
           {
            "args": [
             [
              "2024-10-09"
             ],
             {
              "frame": {
               "duration": 0,
               "redraw": true
              },
              "fromcurrent": true,
              "mode": "immediate",
              "transition": {
               "duration": 0,
               "easing": "linear"
              }
             }
            ],
            "label": "2024-10-09",
            "method": "animate"
           },
           {
            "args": [
             [
              "2024-10-10"
             ],
             {
              "frame": {
               "duration": 0,
               "redraw": true
              },
              "fromcurrent": true,
              "mode": "immediate",
              "transition": {
               "duration": 0,
               "easing": "linear"
              }
             }
            ],
            "label": "2024-10-10",
            "method": "animate"
           },
           {
            "args": [
             [
              "2024-10-11"
             ],
             {
              "frame": {
               "duration": 0,
               "redraw": true
              },
              "fromcurrent": true,
              "mode": "immediate",
              "transition": {
               "duration": 0,
               "easing": "linear"
              }
             }
            ],
            "label": "2024-10-11",
            "method": "animate"
           },
           {
            "args": [
             [
              "2024-10-12"
             ],
             {
              "frame": {
               "duration": 0,
               "redraw": true
              },
              "fromcurrent": true,
              "mode": "immediate",
              "transition": {
               "duration": 0,
               "easing": "linear"
              }
             }
            ],
            "label": "2024-10-12",
            "method": "animate"
           },
           {
            "args": [
             [
              "2024-10-13"
             ],
             {
              "frame": {
               "duration": 0,
               "redraw": true
              },
              "fromcurrent": true,
              "mode": "immediate",
              "transition": {
               "duration": 0,
               "easing": "linear"
              }
             }
            ],
            "label": "2024-10-13",
            "method": "animate"
           },
           {
            "args": [
             [
              "2024-10-14"
             ],
             {
              "frame": {
               "duration": 0,
               "redraw": true
              },
              "fromcurrent": true,
              "mode": "immediate",
              "transition": {
               "duration": 0,
               "easing": "linear"
              }
             }
            ],
            "label": "2024-10-14",
            "method": "animate"
           },
           {
            "args": [
             [
              "2024-10-15"
             ],
             {
              "frame": {
               "duration": 0,
               "redraw": true
              },
              "fromcurrent": true,
              "mode": "immediate",
              "transition": {
               "duration": 0,
               "easing": "linear"
              }
             }
            ],
            "label": "2024-10-15",
            "method": "animate"
           },
           {
            "args": [
             [
              "2024-10-16"
             ],
             {
              "frame": {
               "duration": 0,
               "redraw": true
              },
              "fromcurrent": true,
              "mode": "immediate",
              "transition": {
               "duration": 0,
               "easing": "linear"
              }
             }
            ],
            "label": "2024-10-16",
            "method": "animate"
           },
           {
            "args": [
             [
              "2024-10-17"
             ],
             {
              "frame": {
               "duration": 0,
               "redraw": true
              },
              "fromcurrent": true,
              "mode": "immediate",
              "transition": {
               "duration": 0,
               "easing": "linear"
              }
             }
            ],
            "label": "2024-10-17",
            "method": "animate"
           },
           {
            "args": [
             [
              "2024-10-18"
             ],
             {
              "frame": {
               "duration": 0,
               "redraw": true
              },
              "fromcurrent": true,
              "mode": "immediate",
              "transition": {
               "duration": 0,
               "easing": "linear"
              }
             }
            ],
            "label": "2024-10-18",
            "method": "animate"
           },
           {
            "args": [
             [
              "2024-10-19"
             ],
             {
              "frame": {
               "duration": 0,
               "redraw": true
              },
              "fromcurrent": true,
              "mode": "immediate",
              "transition": {
               "duration": 0,
               "easing": "linear"
              }
             }
            ],
            "label": "2024-10-19",
            "method": "animate"
           },
           {
            "args": [
             [
              "2024-10-20"
             ],
             {
              "frame": {
               "duration": 0,
               "redraw": true
              },
              "fromcurrent": true,
              "mode": "immediate",
              "transition": {
               "duration": 0,
               "easing": "linear"
              }
             }
            ],
            "label": "2024-10-20",
            "method": "animate"
           },
           {
            "args": [
             [
              "2024-10-21"
             ],
             {
              "frame": {
               "duration": 0,
               "redraw": true
              },
              "fromcurrent": true,
              "mode": "immediate",
              "transition": {
               "duration": 0,
               "easing": "linear"
              }
             }
            ],
            "label": "2024-10-21",
            "method": "animate"
           },
           {
            "args": [
             [
              "2024-10-22"
             ],
             {
              "frame": {
               "duration": 0,
               "redraw": true
              },
              "fromcurrent": true,
              "mode": "immediate",
              "transition": {
               "duration": 0,
               "easing": "linear"
              }
             }
            ],
            "label": "2024-10-22",
            "method": "animate"
           },
           {
            "args": [
             [
              "2024-10-23"
             ],
             {
              "frame": {
               "duration": 0,
               "redraw": true
              },
              "fromcurrent": true,
              "mode": "immediate",
              "transition": {
               "duration": 0,
               "easing": "linear"
              }
             }
            ],
            "label": "2024-10-23",
            "method": "animate"
           },
           {
            "args": [
             [
              "2024-10-24"
             ],
             {
              "frame": {
               "duration": 0,
               "redraw": true
              },
              "fromcurrent": true,
              "mode": "immediate",
              "transition": {
               "duration": 0,
               "easing": "linear"
              }
             }
            ],
            "label": "2024-10-24",
            "method": "animate"
           },
           {
            "args": [
             [
              "2024-10-25"
             ],
             {
              "frame": {
               "duration": 0,
               "redraw": true
              },
              "fromcurrent": true,
              "mode": "immediate",
              "transition": {
               "duration": 0,
               "easing": "linear"
              }
             }
            ],
            "label": "2024-10-25",
            "method": "animate"
           },
           {
            "args": [
             [
              "2024-10-26"
             ],
             {
              "frame": {
               "duration": 0,
               "redraw": true
              },
              "fromcurrent": true,
              "mode": "immediate",
              "transition": {
               "duration": 0,
               "easing": "linear"
              }
             }
            ],
            "label": "2024-10-26",
            "method": "animate"
           },
           {
            "args": [
             [
              "2024-10-27"
             ],
             {
              "frame": {
               "duration": 0,
               "redraw": true
              },
              "fromcurrent": true,
              "mode": "immediate",
              "transition": {
               "duration": 0,
               "easing": "linear"
              }
             }
            ],
            "label": "2024-10-27",
            "method": "animate"
           },
           {
            "args": [
             [
              "2024-10-28"
             ],
             {
              "frame": {
               "duration": 0,
               "redraw": true
              },
              "fromcurrent": true,
              "mode": "immediate",
              "transition": {
               "duration": 0,
               "easing": "linear"
              }
             }
            ],
            "label": "2024-10-28",
            "method": "animate"
           },
           {
            "args": [
             [
              "2024-10-29"
             ],
             {
              "frame": {
               "duration": 0,
               "redraw": true
              },
              "fromcurrent": true,
              "mode": "immediate",
              "transition": {
               "duration": 0,
               "easing": "linear"
              }
             }
            ],
            "label": "2024-10-29",
            "method": "animate"
           },
           {
            "args": [
             [
              "2024-10-30"
             ],
             {
              "frame": {
               "duration": 0,
               "redraw": true
              },
              "fromcurrent": true,
              "mode": "immediate",
              "transition": {
               "duration": 0,
               "easing": "linear"
              }
             }
            ],
            "label": "2024-10-30",
            "method": "animate"
           },
           {
            "args": [
             [
              "2024-10-31"
             ],
             {
              "frame": {
               "duration": 0,
               "redraw": true
              },
              "fromcurrent": true,
              "mode": "immediate",
              "transition": {
               "duration": 0,
               "easing": "linear"
              }
             }
            ],
            "label": "2024-10-31",
            "method": "animate"
           },
           {
            "args": [
             [
              "2024-11-01"
             ],
             {
              "frame": {
               "duration": 0,
               "redraw": true
              },
              "fromcurrent": true,
              "mode": "immediate",
              "transition": {
               "duration": 0,
               "easing": "linear"
              }
             }
            ],
            "label": "2024-11-01",
            "method": "animate"
           },
           {
            "args": [
             [
              "2024-11-02"
             ],
             {
              "frame": {
               "duration": 0,
               "redraw": true
              },
              "fromcurrent": true,
              "mode": "immediate",
              "transition": {
               "duration": 0,
               "easing": "linear"
              }
             }
            ],
            "label": "2024-11-02",
            "method": "animate"
           },
           {
            "args": [
             [
              "2024-11-03"
             ],
             {
              "frame": {
               "duration": 0,
               "redraw": true
              },
              "fromcurrent": true,
              "mode": "immediate",
              "transition": {
               "duration": 0,
               "easing": "linear"
              }
             }
            ],
            "label": "2024-11-03",
            "method": "animate"
           },
           {
            "args": [
             [
              "2024-11-04"
             ],
             {
              "frame": {
               "duration": 0,
               "redraw": true
              },
              "fromcurrent": true,
              "mode": "immediate",
              "transition": {
               "duration": 0,
               "easing": "linear"
              }
             }
            ],
            "label": "2024-11-04",
            "method": "animate"
           },
           {
            "args": [
             [
              "2024-11-05"
             ],
             {
              "frame": {
               "duration": 0,
               "redraw": true
              },
              "fromcurrent": true,
              "mode": "immediate",
              "transition": {
               "duration": 0,
               "easing": "linear"
              }
             }
            ],
            "label": "2024-11-05",
            "method": "animate"
           },
           {
            "args": [
             [
              "2024-11-06"
             ],
             {
              "frame": {
               "duration": 0,
               "redraw": true
              },
              "fromcurrent": true,
              "mode": "immediate",
              "transition": {
               "duration": 0,
               "easing": "linear"
              }
             }
            ],
            "label": "2024-11-06",
            "method": "animate"
           },
           {
            "args": [
             [
              "2024-11-07"
             ],
             {
              "frame": {
               "duration": 0,
               "redraw": true
              },
              "fromcurrent": true,
              "mode": "immediate",
              "transition": {
               "duration": 0,
               "easing": "linear"
              }
             }
            ],
            "label": "2024-11-07",
            "method": "animate"
           },
           {
            "args": [
             [
              "2024-11-08"
             ],
             {
              "frame": {
               "duration": 0,
               "redraw": true
              },
              "fromcurrent": true,
              "mode": "immediate",
              "transition": {
               "duration": 0,
               "easing": "linear"
              }
             }
            ],
            "label": "2024-11-08",
            "method": "animate"
           },
           {
            "args": [
             [
              "2024-11-09"
             ],
             {
              "frame": {
               "duration": 0,
               "redraw": true
              },
              "fromcurrent": true,
              "mode": "immediate",
              "transition": {
               "duration": 0,
               "easing": "linear"
              }
             }
            ],
            "label": "2024-11-09",
            "method": "animate"
           },
           {
            "args": [
             [
              "2024-11-10"
             ],
             {
              "frame": {
               "duration": 0,
               "redraw": true
              },
              "fromcurrent": true,
              "mode": "immediate",
              "transition": {
               "duration": 0,
               "easing": "linear"
              }
             }
            ],
            "label": "2024-11-10",
            "method": "animate"
           },
           {
            "args": [
             [
              "2024-11-11"
             ],
             {
              "frame": {
               "duration": 0,
               "redraw": true
              },
              "fromcurrent": true,
              "mode": "immediate",
              "transition": {
               "duration": 0,
               "easing": "linear"
              }
             }
            ],
            "label": "2024-11-11",
            "method": "animate"
           },
           {
            "args": [
             [
              "2024-11-12"
             ],
             {
              "frame": {
               "duration": 0,
               "redraw": true
              },
              "fromcurrent": true,
              "mode": "immediate",
              "transition": {
               "duration": 0,
               "easing": "linear"
              }
             }
            ],
            "label": "2024-11-12",
            "method": "animate"
           },
           {
            "args": [
             [
              "2024-11-13"
             ],
             {
              "frame": {
               "duration": 0,
               "redraw": true
              },
              "fromcurrent": true,
              "mode": "immediate",
              "transition": {
               "duration": 0,
               "easing": "linear"
              }
             }
            ],
            "label": "2024-11-13",
            "method": "animate"
           },
           {
            "args": [
             [
              "2024-11-14"
             ],
             {
              "frame": {
               "duration": 0,
               "redraw": true
              },
              "fromcurrent": true,
              "mode": "immediate",
              "transition": {
               "duration": 0,
               "easing": "linear"
              }
             }
            ],
            "label": "2024-11-14",
            "method": "animate"
           },
           {
            "args": [
             [
              "2024-11-15"
             ],
             {
              "frame": {
               "duration": 0,
               "redraw": true
              },
              "fromcurrent": true,
              "mode": "immediate",
              "transition": {
               "duration": 0,
               "easing": "linear"
              }
             }
            ],
            "label": "2024-11-15",
            "method": "animate"
           },
           {
            "args": [
             [
              "2024-11-16"
             ],
             {
              "frame": {
               "duration": 0,
               "redraw": true
              },
              "fromcurrent": true,
              "mode": "immediate",
              "transition": {
               "duration": 0,
               "easing": "linear"
              }
             }
            ],
            "label": "2024-11-16",
            "method": "animate"
           },
           {
            "args": [
             [
              "2024-11-17"
             ],
             {
              "frame": {
               "duration": 0,
               "redraw": true
              },
              "fromcurrent": true,
              "mode": "immediate",
              "transition": {
               "duration": 0,
               "easing": "linear"
              }
             }
            ],
            "label": "2024-11-17",
            "method": "animate"
           },
           {
            "args": [
             [
              "2024-11-18"
             ],
             {
              "frame": {
               "duration": 0,
               "redraw": true
              },
              "fromcurrent": true,
              "mode": "immediate",
              "transition": {
               "duration": 0,
               "easing": "linear"
              }
             }
            ],
            "label": "2024-11-18",
            "method": "animate"
           },
           {
            "args": [
             [
              "2024-11-19"
             ],
             {
              "frame": {
               "duration": 0,
               "redraw": true
              },
              "fromcurrent": true,
              "mode": "immediate",
              "transition": {
               "duration": 0,
               "easing": "linear"
              }
             }
            ],
            "label": "2024-11-19",
            "method": "animate"
           },
           {
            "args": [
             [
              "2024-11-20"
             ],
             {
              "frame": {
               "duration": 0,
               "redraw": true
              },
              "fromcurrent": true,
              "mode": "immediate",
              "transition": {
               "duration": 0,
               "easing": "linear"
              }
             }
            ],
            "label": "2024-11-20",
            "method": "animate"
           },
           {
            "args": [
             [
              "2024-11-21"
             ],
             {
              "frame": {
               "duration": 0,
               "redraw": true
              },
              "fromcurrent": true,
              "mode": "immediate",
              "transition": {
               "duration": 0,
               "easing": "linear"
              }
             }
            ],
            "label": "2024-11-21",
            "method": "animate"
           },
           {
            "args": [
             [
              "2024-11-22"
             ],
             {
              "frame": {
               "duration": 0,
               "redraw": true
              },
              "fromcurrent": true,
              "mode": "immediate",
              "transition": {
               "duration": 0,
               "easing": "linear"
              }
             }
            ],
            "label": "2024-11-22",
            "method": "animate"
           },
           {
            "args": [
             [
              "2024-11-23"
             ],
             {
              "frame": {
               "duration": 0,
               "redraw": true
              },
              "fromcurrent": true,
              "mode": "immediate",
              "transition": {
               "duration": 0,
               "easing": "linear"
              }
             }
            ],
            "label": "2024-11-23",
            "method": "animate"
           },
           {
            "args": [
             [
              "2024-11-24"
             ],
             {
              "frame": {
               "duration": 0,
               "redraw": true
              },
              "fromcurrent": true,
              "mode": "immediate",
              "transition": {
               "duration": 0,
               "easing": "linear"
              }
             }
            ],
            "label": "2024-11-24",
            "method": "animate"
           },
           {
            "args": [
             [
              "2024-11-25"
             ],
             {
              "frame": {
               "duration": 0,
               "redraw": true
              },
              "fromcurrent": true,
              "mode": "immediate",
              "transition": {
               "duration": 0,
               "easing": "linear"
              }
             }
            ],
            "label": "2024-11-25",
            "method": "animate"
           },
           {
            "args": [
             [
              "2024-11-26"
             ],
             {
              "frame": {
               "duration": 0,
               "redraw": true
              },
              "fromcurrent": true,
              "mode": "immediate",
              "transition": {
               "duration": 0,
               "easing": "linear"
              }
             }
            ],
            "label": "2024-11-26",
            "method": "animate"
           },
           {
            "args": [
             [
              "2024-11-27"
             ],
             {
              "frame": {
               "duration": 0,
               "redraw": true
              },
              "fromcurrent": true,
              "mode": "immediate",
              "transition": {
               "duration": 0,
               "easing": "linear"
              }
             }
            ],
            "label": "2024-11-27",
            "method": "animate"
           },
           {
            "args": [
             [
              "2024-11-28"
             ],
             {
              "frame": {
               "duration": 0,
               "redraw": true
              },
              "fromcurrent": true,
              "mode": "immediate",
              "transition": {
               "duration": 0,
               "easing": "linear"
              }
             }
            ],
            "label": "2024-11-28",
            "method": "animate"
           },
           {
            "args": [
             [
              "2024-11-29"
             ],
             {
              "frame": {
               "duration": 0,
               "redraw": true
              },
              "fromcurrent": true,
              "mode": "immediate",
              "transition": {
               "duration": 0,
               "easing": "linear"
              }
             }
            ],
            "label": "2024-11-29",
            "method": "animate"
           },
           {
            "args": [
             [
              "2024-11-30"
             ],
             {
              "frame": {
               "duration": 0,
               "redraw": true
              },
              "fromcurrent": true,
              "mode": "immediate",
              "transition": {
               "duration": 0,
               "easing": "linear"
              }
             }
            ],
            "label": "2024-11-30",
            "method": "animate"
           },
           {
            "args": [
             [
              "2024-12-01"
             ],
             {
              "frame": {
               "duration": 0,
               "redraw": true
              },
              "fromcurrent": true,
              "mode": "immediate",
              "transition": {
               "duration": 0,
               "easing": "linear"
              }
             }
            ],
            "label": "2024-12-01",
            "method": "animate"
           },
           {
            "args": [
             [
              "2024-12-02"
             ],
             {
              "frame": {
               "duration": 0,
               "redraw": true
              },
              "fromcurrent": true,
              "mode": "immediate",
              "transition": {
               "duration": 0,
               "easing": "linear"
              }
             }
            ],
            "label": "2024-12-02",
            "method": "animate"
           },
           {
            "args": [
             [
              "2024-12-03"
             ],
             {
              "frame": {
               "duration": 0,
               "redraw": true
              },
              "fromcurrent": true,
              "mode": "immediate",
              "transition": {
               "duration": 0,
               "easing": "linear"
              }
             }
            ],
            "label": "2024-12-03",
            "method": "animate"
           },
           {
            "args": [
             [
              "2024-12-04"
             ],
             {
              "frame": {
               "duration": 0,
               "redraw": true
              },
              "fromcurrent": true,
              "mode": "immediate",
              "transition": {
               "duration": 0,
               "easing": "linear"
              }
             }
            ],
            "label": "2024-12-04",
            "method": "animate"
           },
           {
            "args": [
             [
              "2024-12-05"
             ],
             {
              "frame": {
               "duration": 0,
               "redraw": true
              },
              "fromcurrent": true,
              "mode": "immediate",
              "transition": {
               "duration": 0,
               "easing": "linear"
              }
             }
            ],
            "label": "2024-12-05",
            "method": "animate"
           },
           {
            "args": [
             [
              "2024-12-06"
             ],
             {
              "frame": {
               "duration": 0,
               "redraw": true
              },
              "fromcurrent": true,
              "mode": "immediate",
              "transition": {
               "duration": 0,
               "easing": "linear"
              }
             }
            ],
            "label": "2024-12-06",
            "method": "animate"
           },
           {
            "args": [
             [
              "2024-12-07"
             ],
             {
              "frame": {
               "duration": 0,
               "redraw": true
              },
              "fromcurrent": true,
              "mode": "immediate",
              "transition": {
               "duration": 0,
               "easing": "linear"
              }
             }
            ],
            "label": "2024-12-07",
            "method": "animate"
           },
           {
            "args": [
             [
              "2024-12-08"
             ],
             {
              "frame": {
               "duration": 0,
               "redraw": true
              },
              "fromcurrent": true,
              "mode": "immediate",
              "transition": {
               "duration": 0,
               "easing": "linear"
              }
             }
            ],
            "label": "2024-12-08",
            "method": "animate"
           },
           {
            "args": [
             [
              "2024-12-09"
             ],
             {
              "frame": {
               "duration": 0,
               "redraw": true
              },
              "fromcurrent": true,
              "mode": "immediate",
              "transition": {
               "duration": 0,
               "easing": "linear"
              }
             }
            ],
            "label": "2024-12-09",
            "method": "animate"
           },
           {
            "args": [
             [
              "2024-12-10"
             ],
             {
              "frame": {
               "duration": 0,
               "redraw": true
              },
              "fromcurrent": true,
              "mode": "immediate",
              "transition": {
               "duration": 0,
               "easing": "linear"
              }
             }
            ],
            "label": "2024-12-10",
            "method": "animate"
           },
           {
            "args": [
             [
              "2024-12-11"
             ],
             {
              "frame": {
               "duration": 0,
               "redraw": true
              },
              "fromcurrent": true,
              "mode": "immediate",
              "transition": {
               "duration": 0,
               "easing": "linear"
              }
             }
            ],
            "label": "2024-12-11",
            "method": "animate"
           },
           {
            "args": [
             [
              "2024-12-12"
             ],
             {
              "frame": {
               "duration": 0,
               "redraw": true
              },
              "fromcurrent": true,
              "mode": "immediate",
              "transition": {
               "duration": 0,
               "easing": "linear"
              }
             }
            ],
            "label": "2024-12-12",
            "method": "animate"
           },
           {
            "args": [
             [
              "2024-12-13"
             ],
             {
              "frame": {
               "duration": 0,
               "redraw": true
              },
              "fromcurrent": true,
              "mode": "immediate",
              "transition": {
               "duration": 0,
               "easing": "linear"
              }
             }
            ],
            "label": "2024-12-13",
            "method": "animate"
           },
           {
            "args": [
             [
              "2024-12-14"
             ],
             {
              "frame": {
               "duration": 0,
               "redraw": true
              },
              "fromcurrent": true,
              "mode": "immediate",
              "transition": {
               "duration": 0,
               "easing": "linear"
              }
             }
            ],
            "label": "2024-12-14",
            "method": "animate"
           },
           {
            "args": [
             [
              "2024-12-15"
             ],
             {
              "frame": {
               "duration": 0,
               "redraw": true
              },
              "fromcurrent": true,
              "mode": "immediate",
              "transition": {
               "duration": 0,
               "easing": "linear"
              }
             }
            ],
            "label": "2024-12-15",
            "method": "animate"
           },
           {
            "args": [
             [
              "2024-12-16"
             ],
             {
              "frame": {
               "duration": 0,
               "redraw": true
              },
              "fromcurrent": true,
              "mode": "immediate",
              "transition": {
               "duration": 0,
               "easing": "linear"
              }
             }
            ],
            "label": "2024-12-16",
            "method": "animate"
           },
           {
            "args": [
             [
              "2024-12-17"
             ],
             {
              "frame": {
               "duration": 0,
               "redraw": true
              },
              "fromcurrent": true,
              "mode": "immediate",
              "transition": {
               "duration": 0,
               "easing": "linear"
              }
             }
            ],
            "label": "2024-12-17",
            "method": "animate"
           },
           {
            "args": [
             [
              "2024-12-18"
             ],
             {
              "frame": {
               "duration": 0,
               "redraw": true
              },
              "fromcurrent": true,
              "mode": "immediate",
              "transition": {
               "duration": 0,
               "easing": "linear"
              }
             }
            ],
            "label": "2024-12-18",
            "method": "animate"
           },
           {
            "args": [
             [
              "2024-12-19"
             ],
             {
              "frame": {
               "duration": 0,
               "redraw": true
              },
              "fromcurrent": true,
              "mode": "immediate",
              "transition": {
               "duration": 0,
               "easing": "linear"
              }
             }
            ],
            "label": "2024-12-19",
            "method": "animate"
           },
           {
            "args": [
             [
              "2024-12-20"
             ],
             {
              "frame": {
               "duration": 0,
               "redraw": true
              },
              "fromcurrent": true,
              "mode": "immediate",
              "transition": {
               "duration": 0,
               "easing": "linear"
              }
             }
            ],
            "label": "2024-12-20",
            "method": "animate"
           },
           {
            "args": [
             [
              "2024-12-21"
             ],
             {
              "frame": {
               "duration": 0,
               "redraw": true
              },
              "fromcurrent": true,
              "mode": "immediate",
              "transition": {
               "duration": 0,
               "easing": "linear"
              }
             }
            ],
            "label": "2024-12-21",
            "method": "animate"
           },
           {
            "args": [
             [
              "2024-12-22"
             ],
             {
              "frame": {
               "duration": 0,
               "redraw": true
              },
              "fromcurrent": true,
              "mode": "immediate",
              "transition": {
               "duration": 0,
               "easing": "linear"
              }
             }
            ],
            "label": "2024-12-22",
            "method": "animate"
           },
           {
            "args": [
             [
              "2024-12-23"
             ],
             {
              "frame": {
               "duration": 0,
               "redraw": true
              },
              "fromcurrent": true,
              "mode": "immediate",
              "transition": {
               "duration": 0,
               "easing": "linear"
              }
             }
            ],
            "label": "2024-12-23",
            "method": "animate"
           },
           {
            "args": [
             [
              "2024-12-24"
             ],
             {
              "frame": {
               "duration": 0,
               "redraw": true
              },
              "fromcurrent": true,
              "mode": "immediate",
              "transition": {
               "duration": 0,
               "easing": "linear"
              }
             }
            ],
            "label": "2024-12-24",
            "method": "animate"
           },
           {
            "args": [
             [
              "2024-12-25"
             ],
             {
              "frame": {
               "duration": 0,
               "redraw": true
              },
              "fromcurrent": true,
              "mode": "immediate",
              "transition": {
               "duration": 0,
               "easing": "linear"
              }
             }
            ],
            "label": "2024-12-25",
            "method": "animate"
           },
           {
            "args": [
             [
              "2024-12-26"
             ],
             {
              "frame": {
               "duration": 0,
               "redraw": true
              },
              "fromcurrent": true,
              "mode": "immediate",
              "transition": {
               "duration": 0,
               "easing": "linear"
              }
             }
            ],
            "label": "2024-12-26",
            "method": "animate"
           },
           {
            "args": [
             [
              "2024-12-27"
             ],
             {
              "frame": {
               "duration": 0,
               "redraw": true
              },
              "fromcurrent": true,
              "mode": "immediate",
              "transition": {
               "duration": 0,
               "easing": "linear"
              }
             }
            ],
            "label": "2024-12-27",
            "method": "animate"
           },
           {
            "args": [
             [
              "2024-12-28"
             ],
             {
              "frame": {
               "duration": 0,
               "redraw": true
              },
              "fromcurrent": true,
              "mode": "immediate",
              "transition": {
               "duration": 0,
               "easing": "linear"
              }
             }
            ],
            "label": "2024-12-28",
            "method": "animate"
           },
           {
            "args": [
             [
              "2024-12-29"
             ],
             {
              "frame": {
               "duration": 0,
               "redraw": true
              },
              "fromcurrent": true,
              "mode": "immediate",
              "transition": {
               "duration": 0,
               "easing": "linear"
              }
             }
            ],
            "label": "2024-12-29",
            "method": "animate"
           },
           {
            "args": [
             [
              "2024-12-30"
             ],
             {
              "frame": {
               "duration": 0,
               "redraw": true
              },
              "fromcurrent": true,
              "mode": "immediate",
              "transition": {
               "duration": 0,
               "easing": "linear"
              }
             }
            ],
            "label": "2024-12-30",
            "method": "animate"
           },
           {
            "args": [
             [
              "2024-12-31"
             ],
             {
              "frame": {
               "duration": 0,
               "redraw": true
              },
              "fromcurrent": true,
              "mode": "immediate",
              "transition": {
               "duration": 0,
               "easing": "linear"
              }
             }
            ],
            "label": "2024-12-31",
            "method": "animate"
           }
          ],
          "x": 0.1,
          "xanchor": "left",
          "y": 0,
          "yanchor": "top"
         }
        ],
        "template": {
         "data": {
          "bar": [
           {
            "error_x": {
             "color": "#f2f5fa"
            },
            "error_y": {
             "color": "#f2f5fa"
            },
            "marker": {
             "line": {
              "color": "rgb(17,17,17)",
              "width": 0.5
             },
             "pattern": {
              "fillmode": "overlay",
              "size": 10,
              "solidity": 0.2
             }
            },
            "type": "bar"
           }
          ],
          "barpolar": [
           {
            "marker": {
             "line": {
              "color": "rgb(17,17,17)",
              "width": 0.5
             },
             "pattern": {
              "fillmode": "overlay",
              "size": 10,
              "solidity": 0.2
             }
            },
            "type": "barpolar"
           }
          ],
          "carpet": [
           {
            "aaxis": {
             "endlinecolor": "#A2B1C6",
             "gridcolor": "#506784",
             "linecolor": "#506784",
             "minorgridcolor": "#506784",
             "startlinecolor": "#A2B1C6"
            },
            "baxis": {
             "endlinecolor": "#A2B1C6",
             "gridcolor": "#506784",
             "linecolor": "#506784",
             "minorgridcolor": "#506784",
             "startlinecolor": "#A2B1C6"
            },
            "type": "carpet"
           }
          ],
          "choropleth": [
           {
            "colorbar": {
             "outlinewidth": 0,
             "ticks": ""
            },
            "type": "choropleth"
           }
          ],
          "contour": [
           {
            "colorbar": {
             "outlinewidth": 0,
             "ticks": ""
            },
            "colorscale": [
             [
              0,
              "#0d0887"
             ],
             [
              0.1111111111111111,
              "#46039f"
             ],
             [
              0.2222222222222222,
              "#7201a8"
             ],
             [
              0.3333333333333333,
              "#9c179e"
             ],
             [
              0.4444444444444444,
              "#bd3786"
             ],
             [
              0.5555555555555556,
              "#d8576b"
             ],
             [
              0.6666666666666666,
              "#ed7953"
             ],
             [
              0.7777777777777778,
              "#fb9f3a"
             ],
             [
              0.8888888888888888,
              "#fdca26"
             ],
             [
              1,
              "#f0f921"
             ]
            ],
            "type": "contour"
           }
          ],
          "contourcarpet": [
           {
            "colorbar": {
             "outlinewidth": 0,
             "ticks": ""
            },
            "type": "contourcarpet"
           }
          ],
          "heatmap": [
           {
            "colorbar": {
             "outlinewidth": 0,
             "ticks": ""
            },
            "colorscale": [
             [
              0,
              "#0d0887"
             ],
             [
              0.1111111111111111,
              "#46039f"
             ],
             [
              0.2222222222222222,
              "#7201a8"
             ],
             [
              0.3333333333333333,
              "#9c179e"
             ],
             [
              0.4444444444444444,
              "#bd3786"
             ],
             [
              0.5555555555555556,
              "#d8576b"
             ],
             [
              0.6666666666666666,
              "#ed7953"
             ],
             [
              0.7777777777777778,
              "#fb9f3a"
             ],
             [
              0.8888888888888888,
              "#fdca26"
             ],
             [
              1,
              "#f0f921"
             ]
            ],
            "type": "heatmap"
           }
          ],
          "heatmapgl": [
           {
            "colorbar": {
             "outlinewidth": 0,
             "ticks": ""
            },
            "colorscale": [
             [
              0,
              "#0d0887"
             ],
             [
              0.1111111111111111,
              "#46039f"
             ],
             [
              0.2222222222222222,
              "#7201a8"
             ],
             [
              0.3333333333333333,
              "#9c179e"
             ],
             [
              0.4444444444444444,
              "#bd3786"
             ],
             [
              0.5555555555555556,
              "#d8576b"
             ],
             [
              0.6666666666666666,
              "#ed7953"
             ],
             [
              0.7777777777777778,
              "#fb9f3a"
             ],
             [
              0.8888888888888888,
              "#fdca26"
             ],
             [
              1,
              "#f0f921"
             ]
            ],
            "type": "heatmapgl"
           }
          ],
          "histogram": [
           {
            "marker": {
             "pattern": {
              "fillmode": "overlay",
              "size": 10,
              "solidity": 0.2
             }
            },
            "type": "histogram"
           }
          ],
          "histogram2d": [
           {
            "colorbar": {
             "outlinewidth": 0,
             "ticks": ""
            },
            "colorscale": [
             [
              0,
              "#0d0887"
             ],
             [
              0.1111111111111111,
              "#46039f"
             ],
             [
              0.2222222222222222,
              "#7201a8"
             ],
             [
              0.3333333333333333,
              "#9c179e"
             ],
             [
              0.4444444444444444,
              "#bd3786"
             ],
             [
              0.5555555555555556,
              "#d8576b"
             ],
             [
              0.6666666666666666,
              "#ed7953"
             ],
             [
              0.7777777777777778,
              "#fb9f3a"
             ],
             [
              0.8888888888888888,
              "#fdca26"
             ],
             [
              1,
              "#f0f921"
             ]
            ],
            "type": "histogram2d"
           }
          ],
          "histogram2dcontour": [
           {
            "colorbar": {
             "outlinewidth": 0,
             "ticks": ""
            },
            "colorscale": [
             [
              0,
              "#0d0887"
             ],
             [
              0.1111111111111111,
              "#46039f"
             ],
             [
              0.2222222222222222,
              "#7201a8"
             ],
             [
              0.3333333333333333,
              "#9c179e"
             ],
             [
              0.4444444444444444,
              "#bd3786"
             ],
             [
              0.5555555555555556,
              "#d8576b"
             ],
             [
              0.6666666666666666,
              "#ed7953"
             ],
             [
              0.7777777777777778,
              "#fb9f3a"
             ],
             [
              0.8888888888888888,
              "#fdca26"
             ],
             [
              1,
              "#f0f921"
             ]
            ],
            "type": "histogram2dcontour"
           }
          ],
          "mesh3d": [
           {
            "colorbar": {
             "outlinewidth": 0,
             "ticks": ""
            },
            "type": "mesh3d"
           }
          ],
          "parcoords": [
           {
            "line": {
             "colorbar": {
              "outlinewidth": 0,
              "ticks": ""
             }
            },
            "type": "parcoords"
           }
          ],
          "pie": [
           {
            "automargin": true,
            "type": "pie"
           }
          ],
          "scatter": [
           {
            "marker": {
             "line": {
              "color": "#283442"
             }
            },
            "type": "scatter"
           }
          ],
          "scatter3d": [
           {
            "line": {
             "colorbar": {
              "outlinewidth": 0,
              "ticks": ""
             }
            },
            "marker": {
             "colorbar": {
              "outlinewidth": 0,
              "ticks": ""
             }
            },
            "type": "scatter3d"
           }
          ],
          "scattercarpet": [
           {
            "marker": {
             "colorbar": {
              "outlinewidth": 0,
              "ticks": ""
             }
            },
            "type": "scattercarpet"
           }
          ],
          "scattergeo": [
           {
            "marker": {
             "colorbar": {
              "outlinewidth": 0,
              "ticks": ""
             }
            },
            "type": "scattergeo"
           }
          ],
          "scattergl": [
           {
            "marker": {
             "line": {
              "color": "#283442"
             }
            },
            "type": "scattergl"
           }
          ],
          "scattermapbox": [
           {
            "marker": {
             "colorbar": {
              "outlinewidth": 0,
              "ticks": ""
             }
            },
            "type": "scattermapbox"
           }
          ],
          "scatterpolar": [
           {
            "marker": {
             "colorbar": {
              "outlinewidth": 0,
              "ticks": ""
             }
            },
            "type": "scatterpolar"
           }
          ],
          "scatterpolargl": [
           {
            "marker": {
             "colorbar": {
              "outlinewidth": 0,
              "ticks": ""
             }
            },
            "type": "scatterpolargl"
           }
          ],
          "scatterternary": [
           {
            "marker": {
             "colorbar": {
              "outlinewidth": 0,
              "ticks": ""
             }
            },
            "type": "scatterternary"
           }
          ],
          "surface": [
           {
            "colorbar": {
             "outlinewidth": 0,
             "ticks": ""
            },
            "colorscale": [
             [
              0,
              "#0d0887"
             ],
             [
              0.1111111111111111,
              "#46039f"
             ],
             [
              0.2222222222222222,
              "#7201a8"
             ],
             [
              0.3333333333333333,
              "#9c179e"
             ],
             [
              0.4444444444444444,
              "#bd3786"
             ],
             [
              0.5555555555555556,
              "#d8576b"
             ],
             [
              0.6666666666666666,
              "#ed7953"
             ],
             [
              0.7777777777777778,
              "#fb9f3a"
             ],
             [
              0.8888888888888888,
              "#fdca26"
             ],
             [
              1,
              "#f0f921"
             ]
            ],
            "type": "surface"
           }
          ],
          "table": [
           {
            "cells": {
             "fill": {
              "color": "#506784"
             },
             "line": {
              "color": "rgb(17,17,17)"
             }
            },
            "header": {
             "fill": {
              "color": "#2a3f5f"
             },
             "line": {
              "color": "rgb(17,17,17)"
             }
            },
            "type": "table"
           }
          ]
         },
         "layout": {
          "annotationdefaults": {
           "arrowcolor": "#f2f5fa",
           "arrowhead": 0,
           "arrowwidth": 1
          },
          "autotypenumbers": "strict",
          "coloraxis": {
           "colorbar": {
            "outlinewidth": 0,
            "ticks": ""
           }
          },
          "colorscale": {
           "diverging": [
            [
             0,
             "#8e0152"
            ],
            [
             0.1,
             "#c51b7d"
            ],
            [
             0.2,
             "#de77ae"
            ],
            [
             0.3,
             "#f1b6da"
            ],
            [
             0.4,
             "#fde0ef"
            ],
            [
             0.5,
             "#f7f7f7"
            ],
            [
             0.6,
             "#e6f5d0"
            ],
            [
             0.7,
             "#b8e186"
            ],
            [
             0.8,
             "#7fbc41"
            ],
            [
             0.9,
             "#4d9221"
            ],
            [
             1,
             "#276419"
            ]
           ],
           "sequential": [
            [
             0,
             "#0d0887"
            ],
            [
             0.1111111111111111,
             "#46039f"
            ],
            [
             0.2222222222222222,
             "#7201a8"
            ],
            [
             0.3333333333333333,
             "#9c179e"
            ],
            [
             0.4444444444444444,
             "#bd3786"
            ],
            [
             0.5555555555555556,
             "#d8576b"
            ],
            [
             0.6666666666666666,
             "#ed7953"
            ],
            [
             0.7777777777777778,
             "#fb9f3a"
            ],
            [
             0.8888888888888888,
             "#fdca26"
            ],
            [
             1,
             "#f0f921"
            ]
           ],
           "sequentialminus": [
            [
             0,
             "#0d0887"
            ],
            [
             0.1111111111111111,
             "#46039f"
            ],
            [
             0.2222222222222222,
             "#7201a8"
            ],
            [
             0.3333333333333333,
             "#9c179e"
            ],
            [
             0.4444444444444444,
             "#bd3786"
            ],
            [
             0.5555555555555556,
             "#d8576b"
            ],
            [
             0.6666666666666666,
             "#ed7953"
            ],
            [
             0.7777777777777778,
             "#fb9f3a"
            ],
            [
             0.8888888888888888,
             "#fdca26"
            ],
            [
             1,
             "#f0f921"
            ]
           ]
          },
          "colorway": [
           "#636efa",
           "#EF553B",
           "#00cc96",
           "#ab63fa",
           "#FFA15A",
           "#19d3f3",
           "#FF6692",
           "#B6E880",
           "#FF97FF",
           "#FECB52"
          ],
          "font": {
           "color": "#f2f5fa"
          },
          "geo": {
           "bgcolor": "rgb(17,17,17)",
           "lakecolor": "rgb(17,17,17)",
           "landcolor": "rgb(17,17,17)",
           "showlakes": true,
           "showland": true,
           "subunitcolor": "#506784"
          },
          "hoverlabel": {
           "align": "left"
          },
          "hovermode": "closest",
          "mapbox": {
           "style": "dark"
          },
          "paper_bgcolor": "rgb(17,17,17)",
          "plot_bgcolor": "rgb(17,17,17)",
          "polar": {
           "angularaxis": {
            "gridcolor": "#506784",
            "linecolor": "#506784",
            "ticks": ""
           },
           "bgcolor": "rgb(17,17,17)",
           "radialaxis": {
            "gridcolor": "#506784",
            "linecolor": "#506784",
            "ticks": ""
           }
          },
          "scene": {
           "xaxis": {
            "backgroundcolor": "rgb(17,17,17)",
            "gridcolor": "#506784",
            "gridwidth": 2,
            "linecolor": "#506784",
            "showbackground": true,
            "ticks": "",
            "zerolinecolor": "#C8D4E3"
           },
           "yaxis": {
            "backgroundcolor": "rgb(17,17,17)",
            "gridcolor": "#506784",
            "gridwidth": 2,
            "linecolor": "#506784",
            "showbackground": true,
            "ticks": "",
            "zerolinecolor": "#C8D4E3"
           },
           "zaxis": {
            "backgroundcolor": "rgb(17,17,17)",
            "gridcolor": "#506784",
            "gridwidth": 2,
            "linecolor": "#506784",
            "showbackground": true,
            "ticks": "",
            "zerolinecolor": "#C8D4E3"
           }
          },
          "shapedefaults": {
           "line": {
            "color": "#f2f5fa"
           }
          },
          "sliderdefaults": {
           "bgcolor": "#C8D4E3",
           "bordercolor": "rgb(17,17,17)",
           "borderwidth": 1,
           "tickwidth": 0
          },
          "ternary": {
           "aaxis": {
            "gridcolor": "#506784",
            "linecolor": "#506784",
            "ticks": ""
           },
           "baxis": {
            "gridcolor": "#506784",
            "linecolor": "#506784",
            "ticks": ""
           },
           "bgcolor": "rgb(17,17,17)",
           "caxis": {
            "gridcolor": "#506784",
            "linecolor": "#506784",
            "ticks": ""
           }
          },
          "title": {
           "x": 0.05
          },
          "updatemenudefaults": {
           "bgcolor": "#506784",
           "borderwidth": 0
          },
          "xaxis": {
           "automargin": true,
           "gridcolor": "#283442",
           "linecolor": "#506784",
           "ticks": "",
           "title": {
            "standoff": 15
           },
           "zerolinecolor": "#283442",
           "zerolinewidth": 2
          },
          "yaxis": {
           "automargin": true,
           "gridcolor": "#283442",
           "linecolor": "#506784",
           "ticks": "",
           "title": {
            "standoff": 15
           },
           "zerolinecolor": "#283442",
           "zerolinewidth": 2
          }
         }
        },
        "title": {
         "text": "Daily Spotify Streams Per Capita by Country (2024)"
        },
        "updatemenus": [
         {
          "buttons": [
           {
            "args": [
             null,
             {
              "frame": {
               "duration": 50,
               "redraw": true
              },
              "fromcurrent": true,
              "mode": "immediate",
              "transition": {
               "duration": 50
              }
             }
            ],
            "label": "Play",
            "method": "animate"
           },
           {
            "args": [
             [
              null
             ],
             {
              "mode": "immediate"
             }
            ],
            "label": "Pause",
            "method": "animate"
           }
          ],
          "direction": "left",
          "pad": {
           "r": 10,
           "t": 70
          },
          "showactive": false,
          "type": "buttons",
          "x": 0.1,
          "xanchor": "right",
          "y": 0,
          "yanchor": "top"
         }
        ]
       }
      }
     },
     "metadata": {},
     "output_type": "display_data"
    }
   ],
   "source": [
    "fig = px.choropleth(\n",
    "    df,\n",
    "    locations='country',\n",
    "    locationmode='country names',\n",
    "    color='streams_per_capita',\n",
    "    animation_frame=df['date'].astype(str),\n",
    "    color_continuous_scale='Viridis',\n",
    "    title='Daily Spotify Streams Per Capita by Country (2024)',\n",
    "    template='plotly_dark',\n",
    "    range_color=(0, df['streams_per_capita'].max())\n",
    ")\n",
    "\n",
    "fig.update_layout(\n",
    "    geo=dict(showframe=False, showcoastlines=True),\n",
    "    margin=dict(l=0, r=0, t=50, b=0),\n",
    "    updatemenus=[{\n",
    "        'type': 'buttons',\n",
    "        'showactive': False,\n",
    "        'buttons': [{\n",
    "            'label': 'Play',\n",
    "            'method': 'animate',\n",
    "            'args': [None, {\n",
    "                'frame': {'duration': 50, 'redraw': True},   \n",
    "                'transition': {'duration': 50},               \n",
    "                'fromcurrent': True,\n",
    "                'mode': 'immediate'\n",
    "            }]\n",
    "        }, {\n",
    "            'label': 'Pause',\n",
    "            'method': 'animate',\n",
    "            'args': [[None], {'mode': 'immediate'}]\n",
    "        }]\n",
    "    }]\n",
    ")\n",
    "\n",
    "fig.show()\n"
   ]
  },
  {
   "cell_type": "code",
   "execution_count": 13,
   "metadata": {},
   "outputs": [],
   "source": [
    "merged_df = grouped_by_country.merge(\n",
    "    happy,\n",
    "    left_on='country',\n",
    "    right_on='Country name',\n",
    "    how='inner'\n",
    ")\n"
   ]
  },
  {
   "cell_type": "code",
   "execution_count": 14,
   "metadata": {},
   "outputs": [
    {
     "data": {
      "text/html": [
       "<div>\n",
       "<style scoped>\n",
       "    .dataframe tbody tr th:only-of-type {\n",
       "        vertical-align: middle;\n",
       "    }\n",
       "\n",
       "    .dataframe tbody tr th {\n",
       "        vertical-align: top;\n",
       "    }\n",
       "\n",
       "    .dataframe thead th {\n",
       "        text-align: right;\n",
       "    }\n",
       "</style>\n",
       "<table border=\"1\" class=\"dataframe\">\n",
       "  <thead>\n",
       "    <tr style=\"text-align: right;\">\n",
       "      <th></th>\n",
       "      <th>country</th>\n",
       "      <th>streams</th>\n",
       "      <th>population</th>\n",
       "      <th>streams_per_capita</th>\n",
       "      <th>Country name</th>\n",
       "      <th>happiness</th>\n",
       "      <th>Log GDP per capita</th>\n",
       "      <th>Social support</th>\n",
       "      <th>Healthy life expectancy</th>\n",
       "      <th>Freedom to make life choices</th>\n",
       "      <th>Generosity</th>\n",
       "      <th>Perceptions of corruption</th>\n",
       "      <th>Dystopia + residual</th>\n",
       "    </tr>\n",
       "  </thead>\n",
       "  <tbody>\n",
       "    <tr>\n",
       "      <th>0</th>\n",
       "      <td>Australia</td>\n",
       "      <td>6419845434</td>\n",
       "      <td>27100000</td>\n",
       "      <td>236.894665</td>\n",
       "      <td>Australia</td>\n",
       "      <td>6.974</td>\n",
       "      <td>1.767</td>\n",
       "      <td>1.647</td>\n",
       "      <td>0.841</td>\n",
       "      <td>0.857</td>\n",
       "      <td>0.164</td>\n",
       "      <td>0.285</td>\n",
       "      <td>1.413</td>\n",
       "    </tr>\n",
       "    <tr>\n",
       "      <th>1</th>\n",
       "      <td>Brazil</td>\n",
       "      <td>23678129768</td>\n",
       "      <td>212812000</td>\n",
       "      <td>111.263133</td>\n",
       "      <td>Brazil</td>\n",
       "      <td>6.494</td>\n",
       "      <td>1.391</td>\n",
       "      <td>1.519</td>\n",
       "      <td>0.480</td>\n",
       "      <td>0.830</td>\n",
       "      <td>0.089</td>\n",
       "      <td>0.127</td>\n",
       "      <td>2.057</td>\n",
       "    </tr>\n",
       "    <tr>\n",
       "      <th>2</th>\n",
       "      <td>Egypt</td>\n",
       "      <td>1337138588</td>\n",
       "      <td>105914499</td>\n",
       "      <td>12.624698</td>\n",
       "      <td>Egypt</td>\n",
       "      <td>3.817</td>\n",
       "      <td>1.347</td>\n",
       "      <td>1.075</td>\n",
       "      <td>0.473</td>\n",
       "      <td>0.593</td>\n",
       "      <td>0.018</td>\n",
       "      <td>0.103</td>\n",
       "      <td>0.210</td>\n",
       "    </tr>\n",
       "    <tr>\n",
       "      <th>3</th>\n",
       "      <td>Finland</td>\n",
       "      <td>1439767716</td>\n",
       "      <td>5638675</td>\n",
       "      <td>255.337950</td>\n",
       "      <td>Finland</td>\n",
       "      <td>7.736</td>\n",
       "      <td>1.749</td>\n",
       "      <td>1.783</td>\n",
       "      <td>0.824</td>\n",
       "      <td>0.986</td>\n",
       "      <td>0.110</td>\n",
       "      <td>0.502</td>\n",
       "      <td>1.782</td>\n",
       "    </tr>\n",
       "    <tr>\n",
       "      <th>4</th>\n",
       "      <td>Germany</td>\n",
       "      <td>10066126407</td>\n",
       "      <td>83555478</td>\n",
       "      <td>120.472369</td>\n",
       "      <td>Germany</td>\n",
       "      <td>6.753</td>\n",
       "      <td>1.785</td>\n",
       "      <td>1.625</td>\n",
       "      <td>0.776</td>\n",
       "      <td>0.858</td>\n",
       "      <td>0.148</td>\n",
       "      <td>0.351</td>\n",
       "      <td>1.210</td>\n",
       "    </tr>\n",
       "    <tr>\n",
       "      <th>5</th>\n",
       "      <td>Greece</td>\n",
       "      <td>1860985919</td>\n",
       "      <td>10300000</td>\n",
       "      <td>180.678245</td>\n",
       "      <td>Greece</td>\n",
       "      <td>5.776</td>\n",
       "      <td>1.608</td>\n",
       "      <td>1.438</td>\n",
       "      <td>0.725</td>\n",
       "      <td>0.396</td>\n",
       "      <td>0.003</td>\n",
       "      <td>0.063</td>\n",
       "      <td>1.543</td>\n",
       "    </tr>\n",
       "    <tr>\n",
       "      <th>6</th>\n",
       "      <td>India</td>\n",
       "      <td>18606949004</td>\n",
       "      <td>1454606724</td>\n",
       "      <td>12.791739</td>\n",
       "      <td>India</td>\n",
       "      <td>4.389</td>\n",
       "      <td>1.149</td>\n",
       "      <td>0.860</td>\n",
       "      <td>0.316</td>\n",
       "      <td>0.914</td>\n",
       "      <td>0.141</td>\n",
       "      <td>0.120</td>\n",
       "      <td>0.889</td>\n",
       "    </tr>\n",
       "    <tr>\n",
       "      <th>7</th>\n",
       "      <td>Japan</td>\n",
       "      <td>6786428466</td>\n",
       "      <td>123440000</td>\n",
       "      <td>54.977548</td>\n",
       "      <td>Japan</td>\n",
       "      <td>6.147</td>\n",
       "      <td>1.678</td>\n",
       "      <td>1.550</td>\n",
       "      <td>0.921</td>\n",
       "      <td>0.746</td>\n",
       "      <td>0.014</td>\n",
       "      <td>0.200</td>\n",
       "      <td>1.038</td>\n",
       "    </tr>\n",
       "    <tr>\n",
       "      <th>8</th>\n",
       "      <td>Nigeria</td>\n",
       "      <td>2554383731</td>\n",
       "      <td>237528000</td>\n",
       "      <td>10.754032</td>\n",
       "      <td>Nigeria</td>\n",
       "      <td>4.885</td>\n",
       "      <td>0.989</td>\n",
       "      <td>1.245</td>\n",
       "      <td>0.380</td>\n",
       "      <td>0.639</td>\n",
       "      <td>0.170</td>\n",
       "      <td>0.028</td>\n",
       "      <td>1.433</td>\n",
       "    </tr>\n",
       "    <tr>\n",
       "      <th>9</th>\n",
       "      <td>South Africa</td>\n",
       "      <td>1454035269</td>\n",
       "      <td>64747000</td>\n",
       "      <td>22.457184</td>\n",
       "      <td>South Africa</td>\n",
       "      <td>5.213</td>\n",
       "      <td>1.283</td>\n",
       "      <td>1.465</td>\n",
       "      <td>0.142</td>\n",
       "      <td>0.676</td>\n",
       "      <td>0.064</td>\n",
       "      <td>0.043</td>\n",
       "      <td>1.540</td>\n",
       "    </tr>\n",
       "    <tr>\n",
       "      <th>10</th>\n",
       "      <td>Spain</td>\n",
       "      <td>8942852973</td>\n",
       "      <td>47890000</td>\n",
       "      <td>186.737377</td>\n",
       "      <td>Spain</td>\n",
       "      <td>6.466</td>\n",
       "      <td>1.690</td>\n",
       "      <td>1.685</td>\n",
       "      <td>0.894</td>\n",
       "      <td>0.734</td>\n",
       "      <td>0.112</td>\n",
       "      <td>0.180</td>\n",
       "      <td>1.170</td>\n",
       "    </tr>\n",
       "    <tr>\n",
       "      <th>11</th>\n",
       "      <td>Sweden</td>\n",
       "      <td>2973895209</td>\n",
       "      <td>10500000</td>\n",
       "      <td>283.228115</td>\n",
       "      <td>Sweden</td>\n",
       "      <td>7.345</td>\n",
       "      <td>1.783</td>\n",
       "      <td>1.698</td>\n",
       "      <td>0.889</td>\n",
       "      <td>0.952</td>\n",
       "      <td>0.170</td>\n",
       "      <td>0.467</td>\n",
       "      <td>1.385</td>\n",
       "    </tr>\n",
       "    <tr>\n",
       "      <th>12</th>\n",
       "      <td>Ukraine</td>\n",
       "      <td>661195787</td>\n",
       "      <td>32962000</td>\n",
       "      <td>20.059335</td>\n",
       "      <td>Ukraine</td>\n",
       "      <td>4.680</td>\n",
       "      <td>1.328</td>\n",
       "      <td>1.472</td>\n",
       "      <td>0.472</td>\n",
       "      <td>0.689</td>\n",
       "      <td>0.245</td>\n",
       "      <td>0.023</td>\n",
       "      <td>0.451</td>\n",
       "    </tr>\n",
       "    <tr>\n",
       "      <th>13</th>\n",
       "      <td>United Kingdom</td>\n",
       "      <td>10046348434</td>\n",
       "      <td>68265209</td>\n",
       "      <td>147.166450</td>\n",
       "      <td>United Kingdom</td>\n",
       "      <td>6.728</td>\n",
       "      <td>1.725</td>\n",
       "      <td>1.562</td>\n",
       "      <td>0.779</td>\n",
       "      <td>0.872</td>\n",
       "      <td>0.211</td>\n",
       "      <td>0.318</td>\n",
       "      <td>1.260</td>\n",
       "    </tr>\n",
       "    <tr>\n",
       "      <th>14</th>\n",
       "      <td>United States</td>\n",
       "      <td>10046348434</td>\n",
       "      <td>340110988</td>\n",
       "      <td>29.538441</td>\n",
       "      <td>United States</td>\n",
       "      <td>6.724</td>\n",
       "      <td>1.839</td>\n",
       "      <td>1.614</td>\n",
       "      <td>0.604</td>\n",
       "      <td>0.644</td>\n",
       "      <td>0.171</td>\n",
       "      <td>0.161</td>\n",
       "      <td>1.690</td>\n",
       "    </tr>\n",
       "  </tbody>\n",
       "</table>\n",
       "</div>"
      ],
      "text/plain": [
       "           country      streams  population  streams_per_capita  \\\n",
       "0        Australia   6419845434    27100000          236.894665   \n",
       "1           Brazil  23678129768   212812000          111.263133   \n",
       "2            Egypt   1337138588   105914499           12.624698   \n",
       "3          Finland   1439767716     5638675          255.337950   \n",
       "4          Germany  10066126407    83555478          120.472369   \n",
       "5           Greece   1860985919    10300000          180.678245   \n",
       "6            India  18606949004  1454606724           12.791739   \n",
       "7            Japan   6786428466   123440000           54.977548   \n",
       "8          Nigeria   2554383731   237528000           10.754032   \n",
       "9     South Africa   1454035269    64747000           22.457184   \n",
       "10           Spain   8942852973    47890000          186.737377   \n",
       "11          Sweden   2973895209    10500000          283.228115   \n",
       "12         Ukraine    661195787    32962000           20.059335   \n",
       "13  United Kingdom  10046348434    68265209          147.166450   \n",
       "14   United States  10046348434   340110988           29.538441   \n",
       "\n",
       "      Country name  happiness  Log GDP per capita  Social support  \\\n",
       "0        Australia      6.974               1.767           1.647   \n",
       "1           Brazil      6.494               1.391           1.519   \n",
       "2            Egypt      3.817               1.347           1.075   \n",
       "3          Finland      7.736               1.749           1.783   \n",
       "4          Germany      6.753               1.785           1.625   \n",
       "5           Greece      5.776               1.608           1.438   \n",
       "6            India      4.389               1.149           0.860   \n",
       "7            Japan      6.147               1.678           1.550   \n",
       "8          Nigeria      4.885               0.989           1.245   \n",
       "9     South Africa      5.213               1.283           1.465   \n",
       "10           Spain      6.466               1.690           1.685   \n",
       "11          Sweden      7.345               1.783           1.698   \n",
       "12         Ukraine      4.680               1.328           1.472   \n",
       "13  United Kingdom      6.728               1.725           1.562   \n",
       "14   United States      6.724               1.839           1.614   \n",
       "\n",
       "    Healthy life expectancy  Freedom to make life choices  Generosity  \\\n",
       "0                     0.841                         0.857       0.164   \n",
       "1                     0.480                         0.830       0.089   \n",
       "2                     0.473                         0.593       0.018   \n",
       "3                     0.824                         0.986       0.110   \n",
       "4                     0.776                         0.858       0.148   \n",
       "5                     0.725                         0.396       0.003   \n",
       "6                     0.316                         0.914       0.141   \n",
       "7                     0.921                         0.746       0.014   \n",
       "8                     0.380                         0.639       0.170   \n",
       "9                     0.142                         0.676       0.064   \n",
       "10                    0.894                         0.734       0.112   \n",
       "11                    0.889                         0.952       0.170   \n",
       "12                    0.472                         0.689       0.245   \n",
       "13                    0.779                         0.872       0.211   \n",
       "14                    0.604                         0.644       0.171   \n",
       "\n",
       "    Perceptions of corruption  Dystopia + residual  \n",
       "0                       0.285                1.413  \n",
       "1                       0.127                2.057  \n",
       "2                       0.103                0.210  \n",
       "3                       0.502                1.782  \n",
       "4                       0.351                1.210  \n",
       "5                       0.063                1.543  \n",
       "6                       0.120                0.889  \n",
       "7                       0.200                1.038  \n",
       "8                       0.028                1.433  \n",
       "9                       0.043                1.540  \n",
       "10                      0.180                1.170  \n",
       "11                      0.467                1.385  \n",
       "12                      0.023                0.451  \n",
       "13                      0.318                1.260  \n",
       "14                      0.161                1.690  "
      ]
     },
     "execution_count": 14,
     "metadata": {},
     "output_type": "execute_result"
    }
   ],
   "source": [
    "merged_df.drop(columns=['Year', 'Rank', 'upperwhisker', 'lowerwhisker'], inplace=True, errors='ignore')\n",
    "merged_df.rename(columns=lambda col: col.replace('Explained by: ', ''), inplace=True)\n",
    "merged_df"
   ]
  },
  {
   "cell_type": "code",
   "execution_count": null,
   "metadata": {},
   "outputs": [],
   "source": []
  },
  {
   "cell_type": "code",
   "execution_count": 15,
   "metadata": {},
   "outputs": [
    {
     "data": {
      "application/vnd.plotly.v1+json": {
       "config": {
        "plotlyServerURL": "https://plot.ly"
       },
       "data": [
        {
         "coloraxis": "coloraxis",
         "hovertemplate": "x: %{x}<br>y: %{y}<br>color: %{z}<extra></extra>",
         "name": "0",
         "texttemplate": "%{z}",
         "type": "heatmap",
         "x": [
          "streams",
          "population",
          "streams_per_capita",
          "happiness",
          "Log GDP per capita",
          "Social support",
          "Healthy life expectancy",
          "Freedom to make life choices",
          "Generosity",
          "Perceptions of corruption",
          "Dystopia + residual"
         ],
         "xaxis": "x",
         "y": [
          "streams",
          "population",
          "streams_per_capita",
          "happiness",
          "Log GDP per capita",
          "Social support",
          "Healthy life expectancy",
          "Freedom to make life choices",
          "Generosity",
          "Perceptions of corruption",
          "Dystopia + residual"
         ],
         "yaxis": "y",
         "z": [
          [
           1,
           0.5602082538689218,
           -0.10208891908103407,
           0.1154030408597006,
           -0.03327488969645758,
           -0.17119970555042707,
           -0.08269285148595815,
           0.35950999322883803,
           0.08005040391123745,
           -0.018488403653755772,
           0.30123036249809304
          ],
          [
           0.5602082538689218,
           1,
           -0.423738817022047,
           -0.40713887906525226,
           -0.44476202617093236,
           -0.7196333770425141,
           -0.4376642486758873,
           0.20271310005154028,
           0.08845453950879342,
           -0.23139626694706777,
           -0.14608879431922284
          ],
          [
           -0.10208891908103407,
           -0.423738817022047,
           1,
           0.7965168680595466,
           0.6754894881223055,
           0.6779805765875575,
           0.7432910583592054,
           0.4310884168186787,
           0.058178377348428706,
           0.7708053252922145,
           0.4191565872200404
          ],
          [
           0.1154030408597006,
           -0.40713887906525226,
           0.7965168680595466,
           1,
           0.8227085218529475,
           0.8770321129150498,
           0.7282717594553124,
           0.517451569871604,
           0.18623946938996916,
           0.80155594764739,
           0.673539976828121
          ],
          [
           -0.03327488969645758,
           -0.44476202617093236,
           0.6754894881223055,
           0.8227085218529475,
           1,
           0.7821936794612588,
           0.8363947968389238,
           0.26961721858451276,
           0.04243363945655046,
           0.7155879636298369,
           0.27416325809404485
          ],
          [
           -0.17119970555042707,
           -0.7196333770425141,
           0.6779805765875575,
           0.8770321129150498,
           0.7821936794612588,
           1,
           0.673345736326176,
           0.2698340631840804,
           0.17554313396862545,
           0.5989689580517087,
           0.5123404515128168
          ],
          [
           -0.08269285148595815,
           -0.4376642486758873,
           0.7432910583592054,
           0.7282717594553124,
           0.8363947968389238,
           0.673345736326176,
           1,
           0.2833296979203115,
           0.006286133016308328,
           0.6982123231079785,
           0.11843290924679303
          ],
          [
           0.35950999322883803,
           0.20271310005154028,
           0.4310884168186787,
           0.517451569871604,
           0.26961721858451276,
           0.2698340631840804,
           0.2833296979203115,
           1,
           0.43970526021348644,
           0.7494620957881288,
           0.17915972760170504
          ],
          [
           0.08005040391123745,
           0.08845453950879342,
           0.058178377348428706,
           0.18623946938996916,
           0.04243363945655046,
           0.17554313396862545,
           0.006286133016308328,
           0.43970526021348644,
           1,
           0.20231194194606827,
           -0.029348485071150274
          ],
          [
           -0.018488403653755772,
           -0.23139626694706777,
           0.7708053252922145,
           0.80155594764739,
           0.7155879636298369,
           0.5989689580517087,
           0.6982123231079785,
           0.7494620957881288,
           0.20231194194606827,
           1,
           0.27354175424402205
          ],
          [
           0.30123036249809304,
           -0.14608879431922284,
           0.4191565872200404,
           0.673539976828121,
           0.27416325809404485,
           0.5123404515128168,
           0.11843290924679303,
           0.17915972760170504,
           -0.029348485071150274,
           0.27354175424402205,
           1
          ]
         ]
        }
       ],
       "layout": {
        "coloraxis": {
         "colorscale": [
          [
           0,
           "#440154"
          ],
          [
           0.1111111111111111,
           "#482878"
          ],
          [
           0.2222222222222222,
           "#3e4989"
          ],
          [
           0.3333333333333333,
           "#31688e"
          ],
          [
           0.4444444444444444,
           "#26828e"
          ],
          [
           0.5555555555555556,
           "#1f9e89"
          ],
          [
           0.6666666666666666,
           "#35b779"
          ],
          [
           0.7777777777777778,
           "#6ece58"
          ],
          [
           0.8888888888888888,
           "#b5de2b"
          ],
          [
           1,
           "#fde725"
          ]
         ]
        },
        "height": 1000,
        "template": {
         "data": {
          "bar": [
           {
            "error_x": {
             "color": "#f2f5fa"
            },
            "error_y": {
             "color": "#f2f5fa"
            },
            "marker": {
             "line": {
              "color": "rgb(17,17,17)",
              "width": 0.5
             },
             "pattern": {
              "fillmode": "overlay",
              "size": 10,
              "solidity": 0.2
             }
            },
            "type": "bar"
           }
          ],
          "barpolar": [
           {
            "marker": {
             "line": {
              "color": "rgb(17,17,17)",
              "width": 0.5
             },
             "pattern": {
              "fillmode": "overlay",
              "size": 10,
              "solidity": 0.2
             }
            },
            "type": "barpolar"
           }
          ],
          "carpet": [
           {
            "aaxis": {
             "endlinecolor": "#A2B1C6",
             "gridcolor": "#506784",
             "linecolor": "#506784",
             "minorgridcolor": "#506784",
             "startlinecolor": "#A2B1C6"
            },
            "baxis": {
             "endlinecolor": "#A2B1C6",
             "gridcolor": "#506784",
             "linecolor": "#506784",
             "minorgridcolor": "#506784",
             "startlinecolor": "#A2B1C6"
            },
            "type": "carpet"
           }
          ],
          "choropleth": [
           {
            "colorbar": {
             "outlinewidth": 0,
             "ticks": ""
            },
            "type": "choropleth"
           }
          ],
          "contour": [
           {
            "colorbar": {
             "outlinewidth": 0,
             "ticks": ""
            },
            "colorscale": [
             [
              0,
              "#0d0887"
             ],
             [
              0.1111111111111111,
              "#46039f"
             ],
             [
              0.2222222222222222,
              "#7201a8"
             ],
             [
              0.3333333333333333,
              "#9c179e"
             ],
             [
              0.4444444444444444,
              "#bd3786"
             ],
             [
              0.5555555555555556,
              "#d8576b"
             ],
             [
              0.6666666666666666,
              "#ed7953"
             ],
             [
              0.7777777777777778,
              "#fb9f3a"
             ],
             [
              0.8888888888888888,
              "#fdca26"
             ],
             [
              1,
              "#f0f921"
             ]
            ],
            "type": "contour"
           }
          ],
          "contourcarpet": [
           {
            "colorbar": {
             "outlinewidth": 0,
             "ticks": ""
            },
            "type": "contourcarpet"
           }
          ],
          "heatmap": [
           {
            "colorbar": {
             "outlinewidth": 0,
             "ticks": ""
            },
            "colorscale": [
             [
              0,
              "#0d0887"
             ],
             [
              0.1111111111111111,
              "#46039f"
             ],
             [
              0.2222222222222222,
              "#7201a8"
             ],
             [
              0.3333333333333333,
              "#9c179e"
             ],
             [
              0.4444444444444444,
              "#bd3786"
             ],
             [
              0.5555555555555556,
              "#d8576b"
             ],
             [
              0.6666666666666666,
              "#ed7953"
             ],
             [
              0.7777777777777778,
              "#fb9f3a"
             ],
             [
              0.8888888888888888,
              "#fdca26"
             ],
             [
              1,
              "#f0f921"
             ]
            ],
            "type": "heatmap"
           }
          ],
          "heatmapgl": [
           {
            "colorbar": {
             "outlinewidth": 0,
             "ticks": ""
            },
            "colorscale": [
             [
              0,
              "#0d0887"
             ],
             [
              0.1111111111111111,
              "#46039f"
             ],
             [
              0.2222222222222222,
              "#7201a8"
             ],
             [
              0.3333333333333333,
              "#9c179e"
             ],
             [
              0.4444444444444444,
              "#bd3786"
             ],
             [
              0.5555555555555556,
              "#d8576b"
             ],
             [
              0.6666666666666666,
              "#ed7953"
             ],
             [
              0.7777777777777778,
              "#fb9f3a"
             ],
             [
              0.8888888888888888,
              "#fdca26"
             ],
             [
              1,
              "#f0f921"
             ]
            ],
            "type": "heatmapgl"
           }
          ],
          "histogram": [
           {
            "marker": {
             "pattern": {
              "fillmode": "overlay",
              "size": 10,
              "solidity": 0.2
             }
            },
            "type": "histogram"
           }
          ],
          "histogram2d": [
           {
            "colorbar": {
             "outlinewidth": 0,
             "ticks": ""
            },
            "colorscale": [
             [
              0,
              "#0d0887"
             ],
             [
              0.1111111111111111,
              "#46039f"
             ],
             [
              0.2222222222222222,
              "#7201a8"
             ],
             [
              0.3333333333333333,
              "#9c179e"
             ],
             [
              0.4444444444444444,
              "#bd3786"
             ],
             [
              0.5555555555555556,
              "#d8576b"
             ],
             [
              0.6666666666666666,
              "#ed7953"
             ],
             [
              0.7777777777777778,
              "#fb9f3a"
             ],
             [
              0.8888888888888888,
              "#fdca26"
             ],
             [
              1,
              "#f0f921"
             ]
            ],
            "type": "histogram2d"
           }
          ],
          "histogram2dcontour": [
           {
            "colorbar": {
             "outlinewidth": 0,
             "ticks": ""
            },
            "colorscale": [
             [
              0,
              "#0d0887"
             ],
             [
              0.1111111111111111,
              "#46039f"
             ],
             [
              0.2222222222222222,
              "#7201a8"
             ],
             [
              0.3333333333333333,
              "#9c179e"
             ],
             [
              0.4444444444444444,
              "#bd3786"
             ],
             [
              0.5555555555555556,
              "#d8576b"
             ],
             [
              0.6666666666666666,
              "#ed7953"
             ],
             [
              0.7777777777777778,
              "#fb9f3a"
             ],
             [
              0.8888888888888888,
              "#fdca26"
             ],
             [
              1,
              "#f0f921"
             ]
            ],
            "type": "histogram2dcontour"
           }
          ],
          "mesh3d": [
           {
            "colorbar": {
             "outlinewidth": 0,
             "ticks": ""
            },
            "type": "mesh3d"
           }
          ],
          "parcoords": [
           {
            "line": {
             "colorbar": {
              "outlinewidth": 0,
              "ticks": ""
             }
            },
            "type": "parcoords"
           }
          ],
          "pie": [
           {
            "automargin": true,
            "type": "pie"
           }
          ],
          "scatter": [
           {
            "marker": {
             "line": {
              "color": "#283442"
             }
            },
            "type": "scatter"
           }
          ],
          "scatter3d": [
           {
            "line": {
             "colorbar": {
              "outlinewidth": 0,
              "ticks": ""
             }
            },
            "marker": {
             "colorbar": {
              "outlinewidth": 0,
              "ticks": ""
             }
            },
            "type": "scatter3d"
           }
          ],
          "scattercarpet": [
           {
            "marker": {
             "colorbar": {
              "outlinewidth": 0,
              "ticks": ""
             }
            },
            "type": "scattercarpet"
           }
          ],
          "scattergeo": [
           {
            "marker": {
             "colorbar": {
              "outlinewidth": 0,
              "ticks": ""
             }
            },
            "type": "scattergeo"
           }
          ],
          "scattergl": [
           {
            "marker": {
             "line": {
              "color": "#283442"
             }
            },
            "type": "scattergl"
           }
          ],
          "scattermapbox": [
           {
            "marker": {
             "colorbar": {
              "outlinewidth": 0,
              "ticks": ""
             }
            },
            "type": "scattermapbox"
           }
          ],
          "scatterpolar": [
           {
            "marker": {
             "colorbar": {
              "outlinewidth": 0,
              "ticks": ""
             }
            },
            "type": "scatterpolar"
           }
          ],
          "scatterpolargl": [
           {
            "marker": {
             "colorbar": {
              "outlinewidth": 0,
              "ticks": ""
             }
            },
            "type": "scatterpolargl"
           }
          ],
          "scatterternary": [
           {
            "marker": {
             "colorbar": {
              "outlinewidth": 0,
              "ticks": ""
             }
            },
            "type": "scatterternary"
           }
          ],
          "surface": [
           {
            "colorbar": {
             "outlinewidth": 0,
             "ticks": ""
            },
            "colorscale": [
             [
              0,
              "#0d0887"
             ],
             [
              0.1111111111111111,
              "#46039f"
             ],
             [
              0.2222222222222222,
              "#7201a8"
             ],
             [
              0.3333333333333333,
              "#9c179e"
             ],
             [
              0.4444444444444444,
              "#bd3786"
             ],
             [
              0.5555555555555556,
              "#d8576b"
             ],
             [
              0.6666666666666666,
              "#ed7953"
             ],
             [
              0.7777777777777778,
              "#fb9f3a"
             ],
             [
              0.8888888888888888,
              "#fdca26"
             ],
             [
              1,
              "#f0f921"
             ]
            ],
            "type": "surface"
           }
          ],
          "table": [
           {
            "cells": {
             "fill": {
              "color": "#506784"
             },
             "line": {
              "color": "rgb(17,17,17)"
             }
            },
            "header": {
             "fill": {
              "color": "#2a3f5f"
             },
             "line": {
              "color": "rgb(17,17,17)"
             }
            },
            "type": "table"
           }
          ]
         },
         "layout": {
          "annotationdefaults": {
           "arrowcolor": "#f2f5fa",
           "arrowhead": 0,
           "arrowwidth": 1
          },
          "autotypenumbers": "strict",
          "coloraxis": {
           "colorbar": {
            "outlinewidth": 0,
            "ticks": ""
           }
          },
          "colorscale": {
           "diverging": [
            [
             0,
             "#8e0152"
            ],
            [
             0.1,
             "#c51b7d"
            ],
            [
             0.2,
             "#de77ae"
            ],
            [
             0.3,
             "#f1b6da"
            ],
            [
             0.4,
             "#fde0ef"
            ],
            [
             0.5,
             "#f7f7f7"
            ],
            [
             0.6,
             "#e6f5d0"
            ],
            [
             0.7,
             "#b8e186"
            ],
            [
             0.8,
             "#7fbc41"
            ],
            [
             0.9,
             "#4d9221"
            ],
            [
             1,
             "#276419"
            ]
           ],
           "sequential": [
            [
             0,
             "#0d0887"
            ],
            [
             0.1111111111111111,
             "#46039f"
            ],
            [
             0.2222222222222222,
             "#7201a8"
            ],
            [
             0.3333333333333333,
             "#9c179e"
            ],
            [
             0.4444444444444444,
             "#bd3786"
            ],
            [
             0.5555555555555556,
             "#d8576b"
            ],
            [
             0.6666666666666666,
             "#ed7953"
            ],
            [
             0.7777777777777778,
             "#fb9f3a"
            ],
            [
             0.8888888888888888,
             "#fdca26"
            ],
            [
             1,
             "#f0f921"
            ]
           ],
           "sequentialminus": [
            [
             0,
             "#0d0887"
            ],
            [
             0.1111111111111111,
             "#46039f"
            ],
            [
             0.2222222222222222,
             "#7201a8"
            ],
            [
             0.3333333333333333,
             "#9c179e"
            ],
            [
             0.4444444444444444,
             "#bd3786"
            ],
            [
             0.5555555555555556,
             "#d8576b"
            ],
            [
             0.6666666666666666,
             "#ed7953"
            ],
            [
             0.7777777777777778,
             "#fb9f3a"
            ],
            [
             0.8888888888888888,
             "#fdca26"
            ],
            [
             1,
             "#f0f921"
            ]
           ]
          },
          "colorway": [
           "#636efa",
           "#EF553B",
           "#00cc96",
           "#ab63fa",
           "#FFA15A",
           "#19d3f3",
           "#FF6692",
           "#B6E880",
           "#FF97FF",
           "#FECB52"
          ],
          "font": {
           "color": "#f2f5fa"
          },
          "geo": {
           "bgcolor": "rgb(17,17,17)",
           "lakecolor": "rgb(17,17,17)",
           "landcolor": "rgb(17,17,17)",
           "showlakes": true,
           "showland": true,
           "subunitcolor": "#506784"
          },
          "hoverlabel": {
           "align": "left"
          },
          "hovermode": "closest",
          "mapbox": {
           "style": "dark"
          },
          "paper_bgcolor": "rgb(17,17,17)",
          "plot_bgcolor": "rgb(17,17,17)",
          "polar": {
           "angularaxis": {
            "gridcolor": "#506784",
            "linecolor": "#506784",
            "ticks": ""
           },
           "bgcolor": "rgb(17,17,17)",
           "radialaxis": {
            "gridcolor": "#506784",
            "linecolor": "#506784",
            "ticks": ""
           }
          },
          "scene": {
           "xaxis": {
            "backgroundcolor": "rgb(17,17,17)",
            "gridcolor": "#506784",
            "gridwidth": 2,
            "linecolor": "#506784",
            "showbackground": true,
            "ticks": "",
            "zerolinecolor": "#C8D4E3"
           },
           "yaxis": {
            "backgroundcolor": "rgb(17,17,17)",
            "gridcolor": "#506784",
            "gridwidth": 2,
            "linecolor": "#506784",
            "showbackground": true,
            "ticks": "",
            "zerolinecolor": "#C8D4E3"
           },
           "zaxis": {
            "backgroundcolor": "rgb(17,17,17)",
            "gridcolor": "#506784",
            "gridwidth": 2,
            "linecolor": "#506784",
            "showbackground": true,
            "ticks": "",
            "zerolinecolor": "#C8D4E3"
           }
          },
          "shapedefaults": {
           "line": {
            "color": "#f2f5fa"
           }
          },
          "sliderdefaults": {
           "bgcolor": "#C8D4E3",
           "bordercolor": "rgb(17,17,17)",
           "borderwidth": 1,
           "tickwidth": 0
          },
          "ternary": {
           "aaxis": {
            "gridcolor": "#506784",
            "linecolor": "#506784",
            "ticks": ""
           },
           "baxis": {
            "gridcolor": "#506784",
            "linecolor": "#506784",
            "ticks": ""
           },
           "bgcolor": "rgb(17,17,17)",
           "caxis": {
            "gridcolor": "#506784",
            "linecolor": "#506784",
            "ticks": ""
           }
          },
          "title": {
           "x": 0.05
          },
          "updatemenudefaults": {
           "bgcolor": "#506784",
           "borderwidth": 0
          },
          "xaxis": {
           "automargin": true,
           "gridcolor": "#283442",
           "linecolor": "#506784",
           "ticks": "",
           "title": {
            "standoff": 15
           },
           "zerolinecolor": "#283442",
           "zerolinewidth": 2
          },
          "yaxis": {
           "automargin": true,
           "gridcolor": "#283442",
           "linecolor": "#506784",
           "ticks": "",
           "title": {
            "standoff": 15
           },
           "zerolinecolor": "#283442",
           "zerolinewidth": 2
          }
         }
        },
        "title": {
         "text": "Heatmap Happiness & Charts"
        },
        "width": 1200,
        "xaxis": {
         "anchor": "y",
         "constrain": "domain",
         "domain": [
          0,
          1
         ],
         "scaleanchor": "y"
        },
        "yaxis": {
         "anchor": "x",
         "autorange": "reversed",
         "constrain": "domain",
         "domain": [
          0,
          1
         ]
        }
       }
      }
     },
     "metadata": {},
     "output_type": "display_data"
    }
   ],
   "source": [
    "numeric_df = merged_df.select_dtypes(include='number')\n",
    "corr = numeric_df.corr()\n",
    "\n",
    "fig = px.imshow(\n",
    "    corr,\n",
    "    text_auto=True,\n",
    "    color_continuous_scale='Viridis',\n",
    "    title='Heatmap Happiness & Charts',\n",
    "    template='plotly_dark',\n",
    "    width=1200,       \n",
    "    height=1000      \n",
    ")\n",
    "\n",
    "fig.show()\n"
   ]
  },
  {
   "cell_type": "code",
   "execution_count": 16,
   "metadata": {},
   "outputs": [
    {
     "data": {
      "application/vnd.plotly.v1+json": {
       "config": {
        "plotlyServerURL": "https://plot.ly"
       },
       "data": [
        {
         "coloraxis": "coloraxis",
         "hovertemplate": "x: %{x}<br>y: %{y}<br>Correlation: %{z}<extra></extra>",
         "name": "0",
         "texttemplate": "%{z}",
         "type": "heatmap",
         "x": [
          "streams",
          "population",
          "streams_per_capita",
          "happiness",
          "Log GDP per capita",
          "Social support",
          "Healthy life expectancy",
          "Freedom to make life choices",
          "Generosity",
          "Perceptions of corruption",
          "Dystopia + residual"
         ],
         "xaxis": "x",
         "y": [
          "streams",
          "population",
          "streams_per_capita",
          "happiness",
          "Log GDP per capita",
          "Social support",
          "Healthy life expectancy",
          "Freedom to make life choices",
          "Generosity",
          "Perceptions of corruption",
          "Dystopia + residual"
         ],
         "yaxis": "y",
         "z": [
          [
           1,
           0.56,
           -0.1,
           0.12,
           -0.03,
           -0.17,
           -0.08,
           0.36,
           0.08,
           -0.02,
           0.3
          ],
          [
           0.56,
           1,
           -0.42,
           -0.41,
           -0.44,
           -0.72,
           -0.44,
           0.2,
           0.09,
           -0.23,
           -0.15
          ],
          [
           -0.1,
           -0.42,
           1,
           0.8,
           0.68,
           0.68,
           0.74,
           0.43,
           0.06,
           0.77,
           0.42
          ],
          [
           0.12,
           -0.41,
           0.8,
           1,
           0.82,
           0.88,
           0.73,
           0.52,
           0.19,
           0.8,
           0.67
          ],
          [
           -0.03,
           -0.44,
           0.68,
           0.82,
           1,
           0.78,
           0.84,
           0.27,
           0.04,
           0.72,
           0.27
          ],
          [
           -0.17,
           -0.72,
           0.68,
           0.88,
           0.78,
           1,
           0.67,
           0.27,
           0.18,
           0.6,
           0.51
          ],
          [
           -0.08,
           -0.44,
           0.74,
           0.73,
           0.84,
           0.67,
           1,
           0.28,
           0.01,
           0.7,
           0.12
          ],
          [
           0.36,
           0.2,
           0.43,
           0.52,
           0.27,
           0.27,
           0.28,
           1,
           0.44,
           0.75,
           0.18
          ],
          [
           0.08,
           0.09,
           0.06,
           0.19,
           0.04,
           0.18,
           0.01,
           0.44,
           1,
           0.2,
           -0.03
          ],
          [
           -0.02,
           -0.23,
           0.77,
           0.8,
           0.72,
           0.6,
           0.7,
           0.75,
           0.2,
           1,
           0.27
          ],
          [
           0.3,
           -0.15,
           0.42,
           0.67,
           0.27,
           0.51,
           0.12,
           0.18,
           -0.03,
           0.27,
           1
          ]
         ]
        }
       ],
       "layout": {
        "coloraxis": {
         "colorbar": {
          "tickfont": {
           "color": "black"
          },
          "title": {
           "font": {
            "color": "black",
            "size": 14,
            "weight": "bold"
           },
           "text": "Correlation"
          }
         },
         "colorscale": [
          [
           0,
           "#440154"
          ],
          [
           0.1111111111111111,
           "#482878"
          ],
          [
           0.2222222222222222,
           "#3e4989"
          ],
          [
           0.3333333333333333,
           "#31688e"
          ],
          [
           0.4444444444444444,
           "#26828e"
          ],
          [
           0.5555555555555556,
           "#1f9e89"
          ],
          [
           0.6666666666666666,
           "#35b779"
          ],
          [
           0.7777777777777778,
           "#6ece58"
          ],
          [
           0.8888888888888888,
           "#b5de2b"
          ],
          [
           1,
           "#fde725"
          ]
         ]
        },
        "font": {
         "color": "black",
         "size": 14
        },
        "height": 1000,
        "margin": {
         "b": 0,
         "l": 0,
         "r": 0,
         "t": 50
        },
        "paper_bgcolor": "rgba(0, 0, 0, 0)",
        "plot_bgcolor": "rgba(0, 0, 0, 0)",
        "template": {
         "data": {
          "bar": [
           {
            "error_x": {
             "color": "#2a3f5f"
            },
            "error_y": {
             "color": "#2a3f5f"
            },
            "marker": {
             "line": {
              "color": "#E5ECF6",
              "width": 0.5
             },
             "pattern": {
              "fillmode": "overlay",
              "size": 10,
              "solidity": 0.2
             }
            },
            "type": "bar"
           }
          ],
          "barpolar": [
           {
            "marker": {
             "line": {
              "color": "#E5ECF6",
              "width": 0.5
             },
             "pattern": {
              "fillmode": "overlay",
              "size": 10,
              "solidity": 0.2
             }
            },
            "type": "barpolar"
           }
          ],
          "carpet": [
           {
            "aaxis": {
             "endlinecolor": "#2a3f5f",
             "gridcolor": "white",
             "linecolor": "white",
             "minorgridcolor": "white",
             "startlinecolor": "#2a3f5f"
            },
            "baxis": {
             "endlinecolor": "#2a3f5f",
             "gridcolor": "white",
             "linecolor": "white",
             "minorgridcolor": "white",
             "startlinecolor": "#2a3f5f"
            },
            "type": "carpet"
           }
          ],
          "choropleth": [
           {
            "colorbar": {
             "outlinewidth": 0,
             "ticks": ""
            },
            "type": "choropleth"
           }
          ],
          "contour": [
           {
            "colorbar": {
             "outlinewidth": 0,
             "ticks": ""
            },
            "colorscale": [
             [
              0,
              "#0d0887"
             ],
             [
              0.1111111111111111,
              "#46039f"
             ],
             [
              0.2222222222222222,
              "#7201a8"
             ],
             [
              0.3333333333333333,
              "#9c179e"
             ],
             [
              0.4444444444444444,
              "#bd3786"
             ],
             [
              0.5555555555555556,
              "#d8576b"
             ],
             [
              0.6666666666666666,
              "#ed7953"
             ],
             [
              0.7777777777777778,
              "#fb9f3a"
             ],
             [
              0.8888888888888888,
              "#fdca26"
             ],
             [
              1,
              "#f0f921"
             ]
            ],
            "type": "contour"
           }
          ],
          "contourcarpet": [
           {
            "colorbar": {
             "outlinewidth": 0,
             "ticks": ""
            },
            "type": "contourcarpet"
           }
          ],
          "heatmap": [
           {
            "colorbar": {
             "outlinewidth": 0,
             "ticks": ""
            },
            "colorscale": [
             [
              0,
              "#0d0887"
             ],
             [
              0.1111111111111111,
              "#46039f"
             ],
             [
              0.2222222222222222,
              "#7201a8"
             ],
             [
              0.3333333333333333,
              "#9c179e"
             ],
             [
              0.4444444444444444,
              "#bd3786"
             ],
             [
              0.5555555555555556,
              "#d8576b"
             ],
             [
              0.6666666666666666,
              "#ed7953"
             ],
             [
              0.7777777777777778,
              "#fb9f3a"
             ],
             [
              0.8888888888888888,
              "#fdca26"
             ],
             [
              1,
              "#f0f921"
             ]
            ],
            "type": "heatmap"
           }
          ],
          "heatmapgl": [
           {
            "colorbar": {
             "outlinewidth": 0,
             "ticks": ""
            },
            "colorscale": [
             [
              0,
              "#0d0887"
             ],
             [
              0.1111111111111111,
              "#46039f"
             ],
             [
              0.2222222222222222,
              "#7201a8"
             ],
             [
              0.3333333333333333,
              "#9c179e"
             ],
             [
              0.4444444444444444,
              "#bd3786"
             ],
             [
              0.5555555555555556,
              "#d8576b"
             ],
             [
              0.6666666666666666,
              "#ed7953"
             ],
             [
              0.7777777777777778,
              "#fb9f3a"
             ],
             [
              0.8888888888888888,
              "#fdca26"
             ],
             [
              1,
              "#f0f921"
             ]
            ],
            "type": "heatmapgl"
           }
          ],
          "histogram": [
           {
            "marker": {
             "pattern": {
              "fillmode": "overlay",
              "size": 10,
              "solidity": 0.2
             }
            },
            "type": "histogram"
           }
          ],
          "histogram2d": [
           {
            "colorbar": {
             "outlinewidth": 0,
             "ticks": ""
            },
            "colorscale": [
             [
              0,
              "#0d0887"
             ],
             [
              0.1111111111111111,
              "#46039f"
             ],
             [
              0.2222222222222222,
              "#7201a8"
             ],
             [
              0.3333333333333333,
              "#9c179e"
             ],
             [
              0.4444444444444444,
              "#bd3786"
             ],
             [
              0.5555555555555556,
              "#d8576b"
             ],
             [
              0.6666666666666666,
              "#ed7953"
             ],
             [
              0.7777777777777778,
              "#fb9f3a"
             ],
             [
              0.8888888888888888,
              "#fdca26"
             ],
             [
              1,
              "#f0f921"
             ]
            ],
            "type": "histogram2d"
           }
          ],
          "histogram2dcontour": [
           {
            "colorbar": {
             "outlinewidth": 0,
             "ticks": ""
            },
            "colorscale": [
             [
              0,
              "#0d0887"
             ],
             [
              0.1111111111111111,
              "#46039f"
             ],
             [
              0.2222222222222222,
              "#7201a8"
             ],
             [
              0.3333333333333333,
              "#9c179e"
             ],
             [
              0.4444444444444444,
              "#bd3786"
             ],
             [
              0.5555555555555556,
              "#d8576b"
             ],
             [
              0.6666666666666666,
              "#ed7953"
             ],
             [
              0.7777777777777778,
              "#fb9f3a"
             ],
             [
              0.8888888888888888,
              "#fdca26"
             ],
             [
              1,
              "#f0f921"
             ]
            ],
            "type": "histogram2dcontour"
           }
          ],
          "mesh3d": [
           {
            "colorbar": {
             "outlinewidth": 0,
             "ticks": ""
            },
            "type": "mesh3d"
           }
          ],
          "parcoords": [
           {
            "line": {
             "colorbar": {
              "outlinewidth": 0,
              "ticks": ""
             }
            },
            "type": "parcoords"
           }
          ],
          "pie": [
           {
            "automargin": true,
            "type": "pie"
           }
          ],
          "scatter": [
           {
            "fillpattern": {
             "fillmode": "overlay",
             "size": 10,
             "solidity": 0.2
            },
            "type": "scatter"
           }
          ],
          "scatter3d": [
           {
            "line": {
             "colorbar": {
              "outlinewidth": 0,
              "ticks": ""
             }
            },
            "marker": {
             "colorbar": {
              "outlinewidth": 0,
              "ticks": ""
             }
            },
            "type": "scatter3d"
           }
          ],
          "scattercarpet": [
           {
            "marker": {
             "colorbar": {
              "outlinewidth": 0,
              "ticks": ""
             }
            },
            "type": "scattercarpet"
           }
          ],
          "scattergeo": [
           {
            "marker": {
             "colorbar": {
              "outlinewidth": 0,
              "ticks": ""
             }
            },
            "type": "scattergeo"
           }
          ],
          "scattergl": [
           {
            "marker": {
             "colorbar": {
              "outlinewidth": 0,
              "ticks": ""
             }
            },
            "type": "scattergl"
           }
          ],
          "scattermapbox": [
           {
            "marker": {
             "colorbar": {
              "outlinewidth": 0,
              "ticks": ""
             }
            },
            "type": "scattermapbox"
           }
          ],
          "scatterpolar": [
           {
            "marker": {
             "colorbar": {
              "outlinewidth": 0,
              "ticks": ""
             }
            },
            "type": "scatterpolar"
           }
          ],
          "scatterpolargl": [
           {
            "marker": {
             "colorbar": {
              "outlinewidth": 0,
              "ticks": ""
             }
            },
            "type": "scatterpolargl"
           }
          ],
          "scatterternary": [
           {
            "marker": {
             "colorbar": {
              "outlinewidth": 0,
              "ticks": ""
             }
            },
            "type": "scatterternary"
           }
          ],
          "surface": [
           {
            "colorbar": {
             "outlinewidth": 0,
             "ticks": ""
            },
            "colorscale": [
             [
              0,
              "#0d0887"
             ],
             [
              0.1111111111111111,
              "#46039f"
             ],
             [
              0.2222222222222222,
              "#7201a8"
             ],
             [
              0.3333333333333333,
              "#9c179e"
             ],
             [
              0.4444444444444444,
              "#bd3786"
             ],
             [
              0.5555555555555556,
              "#d8576b"
             ],
             [
              0.6666666666666666,
              "#ed7953"
             ],
             [
              0.7777777777777778,
              "#fb9f3a"
             ],
             [
              0.8888888888888888,
              "#fdca26"
             ],
             [
              1,
              "#f0f921"
             ]
            ],
            "type": "surface"
           }
          ],
          "table": [
           {
            "cells": {
             "fill": {
              "color": "#EBF0F8"
             },
             "line": {
              "color": "white"
             }
            },
            "header": {
             "fill": {
              "color": "#C8D4E3"
             },
             "line": {
              "color": "white"
             }
            },
            "type": "table"
           }
          ]
         },
         "layout": {
          "annotationdefaults": {
           "arrowcolor": "#2a3f5f",
           "arrowhead": 0,
           "arrowwidth": 1
          },
          "autotypenumbers": "strict",
          "coloraxis": {
           "colorbar": {
            "outlinewidth": 0,
            "ticks": ""
           }
          },
          "colorscale": {
           "diverging": [
            [
             0,
             "#8e0152"
            ],
            [
             0.1,
             "#c51b7d"
            ],
            [
             0.2,
             "#de77ae"
            ],
            [
             0.3,
             "#f1b6da"
            ],
            [
             0.4,
             "#fde0ef"
            ],
            [
             0.5,
             "#f7f7f7"
            ],
            [
             0.6,
             "#e6f5d0"
            ],
            [
             0.7,
             "#b8e186"
            ],
            [
             0.8,
             "#7fbc41"
            ],
            [
             0.9,
             "#4d9221"
            ],
            [
             1,
             "#276419"
            ]
           ],
           "sequential": [
            [
             0,
             "#0d0887"
            ],
            [
             0.1111111111111111,
             "#46039f"
            ],
            [
             0.2222222222222222,
             "#7201a8"
            ],
            [
             0.3333333333333333,
             "#9c179e"
            ],
            [
             0.4444444444444444,
             "#bd3786"
            ],
            [
             0.5555555555555556,
             "#d8576b"
            ],
            [
             0.6666666666666666,
             "#ed7953"
            ],
            [
             0.7777777777777778,
             "#fb9f3a"
            ],
            [
             0.8888888888888888,
             "#fdca26"
            ],
            [
             1,
             "#f0f921"
            ]
           ],
           "sequentialminus": [
            [
             0,
             "#0d0887"
            ],
            [
             0.1111111111111111,
             "#46039f"
            ],
            [
             0.2222222222222222,
             "#7201a8"
            ],
            [
             0.3333333333333333,
             "#9c179e"
            ],
            [
             0.4444444444444444,
             "#bd3786"
            ],
            [
             0.5555555555555556,
             "#d8576b"
            ],
            [
             0.6666666666666666,
             "#ed7953"
            ],
            [
             0.7777777777777778,
             "#fb9f3a"
            ],
            [
             0.8888888888888888,
             "#fdca26"
            ],
            [
             1,
             "#f0f921"
            ]
           ]
          },
          "colorway": [
           "#636efa",
           "#EF553B",
           "#00cc96",
           "#ab63fa",
           "#FFA15A",
           "#19d3f3",
           "#FF6692",
           "#B6E880",
           "#FF97FF",
           "#FECB52"
          ],
          "font": {
           "color": "#2a3f5f"
          },
          "geo": {
           "bgcolor": "white",
           "lakecolor": "white",
           "landcolor": "#E5ECF6",
           "showlakes": true,
           "showland": true,
           "subunitcolor": "white"
          },
          "hoverlabel": {
           "align": "left"
          },
          "hovermode": "closest",
          "mapbox": {
           "style": "light"
          },
          "paper_bgcolor": "white",
          "plot_bgcolor": "#E5ECF6",
          "polar": {
           "angularaxis": {
            "gridcolor": "white",
            "linecolor": "white",
            "ticks": ""
           },
           "bgcolor": "#E5ECF6",
           "radialaxis": {
            "gridcolor": "white",
            "linecolor": "white",
            "ticks": ""
           }
          },
          "scene": {
           "xaxis": {
            "backgroundcolor": "#E5ECF6",
            "gridcolor": "white",
            "gridwidth": 2,
            "linecolor": "white",
            "showbackground": true,
            "ticks": "",
            "zerolinecolor": "white"
           },
           "yaxis": {
            "backgroundcolor": "#E5ECF6",
            "gridcolor": "white",
            "gridwidth": 2,
            "linecolor": "white",
            "showbackground": true,
            "ticks": "",
            "zerolinecolor": "white"
           },
           "zaxis": {
            "backgroundcolor": "#E5ECF6",
            "gridcolor": "white",
            "gridwidth": 2,
            "linecolor": "white",
            "showbackground": true,
            "ticks": "",
            "zerolinecolor": "white"
           }
          },
          "shapedefaults": {
           "line": {
            "color": "#2a3f5f"
           }
          },
          "ternary": {
           "aaxis": {
            "gridcolor": "white",
            "linecolor": "white",
            "ticks": ""
           },
           "baxis": {
            "gridcolor": "white",
            "linecolor": "white",
            "ticks": ""
           },
           "bgcolor": "#E5ECF6",
           "caxis": {
            "gridcolor": "white",
            "linecolor": "white",
            "ticks": ""
           }
          },
          "title": {
           "x": 0.05
          },
          "xaxis": {
           "automargin": true,
           "gridcolor": "white",
           "linecolor": "white",
           "ticks": "",
           "title": {
            "standoff": 15
           },
           "zerolinecolor": "white",
           "zerolinewidth": 2
          },
          "yaxis": {
           "automargin": true,
           "gridcolor": "white",
           "linecolor": "white",
           "ticks": "",
           "title": {
            "standoff": 15
           },
           "zerolinecolor": "white",
           "zerolinewidth": 2
          }
         }
        },
        "width": 1200,
        "xaxis": {
         "anchor": "y",
         "domain": [
          0,
          1
         ],
         "gridcolor": "black",
         "linecolor": "black",
         "showline": true,
         "tickangle": 45,
         "tickfont": {
          "color": "black",
          "family": "Arial Black",
          "size": 16
         },
         "title": {
          "font": {
           "color": "black",
           "family": "Arial",
           "size": 16,
           "weight": "bold"
          },
          "text": ""
         },
         "zerolinecolor": "black"
        },
        "yaxis": {
         "anchor": "x",
         "autorange": "reversed",
         "domain": [
          0,
          1
         ],
         "gridcolor": "black",
         "linecolor": "black",
         "showline": true,
         "tickfont": {
          "color": "black",
          "family": "Arial Black",
          "size": 16
         },
         "title": {
          "font": {
           "color": "black",
           "family": "Arial",
           "size": 16,
           "weight": "bold"
          },
          "text": ""
         },
         "zerolinecolor": "black"
        }
       }
      }
     },
     "metadata": {},
     "output_type": "display_data"
    }
   ],
   "source": [
    "import plotly.express as px\n",
    "\n",
    "numeric_df = merged_df.select_dtypes(include='number')\n",
    "corr = numeric_df.corr().round(2)  # round to 2 decimals\n",
    "\n",
    "fig = px.imshow(\n",
    "    corr,\n",
    "    text_auto=True,  # will auto-show the 2-digit rounded values\n",
    "    color_continuous_scale='Viridis',\n",
    "    labels=dict(color='Correlation'),\n",
    "    aspect='auto',\n",
    "    width=1200,\n",
    "    height=1000\n",
    ")\n",
    "\n",
    "fig.update_layout(\n",
    "    template='plotly',\n",
    "    font=dict(size=14, color='black'),\n",
    "    \n",
    "    xaxis=dict(\n",
    "        showline=True,\n",
    "        linecolor='black',\n",
    "        gridcolor='black',\n",
    "        zerolinecolor='black',\n",
    "        title=dict(\n",
    "            text=\"\",\n",
    "            font=dict(size=16, family=\"Arial\", color=\"black\", weight=\"bold\")\n",
    "        )\n",
    "    ),\n",
    "    \n",
    "    yaxis=dict(\n",
    "        showline=True,\n",
    "        linecolor='black',\n",
    "        gridcolor='black',\n",
    "        zerolinecolor='black',\n",
    "        title=dict(\n",
    "            text=\"\",\n",
    "            font=dict(size=16, family=\"Arial\", color=\"black\", weight=\"bold\")\n",
    "        )\n",
    "    ),\n",
    "    \n",
    "    coloraxis_colorbar=dict(\n",
    "        title=\"Correlation\",\n",
    "        titlefont=dict(size=14, color='black', weight=\"bold\"),\n",
    "        tickfont=dict(color='black')\n",
    "    ),\n",
    "\n",
    "    margin=dict(l=0, r=0, t=50, b=0),\n",
    "    plot_bgcolor='rgba(0, 0, 0, 0)',\n",
    "    paper_bgcolor='rgba(0, 0, 0, 0)'\n",
    ")\n",
    "fig.update_xaxes(\n",
    "    tickfont=dict(size=16, color='black', family='Arial Black'),\n",
    "    tickangle=45\n",
    ")\n",
    "\n",
    "fig.update_yaxes(\n",
    "    tickfont=dict(size=16, color='black', family='Arial Black')\n",
    ")\n",
    "\n",
    "fig.show()\n"
   ]
  },
  {
   "cell_type": "code",
   "execution_count": 17,
   "metadata": {},
   "outputs": [
    {
     "data": {
      "application/vnd.plotly.v1+json": {
       "config": {
        "plotlyServerURL": "https://plot.ly"
       },
       "data": [
        {
         "hovertemplate": "<b>%{hovertext}</b><br><br>country=Australia<br>happiness=%{x}<br>Streams per Capita=%{y}<extra></extra>",
         "hovertext": [
          "Australia"
         ],
         "legendgroup": "Australia",
         "marker": {
          "color": "#636efa",
          "size": 15,
          "symbol": "circle"
         },
         "mode": "markers",
         "name": "Australia",
         "orientation": "v",
         "showlegend": true,
         "type": "scatter",
         "x": [
          6.974
         ],
         "xaxis": "x",
         "y": [
          236.89466546125462
         ],
         "yaxis": "y"
        },
        {
         "hovertemplate": "<b>%{hovertext}</b><br><br>country=Brazil<br>happiness=%{x}<br>Streams per Capita=%{y}<extra></extra>",
         "hovertext": [
          "Brazil"
         ],
         "legendgroup": "Brazil",
         "marker": {
          "color": "#EF553B",
          "size": 15,
          "symbol": "circle"
         },
         "mode": "markers",
         "name": "Brazil",
         "orientation": "v",
         "showlegend": true,
         "type": "scatter",
         "x": [
          6.494
         ],
         "xaxis": "x",
         "y": [
          111.26313256771235
         ],
         "yaxis": "y"
        },
        {
         "hovertemplate": "<b>%{hovertext}</b><br><br>country=Egypt<br>happiness=%{x}<br>Streams per Capita=%{y}<extra></extra>",
         "hovertext": [
          "Egypt"
         ],
         "legendgroup": "Egypt",
         "marker": {
          "color": "#00cc96",
          "size": 15,
          "symbol": "circle"
         },
         "mode": "markers",
         "name": "Egypt",
         "orientation": "v",
         "showlegend": true,
         "type": "scatter",
         "x": [
          3.817
         ],
         "xaxis": "x",
         "y": [
          12.62469822946526
         ],
         "yaxis": "y"
        },
        {
         "hovertemplate": "<b>%{hovertext}</b><br><br>country=Finland<br>happiness=%{x}<br>Streams per Capita=%{y}<extra></extra>",
         "hovertext": [
          "Finland"
         ],
         "legendgroup": "Finland",
         "marker": {
          "color": "#ab63fa",
          "size": 15,
          "symbol": "circle"
         },
         "mode": "markers",
         "name": "Finland",
         "orientation": "v",
         "showlegend": true,
         "type": "scatter",
         "x": [
          7.736
         ],
         "xaxis": "x",
         "y": [
          255.3379501389954
         ],
         "yaxis": "y"
        },
        {
         "hovertemplate": "<b>%{hovertext}</b><br><br>country=Germany<br>happiness=%{x}<br>Streams per Capita=%{y}<extra></extra>",
         "hovertext": [
          "Germany"
         ],
         "legendgroup": "Germany",
         "marker": {
          "color": "#FFA15A",
          "size": 15,
          "symbol": "circle"
         },
         "mode": "markers",
         "name": "Germany",
         "orientation": "v",
         "showlegend": true,
         "type": "scatter",
         "x": [
          6.753
         ],
         "xaxis": "x",
         "y": [
          120.47236935201305
         ],
         "yaxis": "y"
        },
        {
         "hovertemplate": "<b>%{hovertext}</b><br><br>country=Greece<br>happiness=%{x}<br>Streams per Capita=%{y}<extra></extra>",
         "hovertext": [
          "Greece"
         ],
         "legendgroup": "Greece",
         "marker": {
          "color": "#19d3f3",
          "size": 15,
          "symbol": "circle"
         },
         "mode": "markers",
         "name": "Greece",
         "orientation": "v",
         "showlegend": true,
         "type": "scatter",
         "x": [
          5.776
         ],
         "xaxis": "x",
         "y": [
          180.6782445631068
         ],
         "yaxis": "y"
        },
        {
         "hovertemplate": "<b>%{hovertext}</b><br><br>country=India<br>happiness=%{x}<br>Streams per Capita=%{y}<extra></extra>",
         "hovertext": [
          "India"
         ],
         "legendgroup": "India",
         "marker": {
          "color": "#FF6692",
          "size": 15,
          "symbol": "circle"
         },
         "mode": "markers",
         "name": "India",
         "orientation": "v",
         "showlegend": true,
         "type": "scatter",
         "x": [
          4.389
         ],
         "xaxis": "x",
         "y": [
          12.791738617042169
         ],
         "yaxis": "y"
        },
        {
         "hovertemplate": "<b>%{hovertext}</b><br><br>country=Japan<br>happiness=%{x}<br>Streams per Capita=%{y}<extra></extra>",
         "hovertext": [
          "Japan"
         ],
         "legendgroup": "Japan",
         "marker": {
          "color": "#B6E880",
          "size": 15,
          "symbol": "circle"
         },
         "mode": "markers",
         "name": "Japan",
         "orientation": "v",
         "showlegend": true,
         "type": "scatter",
         "x": [
          6.147
         ],
         "xaxis": "x",
         "y": [
          54.97754752106287
         ],
         "yaxis": "y"
        },
        {
         "hovertemplate": "<b>%{hovertext}</b><br><br>country=Nigeria<br>happiness=%{x}<br>Streams per Capita=%{y}<extra></extra>",
         "hovertext": [
          "Nigeria"
         ],
         "legendgroup": "Nigeria",
         "marker": {
          "color": "#FF97FF",
          "size": 15,
          "symbol": "circle"
         },
         "mode": "markers",
         "name": "Nigeria",
         "orientation": "v",
         "showlegend": true,
         "type": "scatter",
         "x": [
          4.885
         ],
         "xaxis": "x",
         "y": [
          10.754032076218383
         ],
         "yaxis": "y"
        },
        {
         "hovertemplate": "<b>%{hovertext}</b><br><br>country=South Africa<br>happiness=%{x}<br>Streams per Capita=%{y}<extra></extra>",
         "hovertext": [
          "South Africa"
         ],
         "legendgroup": "South Africa",
         "marker": {
          "color": "#FECB52",
          "size": 15,
          "symbol": "circle"
         },
         "mode": "markers",
         "name": "South Africa",
         "orientation": "v",
         "showlegend": true,
         "type": "scatter",
         "x": [
          5.213
         ],
         "xaxis": "x",
         "y": [
          22.457183637851948
         ],
         "yaxis": "y"
        },
        {
         "hovertemplate": "<b>%{hovertext}</b><br><br>country=Spain<br>happiness=%{x}<br>Streams per Capita=%{y}<extra></extra>",
         "hovertext": [
          "Spain"
         ],
         "legendgroup": "Spain",
         "marker": {
          "color": "#636efa",
          "size": 15,
          "symbol": "circle"
         },
         "mode": "markers",
         "name": "Spain",
         "orientation": "v",
         "showlegend": true,
         "type": "scatter",
         "x": [
          6.466
         ],
         "xaxis": "x",
         "y": [
          186.73737675923994
         ],
         "yaxis": "y"
        },
        {
         "hovertemplate": "<b>%{hovertext}</b><br><br>country=Sweden<br>happiness=%{x}<br>Streams per Capita=%{y}<extra></extra>",
         "hovertext": [
          "Sweden"
         ],
         "legendgroup": "Sweden",
         "marker": {
          "color": "#EF553B",
          "size": 15,
          "symbol": "circle"
         },
         "mode": "markers",
         "name": "Sweden",
         "orientation": "v",
         "showlegend": true,
         "type": "scatter",
         "x": [
          7.345
         ],
         "xaxis": "x",
         "y": [
          283.2281151428571
         ],
         "yaxis": "y"
        },
        {
         "hovertemplate": "<b>%{hovertext}</b><br><br>country=Ukraine<br>happiness=%{x}<br>Streams per Capita=%{y}<extra></extra>",
         "hovertext": [
          "Ukraine"
         ],
         "legendgroup": "Ukraine",
         "marker": {
          "color": "#00cc96",
          "size": 15,
          "symbol": "circle"
         },
         "mode": "markers",
         "name": "Ukraine",
         "orientation": "v",
         "showlegend": true,
         "type": "scatter",
         "x": [
          4.68
         ],
         "xaxis": "x",
         "y": [
          20.059334597415205
         ],
         "yaxis": "y"
        },
        {
         "hovertemplate": "<b>%{hovertext}</b><br><br>country=United Kingdom<br>happiness=%{x}<br>Streams per Capita=%{y}<extra></extra>",
         "hovertext": [
          "United Kingdom"
         ],
         "legendgroup": "United Kingdom",
         "marker": {
          "color": "#ab63fa",
          "size": 15,
          "symbol": "circle"
         },
         "mode": "markers",
         "name": "United Kingdom",
         "orientation": "v",
         "showlegend": true,
         "type": "scatter",
         "x": [
          6.728
         ],
         "xaxis": "x",
         "y": [
          147.16644951603385
         ],
         "yaxis": "y"
        },
        {
         "hovertemplate": "<b>%{hovertext}</b><br><br>country=United States<br>happiness=%{x}<br>Streams per Capita=%{y}<extra></extra>",
         "hovertext": [
          "United States"
         ],
         "legendgroup": "United States",
         "marker": {
          "color": "#FFA15A",
          "size": 15,
          "symbol": "circle"
         },
         "mode": "markers",
         "name": "United States",
         "orientation": "v",
         "showlegend": true,
         "type": "scatter",
         "x": [
          6.724
         ],
         "xaxis": "x",
         "y": [
          29.53844123965792
         ],
         "yaxis": "y"
        }
       ],
       "layout": {
        "legend": {
         "title": {
          "text": "country"
         },
         "tracegroupgap": 0
        },
        "template": {
         "data": {
          "bar": [
           {
            "error_x": {
             "color": "#f2f5fa"
            },
            "error_y": {
             "color": "#f2f5fa"
            },
            "marker": {
             "line": {
              "color": "rgb(17,17,17)",
              "width": 0.5
             },
             "pattern": {
              "fillmode": "overlay",
              "size": 10,
              "solidity": 0.2
             }
            },
            "type": "bar"
           }
          ],
          "barpolar": [
           {
            "marker": {
             "line": {
              "color": "rgb(17,17,17)",
              "width": 0.5
             },
             "pattern": {
              "fillmode": "overlay",
              "size": 10,
              "solidity": 0.2
             }
            },
            "type": "barpolar"
           }
          ],
          "carpet": [
           {
            "aaxis": {
             "endlinecolor": "#A2B1C6",
             "gridcolor": "#506784",
             "linecolor": "#506784",
             "minorgridcolor": "#506784",
             "startlinecolor": "#A2B1C6"
            },
            "baxis": {
             "endlinecolor": "#A2B1C6",
             "gridcolor": "#506784",
             "linecolor": "#506784",
             "minorgridcolor": "#506784",
             "startlinecolor": "#A2B1C6"
            },
            "type": "carpet"
           }
          ],
          "choropleth": [
           {
            "colorbar": {
             "outlinewidth": 0,
             "ticks": ""
            },
            "type": "choropleth"
           }
          ],
          "contour": [
           {
            "colorbar": {
             "outlinewidth": 0,
             "ticks": ""
            },
            "colorscale": [
             [
              0,
              "#0d0887"
             ],
             [
              0.1111111111111111,
              "#46039f"
             ],
             [
              0.2222222222222222,
              "#7201a8"
             ],
             [
              0.3333333333333333,
              "#9c179e"
             ],
             [
              0.4444444444444444,
              "#bd3786"
             ],
             [
              0.5555555555555556,
              "#d8576b"
             ],
             [
              0.6666666666666666,
              "#ed7953"
             ],
             [
              0.7777777777777778,
              "#fb9f3a"
             ],
             [
              0.8888888888888888,
              "#fdca26"
             ],
             [
              1,
              "#f0f921"
             ]
            ],
            "type": "contour"
           }
          ],
          "contourcarpet": [
           {
            "colorbar": {
             "outlinewidth": 0,
             "ticks": ""
            },
            "type": "contourcarpet"
           }
          ],
          "heatmap": [
           {
            "colorbar": {
             "outlinewidth": 0,
             "ticks": ""
            },
            "colorscale": [
             [
              0,
              "#0d0887"
             ],
             [
              0.1111111111111111,
              "#46039f"
             ],
             [
              0.2222222222222222,
              "#7201a8"
             ],
             [
              0.3333333333333333,
              "#9c179e"
             ],
             [
              0.4444444444444444,
              "#bd3786"
             ],
             [
              0.5555555555555556,
              "#d8576b"
             ],
             [
              0.6666666666666666,
              "#ed7953"
             ],
             [
              0.7777777777777778,
              "#fb9f3a"
             ],
             [
              0.8888888888888888,
              "#fdca26"
             ],
             [
              1,
              "#f0f921"
             ]
            ],
            "type": "heatmap"
           }
          ],
          "heatmapgl": [
           {
            "colorbar": {
             "outlinewidth": 0,
             "ticks": ""
            },
            "colorscale": [
             [
              0,
              "#0d0887"
             ],
             [
              0.1111111111111111,
              "#46039f"
             ],
             [
              0.2222222222222222,
              "#7201a8"
             ],
             [
              0.3333333333333333,
              "#9c179e"
             ],
             [
              0.4444444444444444,
              "#bd3786"
             ],
             [
              0.5555555555555556,
              "#d8576b"
             ],
             [
              0.6666666666666666,
              "#ed7953"
             ],
             [
              0.7777777777777778,
              "#fb9f3a"
             ],
             [
              0.8888888888888888,
              "#fdca26"
             ],
             [
              1,
              "#f0f921"
             ]
            ],
            "type": "heatmapgl"
           }
          ],
          "histogram": [
           {
            "marker": {
             "pattern": {
              "fillmode": "overlay",
              "size": 10,
              "solidity": 0.2
             }
            },
            "type": "histogram"
           }
          ],
          "histogram2d": [
           {
            "colorbar": {
             "outlinewidth": 0,
             "ticks": ""
            },
            "colorscale": [
             [
              0,
              "#0d0887"
             ],
             [
              0.1111111111111111,
              "#46039f"
             ],
             [
              0.2222222222222222,
              "#7201a8"
             ],
             [
              0.3333333333333333,
              "#9c179e"
             ],
             [
              0.4444444444444444,
              "#bd3786"
             ],
             [
              0.5555555555555556,
              "#d8576b"
             ],
             [
              0.6666666666666666,
              "#ed7953"
             ],
             [
              0.7777777777777778,
              "#fb9f3a"
             ],
             [
              0.8888888888888888,
              "#fdca26"
             ],
             [
              1,
              "#f0f921"
             ]
            ],
            "type": "histogram2d"
           }
          ],
          "histogram2dcontour": [
           {
            "colorbar": {
             "outlinewidth": 0,
             "ticks": ""
            },
            "colorscale": [
             [
              0,
              "#0d0887"
             ],
             [
              0.1111111111111111,
              "#46039f"
             ],
             [
              0.2222222222222222,
              "#7201a8"
             ],
             [
              0.3333333333333333,
              "#9c179e"
             ],
             [
              0.4444444444444444,
              "#bd3786"
             ],
             [
              0.5555555555555556,
              "#d8576b"
             ],
             [
              0.6666666666666666,
              "#ed7953"
             ],
             [
              0.7777777777777778,
              "#fb9f3a"
             ],
             [
              0.8888888888888888,
              "#fdca26"
             ],
             [
              1,
              "#f0f921"
             ]
            ],
            "type": "histogram2dcontour"
           }
          ],
          "mesh3d": [
           {
            "colorbar": {
             "outlinewidth": 0,
             "ticks": ""
            },
            "type": "mesh3d"
           }
          ],
          "parcoords": [
           {
            "line": {
             "colorbar": {
              "outlinewidth": 0,
              "ticks": ""
             }
            },
            "type": "parcoords"
           }
          ],
          "pie": [
           {
            "automargin": true,
            "type": "pie"
           }
          ],
          "scatter": [
           {
            "marker": {
             "line": {
              "color": "#283442"
             }
            },
            "type": "scatter"
           }
          ],
          "scatter3d": [
           {
            "line": {
             "colorbar": {
              "outlinewidth": 0,
              "ticks": ""
             }
            },
            "marker": {
             "colorbar": {
              "outlinewidth": 0,
              "ticks": ""
             }
            },
            "type": "scatter3d"
           }
          ],
          "scattercarpet": [
           {
            "marker": {
             "colorbar": {
              "outlinewidth": 0,
              "ticks": ""
             }
            },
            "type": "scattercarpet"
           }
          ],
          "scattergeo": [
           {
            "marker": {
             "colorbar": {
              "outlinewidth": 0,
              "ticks": ""
             }
            },
            "type": "scattergeo"
           }
          ],
          "scattergl": [
           {
            "marker": {
             "line": {
              "color": "#283442"
             }
            },
            "type": "scattergl"
           }
          ],
          "scattermapbox": [
           {
            "marker": {
             "colorbar": {
              "outlinewidth": 0,
              "ticks": ""
             }
            },
            "type": "scattermapbox"
           }
          ],
          "scatterpolar": [
           {
            "marker": {
             "colorbar": {
              "outlinewidth": 0,
              "ticks": ""
             }
            },
            "type": "scatterpolar"
           }
          ],
          "scatterpolargl": [
           {
            "marker": {
             "colorbar": {
              "outlinewidth": 0,
              "ticks": ""
             }
            },
            "type": "scatterpolargl"
           }
          ],
          "scatterternary": [
           {
            "marker": {
             "colorbar": {
              "outlinewidth": 0,
              "ticks": ""
             }
            },
            "type": "scatterternary"
           }
          ],
          "surface": [
           {
            "colorbar": {
             "outlinewidth": 0,
             "ticks": ""
            },
            "colorscale": [
             [
              0,
              "#0d0887"
             ],
             [
              0.1111111111111111,
              "#46039f"
             ],
             [
              0.2222222222222222,
              "#7201a8"
             ],
             [
              0.3333333333333333,
              "#9c179e"
             ],
             [
              0.4444444444444444,
              "#bd3786"
             ],
             [
              0.5555555555555556,
              "#d8576b"
             ],
             [
              0.6666666666666666,
              "#ed7953"
             ],
             [
              0.7777777777777778,
              "#fb9f3a"
             ],
             [
              0.8888888888888888,
              "#fdca26"
             ],
             [
              1,
              "#f0f921"
             ]
            ],
            "type": "surface"
           }
          ],
          "table": [
           {
            "cells": {
             "fill": {
              "color": "#506784"
             },
             "line": {
              "color": "rgb(17,17,17)"
             }
            },
            "header": {
             "fill": {
              "color": "#2a3f5f"
             },
             "line": {
              "color": "rgb(17,17,17)"
             }
            },
            "type": "table"
           }
          ]
         },
         "layout": {
          "annotationdefaults": {
           "arrowcolor": "#f2f5fa",
           "arrowhead": 0,
           "arrowwidth": 1
          },
          "autotypenumbers": "strict",
          "coloraxis": {
           "colorbar": {
            "outlinewidth": 0,
            "ticks": ""
           }
          },
          "colorscale": {
           "diverging": [
            [
             0,
             "#8e0152"
            ],
            [
             0.1,
             "#c51b7d"
            ],
            [
             0.2,
             "#de77ae"
            ],
            [
             0.3,
             "#f1b6da"
            ],
            [
             0.4,
             "#fde0ef"
            ],
            [
             0.5,
             "#f7f7f7"
            ],
            [
             0.6,
             "#e6f5d0"
            ],
            [
             0.7,
             "#b8e186"
            ],
            [
             0.8,
             "#7fbc41"
            ],
            [
             0.9,
             "#4d9221"
            ],
            [
             1,
             "#276419"
            ]
           ],
           "sequential": [
            [
             0,
             "#0d0887"
            ],
            [
             0.1111111111111111,
             "#46039f"
            ],
            [
             0.2222222222222222,
             "#7201a8"
            ],
            [
             0.3333333333333333,
             "#9c179e"
            ],
            [
             0.4444444444444444,
             "#bd3786"
            ],
            [
             0.5555555555555556,
             "#d8576b"
            ],
            [
             0.6666666666666666,
             "#ed7953"
            ],
            [
             0.7777777777777778,
             "#fb9f3a"
            ],
            [
             0.8888888888888888,
             "#fdca26"
            ],
            [
             1,
             "#f0f921"
            ]
           ],
           "sequentialminus": [
            [
             0,
             "#0d0887"
            ],
            [
             0.1111111111111111,
             "#46039f"
            ],
            [
             0.2222222222222222,
             "#7201a8"
            ],
            [
             0.3333333333333333,
             "#9c179e"
            ],
            [
             0.4444444444444444,
             "#bd3786"
            ],
            [
             0.5555555555555556,
             "#d8576b"
            ],
            [
             0.6666666666666666,
             "#ed7953"
            ],
            [
             0.7777777777777778,
             "#fb9f3a"
            ],
            [
             0.8888888888888888,
             "#fdca26"
            ],
            [
             1,
             "#f0f921"
            ]
           ]
          },
          "colorway": [
           "#636efa",
           "#EF553B",
           "#00cc96",
           "#ab63fa",
           "#FFA15A",
           "#19d3f3",
           "#FF6692",
           "#B6E880",
           "#FF97FF",
           "#FECB52"
          ],
          "font": {
           "color": "#f2f5fa"
          },
          "geo": {
           "bgcolor": "rgb(17,17,17)",
           "lakecolor": "rgb(17,17,17)",
           "landcolor": "rgb(17,17,17)",
           "showlakes": true,
           "showland": true,
           "subunitcolor": "#506784"
          },
          "hoverlabel": {
           "align": "left"
          },
          "hovermode": "closest",
          "mapbox": {
           "style": "dark"
          },
          "paper_bgcolor": "rgb(17,17,17)",
          "plot_bgcolor": "rgb(17,17,17)",
          "polar": {
           "angularaxis": {
            "gridcolor": "#506784",
            "linecolor": "#506784",
            "ticks": ""
           },
           "bgcolor": "rgb(17,17,17)",
           "radialaxis": {
            "gridcolor": "#506784",
            "linecolor": "#506784",
            "ticks": ""
           }
          },
          "scene": {
           "xaxis": {
            "backgroundcolor": "rgb(17,17,17)",
            "gridcolor": "#506784",
            "gridwidth": 2,
            "linecolor": "#506784",
            "showbackground": true,
            "ticks": "",
            "zerolinecolor": "#C8D4E3"
           },
           "yaxis": {
            "backgroundcolor": "rgb(17,17,17)",
            "gridcolor": "#506784",
            "gridwidth": 2,
            "linecolor": "#506784",
            "showbackground": true,
            "ticks": "",
            "zerolinecolor": "#C8D4E3"
           },
           "zaxis": {
            "backgroundcolor": "rgb(17,17,17)",
            "gridcolor": "#506784",
            "gridwidth": 2,
            "linecolor": "#506784",
            "showbackground": true,
            "ticks": "",
            "zerolinecolor": "#C8D4E3"
           }
          },
          "shapedefaults": {
           "line": {
            "color": "#f2f5fa"
           }
          },
          "sliderdefaults": {
           "bgcolor": "#C8D4E3",
           "bordercolor": "rgb(17,17,17)",
           "borderwidth": 1,
           "tickwidth": 0
          },
          "ternary": {
           "aaxis": {
            "gridcolor": "#506784",
            "linecolor": "#506784",
            "ticks": ""
           },
           "baxis": {
            "gridcolor": "#506784",
            "linecolor": "#506784",
            "ticks": ""
           },
           "bgcolor": "rgb(17,17,17)",
           "caxis": {
            "gridcolor": "#506784",
            "linecolor": "#506784",
            "ticks": ""
           }
          },
          "title": {
           "x": 0.05
          },
          "updatemenudefaults": {
           "bgcolor": "#506784",
           "borderwidth": 0
          },
          "xaxis": {
           "automargin": true,
           "gridcolor": "#283442",
           "linecolor": "#506784",
           "ticks": "",
           "title": {
            "standoff": 15
           },
           "zerolinecolor": "#283442",
           "zerolinewidth": 2
          },
          "yaxis": {
           "automargin": true,
           "gridcolor": "#283442",
           "linecolor": "#506784",
           "ticks": "",
           "title": {
            "standoff": 15
           },
           "zerolinecolor": "#283442",
           "zerolinewidth": 2
          }
         }
        },
        "title": {
         "text": "Streams per Capita vs. Ladder Score"
        },
        "xaxis": {
         "anchor": "y",
         "domain": [
          0,
          1
         ],
         "title": {
          "text": "happiness"
         }
        },
        "yaxis": {
         "anchor": "x",
         "domain": [
          0,
          1
         ],
         "title": {
          "text": "Streams per Capita"
         }
        }
       }
      }
     },
     "metadata": {},
     "output_type": "display_data"
    }
   ],
   "source": [
    "\n",
    "fig = px.scatter(\n",
    "    merged_df,\n",
    "    x='happiness',\n",
    "    y='streams_per_capita',\n",
    "    hover_name='country',\n",
    "    title='Streams per Capita vs. Ladder Score',\n",
    "    template='plotly_dark',\n",
    "    labels={\n",
    "        'streams_per_capita': 'Streams per Capita',\n",
    "        'Ladder score': 'Ladder Score'\n",
    "    },\n",
    "    #trendline='ols',\n",
    "    color='country'\n",
    ")\n",
    "fig.update_traces(marker=dict(size=15))\n",
    "\n",
    "fig.show()\n"
   ]
  },
  {
   "cell_type": "code",
   "execution_count": null,
   "metadata": {},
   "outputs": [],
   "source": []
  }
 ],
 "metadata": {
  "kernelspec": {
   "display_name": "base",
   "language": "python",
   "name": "python3"
  },
  "language_info": {
   "codemirror_mode": {
    "name": "ipython",
    "version": 3
   },
   "file_extension": ".py",
   "mimetype": "text/x-python",
   "name": "python",
   "nbconvert_exporter": "python",
   "pygments_lexer": "ipython3",
   "version": "3.12.2"
  }
 },
 "nbformat": 4,
 "nbformat_minor": 2
}
